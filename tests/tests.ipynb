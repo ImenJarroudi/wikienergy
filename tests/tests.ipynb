{
 "metadata": {
  "name": "",
  "signature": "sha256:ceb7536c68d6cbbe05a2dd806ba16656b93d337be88ee377c2390a54f7993614"
 },
 "nbformat": 3,
 "nbformat_minor": 0,
 "worksheets": [
  {
   "cells": [
    {
     "cell_type": "code",
     "collapsed": false,
     "input": [
      "import sys\n",
      "sys.path.append('../')\n",
      "#print sys.path\n",
      "\n",
      "\n",
      "import disaggregator.PecanStreetDatasetAdapter as pecan\n",
      "import disaggregator.ApplianceTrace as trace"
     ],
     "language": "python",
     "metadata": {},
     "outputs": [
      {
       "output_type": "stream",
       "stream": "stderr",
       "text": [
        "/Users/sabina/anaconda/lib/python2.7/site-packages/pandas/io/excel.py:626: UserWarning: Installed openpyxl is not supported at this time. Use >=1.6.1 and <2.0.0.\n",
        "  .format(openpyxl_compat.start_ver, openpyxl_compat.stop_ver))\n"
       ]
      }
     ],
     "prompt_number": 1
    },
    {
     "cell_type": "code",
     "collapsed": false,
     "input": [
      "\n",
      "\n",
      "user_name = 'stomkins'\n",
      "pw='PASSWORD'\n",
      "host = \"db.wiki-energy.org\"\n",
      "port = \"5432\"\n",
      "db = \"postgres\"\n",
      "db_url = \"postgresql\"+\"://\"+user_name+\":\"+pw+\"@\"+host+\":\"+port+\"/\"+db"
     ],
     "language": "python",
     "metadata": {},
     "outputs": [],
     "prompt_number": 2
    },
    {
     "cell_type": "code",
     "collapsed": false,
     "input": [
      "p = pecan(db_url)\n",
      "tables= p.set_table_names('PecanStreet_SharedData')\n",
      "[i,a] = p.get_meta_table('\\\"PecanStreet_SharedData\\\"',str(tables[0]))"
     ],
     "language": "python",
     "metadata": {},
     "outputs": [],
     "prompt_number": 3
    },
    {
     "cell_type": "code",
     "collapsed": false,
     "input": [
      "schema = '\\\"PecanStreet_SharedData\\\"'\n",
      "table = tables[0]\n",
      "\n",
      "query = 'select * from {0}.{1} where dataid={2}'.format(schema, table,i[0][0])\n",
      "df = p.get_dataframe(query).fillna(0)"
     ],
     "language": "python",
     "metadata": {},
     "outputs": [],
     "prompt_number": 4
    },
    {
     "cell_type": "code",
     "collapsed": false,
     "input": [
      "idd=i[0][0]"
     ],
     "language": "python",
     "metadata": {},
     "outputs": [],
     "prompt_number": 5
    },
    {
     "cell_type": "code",
     "collapsed": false,
     "input": [
      "temp = p.clean_dataframe(df,schema,[])"
     ],
     "language": "python",
     "metadata": {},
     "outputs": [
      {
       "output_type": "stream",
       "stream": "stdout",
       "text": [
        "localminute\n",
        "True\n"
       ]
      }
     ],
     "prompt_number": 6
    },
    {
     "cell_type": "code",
     "collapsed": false,
     "input": [
      "test = p.get_month_traces_per_dataid(schema,table,idd)"
     ],
     "language": "python",
     "metadata": {},
     "outputs": [
      {
       "output_type": "stream",
       "stream": "stdout",
       "text": [
        "localminute\n",
        "True\n",
        "(44640, 73)\n"
       ]
      }
     ],
     "prompt_number": 6
    },
    {
     "cell_type": "code",
     "collapsed": false,
     "input": [
      "(test[0].source)"
     ],
     "language": "python",
     "metadata": {},
     "outputs": [
      {
       "metadata": {},
       "output_type": "pyout",
       "prompt_number": 7,
       "text": [
        "{'dataid': 744,\n",
        " 'end_time': Timestamp('2014-02-01 05:59:00'),\n",
        " 'schema': '\"PecanStreet_SharedData\"',\n",
        " 'source': 'PecanStreet',\n",
        " 'start_time': Timestamp('2014-01-01 13:46:00'),\n",
        " 'step_size': datetime.timedelta(0, 60),\n",
        " 'table': u'validated_01_2014'}"
       ]
      }
     ],
     "prompt_number": 7
    },
    {
     "cell_type": "code",
     "collapsed": false,
     "input": [],
     "language": "python",
     "metadata": {},
     "outputs": []
    }
   ],
   "metadata": {}
  }
 ]
}