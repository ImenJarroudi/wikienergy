{
 "metadata": {
  "name": "",
  "signature": "sha256:2b398925df85f10a40168b4faeae4453721ca2f0800dcd6deedc5b8f913baace"
 },
 "nbformat": 3,
 "nbformat_minor": 0,
 "worksheets": [
  {
   "cells": [
    {
     "cell_type": "code",
     "collapsed": false,
     "input": [
      "import sys\n",
      "sys.path.append('../')\n",
      "#print sys.path\n",
      "\n",
      "\n",
      "import disaggregator.PecanStreetDatasetAdapter as pecan\n",
      "import disaggregator.ApplianceTrace as trace"
     ],
     "language": "python",
     "metadata": {},
     "outputs": [
      {
       "output_type": "stream",
       "stream": "stderr",
       "text": [
        "/Users/sabina/anaconda/lib/python2.7/site-packages/pandas/io/excel.py:626: UserWarning: Installed openpyxl is not supported at this time. Use >=1.6.1 and <2.0.0.\n",
        "  .format(openpyxl_compat.start_ver, openpyxl_compat.stop_ver))\n"
       ]
      }
     ],
     "prompt_number": 1
    },
    {
     "cell_type": "code",
     "collapsed": false,
     "input": [
      "import disaggregator\n",
      "disaggregator = reload(disaggregator)\n",
      "from disaggregator import PecanStreetDatasetAdapter as pecan"
     ],
     "language": "python",
     "metadata": {},
     "outputs": [],
     "prompt_number": 2
    },
    {
     "cell_type": "code",
     "collapsed": false,
     "input": [
      "\n",
      "\n",
      "user_name = 'stomkins'\n",
      "pw='PASSWORD'\n",
      "host = \"db.wiki-energy.org\"\n",
      "port = \"5432\"\n",
      "db = \"postgres\"\n",
      "db_url = \"postgresql\"+\"://\"+user_name+\":\"+pw+\"@\"+host+\":\"+port+\"/\"+db"
     ],
     "language": "python",
     "metadata": {},
     "outputs": [],
     "prompt_number": 3
    },
    {
     "cell_type": "code",
     "collapsed": false,
     "input": [
      "p = pecan(db_url)\n",
      "tables= p.get_table_names('shared')\n",
      "[i,a] = p.get_table_metadata('shared',str(tables[0]))"
     ],
     "language": "python",
     "metadata": {},
     "outputs": [
      {
       "output_type": "stream",
       "stream": "stdout",
       "text": [
        "PecanStreet_SharedData\n"
       ]
      }
     ],
     "prompt_number": 4
    },
    {
     "cell_type": "code",
     "collapsed": false,
     "input": [
      "schema = '\\\"PecanStreet_SharedData\\\"'\n",
      "query = 'select * from {0}.{1} where dataid={2}'.format(schema,tables[0],i[0])\n",
      "df = p.get_dataframe(query).fillna(0)"
     ],
     "language": "python",
     "metadata": {},
     "outputs": [],
     "prompt_number": 5
    },
    {
     "cell_type": "code",
     "collapsed": false,
     "input": [
      "temp = p.clean_dataframe(df,'shared',[])\n"
     ],
     "language": "python",
     "metadata": {},
     "outputs": [
      {
       "output_type": "stream",
       "stream": "stdout",
       "text": [
        "Index([u'dataid', u'time', u'use', u'air1', u'air2', u'air3', u'airwindowunit1', u'aquarium1', u'bathroom1', u'bathroom2', u'bedroom1', u'bedroom2', u'bedroom3', u'bedroom4', u'bedroom5', u'car1', u'clotheswasher1', u'clotheswasher_dryg1', u'diningroom1', u'diningroom2', u'dishwasher1', u'disposal1', u'drye1', u'dryg1', u'freezer1', u'furnace1', u'furnace2', u'garage1', u'garage2', u'gen', u'grid', u'heater1', u'housefan1', u'icemaker1', u'jacuzzi1', u'kitchen1', u'kitchen2', u'kitchenapp1', u'kitchenapp2', u'lights_plugs1', u'lights_plugs2', u'lights_plugs3', u'lights_plugs4', u'lights_plugs5', u'lights_plugs6', u'livingroom1', u'livingroom2', u'microwave1', u'office1', u'outsidelights_plugs1', u'outsidelights_plugs2', u'oven1', u'oven2', u'pool1', u'pool2', u'poollight1', u'poolpump1', u'pump1', u'range1', u'refrigerator1', u'refrigerator2', u'security1', u'shed1', u'sprinkler1', u'unknown1', u'unknown2', u'unknown3', u'unknown4', u'utilityroom1', u'venthood1', u'waterheater1', u'waterheater2', u'winecooler1'], dtype='object')\n"
       ]
      }
     ],
     "prompt_number": 22
    },
    {
     "cell_type": "code",
     "collapsed": false,
     "input": [
      "group_years"
     ],
     "language": "python",
     "metadata": {},
     "outputs": [
      {
       "metadata": {},
       "output_type": "pyout",
       "prompt_number": 30,
       "text": [
        "{'1': {'2012': {'12': 'group1_disaggregated_2012_12'},\n",
        "  '2013': {'01': 'group1_disaggregated_2013_01',\n",
        "   '02': 'group1_disaggregated_2013_02',\n",
        "   '03': 'group1_disaggregated_2013_03',\n",
        "   '04': 'group1_disaggregated_2013_04',\n",
        "   '05': 'group1_disaggregated_2013_05',\n",
        "   '06': 'group1_disaggregated_2013_06',\n",
        "   '07': 'group1_disaggregated_2013_07',\n",
        "   '08': 'group1_disaggregated_2013_08',\n",
        "   '09': 'group1_disaggregated_2013_09',\n",
        "   '10': 'group1_disaggregated_2013_10',\n",
        "   '11': 'group1_disaggregated_2013_11'}},\n",
        " '2': {'2012': {},\n",
        "  '2013': {'01': 'group2_disaggregated_2013_01',\n",
        "   '02': 'group2_disaggregated_2013_02',\n",
        "   '03': 'group2_disaggregated_2013_03',\n",
        "   '04': 'group2_disaggregated_2013_04',\n",
        "   '05': 'group2_disaggregated_2013_05',\n",
        "   '06': 'group2_disaggregated_2013_06',\n",
        "   '07': 'group2_disaggregated_2013_07',\n",
        "   '08': 'group2_disaggregated_2013_08',\n",
        "   '09': 'group2_disaggregated_2013_09',\n",
        "   '10': 'group2_disaggregated_2013_10',\n",
        "   '11': 'group2_disaggregated_2013_11'}},\n",
        " '3': {'2012': {},\n",
        "  '2013': {'05': 'group3_disaggregated_2013_05',\n",
        "   '06': 'group3_disaggregated_2013_06',\n",
        "   '07': 'group3_disaggregated_2013_07',\n",
        "   '08': 'group3_disaggregated_2013_08',\n",
        "   '09': 'group3_disaggregated_2013_09',\n",
        "   '10': 'group3_disaggregated_2013_10',\n",
        "   '11': 'group3_disaggregated_2013_11'}}}"
       ]
      }
     ],
     "prompt_number": 30
    },
    {
     "cell_type": "code",
     "collapsed": false,
     "input": [
      "test = p.get_month_traces_per_dataid('shared',tables[0],i[0])"
     ],
     "language": "python",
     "metadata": {},
     "outputs": [
      {
       "output_type": "stream",
       "stream": "stdout",
       "text": [
        "Index([u'dataid', u'time', u'use', u'air1', u'air2', u'air3', u'airwindowunit1', u'aquarium1', u'bathroom1', u'bathroom2', u'bedroom1', u'bedroom2', u'bedroom3', u'bedroom4', u'bedroom5', u'car1', u'clotheswasher1', u'clotheswasher_dryg1', u'diningroom1', u'diningroom2', u'dishwasher1', u'disposal1', u'drye1', u'dryg1', u'freezer1', u'furnace1', u'furnace2', u'garage1', u'garage2', u'gen', u'grid', u'heater1', u'housefan1', u'icemaker1', u'jacuzzi1', u'kitchen1', u'kitchen2', u'kitchenapp1', u'kitchenapp2', u'lights_plugs1', u'lights_plugs2', u'lights_plugs3', u'lights_plugs4', u'lights_plugs5', u'lights_plugs6', u'livingroom1', u'livingroom2', u'microwave1', u'office1', u'outsidelights_plugs1', u'outsidelights_plugs2', u'oven1', u'oven2', u'pool1', u'pool2', u'poollight1', u'poolpump1', u'pump1', u'range1', u'refrigerator1', u'refrigerator2', u'security1', u'shed1', u'sprinkler1', u'unknown1', u'unknown2', u'unknown3', u'unknown4', u'utilityroom1', u'venthood1', u'waterheater1', u'waterheater2', u'winecooler1'], dtype='object')\n"
       ]
      }
     ],
     "prompt_number": 23
    },
    {
     "cell_type": "code",
     "collapsed": false,
     "input": [
      "pair = []\n",
      "pair.append(test[0].series)\n",
      "pair.append(test[1].series)\n"
     ],
     "language": "python",
     "metadata": {},
     "outputs": [],
     "prompt_number": 26
    },
    {
     "cell_type": "code",
     "collapsed": false,
     "input": [
      "p.verify_same_range(pair,[])"
     ],
     "language": "python",
     "metadata": {},
     "outputs": [],
     "prompt_number": 27
    },
    {
     "cell_type": "code",
     "collapsed": false,
     "input": [
      "import pickle"
     ],
     "language": "python",
     "metadata": {},
     "outputs": [],
     "prompt_number": 13
    },
    {
     "cell_type": "code",
     "collapsed": false,
     "input": [
      "pickle.dump(test, open('pickle_test.p','wb'))"
     ],
     "language": "python",
     "metadata": {},
     "outputs": [],
     "prompt_number": 16
    },
    {
     "cell_type": "code",
     "collapsed": false,
     "input": [],
     "language": "python",
     "metadata": {},
     "outputs": [
      {
       "metadata": {},
       "output_type": "pyout",
       "prompt_number": 11,
       "text": [
        "40"
       ]
      }
     ],
     "prompt_number": 11
    },
    {
     "cell_type": "code",
     "collapsed": false,
     "input": [],
     "language": "python",
     "metadata": {},
     "outputs": []
    }
   ],
   "metadata": {}
  }
 ]
}