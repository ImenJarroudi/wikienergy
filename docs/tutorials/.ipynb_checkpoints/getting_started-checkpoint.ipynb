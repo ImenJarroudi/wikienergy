{
 "metadata": {
  "name": "",
  "signature": "sha256:c60431b5ab2e8ae7dbb3d499494d852258a7f1ce17c2322192e75c63a468d1a4"
 },
 "nbformat": 3,
 "nbformat_minor": 0,
 "worksheets": [
  {
   "cells": [
    {
     "cell_type": "markdown",
     "metadata": {},
     "source": [
      "Getting Started\n",
      "===============\n",
      "\n",
      "This notebook will eventually be a tutorial telling users how to get started with the toolkit."
     ]
    },
    {
     "cell_type": "code",
     "collapsed": false,
     "input": [
      "import sys\n",
      "sys.path.append(\"../../\") # add wikienergy folder\n",
      "\n",
      "import disaggregator"
     ],
     "language": "python",
     "metadata": {},
     "outputs": [],
     "prompt_number": 1
    },
    {
     "cell_type": "code",
     "collapsed": false,
     "input": [
      "dir(disaggregator)"
     ],
     "language": "python",
     "metadata": {},
     "outputs": [
      {
       "metadata": {},
       "output_type": "pyout",
       "prompt_number": 2,
       "text": [
        "['ApplianceInstance',\n",
        " 'ApplianceSet',\n",
        " 'ApplianceTrace',\n",
        " 'ApplianceType',\n",
        " '__builtins__',\n",
        " '__doc__',\n",
        " '__file__',\n",
        " '__name__',\n",
        " '__package__',\n",
        " '__path__',\n",
        " 'utils']"
       ]
      }
     ],
     "prompt_number": 2
    },
    {
     "cell_type": "code",
     "collapsed": false,
     "input": [],
     "language": "python",
     "metadata": {},
     "outputs": []
    }
   ],
   "metadata": {}
  }
 ]
}