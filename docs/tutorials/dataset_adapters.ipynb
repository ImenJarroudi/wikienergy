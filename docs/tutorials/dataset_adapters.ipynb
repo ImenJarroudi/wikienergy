{
 "metadata": {
  "name": "",
  "signature": "sha256:9b780c0dab6174b965193928a04591eea474f583f5d201128a0cb5906f381f1c"
 },
 "nbformat": 3,
 "nbformat_minor": 0,
 "worksheets": [
  {
   "cells": [
    {
     "cell_type": "markdown",
     "metadata": {},
     "source": [
      "# Dataset adapters\n",
      "\n",
      "The general idea behind dataset adapters is to abstract loading of datasets into the general appliance framework. This notebook will show some common ways of using them."
     ]
    },
    {
     "cell_type": "code",
     "collapsed": false,
     "input": [
      "import sys\n",
      "sys.path.append('../../')\n",
      "\n",
      "import disaggregator as disagg"
     ],
     "language": "python",
     "metadata": {},
     "outputs": [],
     "prompt_number": 1
    },
    {
     "cell_type": "code",
     "collapsed": false,
     "input": [],
     "language": "python",
     "metadata": {},
     "outputs": []
    }
   ],
   "metadata": {}
  }
 ]
}