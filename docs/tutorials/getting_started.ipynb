{
 "metadata": {
  "name": "",
  "signature": "sha256:49a2c56fb5874b3e2977c4a7692710eaf4a3f5f8ef3dc2f4473f51c1f2ed0855"
 },
 "nbformat": 3,
 "nbformat_minor": 0,
 "worksheets": [
  {
   "cells": [
    {
     "cell_type": "markdown",
     "metadata": {},
     "source": [
      "Getting Started\n",
      "===============\n",
      "\n",
      "This notebook will eventually be a tutorial telling users how to get started with the toolkit."
     ]
    },
    {
     "cell_type": "code",
     "collapsed": false,
     "input": [
      "import sys\n",
      "sys.path.append(\"../../\") # add wikienergy folder\n",
      "\n",
      "import disaggregator"
     ],
     "language": "python",
     "metadata": {},
     "outputs": [],
     "prompt_number": 1
    },
    {
     "cell_type": "code",
     "collapsed": false,
     "input": [],
     "language": "python",
     "metadata": {},
     "outputs": []
    }
   ],
   "metadata": {}
  }
 ]
}