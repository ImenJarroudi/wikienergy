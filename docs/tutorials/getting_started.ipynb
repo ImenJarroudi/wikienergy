{
 "metadata": {
  "name": "",
  "signature": "sha256:b16da92befbf31d61a056e784775ef51656a4d0c2603ac0ea68c5ade5cfa042e"
 },
 "nbformat": 3,
 "nbformat_minor": 0,
 "worksheets": [
  {
   "cells": [
    {
     "cell_type": "markdown",
     "metadata": {},
     "source": [
      "Getting Started\n",
      "===============\n",
      "\n",
      "This notebook will eventually be a tutorial telling users how to get started with the toolkit."
     ]
    },
    {
     "cell_type": "code",
     "collapsed": false,
     "input": [],
     "language": "python",
     "metadata": {},
     "outputs": []
    }
   ],
   "metadata": {}
  }
 ]
}