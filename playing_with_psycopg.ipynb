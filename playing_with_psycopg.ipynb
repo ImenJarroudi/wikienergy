{
 "metadata": {
  "name": "",
  "signature": "sha256:42e61634a50db70301b24437df17fea652a57ae15fa97076bdc8e6a314cf4439"
 },
 "nbformat": 3,
 "nbformat_minor": 0,
 "worksheets": [
  {
   "cells": [
    {
     "cell_type": "code",
     "collapsed": false,
     "input": [
      "import psycopg2"
     ],
     "language": "python",
     "metadata": {},
     "outputs": [],
     "prompt_number": 1
    },
    {
     "cell_type": "code",
     "collapsed": false,
     "input": [
      "user_name = ''\n",
      "pw=''"
     ],
     "language": "python",
     "metadata": {},
     "outputs": []
    },
    {
     "cell_type": "code",
     "collapsed": false,
     "input": [
      "conn = psycopg2.connect(\"dbname = 'postgres' host='db.wiki-energy.org' user=user_name password=pw\")"
     ],
     "language": "python",
     "metadata": {},
     "outputs": [],
     "prompt_number": 2
    },
    {
     "cell_type": "code",
     "collapsed": false,
     "input": [
      "curr=conn.cursor()"
     ],
     "language": "python",
     "metadata": {},
     "outputs": [],
     "prompt_number": 3
    },
    {
     "cell_type": "code",
     "collapsed": false,
     "input": [
      "curr.execute(\"\"\"SELECT distinct(\"PecanStreet_RawData\".audits_2011.dataid) from \"PecanStreet_RawData\".audits_2011\"\"\")"
     ],
     "language": "python",
     "metadata": {},
     "outputs": [],
     "prompt_number": 4
    },
    {
     "cell_type": "code",
     "collapsed": false,
     "input": [
      "rows = curr.fetchall()"
     ],
     "language": "python",
     "metadata": {},
     "outputs": [],
     "prompt_number": 5
    },
    {
     "cell_type": "code",
     "collapsed": false,
     "input": [
      "curr.execute(\"\"\"select distinct(\"PecanStreet_RawData\".audits_2011.dataid) from \"PecanStreet_RawData\".audits_2011, \"PecanStreet_CuratedSets\".group2_disaggregated_2013_05 where  \"PecanStreet_CuratedSets\".group2_disaggregated_2013_05.dataid=\"PecanStreet_RawData\".audits_2011.dataid\"\"\")"
     ],
     "language": "python",
     "metadata": {},
     "outputs": [],
     "prompt_number": 8
    },
    {
     "cell_type": "code",
     "collapsed": false,
     "input": [
      "rows=curr.fetchall()"
     ],
     "language": "python",
     "metadata": {},
     "outputs": [],
     "prompt_number": 10
    },
    {
     "cell_type": "code",
     "collapsed": false,
     "input": [
      "rows"
     ],
     "language": "python",
     "metadata": {},
     "outputs": [
      {
       "metadata": {},
       "output_type": "pyout",
       "prompt_number": 11,
       "text": [
        "[(9922,),\n",
        " (94,),\n",
        " (5972,),\n",
        " (2818,),\n",
        " (9609,),\n",
        " (93,),\n",
        " (7531,),\n",
        " (9019,),\n",
        " (2864,),\n",
        " (7536,),\n",
        " (9933,),\n",
        " (739,),\n",
        " (7769,)]"
       ]
      }
     ],
     "prompt_number": 11
    },
    {
     "cell_type": "code",
     "collapsed": false,
     "input": [],
     "language": "python",
     "metadata": {},
     "outputs": []
    }
   ],
   "metadata": {}
  }
 ]
}