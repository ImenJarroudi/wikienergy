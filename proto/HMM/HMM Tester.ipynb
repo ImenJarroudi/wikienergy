{
 "metadata": {
  "name": "",
  "signature": "sha256:b64e85a4cedbce53319c60343f8675a507a265518bc575ead9a38ad4952dd461"
 },
 "nbformat": 3,
 "nbformat_minor": 0,
 "worksheets": [
  {
   "cells": [
    {
     "cell_type": "code",
     "collapsed": false,
     "input": [
      "from __future__ import print_function\n",
      "\n",
      "import datetime\n",
      "import numpy as np\n",
      "import pylab as pl\n",
      "from matplotlib.finance import quotes_historical_yahoo\n",
      "from matplotlib.dates import YearLocator, MonthLocator, DateFormatter\n",
      "from sklearn.hmm import GaussianHMM\n",
      "\n",
      "\n",
      "print(__doc__)\n",
      "\n",
      "###############################################################################\n",
      "# Downloading the data\n",
      "date1 = datetime.date(1995, 1, 1)  # start date\n",
      "date2 = datetime.date(2012, 1, 6)  # end date\n",
      "# get quotes from yahoo finance\n",
      "quotes = quotes_historical_yahoo(\"INTC\", date1, date2)\n",
      "if len(quotes) == 0:\n",
      "    raise SystemExit\n",
      "\n",
      "# unpack quotes\n",
      "dates = np.array([q[0] for q in quotes], dtype=int)\n",
      "close_v = np.array([q[2] for q in quotes])\n",
      "volume = np.array([q[5] for q in quotes])[1:]\n",
      "\n",
      "# take diff of close value\n",
      "# this makes len(diff) = len(close_t) - 1\n",
      "# therefore, others quantity also need to be shifted\n",
      "diff = close_v[1:] - close_v[:-1]\n",
      "dates = dates[1:]\n",
      "close_v = close_v[1:]\n",
      "\n",
      "# pack diff and volume for training\n",
      "X = np.column_stack([diff, volume])\n",
      "\n",
      "###############################################################################\n",
      "# Run Gaussian HMM\n",
      "print(\"fitting to HMM and decoding ...\", end='')\n",
      "n_components = 5\n",
      "\n",
      "# make an HMM instance and execute fit\n",
      "model = GaussianHMM(n_components)\n",
      "\n",
      "model.fit([X])\n",
      "\n",
      "# predict the optimal sequence of internal hidden state\n",
      "hidden_states = model.predict(X)\n",
      "\n",
      "print(\"done\\n\")\n",
      "\n",
      "###############################################################################\n",
      "# print trained parameters and plot\n",
      "print(\"Transition matrix\")\n",
      "print(model.transmat_)\n",
      "print()\n",
      "\n",
      "print(\"means and vars of each hidden state\")\n",
      "for i in range(n_components):\n",
      "    print(\"%dth hidden state\" % i)\n",
      "    print(\"mean = \", model.means_[i])\n",
      "    print(\"var = \", np.diag(model.covars_[i]))\n",
      "    print()\n",
      "\n",
      "years = YearLocator()   # every year\n",
      "months = MonthLocator()  # every month\n",
      "yearsFmt = DateFormatter('%Y')\n",
      "fig = pl.figure()\n",
      "ax = fig.add_subplot(111)\n",
      "\n",
      "for i in range(n_components):\n",
      "    # use fancy indexing to plot data in each state\n",
      "    idx = (hidden_states == i)\n",
      "    ax.plot_date(dates[idx], close_v[idx], 'o', label=\"%dth hidden state\" % i)\n",
      "ax.legend()\n",
      "\n",
      "# format the ticks\n",
      "ax.xaxis.set_major_locator(years)\n",
      "ax.xaxis.set_major_formatter(yearsFmt)\n",
      "ax.xaxis.set_minor_locator(months)\n",
      "ax.autoscale_view()\n",
      "\n",
      "# format the coords message box\n",
      "ax.fmt_xdata = DateFormatter('%Y-%m-%d')\n",
      "ax.fmt_ydata = lambda x: '$%1.2f' % x\n",
      "ax.grid(True)\n",
      "\n",
      "fig.autofmt_xdate()\n",
      "pl.show()"
     ],
     "language": "python",
     "metadata": {},
     "outputs": [
      {
       "output_type": "stream",
       "stream": "stdout",
       "text": [
        "Automatically created module for IPython interactive environment\n",
        "fitting to HMM and decoding ..."
       ]
      },
      {
       "output_type": "stream",
       "stream": "stdout",
       "text": [
        "done\n"
       ]
      },
      {
       "output_type": "stream",
       "stream": "stdout",
       "text": [
        "\n",
        "Transition matrix\n",
        "[[  3.97160663e-01   1.55182802e-01   3.58680620e-03   4.11638206e-01\n",
        "    3.24315229e-02]\n",
        " [  1.49763676e-01   6.53227829e-01   5.40225284e-03   6.85789731e-02\n",
        "    1.23027269e-01]\n",
        " [  3.24805332e-03   2.50929739e-02   2.74092224e-01   1.53151248e-04\n",
        "    6.97413598e-01]\n",
        " [  2.69749947e-01   5.15147472e-02   3.30574842e-04   6.70735339e-01\n",
        "    7.66939176e-03]\n",
        " [  5.27552985e-02   2.54881796e-01   6.55585580e-02   7.78886349e-03\n",
        "    6.19015484e-01]]\n",
        "\n",
        "means and vars of each hidden state\n",
        "0th hidden state\n",
        "mean =  [  1.40834921e-02   5.79272797e+07]\n",
        "var =  [  2.92287999e-01   1.69359558e+14]\n",
        "\n",
        "1th hidden state\n",
        "mean =  [  1.48859684e-02   7.94955607e+07]\n",
        "var =  [  1.11525921e-01   3.13967368e+14]\n",
        "\n",
        "2th hidden state\n",
        "mean =  [ -6.15497483e-01   1.24410795e+08]\n",
        "var =  [  6.67977219e+00   1.24801301e+16]\n",
        "\n",
        "3th hidden state\n",
        "mean =  [  3.14246789e-03   4.81751243e+07]\n",
        "var =  [  5.87212523e-02   1.31500927e+14]\n",
        "\n",
        "4th hidden state\n",
        "mean =  [  4.43394461e-02   9.05406011e+07]\n",
        "var =  [  8.78597229e-01   1.97220407e+15]\n",
        "\n"
       ]
      }
     ],
     "prompt_number": 19
    },
    {
     "cell_type": "code",
     "collapsed": false,
     "input": [
      "X"
     ],
     "language": "python",
     "metadata": {},
     "outputs": [
      {
       "metadata": {},
       "output_type": "pyout",
       "prompt_number": 2,
       "text": [
        "array([[ -1.00000000e-02,   4.18656000e+07],\n",
        "       [  3.00000000e-02,   6.04800000e+07],\n",
        "       [  4.00000000e-02,   5.63168000e+07],\n",
        "       ..., \n",
        "       [  5.20000000e-01,   4.75040000e+07],\n",
        "       [  2.60000000e-01,   4.94906000e+07],\n",
        "       [ -1.30000000e-01,   3.63435000e+07]])"
       ]
      }
     ],
     "prompt_number": 2
    },
    {
     "cell_type": "code",
     "collapsed": false,
     "input": [
      "type(X)"
     ],
     "language": "python",
     "metadata": {},
     "outputs": [
      {
       "metadata": {},
       "output_type": "pyout",
       "prompt_number": 3,
       "text": [
        "numpy.ndarray"
       ]
      }
     ],
     "prompt_number": 3
    },
    {
     "cell_type": "code",
     "collapsed": false,
     "input": [
      "hidden_states[:100]"
     ],
     "language": "python",
     "metadata": {},
     "outputs": [
      {
       "metadata": {},
       "output_type": "pyout",
       "prompt_number": 20,
       "text": [
        "array([3, 3, 3, 1, 1, 1, 1, 1, 1, 4, 4, 4, 4, 4, 4, 4, 1, 1, 1, 1, 1, 1, 4,\n",
        "       4, 4, 4, 4, 1, 1, 1, 1, 1, 1, 1, 1, 1, 1, 3, 3, 3, 3, 4, 1, 1, 1, 1,\n",
        "       1, 1, 0, 3, 3, 3, 0, 1, 1, 1, 1, 1, 1, 4, 4, 4, 1, 1, 1, 1, 1, 1, 4,\n",
        "       4, 4, 4, 4, 1, 1, 1, 1, 1, 1, 1, 4, 4, 4, 4, 4, 4, 4, 4, 4, 1, 1, 1,\n",
        "       1, 1, 4, 4, 4, 4, 4, 1])"
       ]
      }
     ],
     "prompt_number": 20
    },
    {
     "cell_type": "code",
     "collapsed": false,
     "input": [],
     "language": "python",
     "metadata": {},
     "outputs": []
    }
   ],
   "metadata": {}
  }
 ]
}