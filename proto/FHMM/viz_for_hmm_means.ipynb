{
 "metadata": {
  "name": "",
  "signature": "sha256:77778ebf1bff114b6b5597af8a374fa8c2a054e955008cc780cc6e5dfeb44fc5"
 },
 "nbformat": 3,
 "nbformat_minor": 0,
 "worksheets": [
  {
   "cells": [
    {
     "cell_type": "code",
     "collapsed": false,
     "input": [
      "import sys\n",
      "sys.path.append('../../') # or non-Unix equivalent (add wikienergy/ to path)\n",
      "from collections import OrderedDict\n",
      "import itertools\n",
      "import numpy as np\n",
      "from sklearn import hmm\n",
      "import matplotlib.pyplot as plt\n",
      "import matplotlib.cm as cm\n",
      "%matplotlib inline\n",
      "import pylab\n",
      "from pylab import plot, show, title, xlabel, ylabel, subplot\n",
      "pylab.rcParams['figure.figsize'] = 12,9"
     ],
     "language": "python",
     "metadata": {},
     "outputs": [],
     "prompt_number": 63
    },
    {
     "cell_type": "code",
     "collapsed": false,
     "input": [
      "import pickle\n",
      "with open('../../data/may_air.pkl','rb') as f:\n",
      "   devices_models=pickle.load(f)"
     ],
     "language": "python",
     "metadata": {},
     "outputs": [],
     "prompt_number": 10
    },
    {
     "cell_type": "code",
     "collapsed": false,
     "input": [
      "#startprob_\n",
      "#means_\n",
      "#transmat_\n",
      "#covars_\n",
      "state_0=[]\n",
      "state_1=[]\n",
      "state_2=[]\n",
      "for model_num in devices_models['air1']:\n",
      "    a=devices_models['air1'][model_num].means_\n",
      "    state_0.append(a[0][0])\n",
      "    state_1.append(a[1][0])\n",
      "    state_2.append(a[2][0])\n",
      "high_lim=10\n",
      "bins=30\n",
      "plt.subplot(3,1,1)\n",
      "plt.hist(state_0,bins,range=[0,high_lim])\n",
      "plt.xlim([0 ,high_lim])\n",
      "plt.subplot(3,1,2)\n",
      "plt.hist(state_1,bins,range=[0,high_lim])\n",
      "plt.xlim([0 ,high_lim])\n",
      "plt.subplot(3,1,3)\n",
      "plt.hist(state_2,bins,range=[0,high_lim])\n",
      "plt.xlim([0 ,high_lim])"
     ],
     "language": "python",
     "metadata": {},
     "outputs": [
      {
       "metadata": {},
       "output_type": "pyout",
       "prompt_number": 11,
       "text": [
        "(0, 10)"
       ]
      },
      {
       "metadata": {},
       "output_type": "display_data",
       "png": "[encoded data removed]",
       "text": [
        "<matplotlib.figure.Figure at 0x7fc4235c0bd0>"
       ]
      }
     ],
     "prompt_number": 11
    },
    {
     "cell_type": "code",
     "collapsed": false,
     "input": [
      "\"\"\"\n",
      "Show how to modify the coordinate formatter to report the image \"z\"\n",
      "value of the nearest pixel given x and y\n",
      "\"\"\"\n",
      "\n",
      "def format_coord(x, y):\n",
      "    col = int(x+0.5)\n",
      "    row = int(y+0.5)\n",
      "    if col>=0 and col<numcols and row>=0 and row<numrows:\n",
      "        z = X[row,col]\n",
      "        return 'x=%1.4f, y=%1.4f, z=%1.4f'%(x, y, z)\n",
      "    else:\n",
      "        return 'x=%1.4f, y=%1.4f'%(x, y)"
     ],
     "language": "python",
     "metadata": {},
     "outputs": [],
     "prompt_number": 93
    },
    {
     "cell_type": "code",
     "collapsed": false,
     "input": [
      "X = 10*np.random.rand(5,3)\n",
      "a=[]\n",
      "for model_num in devices_models['air1']:\n",
      "    a.extend(np.array([devices_models['air1'][model_num].means_[0],devices_models['air1'][model_num].means_[1],devices_models['air1'][model_num].means_[2]]).T)\n",
      "\n",
      "\n",
      "a=np.array(a).T\n",
      "idx = np.argsort(a[2])   \n",
      "c = a.copy()\n",
      "for i in range(len(idx)):\n",
      "  a[:,i] = c[:,idx[i]]\n",
      "    \n",
      "pylab.rcParams['figure.figsize'] = 10, 10\n",
      "fig, ax = plt.subplots()\n",
      "ax.imshow(a, cmap='Blues', interpolation='nearest',aspect='auto')\n",
      "\n",
      "\n",
      "plt.show()"
     ],
     "language": "python",
     "metadata": {},
     "outputs": [
      {
       "metadata": {},
       "output_type": "display_data",
       "png": "[encoded data removed]",
       "text": [
        "<matplotlib.figure.Figure at 0x7fc4342c0710>"
       ]
      }
     ],
     "prompt_number": 157
    },
    {
     "cell_type": "code",
     "collapsed": false,
     "input": [],
     "language": "python",
     "metadata": {},
     "outputs": []
    }
   ],
   "metadata": {}
  }
 ]
}