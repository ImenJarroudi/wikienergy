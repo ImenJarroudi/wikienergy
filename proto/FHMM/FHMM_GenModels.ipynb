{
 "metadata": {
  "name": "",
  "signature": "sha256:98ebaa948b4832c2abea38523eed080cc35ca23be88982873130de81464f8c6b"
 },
 "nbformat": 3,
 "nbformat_minor": 0,
 "worksheets": [
  {
   "cells": [
    {
     "cell_type": "code",
     "collapsed": false,
     "input": [
      "#air=0,2\n",
      "#fridge=0,.12\n",
      "import sys\n",
      "import numpy as np\n",
      "sys.path.append('../../') # or non-Unix equivalent (add wikienergy/ to path)\n",
      "from disaggregator import generate_month_models as gen\n",
      "\n",
      "pi_prior=np.array([0.5,0.5])\n",
      "a_prior=np.array([[0.98,0.02],[0.02,0.98]])\n",
      "mean_prior=np.array([[0],[2]])\n",
      "cov_prior=np.tile(1, (2, 1, 1))\n",
      "gen.generate_and_pickle_models('air1',pi_prior,a_prior,mean_prior,cov_prior,'dataid',4,'D','1T')"
     ],
     "language": "python",
     "metadata": {},
     "outputs": [
      {
       "output_type": "stream",
       "stream": "stdout",
       "text": [
        "select air1,localminute from \"PecanStreet_SharedData\".validated_04_2014 where dataid=26\n",
        "select air1,localminute from \"PecanStreet_SharedData\".validated_04_2014 where dataid=59"
       ]
      },
      {
       "output_type": "stream",
       "stream": "stdout",
       "text": [
        "\n",
        "Device Type Generated."
       ]
      },
      {
       "output_type": "stream",
       "stream": "stdout",
       "text": [
        "\n",
        "Device Type Resampled."
       ]
      },
      {
       "output_type": "stream",
       "stream": "stdout",
       "text": [
        "\n",
        "Device Model Completed."
       ]
      },
      {
       "output_type": "stream",
       "stream": "stdout",
       "text": [
        "\n"
       ]
      },
      {
       "metadata": {},
       "output_type": "pyout",
       "prompt_number": 69,
       "text": [
        "(<disaggregator.appliance.ApplianceType at 0x7f0ec3df0c90>,\n",
        " OrderedDict([(26, GaussianHMM(algorithm='viterbi', covariance_type='full', covars_prior=0.01,\n",
        "      covars_weight=1,\n",
        "      init_params='abcdefghijklmnopqrstuvwxyzABCDEFGHIJKLMNOPQRSTUVWXYZ',\n",
        "      means_prior=None, means_weight=0, n_components=2, n_iter=10,\n",
        "      params='abcdefghijklmnopqrstuvwxyzABCDEFGHIJKLMNOPQRSTUVWXYZ',\n",
        "      random_state=None, startprob=None, startprob_prior=None, thresh=0.01,\n",
        "      transmat=None, transmat_prior=None)), (59, GaussianHMM(algorithm='viterbi', covariance_type='full', covars_prior=0.01,\n",
        "      covars_weight=1,\n",
        "      init_params='abcdefghijklmnopqrstuvwxyzABCDEFGHIJKLMNOPQRSTUVWXYZ',\n",
        "      means_prior=None, means_weight=0, n_components=2, n_iter=10,\n",
        "      params='abcdefghijklmnopqrstuvwxyzABCDEFGHIJKLMNOPQRSTUVWXYZ',\n",
        "      random_state=None, startprob=None, startprob_prior=None, thresh=0.01,\n",
        "      transmat=None, transmat_prior=None))]))"
       ]
      }
     ],
     "prompt_number": 69
    },
    {
     "cell_type": "code",
     "collapsed": false,
     "input": [],
     "language": "python",
     "metadata": {},
     "outputs": []
    }
   ],
   "metadata": {}
  }
 ]
}