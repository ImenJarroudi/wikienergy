{
 "metadata": {
  "name": "",
  "signature": "sha256:e9ddb2134a3f8e2649ca5a4ef29085042325e211492c739c3579a45e4096d91e"
 },
 "nbformat": 3,
 "nbformat_minor": 0,
 "worksheets": [
  {
   "cells": [
    {
     "cell_type": "code",
     "collapsed": false,
     "input": [
      "#air=0,2\n",
      "#fridge=0,.12\n",
      "#install sqlalchemy,pymongo,scikit-learn\n",
      "import sys\n",
      "sys.path.append('../../') # or non-Unix equivalent (add wikienergy/ to path)\n",
      "import numpy as np\n",
      "from disaggregator import generate_month_models as gen\n",
      "pi_prior=np.array([0.5,0.5])\n",
      "a_prior=np.array([[0.98,0.02],[0.02,0.98]])\n",
      "mean_prior=np.array([[0],[2]])\n",
      "cov_prior=np.tile(1, (2, 1, 1))\n",
      "gen.generate_and_pickle_models('air1',pi_prior,a_prior,mean_prior,cov_prior,'dataid',3,'D','15T')"
     ],
     "language": "python",
     "metadata": {},
     "outputs": [
      {
       "output_type": "stream",
       "stream": "stdout",
       "text": [
        "select air1,localminute from \"PecanStreet_SharedData\".validated_03_2014 where dataid=86\n",
        "select air1,localminute from \"PecanStreet_SharedData\".validated_03_2014 where dataid=93"
       ]
      },
      {
       "output_type": "stream",
       "stream": "stdout",
       "text": [
        "\n",
        "select air1,localminute from \"PecanStreet_SharedData\".validated_03_2014 where dataid=94"
       ]
      },
      {
       "output_type": "stream",
       "stream": "stdout",
       "text": [
        "\n",
        "select air1,localminute from \"PecanStreet_SharedData\".validated_03_2014 where dataid=114"
       ]
      },
      {
       "output_type": "stream",
       "stream": "stdout",
       "text": [
        "\n",
        "select air1,localminute from \"PecanStreet_SharedData\".validated_03_2014 where dataid=280"
       ]
      },
      {
       "output_type": "stream",
       "stream": "stdout",
       "text": [
        "\n",
        "select air1,localminute from \"PecanStreet_SharedData\".validated_03_2014 where dataid=370"
       ]
      },
      {
       "output_type": "stream",
       "stream": "stdout",
       "text": [
        "\n",
        "select air1,localminute from \"PecanStreet_SharedData\".validated_03_2014 where dataid=410"
       ]
      },
      {
       "output_type": "stream",
       "stream": "stdout",
       "text": [
        "\n",
        "select air1,localminute from \"PecanStreet_SharedData\".validated_03_2014 where dataid=434"
       ]
      },
      {
       "output_type": "stream",
       "stream": "stdout",
       "text": [
        "\n",
        "select air1,localminute from \"PecanStreet_SharedData\".validated_03_2014 where dataid=484"
       ]
      },
      {
       "output_type": "stream",
       "stream": "stdout",
       "text": [
        "\n",
        "select air1,localminute from \"PecanStreet_SharedData\".validated_03_2014 where dataid=490"
       ]
      },
      {
       "output_type": "stream",
       "stream": "stdout",
       "text": [
        "\n",
        "select air1,localminute from \"PecanStreet_SharedData\".validated_03_2014 where dataid=545"
       ]
      },
      {
       "output_type": "stream",
       "stream": "stdout",
       "text": [
        "\n",
        "select air1,localminute from \"PecanStreet_SharedData\".validated_03_2014 where dataid=624"
       ]
      },
      {
       "output_type": "stream",
       "stream": "stdout",
       "text": [
        "\n",
        "select air1,localminute from \"PecanStreet_SharedData\".validated_03_2014 where dataid=661"
       ]
      },
      {
       "output_type": "stream",
       "stream": "stdout",
       "text": [
        "\n",
        "select air1,localminute from \"PecanStreet_SharedData\".validated_03_2014 where dataid=739"
       ]
      },
      {
       "output_type": "stream",
       "stream": "stdout",
       "text": [
        "\n",
        "select air1,localminute from \"PecanStreet_SharedData\".validated_03_2014 where dataid=821"
       ]
      },
      {
       "output_type": "stream",
       "stream": "stdout",
       "text": [
        "\n",
        "select air1,localminute from \"PecanStreet_SharedData\".validated_03_2014 where dataid=871"
       ]
      }
     ]
    }
   ],
   "metadata": {}
  }
 ]
}