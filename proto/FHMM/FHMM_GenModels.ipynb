{
 "metadata": {
  "name": "",
  "signature": "sha256:f7d7afbc38c3164e3e463c1c32eb53f48c6a2818f9ea374017592c54ef065af0"
 },
 "nbformat": 3,
 "nbformat_minor": 0,
 "worksheets": [
  {
   "cells": [
    {
     "cell_type": "code",
     "collapsed": false,
     "input": [
      "#air=0,2\n",
      "#fridge=0,.12\n",
      "#install sqlalchemy,pymongo,scikit-learn,tabulate\n",
      "import sys\n",
      "sys.path.append('../../') # or non-Unix equivalent (add wikienergy/ to path)\n",
      "import numpy as np\n",
      "from scripts import generate_month_models as gen\n",
      "from disaggregator import fhmm\n",
      "from disaggregator import PecanStreetDatasetAdapter as psda\n",
      "pi_prior=np.array([0.5,0.5])\n",
      "a_prior=np.array([[0.98,0.02],[0.02,0.98]])\n",
      "mean_prior=np.array([[0],[2]])\n",
      "cov_prior=np.tile(1, (2, 1, 1))\n",
      "gen.generate_and_pickle_models('air1',pi_prior,a_prior,mean_prior,cov_prior,'dataid',5,'D','1T')"
     ],
     "language": "python",
     "metadata": {},
     "outputs": [
      {
       "output_type": "stream",
       "stream": "stdout",
       "text": [
        "select air1,localminute from \"PecanStreet_SharedData\".validated_05_2014 where dataid=26\n",
        ">"
       ]
      },
      {
       "output_type": "stream",
       "stream": "stderr",
       "text": [
        "/usr/local/lib/python2.7/dist-packages/pandas/io/excel.py:626: UserWarning: Installed openpyxl is not supported at this time. Use >=1.6.1 and <2.0.0.\n",
        "  .format(openpyxl_compat.start_ver, openpyxl_compat.stop_ver))\n"
       ]
      },
      {
       "output_type": "stream",
       "stream": "stdout",
       "text": [
        " /home/steve/DSSG/wikienergy/disaggregator/PecanStreetDatasetAdapter.py(473)get_dataframe()\n",
        "-> df = pd.DataFrame.from_records(eng_object.fetchall())\n"
       ]
      },
      {
       "name": "stdout",
       "output_type": "stream",
       "stream": "stdout",
       "text": [
        "(Pdb) pd.DataFrame.from_records(eng_object.fetchall())\n"
       ]
      },
      {
       "output_type": "stream",
       "stream": "stdout",
       "text": [
        "           0                          1\n",
        "0          0  2014-05-01 00:00:00-05:00\n",
        "1          0  2014-05-01 00:01:00-05:00\n",
        "2          0  2014-05-01 00:02:00-05:00\n",
        "3          0  2014-05-01 00:03:00-05:00\n",
        "4          0  2014-05-01 00:04:00-05:00\n",
        "5          0  2014-05-01 00:05:00-05:00\n",
        "6          0  2014-05-01 00:06:00-05:00\n",
        "7          0  2014-05-01 00:07:00-05:00\n",
        "8          0  2014-05-01 00:08:00-05:00\n",
        "9          0  2014-05-01 00:09:00-05:00\n",
        "10         0  2014-05-01 00:10:00-05:00\n",
        "11         0  2014-05-01 00:11:00-05:00\n",
        "12         0  2014-05-01 00:12:00-05:00\n",
        "13         0  2014-05-01 00:13:00-05:00\n",
        "14         0  2014-05-01 00:14:00-05:00\n",
        "15         0  2014-05-01 00:15:00-05:00\n",
        "16         0  2014-05-01 00:16:00-05:00\n",
        "17         0  2014-05-01 00:17:00-05:00\n",
        "18         0  2014-05-01 00:18:00-05:00\n",
        "19         0  2014-05-01 00:19:00-05:00\n",
        "20         0  2014-05-01 00:20:00-05:00\n",
        "21         0  2014-05-01 00:21:00-05:00\n",
        "22         0  2014-05-01 00:22:00-05:00\n",
        "23         0  2014-05-01 00:23:00-05:00\n",
        "24         0  2014-05-01 00:24:00-05:00\n",
        "25         0  2014-05-01 00:25:00-05:00\n",
        "26         0  2014-05-01 00:26:00-05:00\n",
        "27         0  2014-05-01 00:27:00-05:00\n",
        "28         0  2014-05-01 00:28:00-05:00\n",
        "29         0  2014-05-01 00:29:00-05:00\n",
        "...      ...                        ...\n",
        "44310  2.403  2014-05-31 18:30:00-05:00\n",
        "44311  2.382  2014-05-31 18:31:00-05:00\n",
        "44312  2.399  2014-05-31 18:32:00-05:00\n",
        "44313  2.419  2014-05-31 18:33:00-05:00\n",
        "44314  2.400  2014-05-31 18:34:00-05:00\n",
        "44315  2.390  2014-05-31 18:35:00-05:00\n",
        "44316  2.392  2014-05-31 18:36:00-05:00\n",
        "44317  2.390  2014-05-31 18:37:00-05:00\n",
        "44318  2.408  2014-05-31 18:38:00-05:00\n",
        "44319  2.403  2014-05-31 18:39:00-05:00\n",
        "44320  2.374  2014-05-31 18:40:00-05:00\n",
        "44321  2.378  2014-05-31 18:41:00-05:00\n",
        "44322  2.375  2014-05-31 18:42:00-05:00\n",
        "44323  2.387  2014-05-31 18:43:00-05:00\n",
        "44324  2.385  2014-05-31 18:44:00-05:00\n",
        "44325  2.386  2014-05-31 18:45:00-05:00\n",
        "44326  2.382  2014-05-31 18:46:00-05:00\n",
        "44327  2.380  2014-05-31 18:47:00-05:00\n",
        "44328  2.386  2014-05-31 18:48:00-05:00\n",
        "44329  2.375  2014-05-31 18:49:00-05:00\n",
        "44330  2.382  2014-05-31 18:50:00-05:00\n",
        "44331  2.382  2014-05-31 18:51:00-05:00\n",
        "44332  2.382  2014-05-31 18:52:00-05:00\n",
        "44333  2.385  2014-05-31 18:53:00-05:00\n",
        "44334  2.378  2014-05-31 18:54:00-05:00\n",
        "44335  2.368  2014-05-31 18:55:00-05:00\n",
        "44336  2.374  2014-05-31 18:56:00-05:00\n",
        "44337  2.386  2014-05-31 18:57:00-05:00\n",
        "44338  2.369  2014-05-31 18:58:00-05:00\n",
        "44339  2.375  2014-05-31 18:59:00-05:00\n",
        "\n",
        "[44340 rows x 2 columns]\n"
       ]
      },
      {
       "name": "stdout",
       "output_type": "stream",
       "stream": "stdout",
       "text": [
        "(Pdb) type(eng.fetchall())\n"
       ]
      },
      {
       "output_type": "stream",
       "stream": "stdout",
       "text": [
        "*** AttributeError: 'Engine' object has no attribute 'fetchall'\n"
       ]
      },
      {
       "name": "stdout",
       "output_type": "stream",
       "stream": "stdout",
       "text": [
        "(Pdb) type(eng_object.fetchall())\n"
       ]
      },
      {
       "output_type": "stream",
       "stream": "stdout",
       "text": [
        "*** ResourceClosedError: This result object is closed.\n"
       ]
      },
      {
       "name": "stdout",
       "output_type": "stream",
       "stream": "stdout",
       "text": [
        "(Pdb) eng_object=eng.execute(query)\n"
       ]
      },
      {
       "name": "stdout",
       "output_type": "stream",
       "stream": "stdout",
       "text": [
        "(Pdb) type(eng_object.fetchall())\n"
       ]
      },
      {
       "output_type": "stream",
       "stream": "stdout",
       "text": [
        "<type 'list'>\n"
       ]
      },
      {
       "name": "stdout",
       "output_type": "stream",
       "stream": "stdout",
       "text": [
        "(Pdb) exit\n"
       ]
      },
      {
       "ename": "BdbQuit",
       "evalue": "",
       "output_type": "pyerr",
       "traceback": [
        "\u001b[1;31m---------------------------------------------------------------------------\u001b[0m\n\u001b[1;31mBdbQuit\u001b[0m                                   Traceback (most recent call last)",
        "\u001b[1;32m<ipython-input-1-086319131901>\u001b[0m in \u001b[0;36m<module>\u001b[1;34m()\u001b[0m\n\u001b[0;32m     12\u001b[0m \u001b[0mmean_prior\u001b[0m\u001b[1;33m=\u001b[0m\u001b[0mnp\u001b[0m\u001b[1;33m.\u001b[0m\u001b[0marray\u001b[0m\u001b[1;33m(\u001b[0m\u001b[1;33m[\u001b[0m\u001b[1;33m[\u001b[0m\u001b[1;36m0\u001b[0m\u001b[1;33m]\u001b[0m\u001b[1;33m,\u001b[0m\u001b[1;33m[\u001b[0m\u001b[1;36m2\u001b[0m\u001b[1;33m]\u001b[0m\u001b[1;33m]\u001b[0m\u001b[1;33m)\u001b[0m\u001b[1;33m\u001b[0m\u001b[0m\n\u001b[0;32m     13\u001b[0m \u001b[0mcov_prior\u001b[0m\u001b[1;33m=\u001b[0m\u001b[0mnp\u001b[0m\u001b[1;33m.\u001b[0m\u001b[0mtile\u001b[0m\u001b[1;33m(\u001b[0m\u001b[1;36m1\u001b[0m\u001b[1;33m,\u001b[0m \u001b[1;33m(\u001b[0m\u001b[1;36m2\u001b[0m\u001b[1;33m,\u001b[0m \u001b[1;36m1\u001b[0m\u001b[1;33m,\u001b[0m \u001b[1;36m1\u001b[0m\u001b[1;33m)\u001b[0m\u001b[1;33m)\u001b[0m\u001b[1;33m\u001b[0m\u001b[0m\n\u001b[1;32m---> 14\u001b[1;33m \u001b[0mgen\u001b[0m\u001b[1;33m.\u001b[0m\u001b[0mgenerate_and_pickle_models\u001b[0m\u001b[1;33m(\u001b[0m\u001b[1;34m'air1'\u001b[0m\u001b[1;33m,\u001b[0m\u001b[0mpi_prior\u001b[0m\u001b[1;33m,\u001b[0m\u001b[0ma_prior\u001b[0m\u001b[1;33m,\u001b[0m\u001b[0mmean_prior\u001b[0m\u001b[1;33m,\u001b[0m\u001b[0mcov_prior\u001b[0m\u001b[1;33m,\u001b[0m\u001b[1;34m'dataid'\u001b[0m\u001b[1;33m,\u001b[0m\u001b[1;36m5\u001b[0m\u001b[1;33m,\u001b[0m\u001b[1;34m'D'\u001b[0m\u001b[1;33m,\u001b[0m\u001b[1;34m'1T'\u001b[0m\u001b[1;33m)\u001b[0m\u001b[1;33m\u001b[0m\u001b[0m\n\u001b[0m",
        "\u001b[1;32m/home/steve/DSSG/wikienergy/scripts/generate_month_models.pyc\u001b[0m in \u001b[0;36mgenerate_and_pickle_models\u001b[1;34m(device_name, pi_prior, a_prior, mean_prior, cov_prior, key_for_model_name, table_num, length, sample_rate, limit)\u001b[0m\n\u001b[0;32m     36\u001b[0m def generate_and_pickle_models(device_name,pi_prior,a_prior,mean_prior,cov_prior,\n\u001b[0;32m     37\u001b[0m         key_for_model_name,table_num,length='D',sample_rate='15T',limit=0):\n\u001b[1;32m---> 38\u001b[1;33m     \u001b[0mdevice_type_orig\u001b[0m\u001b[1;33m=\u001b[0m\u001b[0mget_type_from_dataset\u001b[0m\u001b[1;33m(\u001b[0m\u001b[0mdevice_name\u001b[0m\u001b[1;33m,\u001b[0m\u001b[0mtable_num\u001b[0m\u001b[1;33m,\u001b[0m\u001b[0mlimit\u001b[0m\u001b[1;33m)\u001b[0m\u001b[1;33m\u001b[0m\u001b[0m\n\u001b[0m\u001b[0;32m     39\u001b[0m     \u001b[1;32mprint\u001b[0m \u001b[1;34m'Device Type Generated.'\u001b[0m\u001b[1;33m\u001b[0m\u001b[0m\n\u001b[0;32m     40\u001b[0m     \u001b[0mdevice_type\u001b[0m\u001b[1;33m=\u001b[0m\u001b[0mresample_and_split\u001b[0m\u001b[1;33m(\u001b[0m\u001b[0mdevice_type_orig\u001b[0m\u001b[1;33m,\u001b[0m\u001b[0mlength\u001b[0m\u001b[1;33m,\u001b[0m\u001b[0msample_rate\u001b[0m\u001b[1;33m)\u001b[0m\u001b[1;33m\u001b[0m\u001b[0m\n",
        "\u001b[1;32m/home/steve/DSSG/wikienergy/scripts/generate_month_models.pyc\u001b[0m in \u001b[0;36mget_type_from_dataset\u001b[1;34m(device_name, table_num, limit)\u001b[0m\n\u001b[0;32m     20\u001b[0m         \u001b[0mlimit\u001b[0m\u001b[1;33m=\u001b[0m\u001b[0mlen\u001b[0m\u001b[1;33m(\u001b[0m\u001b[0mids_for_device\u001b[0m\u001b[1;33m)\u001b[0m\u001b[1;33m\u001b[0m\u001b[0m\n\u001b[0;32m     21\u001b[0m     device_type_orig=psda.generate_type_for_appliance_by_dataids(schema,\n\u001b[1;32m---> 22\u001b[1;33m             table,device_name,ids_for_device[:limit])\n\u001b[0m\u001b[0;32m     23\u001b[0m     \u001b[1;32mreturn\u001b[0m \u001b[0mdevice_type_orig\u001b[0m\u001b[1;33m\u001b[0m\u001b[0m\n\u001b[0;32m     24\u001b[0m \u001b[1;33m\u001b[0m\u001b[0m\n",
        "\u001b[1;32m/home/steve/DSSG/wikienergy/disaggregator/PecanStreetDatasetAdapter.pyc\u001b[0m in \u001b[0;36mgenerate_type_for_appliance_by_dataids\u001b[1;34m(schema, table, appliance, ids)\u001b[0m\n\u001b[0;32m    446\u001b[0m     '''\n\u001b[0;32m    447\u001b[0m     traces = generate_traces_for_appliance_by_dataids(schema,table,appliance,\n\u001b[1;32m--> 448\u001b[1;33m             ids)\n\u001b[0m\u001b[0;32m    449\u001b[0m     \u001b[0minstances\u001b[0m\u001b[1;33m=\u001b[0m\u001b[1;33m[\u001b[0m\u001b[1;33m]\u001b[0m\u001b[1;33m\u001b[0m\u001b[0m\n\u001b[0;32m    450\u001b[0m \u001b[1;33m\u001b[0m\u001b[0m\n",
        "\u001b[1;32m/home/steve/DSSG/wikienergy/disaggregator/PecanStreetDatasetAdapter.pyc\u001b[0m in \u001b[0;36mgenerate_traces_for_appliance_by_dataids\u001b[1;34m(schema, table, appliance, ids, sample_rate)\u001b[0m\n\u001b[0;32m    387\u001b[0m     '''\n\u001b[0;32m    388\u001b[0m     traces = [generate_appliance_trace(schema,table,appliance,id_,sample_rate)\\\n\u001b[1;32m--> 389\u001b[1;33m               for id_ in ids]\n\u001b[0m\u001b[0;32m    390\u001b[0m     \u001b[1;32mreturn\u001b[0m \u001b[0mtraces\u001b[0m\u001b[1;33m\u001b[0m\u001b[0m\n\u001b[0;32m    391\u001b[0m \u001b[1;33m\u001b[0m\u001b[0m\n",
        "\u001b[1;32m/home/steve/DSSG/wikienergy/disaggregator/PecanStreetDatasetAdapter.pyc\u001b[0m in \u001b[0;36mgenerate_appliance_trace\u001b[1;34m(schema, table, appliance, dataid, sample_rate, verbose)\u001b[0m\n\u001b[0;32m    300\u001b[0m         \u001b[1;33m.\u001b[0m\u001b[0mformat\u001b[0m\u001b[1;33m(\u001b[0m\u001b[0mappliance\u001b[0m\u001b[1;33m,\u001b[0m\u001b[0mtime_columns\u001b[0m\u001b[1;33m[\u001b[0m\u001b[0mschema\u001b[0m\u001b[1;33m]\u001b[0m\u001b[1;33m,\u001b[0m\u001b[0mschema_name\u001b[0m\u001b[1;33m,\u001b[0m\u001b[0mtable\u001b[0m\u001b[1;33m,\u001b[0m\u001b[0mdataid\u001b[0m\u001b[1;33m)\u001b[0m\u001b[1;33m\u001b[0m\u001b[0m\n\u001b[0;32m    301\u001b[0m     \u001b[1;32mprint\u001b[0m \u001b[0mquery\u001b[0m\u001b[1;33m\u001b[0m\u001b[0m\n\u001b[1;32m--> 302\u001b[1;33m     \u001b[0mdf\u001b[0m \u001b[1;33m=\u001b[0m \u001b[0mget_dataframe\u001b[0m\u001b[1;33m(\u001b[0m\u001b[0mquery\u001b[0m\u001b[1;33m)\u001b[0m\u001b[1;33m\u001b[0m\u001b[0m\n\u001b[0m\u001b[0;32m    303\u001b[0m     \u001b[0mdf\u001b[0m \u001b[1;33m=\u001b[0m \u001b[0mdf\u001b[0m\u001b[1;33m.\u001b[0m\u001b[0mrename\u001b[0m\u001b[1;33m(\u001b[0m\u001b[0mcolumns\u001b[0m\u001b[1;33m=\u001b[0m\u001b[1;33m{\u001b[0m\u001b[0mtime_columns\u001b[0m\u001b[1;33m[\u001b[0m\u001b[0mschema\u001b[0m\u001b[1;33m]\u001b[0m\u001b[1;33m:\u001b[0m \u001b[1;34m'time'\u001b[0m\u001b[1;33m}\u001b[0m\u001b[1;33m)\u001b[0m\u001b[1;33m\u001b[0m\u001b[0m\n\u001b[0;32m    304\u001b[0m     \u001b[0mutils\u001b[0m\u001b[1;33m.\u001b[0m\u001b[0mcreate_datetimeindex\u001b[0m\u001b[1;33m(\u001b[0m\u001b[0mdf\u001b[0m\u001b[1;33m)\u001b[0m\u001b[1;33m\u001b[0m\u001b[0m\n",
        "\u001b[1;32m/home/steve/DSSG/wikienergy/disaggregator/PecanStreetDatasetAdapter.pyc\u001b[0m in \u001b[0;36mget_dataframe\u001b[1;34m(query)\u001b[0m\n\u001b[0;32m    471\u001b[0m     \u001b[0meng_object\u001b[0m \u001b[1;33m=\u001b[0m \u001b[0meng\u001b[0m\u001b[1;33m.\u001b[0m\u001b[0mexecute\u001b[0m\u001b[1;33m(\u001b[0m\u001b[0mquery\u001b[0m\u001b[1;33m)\u001b[0m\u001b[1;33m\u001b[0m\u001b[0m\n\u001b[0;32m    472\u001b[0m     \u001b[1;31m#import pdb;pdb.set_trace()\u001b[0m\u001b[1;33m\u001b[0m\u001b[1;33m\u001b[0m\u001b[0m\n\u001b[1;32m--> 473\u001b[1;33m     \u001b[0mdf\u001b[0m \u001b[1;33m=\u001b[0m \u001b[0mpd\u001b[0m\u001b[1;33m.\u001b[0m\u001b[0mDataFrame\u001b[0m\u001b[1;33m.\u001b[0m\u001b[0mfrom_records\u001b[0m\u001b[1;33m(\u001b[0m\u001b[0meng_object\u001b[0m\u001b[1;33m.\u001b[0m\u001b[0mfetchall\u001b[0m\u001b[1;33m(\u001b[0m\u001b[1;33m)\u001b[0m\u001b[1;33m)\u001b[0m\u001b[1;33m\u001b[0m\u001b[0m\n\u001b[0m\u001b[0;32m    474\u001b[0m     \u001b[0mdf\u001b[0m\u001b[1;33m.\u001b[0m\u001b[0mcolumns\u001b[0m \u001b[1;33m=\u001b[0m \u001b[0meng_object\u001b[0m\u001b[1;33m.\u001b[0m\u001b[0mkeys\u001b[0m\u001b[1;33m(\u001b[0m\u001b[1;33m)\u001b[0m\u001b[1;33m\u001b[0m\u001b[0m\n\u001b[0;32m    475\u001b[0m     \u001b[1;32mreturn\u001b[0m \u001b[0mdf\u001b[0m\u001b[1;33m\u001b[0m\u001b[0m\n",
        "\u001b[1;32m/home/steve/DSSG/wikienergy/disaggregator/PecanStreetDatasetAdapter.pyc\u001b[0m in \u001b[0;36mget_dataframe\u001b[1;34m(query)\u001b[0m\n\u001b[0;32m    471\u001b[0m     \u001b[0meng_object\u001b[0m \u001b[1;33m=\u001b[0m \u001b[0meng\u001b[0m\u001b[1;33m.\u001b[0m\u001b[0mexecute\u001b[0m\u001b[1;33m(\u001b[0m\u001b[0mquery\u001b[0m\u001b[1;33m)\u001b[0m\u001b[1;33m\u001b[0m\u001b[0m\n\u001b[0;32m    472\u001b[0m     \u001b[1;31m#import pdb;pdb.set_trace()\u001b[0m\u001b[1;33m\u001b[0m\u001b[1;33m\u001b[0m\u001b[0m\n\u001b[1;32m--> 473\u001b[1;33m     \u001b[0mdf\u001b[0m \u001b[1;33m=\u001b[0m \u001b[0mpd\u001b[0m\u001b[1;33m.\u001b[0m\u001b[0mDataFrame\u001b[0m\u001b[1;33m.\u001b[0m\u001b[0mfrom_records\u001b[0m\u001b[1;33m(\u001b[0m\u001b[0meng_object\u001b[0m\u001b[1;33m.\u001b[0m\u001b[0mfetchall\u001b[0m\u001b[1;33m(\u001b[0m\u001b[1;33m)\u001b[0m\u001b[1;33m)\u001b[0m\u001b[1;33m\u001b[0m\u001b[0m\n\u001b[0m\u001b[0;32m    474\u001b[0m     \u001b[0mdf\u001b[0m\u001b[1;33m.\u001b[0m\u001b[0mcolumns\u001b[0m \u001b[1;33m=\u001b[0m \u001b[0meng_object\u001b[0m\u001b[1;33m.\u001b[0m\u001b[0mkeys\u001b[0m\u001b[1;33m(\u001b[0m\u001b[1;33m)\u001b[0m\u001b[1;33m\u001b[0m\u001b[0m\n\u001b[0;32m    475\u001b[0m     \u001b[1;32mreturn\u001b[0m \u001b[0mdf\u001b[0m\u001b[1;33m\u001b[0m\u001b[0m\n",
        "\u001b[1;32m/usr/lib/python2.7/bdb.py\u001b[0m in \u001b[0;36mtrace_dispatch\u001b[1;34m(self, frame, event, arg)\u001b[0m\n\u001b[0;32m     47\u001b[0m             \u001b[1;32mreturn\u001b[0m \u001b[1;31m# None\u001b[0m\u001b[1;33m\u001b[0m\u001b[0m\n\u001b[0;32m     48\u001b[0m         \u001b[1;32mif\u001b[0m \u001b[0mevent\u001b[0m \u001b[1;33m==\u001b[0m \u001b[1;34m'line'\u001b[0m\u001b[1;33m:\u001b[0m\u001b[1;33m\u001b[0m\u001b[0m\n\u001b[1;32m---> 49\u001b[1;33m             \u001b[1;32mreturn\u001b[0m \u001b[0mself\u001b[0m\u001b[1;33m.\u001b[0m\u001b[0mdispatch_line\u001b[0m\u001b[1;33m(\u001b[0m\u001b[0mframe\u001b[0m\u001b[1;33m)\u001b[0m\u001b[1;33m\u001b[0m\u001b[0m\n\u001b[0m\u001b[0;32m     50\u001b[0m         \u001b[1;32mif\u001b[0m \u001b[0mevent\u001b[0m \u001b[1;33m==\u001b[0m \u001b[1;34m'call'\u001b[0m\u001b[1;33m:\u001b[0m\u001b[1;33m\u001b[0m\u001b[0m\n\u001b[0;32m     51\u001b[0m             \u001b[1;32mreturn\u001b[0m \u001b[0mself\u001b[0m\u001b[1;33m.\u001b[0m\u001b[0mdispatch_call\u001b[0m\u001b[1;33m(\u001b[0m\u001b[0mframe\u001b[0m\u001b[1;33m,\u001b[0m \u001b[0marg\u001b[0m\u001b[1;33m)\u001b[0m\u001b[1;33m\u001b[0m\u001b[0m\n",
        "\u001b[1;32m/usr/lib/python2.7/bdb.py\u001b[0m in \u001b[0;36mdispatch_line\u001b[1;34m(self, frame)\u001b[0m\n\u001b[0;32m     66\u001b[0m         \u001b[1;32mif\u001b[0m \u001b[0mself\u001b[0m\u001b[1;33m.\u001b[0m\u001b[0mstop_here\u001b[0m\u001b[1;33m(\u001b[0m\u001b[0mframe\u001b[0m\u001b[1;33m)\u001b[0m \u001b[1;32mor\u001b[0m \u001b[0mself\u001b[0m\u001b[1;33m.\u001b[0m\u001b[0mbreak_here\u001b[0m\u001b[1;33m(\u001b[0m\u001b[0mframe\u001b[0m\u001b[1;33m)\u001b[0m\u001b[1;33m:\u001b[0m\u001b[1;33m\u001b[0m\u001b[0m\n\u001b[0;32m     67\u001b[0m             \u001b[0mself\u001b[0m\u001b[1;33m.\u001b[0m\u001b[0muser_line\u001b[0m\u001b[1;33m(\u001b[0m\u001b[0mframe\u001b[0m\u001b[1;33m)\u001b[0m\u001b[1;33m\u001b[0m\u001b[0m\n\u001b[1;32m---> 68\u001b[1;33m             \u001b[1;32mif\u001b[0m \u001b[0mself\u001b[0m\u001b[1;33m.\u001b[0m\u001b[0mquitting\u001b[0m\u001b[1;33m:\u001b[0m \u001b[1;32mraise\u001b[0m \u001b[0mBdbQuit\u001b[0m\u001b[1;33m\u001b[0m\u001b[0m\n\u001b[0m\u001b[0;32m     69\u001b[0m         \u001b[1;32mreturn\u001b[0m \u001b[0mself\u001b[0m\u001b[1;33m.\u001b[0m\u001b[0mtrace_dispatch\u001b[0m\u001b[1;33m\u001b[0m\u001b[0m\n\u001b[0;32m     70\u001b[0m \u001b[1;33m\u001b[0m\u001b[0m\n",
        "\u001b[1;31mBdbQuit\u001b[0m: "
       ]
      }
     ],
     "prompt_number": 1
    },
    {
     "cell_type": "code",
     "collapsed": false,
     "input": [],
     "language": "python",
     "metadata": {},
     "outputs": []
    },
    {
     "cell_type": "code",
     "collapsed": false,
     "input": [],
     "language": "python",
     "metadata": {},
     "outputs": []
    }
   ],
   "metadata": {}
  }
 ]
}