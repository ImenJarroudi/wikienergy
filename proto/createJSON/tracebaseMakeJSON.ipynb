{
 "metadata": {
  "name": "",
  "signature": "sha256:f32196c3ed90a28dfbc2a258455e12e77916feb700382fce2058011152e21142"
 },
 "nbformat": 3,
 "nbformat_minor": 0,
 "worksheets": [
  {
   "cells": [
    {
     "cell_type": "code",
     "collapsed": false,
     "input": [
      "%matplotlib inline\n",
      "import json\n",
      "import pandas as pd\n",
      "import numpy as np\n",
      "import csv\n",
      "import glob\n",
      "import os\n",
      "import matplotlib.pyplot as plt\n",
      "import matplotlib.pylab as pylab\n",
      "from matplotlib import rcParams\n",
      "from datetime import datetime\n",
      "\n",
      "#Path for folders that contain individual csv files of trace data.\n",
      "folder_path='/home/steve/DSSG/tracebase/complete/'"
     ],
     "language": "python",
     "metadata": {},
     "outputs": [],
     "prompt_number": 6
    },
    {
     "cell_type": "code",
     "collapsed": false,
     "input": [
      "#This function imports a single CSV file into an array\n",
      "def import_csv(filename):\n",
      "    df = pd.read_csv(filename,sep=';',header=None,names=[\"Time\",\"1W\",\"8W\"])\n",
      "    return df"
     ],
     "language": "python",
     "metadata": {},
     "outputs": [],
     "prompt_number": 7
    },
    {
     "cell_type": "code",
     "collapsed": false,
     "input": [
      "device='Refrigerator'\n",
      "instance='76C07F'\n",
      "date\n",
      "file_signal[device_name]=import_csv(filename)"
     ],
     "language": "python",
     "metadata": {},
     "outputs": []
    },
    {
     "cell_type": "code",
     "collapsed": false,
     "input": [
      "#This function imports multiple CSV files from a single device folder\n",
      "def import_device(path,device):\n",
      "    device_signal ={}\n",
      "    i=0\n",
      "    file_signal={}\n",
      "    print device\n",
      "    for filename in glob.glob(path+device+'/*'):\n",
      "        i=i+1\n",
      "        print device + \" \" + filename\n",
      "        device_name=filename[filename.index('_')+1:]\n",
      "        device_name=device_name[0:device_name.index('.csv')]\n",
      "        file_signal[device_name]=import_csv(filename)\n",
      "    device_signal[device]=file_signal\n",
      "    return device_signal"
     ],
     "language": "python",
     "metadata": {},
     "outputs": [],
     "prompt_number": 8
    },
    {
     "cell_type": "code",
     "collapsed": false,
     "input": [
      "#After choosing a device, this imports that device into a dictionary called device_signal\n",
      "device=\"Freezer\"\n",
      "device_signal=import_device(folder_path,device)"
     ],
     "language": "python",
     "metadata": {},
     "outputs": [
      {
       "output_type": "stream",
       "stream": "stdout",
       "text": [
        "Freezer\n",
        "Freezer /home/steve/DSSG/tracebase/complete/Freezer/dev_D36601_2012.01.23.csv\n",
        "Freezer /home/steve/DSSG/tracebase/complete/Freezer/dev_D36601_2012.01.24.csv"
       ]
      },
      {
       "output_type": "stream",
       "stream": "stdout",
       "text": [
        "\n",
        "Freezer /home/steve/DSSG/tracebase/complete/Freezer/dev_D36601_2011.12.17.csv"
       ]
      },
      {
       "output_type": "stream",
       "stream": "stdout",
       "text": [
        "\n",
        "Freezer /home/steve/DSSG/tracebase/complete/Freezer/dev_D36601_2011.12.16.csv"
       ]
      },
      {
       "output_type": "stream",
       "stream": "stdout",
       "text": [
        "\n",
        "Freezer /home/steve/DSSG/tracebase/complete/Freezer/dev_D36601_2012.01.22.csv"
       ]
      },
      {
       "output_type": "stream",
       "stream": "stdout",
       "text": [
        "\n",
        "Freezer /home/steve/DSSG/tracebase/complete/Freezer/dev_D36601_2012.01.21.csv"
       ]
      },
      {
       "output_type": "stream",
       "stream": "stdout",
       "text": [
        "\n",
        "Freezer /home/steve/DSSG/tracebase/complete/Freezer/dev_D36601_2012.01.26.csv"
       ]
      },
      {
       "output_type": "stream",
       "stream": "stdout",
       "text": [
        "\n",
        "Freezer /home/steve/DSSG/tracebase/complete/Freezer/dev_D36601_2012.01.20.csv"
       ]
      },
      {
       "output_type": "stream",
       "stream": "stdout",
       "text": [
        "\n",
        "Freezer /home/steve/DSSG/tracebase/complete/Freezer/dev_D36601_2012.01.25.csv"
       ]
      },
      {
       "output_type": "stream",
       "stream": "stdout",
       "text": [
        "\n"
       ]
      }
     ],
     "prompt_number": 10
    },
    {
     "cell_type": "code",
     "collapsed": false,
     "input": [
      "#DEBUGGING ONLY: Shows initial data. \n",
      "device_name=device_signal[device].keys()[0]\n",
      "pylab.rcParams['figure.figsize'] = 16, 12\n",
      "time=[]\n",
      "for x in device_signal[device][device_name][\"Time\"]:\n",
      "    time.append(datetime.strptime(x,'%d/%m/%Y %H:%M:%S'))\n",
      "plt.plot(time,device_signal[device][device_name][\"1W\"])\n",
      "\n",
      "sum = 0\n",
      "for x in device_signal[device][device_name][\"1W\"]:\n",
      "    sum = sum + x\n",
      "print sum/3600"
     ],
     "language": "python",
     "metadata": {},
     "outputs": [
      {
       "output_type": "stream",
       "stream": "stdout",
       "text": [
        "478\n"
       ]
      },
      {
       "metadata": {},
       "output_type": "display_data",
       "png": "[encoded data removed]",
       "text": [
        "<matplotlib.figure.Figure at 0x7fd957007690>"
       ]
      }
     ],
     "prompt_number": 11
    },
    {
     "cell_type": "code",
     "collapsed": true,
     "input": [
      "#This takes the device and agggregates to 1 minute and 15 minute intervals\n",
      "#It also attempts to guess state\n",
      "step_changes={}\n",
      "aggregator={}\n",
      "\n",
      "def aggregate_and_on_off(appliance,min_diff):\n",
      "    \n",
      "    #Variables for on-off check\n",
      "    past_val=0\n",
      "    diff=0\n",
      "    turn_ons=[]\n",
      "    turn_offs=[]\n",
      "    on_avg=[]\n",
      "    duration_on=[]\n",
      "    \n",
      "    start_on=0\n",
      "    is_on=False\n",
      "    sum_on=0\n",
      "    \n",
      "    #Variables for aggregating appliance data\n",
      "    every_15=[]\n",
      "    time_15 =[]\n",
      "    sum_15=0\n",
      "    \n",
      "    every_1=[]\n",
      "    time_1=[]\n",
      "    sum_1=0\n",
      "    \n",
      "    every_all=[]\n",
      "    time_all=[]\n",
      "\n",
      "    \n",
      "    \n",
      "    \n",
      "    #These are used to check that 1 minute or 15 minutes have passed by storing the exact time of the previous round. \n",
      "    #This is necessary because the time signals are not exactly on times.\n",
      "    last_1=0\n",
      "    last_15=0\n",
      "    past_time=0\n",
      "    index_1=0\n",
      "    index_15=0\n",
      "    index_on=0\n",
      "    '''units:\n",
      "       The initial units are the average watts over one second. Therefore, the units are in Watt-seconds/second. \n",
      "       By averaging these values over the course of one minute, the unit becomes Watt-seconds/minute.\n",
      "       By averaging these values over the course of 15 minutes, the unit becomes Watt-seconds/15mins.\n",
      "      \n",
      "       \n",
      "       \n",
      "    '''\n",
      "    for index,row in appliance.iterrows():\n",
      "        \n",
      "       \n",
      "        \n",
      "        now = datetime.strptime(row['Time'],'%d/%m/%Y %H:%M:%S')\n",
      "        if(past_time != now): ##Gets rid of duplicates\n",
      "           \n",
      "            #Store normal values with time as date_time\n",
      "            time_all.append(now)\n",
      "            every_all.append(row['1W'])\n",
      "            \n",
      "            #These are used to average the 1-min and 15-min values by counting the number of points in each interval\n",
      "            index_1=index_1+1\n",
      "            index_15=index_15+1\n",
      "            #15-min Aggregator\n",
      "            if float(now.strftime('%s'))-last_15>900:\n",
      "                last_15=float(now.strftime('%s'))\n",
      "                every_15.append(sum_15/index_15)\n",
      "                time_15.append(now) \n",
      "                sum_15=0\n",
      "                index_15=0\n",
      "            else:\n",
      "                sum_15=sum_15+row['1W']\n",
      "            \n",
      "            #1-min Aggregator\n",
      "            if float(now.strftime('%s'))-last_1>60:\n",
      "                every_1.append(sum_1/index_1)\n",
      "                time_1.append(now)\n",
      "                last_1=float(now.strftime('%s'))\n",
      "                sum_1=0\n",
      "                index_1=0\n",
      "\n",
      "            else:\n",
      "                sum_1=sum_1+row['1W']\n",
      "                \n",
      "                \n",
      "            #Checker for when device is on\n",
      "            \n",
      "           \n",
      "            if row['1W']>10 and not is_on:\n",
      "                turn_ons.append(str(now))\n",
      "                start_on=now\n",
      "                is_on=True;\n",
      "                index_on=index_on+1\n",
      "            if is_on:\n",
      "                sum_on=sum_on+float(row['1W']) \n",
      "                index_on=index_on+1\n",
      "            if row['1W']<10 and is_on:\n",
      "                turn_offs.append(str(now))\n",
      "                #Gets all on states longer than 60 seconds\n",
      "                if((now-start_on).total_seconds()>60):\n",
      "                    duration_on.append((now-start_on).total_seconds())\n",
      "                    on_avg.append(sum_on/index_on)\n",
      "                sum_on=0\n",
      "                is_on=False\n",
      "                index_on=0\n",
      "            \n",
      "        #Variables so that previous value can be used in subsequent iteration of for loop       \n",
      "        past_time=now\n",
      "        past_val=row['1W']\n",
      "    #Storage of on-off data in dictionary\n",
      "    step_changes['turn_on'] = turn_ons\n",
      "    step_changes['turn_off']=turn_offs\n",
      "    step_changes['duration']=duration_on\n",
      "    step_changes['on_values']= on_avg\n",
      "    \n",
      "    #Storage of aggregated values in dictionary\n",
      "    aggregator['every_15_energy']=every_15\n",
      "    aggregator['every_1_energy']=every_1\n",
      "    aggregator['every_all_energy']=every_all\n",
      "    aggregator['time_all']=time_all\n",
      "    aggregator['time_1']=time_1\n",
      "    aggregator['time_15']=time_15"
     ],
     "language": "python",
     "metadata": {},
     "outputs": [],
     "prompt_number": 12
    },
    {
     "cell_type": "code",
     "collapsed": true,
     "input": [
      "#Creates JSON files from tracebase based on provided device, starting at device_index\n",
      "#min_val is threshold for whether a device should be considered on or off\n",
      "#device_namedate is string 'instance name'_'date' ex) D32290_12.06.11\n",
      "#This function calls the aggregator function above\n",
      "\n",
      "def makeFiles(device_signal):\n",
      "    num_files=len(device_signal[device].keys())\n",
      "\n",
      "    if not os.path.exists('Tracebase/'+device):\n",
      "        os.makedirs('Tracebase/'+device)\n",
      "    for index,device_namedate in enumerate(device_signal[device]):\n",
      "        if(index>=device_index):\n",
      "            device_name=device_namedate[:device_namedate.index('_')]\n",
      "            if not os.path.exists('Tracebase/'+device+'/'+device_name):\n",
      "                os.makedirs('Tracebase/'+device+'/'+device_name)\n",
      "            aggregate_and_on_off(device_signal[device][device_namedate],min_val)\n",
      "            #Turn 2 Arrays into a dict and stores in JSON File\n",
      "            store_json={}\n",
      "            json_15={}\n",
      "            json_1={}\n",
      "            json_on_stats={}\n",
      "            time_index_15=0\n",
      "            time_index_1=0\n",
      "            time_1_array=[]\n",
      "            value_1_array=[]\n",
      "            time_15_array=[]\n",
      "            value_15_array=[]\n",
      "            for time in aggregator['time_15']:\n",
      "                time_15_array.append(str(time))\n",
      "                value_15_array.append(aggregator['every_15_energy'][time_index_15])\n",
      "                time_index_15=time_index_15+1\n",
      "            for time in aggregator['time_1']:\n",
      "                time_1_array.append(str(time))\n",
      "                value_1_array.append(aggregator['every_1_energy'][time_index_1])\n",
      "                time_index_1=time_index_1+1\n",
      "            filename=device+'_'+device_namedate+'.json'\n",
      "            json_15['times']=time_15_array\n",
      "            json_15['values']=value_15_array\n",
      "            json_1['times']=time_1_array\n",
      "            json_1['values']=value_1_array\n",
      "            store_json['time_15']=json_15\n",
      "            store_json['time_1']=json_1\n",
      "            store_json['on_stats']=step_changes\n",
      "            with open('Tracebase/'+device+'/'+'/'+device_name+'/'+filename, 'w') as outfile:\n",
      "                json.dump(store_json, outfile)\n",
      "            print str(index+1) + ' of ' + str(num_files)"
     ],
     "language": "python",
     "metadata": {},
     "outputs": [],
     "prompt_number": 13
    },
    {
     "cell_type": "code",
     "collapsed": false,
     "input": [
      "#This takes the device_signal ditcionary from when the device was loaded\n",
      "#It makes the json files by aggregating the 1-second data\n",
      "device_index=0\n",
      "min_val=15\n",
      "makeFiles(device_signal)"
     ],
     "language": "python",
     "metadata": {},
     "outputs": [
      {
       "output_type": "stream",
       "stream": "stdout",
       "text": [
        "1 of 9\n",
        "2 of 9"
       ]
      },
      {
       "output_type": "stream",
       "stream": "stdout",
       "text": [
        "\n",
        "3 of 9"
       ]
      },
      {
       "output_type": "stream",
       "stream": "stdout",
       "text": [
        "\n",
        "4 of 9"
       ]
      },
      {
       "output_type": "stream",
       "stream": "stdout",
       "text": [
        "\n",
        "5 of 9"
       ]
      },
      {
       "output_type": "stream",
       "stream": "stdout",
       "text": [
        "\n",
        "6 of 9"
       ]
      },
      {
       "output_type": "stream",
       "stream": "stdout",
       "text": [
        "\n",
        "7 of 9"
       ]
      },
      {
       "output_type": "stream",
       "stream": "stdout",
       "text": [
        "\n",
        "8 of 9"
       ]
      },
      {
       "output_type": "stream",
       "stream": "stdout",
       "text": [
        "\n",
        "9 of 9"
       ]
      },
      {
       "output_type": "stream",
       "stream": "stdout",
       "text": [
        "\n"
       ]
      }
     ],
     "prompt_number": 14
    },
    {
     "cell_type": "code",
     "collapsed": false,
     "input": [
      "#DEBUGGING ONLY - Runs a single file\n",
      "aggregate_and_on_off(device_signal[device][0][:10000],5)\n",
      "pylab.rcParams['figure.figsize'] = 16, 12\n",
      "plt.subplot(3, 1, 1)\n",
      "plt.plot(aggregator['time_all'],aggregator['every_all_energy'],marker=\"o\",linestyle=\"dashed\")\n",
      "plt.subplot(3, 1, 2)\n",
      "plt.plot(aggregator['time_1'],aggregator['every_1_energy'],marker=\"o\",linestyle=\"dashed\")\n",
      "plt.subplot(3,1,3)\n",
      "plt.plot(aggregator['time_15'],aggregator['every_15_energy'],marker=\"o\",linestyle=\"dashed\")"
     ],
     "language": "python",
     "metadata": {},
     "outputs": [
      {
       "ename": "KeyError",
       "evalue": "0",
       "output_type": "pyerr",
       "traceback": [
        "\u001b[1;31m---------------------------------------------------------------------------\u001b[0m\n\u001b[1;31mKeyError\u001b[0m                                  Traceback (most recent call last)",
        "\u001b[1;32m<ipython-input-12-008f020e2643>\u001b[0m in \u001b[0;36m<module>\u001b[1;34m()\u001b[0m\n\u001b[0;32m      1\u001b[0m \u001b[1;31m#DEBUGGING ONLY - Runs a single file\u001b[0m\u001b[1;33m\u001b[0m\u001b[1;33m\u001b[0m\u001b[0m\n\u001b[1;32m----> 2\u001b[1;33m \u001b[0maggregate_and_on_off\u001b[0m\u001b[1;33m(\u001b[0m\u001b[0mdevice_signal\u001b[0m\u001b[1;33m[\u001b[0m\u001b[0mdevice\u001b[0m\u001b[1;33m]\u001b[0m\u001b[1;33m[\u001b[0m\u001b[1;36m0\u001b[0m\u001b[1;33m]\u001b[0m\u001b[1;33m[\u001b[0m\u001b[1;33m:\u001b[0m\u001b[1;36m10000\u001b[0m\u001b[1;33m]\u001b[0m\u001b[1;33m,\u001b[0m\u001b[1;36m5\u001b[0m\u001b[1;33m)\u001b[0m\u001b[1;33m\u001b[0m\u001b[0m\n\u001b[0m\u001b[0;32m      3\u001b[0m \u001b[0mpylab\u001b[0m\u001b[1;33m.\u001b[0m\u001b[0mrcParams\u001b[0m\u001b[1;33m[\u001b[0m\u001b[1;34m'figure.figsize'\u001b[0m\u001b[1;33m]\u001b[0m \u001b[1;33m=\u001b[0m \u001b[1;36m16\u001b[0m\u001b[1;33m,\u001b[0m \u001b[1;36m12\u001b[0m\u001b[1;33m\u001b[0m\u001b[0m\n\u001b[0;32m      4\u001b[0m \u001b[0mplt\u001b[0m\u001b[1;33m.\u001b[0m\u001b[0msubplot\u001b[0m\u001b[1;33m(\u001b[0m\u001b[1;36m3\u001b[0m\u001b[1;33m,\u001b[0m \u001b[1;36m1\u001b[0m\u001b[1;33m,\u001b[0m \u001b[1;36m1\u001b[0m\u001b[1;33m)\u001b[0m\u001b[1;33m\u001b[0m\u001b[0m\n\u001b[0;32m      5\u001b[0m \u001b[0mplt\u001b[0m\u001b[1;33m.\u001b[0m\u001b[0mplot\u001b[0m\u001b[1;33m(\u001b[0m\u001b[0maggregator\u001b[0m\u001b[1;33m[\u001b[0m\u001b[1;34m'time_all'\u001b[0m\u001b[1;33m]\u001b[0m\u001b[1;33m,\u001b[0m\u001b[0maggregator\u001b[0m\u001b[1;33m[\u001b[0m\u001b[1;34m'every_all_energy'\u001b[0m\u001b[1;33m]\u001b[0m\u001b[1;33m,\u001b[0m\u001b[0mmarker\u001b[0m\u001b[1;33m=\u001b[0m\u001b[1;34m\"o\"\u001b[0m\u001b[1;33m,\u001b[0m\u001b[0mlinestyle\u001b[0m\u001b[1;33m=\u001b[0m\u001b[1;34m\"dashed\"\u001b[0m\u001b[1;33m)\u001b[0m\u001b[1;33m\u001b[0m\u001b[0m\n",
        "\u001b[1;31mKeyError\u001b[0m: 0"
       ]
      }
     ],
     "prompt_number": 12
    },
    {
     "cell_type": "code",
     "collapsed": false,
     "input": [
      "#Takes a JSON file and reloads it back into python\n",
      "instance='D35C05'\n",
      "filename='Tracebase/'+device+'/'+instance+'/'+device+'_'+instance+'_2012.06.20.json'\n",
      "json_data = open(filename)\n",
      "check_data = json.load(json_data)\n",
      "\n",
      "time_array_1=[]\n",
      "time_array_15=[]\n",
      "for time in check_data['time_1']['times']:\n",
      "    time_array_1.append(datetime.strptime(time,'%Y-%m-%d %H:%M:%S'))\n",
      "for time in check_data['time_15']['times']:\n",
      "    time_array_15.append(datetime.strptime(time,'%Y-%m-%d %H:%M:%S'))\n",
      "plt.subplot(2, 1, 1)\n",
      "plt.plot(time_array_1,check_data['time_1']['values'],marker=\"o\",linestyle=\"dashed\")\n",
      "plt.subplot(2, 1, 2)\n",
      "plt.plot(time_array_15,check_data['time_15']['values'],marker=\"o\",linestyle=\"dashed\")"
     ],
     "language": "python",
     "metadata": {},
     "outputs": [
      {
       "ename": "NameError",
       "evalue": "name 'device' is not defined",
       "output_type": "pyerr",
       "traceback": [
        "\u001b[1;31m---------------------------------------------------------------------------\u001b[0m\n\u001b[1;31mNameError\u001b[0m                                 Traceback (most recent call last)",
        "\u001b[1;32m<ipython-input-1-cb9f6dd0b452>\u001b[0m in \u001b[0;36m<module>\u001b[1;34m()\u001b[0m\n\u001b[0;32m      1\u001b[0m \u001b[1;31m#Takes a JSON file and reloads it back into python\u001b[0m\u001b[1;33m\u001b[0m\u001b[1;33m\u001b[0m\u001b[0m\n\u001b[0;32m      2\u001b[0m \u001b[0minstance\u001b[0m\u001b[1;33m=\u001b[0m\u001b[1;34m'D35C05'\u001b[0m\u001b[1;33m\u001b[0m\u001b[0m\n\u001b[1;32m----> 3\u001b[1;33m \u001b[0mfilename\u001b[0m\u001b[1;33m=\u001b[0m\u001b[1;34m'Tracebase/'\u001b[0m\u001b[1;33m+\u001b[0m\u001b[0mdevice\u001b[0m\u001b[1;33m+\u001b[0m\u001b[1;34m'/'\u001b[0m\u001b[1;33m+\u001b[0m\u001b[0minstance\u001b[0m\u001b[1;33m+\u001b[0m\u001b[1;34m'/'\u001b[0m\u001b[1;33m+\u001b[0m\u001b[0mdevice\u001b[0m\u001b[1;33m+\u001b[0m\u001b[1;34m'_'\u001b[0m\u001b[1;33m+\u001b[0m\u001b[0minstance\u001b[0m\u001b[1;33m+\u001b[0m\u001b[1;34m'_2012.06.20.json'\u001b[0m\u001b[1;33m\u001b[0m\u001b[0m\n\u001b[0m\u001b[0;32m      4\u001b[0m \u001b[0mjson_data\u001b[0m \u001b[1;33m=\u001b[0m \u001b[0mopen\u001b[0m\u001b[1;33m(\u001b[0m\u001b[0mfilename\u001b[0m\u001b[1;33m)\u001b[0m\u001b[1;33m\u001b[0m\u001b[0m\n\u001b[0;32m      5\u001b[0m \u001b[0mcheck_data\u001b[0m \u001b[1;33m=\u001b[0m \u001b[0mjson\u001b[0m\u001b[1;33m.\u001b[0m\u001b[0mload\u001b[0m\u001b[1;33m(\u001b[0m\u001b[0mjson_data\u001b[0m\u001b[1;33m)\u001b[0m\u001b[1;33m\u001b[0m\u001b[0m\n",
        "\u001b[1;31mNameError\u001b[0m: name 'device' is not defined"
       ]
      }
     ],
     "prompt_number": 1
    },
    {
     "cell_type": "code",
     "collapsed": false,
     "input": [],
     "language": "python",
     "metadata": {},
     "outputs": []
    }
   ],
   "metadata": {}
  }
 ]
}