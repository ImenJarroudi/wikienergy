{
 "metadata": {
  "name": "",
  "signature": "sha256:7659832bee478c081f75de9e93a5b46511bb12b859c84eece6b63b388ff9e854"
 },
 "nbformat": 3,
 "nbformat_minor": 0,
 "worksheets": [
  {
   "cells": [
    {
     "cell_type": "code",
     "collapsed": false,
     "input": [
      "\n",
      "from sklearn import svm\n",
      "import pandas as pd\n",
      "import sys\n",
      "import pickle\n",
      "import os\n",
      "import numpy as np\n",
      "from sklearn.preprocessing import Imputer\n",
      "from sklearn import preprocessing\n",
      "sys.path.append('../../')\n",
      "import disaggregator.utils as utils\n",
      "import matplotlib.pyplot as plt\n",
      "import itertools\n",
      "from sklearn.decomposition import PCA\n",
      "import fold\n",
      "from disaggregator import appliance\n",
      "from disaggregator import evaluation_metrics as evm"
     ],
     "language": "python",
     "metadata": {},
     "outputs": [
      {
       "output_type": "stream",
       "stream": "stderr",
       "text": [
        "/Users/sabina/anaconda/lib/python2.7/site-packages/pandas/io/excel.py:626: UserWarning: Installed openpyxl is not supported at this time. Use >=1.6.1 and <2.0.0.\n",
        "  .format(openpyxl_compat.start_ver, openpyxl_compat.stop_ver))\n"
       ]
      }
     ],
     "prompt_number": 1
    },
    {
     "cell_type": "code",
     "collapsed": false,
     "input": [
      "reload(utils)\n",
      "reload(appliance)\n",
      "reload(fold)\n",
      "reload(evm)"
     ],
     "language": "python",
     "metadata": {},
     "outputs": [
      {
       "metadata": {},
       "output_type": "pyout",
       "prompt_number": 2,
       "text": [
        "<module 'disaggregator.evaluation_metrics' from '../../disaggregator/evaluation_metrics.pyc'>"
       ]
      }
     ],
     "prompt_number": 2
    },
    {
     "cell_type": "code",
     "collapsed": false,
     "input": [
      "traces = pickle.load(open(os.path.join('../../','data/ev_and_air_validated_05_2014.p'),'rb'))"
     ],
     "language": "python",
     "metadata": {},
     "outputs": [],
     "prompt_number": 3
    },
    {
     "cell_type": "code",
     "collapsed": false,
     "input": [
      "len(traces)"
     ],
     "language": "python",
     "metadata": {},
     "outputs": [
      {
       "metadata": {},
       "output_type": "pyout",
       "prompt_number": 4,
       "text": [
        "47"
       ]
      }
     ],
     "prompt_number": 4
    },
    {
     "cell_type": "code",
     "collapsed": false,
     "input": [
      "len(traces[0])"
     ],
     "language": "python",
     "metadata": {},
     "outputs": [
      {
       "metadata": {},
       "output_type": "pyout",
       "prompt_number": 5,
       "text": [
        "2"
       ]
      }
     ],
     "prompt_number": 5
    },
    {
     "cell_type": "code",
     "collapsed": false,
     "input": [],
     "language": "python",
     "metadata": {},
     "outputs": []
    }
   ],
   "metadata": {}
  }
 ]
}