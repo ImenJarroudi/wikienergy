{
 "metadata": {
  "name": "",
  "signature": "sha256:c5bd0af275ec4671e285f9231968cf6a6b1e2ebd88d23a4ea1aafb8d66845b4e"
 },
 "nbformat": 3,
 "nbformat_minor": 0,
 "worksheets": [
  {
   "cells": [
    {
     "cell_type": "code",
     "collapsed": false,
     "input": [
      "\n",
      "from sklearn import svm\n",
      "import pandas as pd\n",
      "import sys\n",
      "import pickle\n",
      "import os\n",
      "import numpy as np\n",
      "from sklearn.preprocessing import Imputer\n",
      "from sklearn import preprocessing\n",
      "sys.path.append('../../')\n",
      "import disaggregator.utils as utils\n",
      "import matplotlib.pyplot as plt\n",
      "import itertools\n",
      "from sklearn.decomposition import PCA\n",
      "import fold\n",
      "from disaggregator import appliance\n",
      "from disaggregator import evaluation_metrics as evm\n",
      "import disaggregator as da"
     ],
     "language": "python",
     "metadata": {},
     "outputs": [
      {
       "output_type": "stream",
       "stream": "stderr",
       "text": [
        "/Users/sabina/anaconda/lib/python2.7/site-packages/pandas/io/excel.py:626: UserWarning: Installed openpyxl is not supported at this time. Use >=1.6.1 and <2.0.0.\n",
        "  .format(openpyxl_compat.start_ver, openpyxl_compat.stop_ver))\n"
       ]
      }
     ],
     "prompt_number": 1
    },
    {
     "cell_type": "code",
     "collapsed": false,
     "input": [
      "reload(utils)\n",
      "reload(appliance)\n",
      "reload(fold)\n",
      "reload(evm)"
     ],
     "language": "python",
     "metadata": {},
     "outputs": [
      {
       "metadata": {},
       "output_type": "pyout",
       "prompt_number": 3,
       "text": [
        "<module 'disaggregator.evaluation_metrics' from '../../disaggregator/evaluation_metrics.pyc'>"
       ]
      }
     ],
     "prompt_number": 3
    },
    {
     "cell_type": "code",
     "collapsed": false,
     "input": [
      "use_traces = pickle.load(open(os.path.join('../../','data/use_validated_05_2014.p'),'rb'))"
     ],
     "language": "python",
     "metadata": {},
     "outputs": [],
     "prompt_number": 4
    },
    {
     "cell_type": "code",
     "collapsed": false,
     "input": [
      "ev_traces = pickle.load((open(os.path.join('../../','data/car1_validated_05_2014.p'),'rb')))"
     ],
     "language": "python",
     "metadata": {},
     "outputs": [],
     "prompt_number": 6
    },
    {
     "cell_type": "code",
     "collapsed": false,
     "input": [
      "#test = [utils.split_trace_into_rate(x,'D') for x in ev_traces]"
     ],
     "language": "python",
     "metadata": {},
     "outputs": [],
     "prompt_number": 36
    },
    {
     "cell_type": "code",
     "collapsed": false,
     "input": [
      "len(use_traces)"
     ],
     "language": "python",
     "metadata": {},
     "outputs": [
      {
       "metadata": {},
       "output_type": "pyout",
       "prompt_number": 7,
       "text": [
        "200"
       ]
      }
     ],
     "prompt_number": 7
    },
    {
     "cell_type": "code",
     "collapsed": false,
     "input": [
      "len(ev_traces)"
     ],
     "language": "python",
     "metadata": {},
     "outputs": [
      {
       "metadata": {},
       "output_type": "pyout",
       "prompt_number": 8,
       "text": [
        "47"
       ]
      }
     ],
     "prompt_number": 8
    },
    {
     "cell_type": "code",
     "collapsed": false,
     "input": [
      "car_ids = [car.metadata['dataid'] for car in ev_traces]"
     ],
     "language": "python",
     "metadata": {},
     "outputs": [],
     "prompt_number": 12
    },
    {
     "cell_type": "code",
     "collapsed": false,
     "input": [
      "all_ids = [use.metadata['dataid'] for use in use_traces]"
     ],
     "language": "python",
     "metadata": {},
     "outputs": [],
     "prompt_number": 13
    },
    {
     "cell_type": "code",
     "collapsed": false,
     "input": [
      "X_ev = [x for x in ev_traces if not (all(y is None for y in x.series))]"
     ],
     "language": "python",
     "metadata": {},
     "outputs": [],
     "prompt_number": 14
    },
    {
     "cell_type": "code",
     "collapsed": false,
     "input": [
      "X_ev = [x.resample('1T') for x in ev_traces]"
     ],
     "language": "python",
     "metadata": {},
     "outputs": [],
     "prompt_number": 29
    },
    {
     "cell_type": "code",
     "collapsed": false,
     "input": [
      "X_cars = []\n",
      "X_without_cars = []\n",
      "for x in use_traces:\n",
      "    if x.metadata['dataid'] in car_ids:\n",
      "        X_cars.append(x)\n",
      "    else:\n",
      "        X_without_cars.append(x)"
     ],
     "language": "python",
     "metadata": {},
     "outputs": [],
     "prompt_number": 31
    },
    {
     "cell_type": "code",
     "collapsed": false,
     "input": [
      "equal_class_size = [x for x in X_without_cars[:47]]"
     ],
     "language": "python",
     "metadata": {},
     "outputs": [],
     "prompt_number": 36
    },
    {
     "cell_type": "code",
     "collapsed": false,
     "input": [
      "len(equal_class_size)"
     ],
     "language": "python",
     "metadata": {},
     "outputs": [
      {
       "metadata": {},
       "output_type": "pyout",
       "prompt_number": 37,
       "text": [
        "47"
       ]
      }
     ],
     "prompt_number": 37
    },
    {
     "cell_type": "code",
     "collapsed": false,
     "input": [
      "#X_ev = [a.series for a in ev_traces]\n",
      "#X_air = [a.series for a in air_traces]"
     ],
     "language": "python",
     "metadata": {},
     "outputs": [],
     "prompt_number": 12
    },
    {
     "cell_type": "code",
     "collapsed": false,
     "input": [
      "#drop nones from traces\n",
      "X_ev= [x for x in ev_traces if not (all(y is None for y in x.series))]\n",
      "X_air = [x for x in air_traces if not (all(y is None for y in x.series))]"
     ],
     "language": "python",
     "metadata": {},
     "outputs": [],
     "prompt_number": 5
    },
    {
     "cell_type": "code",
     "collapsed": false,
     "input": [
      "#drop nones using resample\n",
      "class_cars = [x.resample('1T') for x in X_cars]\n",
      "class_no_cars = [x.resample('1T') for x in equal_class_size] "
     ],
     "language": "python",
     "metadata": {},
     "outputs": [],
     "prompt_number": 115
    },
    {
     "cell_type": "code",
     "collapsed": false,
     "input": [
      "1440*31"
     ],
     "language": "python",
     "metadata": {},
     "outputs": [
      {
       "metadata": {},
       "output_type": "pyout",
       "prompt_number": 117,
       "text": [
        "44640"
       ]
      }
     ],
     "prompt_number": 117
    },
    {
     "cell_type": "code",
     "collapsed": false,
     "input": [
      "#split into days\n",
      "class_cars = [x.split_by('D') for x in class_cars]"
     ],
     "language": "python",
     "metadata": {},
     "outputs": [],
     "prompt_number": 120
    },
    {
     "cell_type": "code",
     "collapsed": false,
     "input": [
      "class_no_cars = [x.split_by('D') for x in class_no_cars]"
     ],
     "language": "python",
     "metadata": {},
     "outputs": [],
     "prompt_number": 121
    },
    {
     "cell_type": "code",
     "collapsed": false,
     "input": [
      "for home in class_cars:\n",
      "    for day in home:\n",
      "        if len(day.series)!=1440:\n",
      "            print day.series.index[0]"
     ],
     "language": "python",
     "metadata": {},
     "outputs": [
      {
       "output_type": "stream",
       "stream": "stdout",
       "text": [
        "2014-05-31 00:00:00\n",
        "2014-05-31 00:00:00\n",
        "2014-05-31 00:00:00\n",
        "2014-05-31 00:00:00\n",
        "2014-05-29 00:00:00\n",
        "2014-05-31 00:00:00\n",
        "2014-05-31 00:00:00\n",
        "2014-05-31 00:00:00\n",
        "2014-05-31 00:00:00\n",
        "2014-05-31 00:00:00\n",
        "2014-05-31 00:00:00\n",
        "2014-05-31 00:00:00\n",
        "2014-05-31 00:00:00\n",
        "2014-05-31 00:00:00\n",
        "2014-05-31 00:00:00\n",
        "2014-05-31 00:00:00\n",
        "2014-05-31 00:00:00\n",
        "2014-05-31 00:00:00\n",
        "2014-05-31 00:00:00\n",
        "2014-05-31 00:00:00\n",
        "2014-05-31 00:00:00\n",
        "2014-05-31 00:00:00\n",
        "2014-05-31 00:00:00\n",
        "2014-05-31 00:00:00\n",
        "2014-05-31 00:00:00\n",
        "2014-05-31 00:00:00\n",
        "2014-05-31 00:00:00\n",
        "2014-05-31 00:00:00\n",
        "2014-05-31 00:00:00\n",
        "2014-05-31 00:00:00\n",
        "2014-05-31 00:00:00\n",
        "2014-05-27 00:00:00\n",
        "2014-05-31 00:00:00\n",
        "2014-05-13 00:00:00\n",
        "2014-05-31 00:00:00\n",
        "2014-05-31 00:00:00\n",
        "2014-05-31 00:00:00\n",
        "2014-05-31 00:00:00\n",
        "2014-05-31 00:00:00\n",
        "2014-05-31 00:00:00\n",
        "2014-05-12 00:00:00\n",
        "2014-05-31 00:00:00\n",
        "2014-05-31 00:00:00\n",
        "2014-05-31 00:00:00\n",
        "2014-05-31 00:00:00\n",
        "2014-05-31 00:00:00\n",
        "2014-05-31 00:00:00\n"
       ]
      }
     ],
     "prompt_number": 122
    },
    {
     "cell_type": "code",
     "collapsed": false,
     "input": [
      "1140/60"
     ],
     "language": "python",
     "metadata": {},
     "outputs": [
      {
       "metadata": {},
       "output_type": "pyout",
       "prompt_number": 88,
       "text": [
        "19"
       ]
      }
     ],
     "prompt_number": 88
    },
    {
     "cell_type": "code",
     "collapsed": false,
     "input": [
      "\n",
      "new_yay = [car[:30] for car in class_cars]"
     ],
     "language": "python",
     "metadata": {},
     "outputs": [],
     "prompt_number": 95
    },
    {
     "cell_type": "code",
     "collapsed": false,
     "input": [
      "len(new_yay[0][0].series)"
     ],
     "language": "python",
     "metadata": {},
     "outputs": [
      {
       "metadata": {},
       "output_type": "pyout",
       "prompt_number": 99,
       "text": [
        "1440"
       ]
      }
     ],
     "prompt_number": 99
    },
    {
     "cell_type": "code",
     "collapsed": false,
     "input": [
      "class_cars = [car[:30] for car in class_cars]\n",
      "class_no_cars = [house[:30] for house in class_no_cars] "
     ],
     "language": "python",
     "metadata": {},
     "outputs": [],
     "prompt_number": 100
    },
    {
     "cell_type": "code",
     "collapsed": false,
     "input": [
      "\n",
      "chain_class_cars = list(itertools.chain(*class_cars))\n",
      "chain_class_no_cars = list(itertools.chain(*class_no_cars))"
     ],
     "language": "python",
     "metadata": {},
     "outputs": [],
     "prompt_number": 101
    },
    {
     "cell_type": "code",
     "collapsed": false,
     "input": [
      "for idx,e in enumerate(chain_class_cars):\n",
      "    if len(e.series)!=1440:\n",
      "        print idx"
     ],
     "language": "python",
     "metadata": {},
     "outputs": [
      {
       "output_type": "stream",
       "stream": "stdout",
       "text": [
        "148\n",
        "955\n",
        "998\n",
        "1190\n"
       ]
      }
     ],
     "prompt_number": 114
    },
    {
     "cell_type": "code",
     "collapsed": false,
     "input": [
      "type(chain_class_cars[0])"
     ],
     "language": "python",
     "metadata": {},
     "outputs": [
      {
       "metadata": {},
       "output_type": "pyout",
       "prompt_number": 112,
       "text": [
        "disaggregator.appliance.ApplianceTrace"
       ]
      }
     ],
     "prompt_number": 112
    },
    {
     "cell_type": "code",
     "collapsed": false,
     "input": [
      "reload(fold)\n",
      "a,b,c,d= fold.folds(chain_class_cars,class_no_cars,5)"
     ],
     "language": "python",
     "metadata": {},
     "outputs": [],
     "prompt_number": 44
    },
    {
     "cell_type": "code",
     "collapsed": false,
     "input": [
      "31*47"
     ],
     "language": "python",
     "metadata": {},
     "outputs": [
      {
       "metadata": {},
       "output_type": "pyout",
       "prompt_number": 77,
       "text": [
        "1457"
       ]
      }
     ],
     "prompt_number": 77
    },
    {
     "cell_type": "code",
     "collapsed": false,
     "input": [
      "#ta,tb,tc,td = fold.folds(np.ones(20),np.zeros(20),5)"
     ],
     "language": "python",
     "metadata": {},
     "outputs": [],
     "prompt_number": 45
    },
    {
     "cell_type": "code",
     "collapsed": false,
     "input": [
      "len(d[0])"
     ],
     "language": "python",
     "metadata": {},
     "outputs": [
      {
       "metadata": {},
       "output_type": "pyout",
       "prompt_number": 66,
       "text": [
        "1488"
       ]
      }
     ],
     "prompt_number": 66
    },
    {
     "cell_type": "code",
     "collapsed": false,
     "input": [
      "#set up scaler\n",
      "imp = Imputer(missing_values='NaN', strategy='mean', axis=0)\n",
      "X_train = [x.series for x in a[0]]\n",
      "imp.fit(X_train)  \n",
      "new_X = imp.transform(X_train)\n",
      "scaler = preprocessing.StandardScaler().fit(new_X)"
     ],
     "language": "python",
     "metadata": {},
     "outputs": [],
     "prompt_number": 130
    },
    {
     "cell_type": "code",
     "collapsed": false,
     "input": [
      "#FIX ALL THE FOLDS FIRST - this makes way more sense to do it the other way but oh well for now\n",
      "#returns fixed version\n",
      "def fix(x_list):\n",
      "    list_return=[]\n",
      "    imp = Imputer(missing_values='NaN', strategy='mean', axis=0)\n",
      "    for i,train_x in enumerate(x_list):\n",
      "        X_train = [x.series for x in train_x]\n",
      "        imp.fit(X_train)  \n",
      "        new_X = imp.transform(X_train)\n",
      "        new_X = scaler.transform(new_X)\n",
      "        list_return.append(new_X)\n",
      "    return list_return"
     ],
     "language": "python",
     "metadata": {},
     "outputs": [],
     "prompt_number": 138
    },
    {
     "cell_type": "code",
     "collapsed": false,
     "input": [
      "#X = list(itertools.chain(*X_air))+list(itertools.chain(*X_ev))"
     ],
     "language": "python",
     "metadata": {},
     "outputs": [],
     "prompt_number": 127
    },
    {
     "cell_type": "code",
     "collapsed": false,
     "input": [
      "#set up\n",
      "fixed_train = fix(a)\n",
      "#fixed_test = fix(c)"
     ],
     "language": "python",
     "metadata": {},
     "outputs": [],
     "prompt_number": 139
    },
    {
     "cell_type": "code",
     "collapsed": false,
     "input": [
      "len(fixed_train)"
     ],
     "language": "python",
     "metadata": {},
     "outputs": [
      {
       "metadata": {},
       "output_type": "pyout",
       "prompt_number": 140,
       "text": [
        "5"
       ]
      }
     ],
     "prompt_number": 140
    },
    {
     "cell_type": "code",
     "collapsed": false,
     "input": [
      "fixed_test = fix(c)"
     ],
     "language": "python",
     "metadata": {},
     "outputs": [],
     "prompt_number": 141
    },
    {
     "cell_type": "code",
     "collapsed": false,
     "input": [
      "clf = svm.SVC(gamma = .1)"
     ],
     "language": "python",
     "metadata": {},
     "outputs": [],
     "prompt_number": 147
    },
    {
     "cell_type": "code",
     "collapsed": false,
     "input": [
      "clf.fit(fixed_train[0],b[0])"
     ],
     "language": "python",
     "metadata": {},
     "outputs": [
      {
       "metadata": {},
       "output_type": "pyout",
       "prompt_number": 71,
       "text": [
        "SVC(C=1.0, cache_size=200, class_weight=None, coef0=2, degree=3, gamma=0.1,\n",
        "  kernel='rbf', max_iter=-1, probability=False, random_state=None,\n",
        "  shrinking=True, tol=0.001, verbose=False)"
       ]
      }
     ],
     "prompt_number": 71
    },
    {
     "cell_type": "code",
     "collapsed": false,
     "input": [
      "predictions = clf.predict(fixed_test[0])"
     ],
     "language": "python",
     "metadata": {},
     "outputs": [],
     "prompt_number": 72
    },
    {
     "cell_type": "code",
     "collapsed": false,
     "input": [
      "stats = evm.get_positive_negative_stats_neg(d[0], predictions)"
     ],
     "language": "python",
     "metadata": {},
     "outputs": [],
     "prompt_number": 109
    },
    {
     "cell_type": "code",
     "collapsed": false,
     "input": [
      "print(evm.get_table_of_confusion(stats))"
     ],
     "language": "python",
     "metadata": {},
     "outputs": [
      {
       "output_type": "stream",
       "stream": "stdout",
       "text": [
        "+----------+------------+------------+\n",
        "|          |   Positive |   Negative |\n",
        "+==========+============+============+\n",
        "| Positive |        290 |        171 |\n",
        "+----------+------------+------------+\n",
        "| Negative |         82 |        945 |\n",
        "+----------+------------+------------+\n"
       ]
      }
     ],
     "prompt_number": 110
    },
    {
     "cell_type": "code",
     "collapsed": false,
     "input": [
      "print(evm.get_accuracy(stats))\n",
      "print(evm.get_f1_score(stats))"
     ],
     "language": "python",
     "metadata": {},
     "outputs": [
      {
       "output_type": "stream",
       "stream": "stdout",
       "text": [
        "0.82997311828\n",
        "0.696278511405\n"
       ]
      }
     ],
     "prompt_number": 112
    },
    {
     "cell_type": "code",
     "collapsed": false,
     "input": [
      "clf.fit(fixed_train[0],b[0])"
     ],
     "language": "python",
     "metadata": {},
     "outputs": [
      {
       "metadata": {},
       "output_type": "pyout",
       "prompt_number": 115,
       "text": [
        "SVC(C=1.0, cache_size=200, class_weight=None, coef0=2, degree=3, gamma=0.1,\n",
        "  kernel='rbf', max_iter=-1, probability=False, random_state=None,\n",
        "  shrinking=True, tol=0.001, verbose=False)"
       ]
      }
     ],
     "prompt_number": 115
    },
    {
     "cell_type": "code",
     "collapsed": false,
     "input": [
      "#cross validate!!!\n",
      "def test_with_diff_params(g):\n",
      "    clf = svm.SVC(gamma = g)\n",
      "    errors = []\n",
      "    stats_all = []\n",
      "    for i in range(5):\n",
      "        clf.fit(fixed_train[i],b[i])\n",
      "        predictions = clf.predict(fixed_test[i])\n",
      "        stats = evm.get_positive_negative_stats_neg(d[i], predictions)\n",
      "        errors.append(1-float(evm.get_accuracy(stats)))\n",
      "        stats_all.append(stats) \n",
      "    return errors,stats_all"
     ],
     "language": "python",
     "metadata": {},
     "outputs": [],
     "prompt_number": 151
    },
    {
     "cell_type": "code",
     "collapsed": false,
     "input": [
      "st = {}\n",
      "err = {}\n"
     ],
     "language": "python",
     "metadata": {},
     "outputs": [],
     "prompt_number": 148
    },
    {
     "cell_type": "code",
     "collapsed": false,
     "input": [
      "for gam in range(1,11,1):\n",
      "    errs,st_all = test_with_diff_params(float(gam)/14000)\n",
      "    st[gam]=st_all\n",
      "    err[gam]=errs"
     ],
     "language": "python",
     "metadata": {},
     "outputs": [],
     "prompt_number": 178
    },
    {
     "cell_type": "code",
     "collapsed": false,
     "input": [
      "\n",
      "for e in err.values():\n",
      "    print np.array(e).mean()\n",
      "    "
     ],
     "language": "python",
     "metadata": {},
     "outputs": [
      {
       "output_type": "stream",
       "stream": "stdout",
       "text": [
        "0.146774193548\n",
        "0.131720430108\n",
        "0.124327956989\n",
        "0.11935483871\n",
        "0.116532258065\n",
        "0.114247311828\n",
        "0.112903225806\n",
        "0.1125\n",
        "0.111962365591\n",
        "0.110349462366\n"
       ]
      }
     ],
     "prompt_number": 177
    },
    {
     "cell_type": "code",
     "collapsed": false,
     "input": [
      "err.values()"
     ],
     "language": "python",
     "metadata": {},
     "outputs": [
      {
       "metadata": {},
       "output_type": "pyout",
       "prompt_number": 161,
       "text": [
        "[[{'fn': array([0, 0, 0, ..., 0, 0, 0]),\n",
        "   'fp': array([0, 0, 0, ..., 0, 0, 0]),\n",
        "   'tn': array([1, 1, 1, ..., 0, 0, 0]),\n",
        "   'tp': array([0, 0, 0, ..., 1, 1, 1])},\n",
        "  {'fn': array([0, 0, 0, ..., 1, 1, 0]),\n",
        "   'fp': array([0, 0, 0, ..., 0, 0, 0]),\n",
        "   'tn': array([1, 1, 1, ..., 0, 0, 0]),\n",
        "   'tp': array([0, 0, 0, ..., 0, 0, 1])},\n",
        "  {'fn': array([0, 0, 0, ..., 0, 0, 0]),\n",
        "   'fp': array([0, 0, 0, ..., 0, 0, 0]),\n",
        "   'tn': array([1, 1, 1, ..., 0, 0, 0]),\n",
        "   'tp': array([0, 0, 0, ..., 1, 1, 1])},\n",
        "  {'fn': array([0, 0, 0, ..., 0, 0, 0]),\n",
        "   'fp': array([0, 0, 0, ..., 0, 0, 0]),\n",
        "   'tn': array([1, 1, 1, ..., 0, 0, 0]),\n",
        "   'tp': array([0, 0, 0, ..., 1, 1, 1])},\n",
        "  {'fn': array([0, 0, 0, ..., 0, 0, 0]),\n",
        "   'fp': array([0, 0, 0, ..., 0, 0, 0]),\n",
        "   'tn': array([1, 1, 1, ..., 0, 0, 0]),\n",
        "   'tp': array([0, 0, 0, ..., 1, 1, 1])}],\n",
        " [{'fn': array([0, 0, 0, ..., 0, 0, 0]),\n",
        "   'fp': array([0, 0, 0, ..., 0, 0, 0]),\n",
        "   'tn': array([1, 1, 1, ..., 0, 0, 0]),\n",
        "   'tp': array([0, 0, 0, ..., 1, 1, 1])},\n",
        "  {'fn': array([0, 0, 0, ..., 1, 1, 0]),\n",
        "   'fp': array([0, 0, 0, ..., 0, 0, 0]),\n",
        "   'tn': array([1, 1, 1, ..., 0, 0, 0]),\n",
        "   'tp': array([0, 0, 0, ..., 0, 0, 1])},\n",
        "  {'fn': array([0, 0, 0, ..., 0, 0, 0]),\n",
        "   'fp': array([0, 0, 0, ..., 0, 0, 0]),\n",
        "   'tn': array([1, 1, 1, ..., 0, 0, 0]),\n",
        "   'tp': array([0, 0, 0, ..., 1, 1, 1])},\n",
        "  {'fn': array([0, 0, 0, ..., 0, 0, 0]),\n",
        "   'fp': array([0, 0, 0, ..., 0, 0, 0]),\n",
        "   'tn': array([1, 1, 1, ..., 0, 0, 0]),\n",
        "   'tp': array([0, 0, 0, ..., 1, 1, 1])},\n",
        "  {'fn': array([0, 0, 0, ..., 0, 0, 0]),\n",
        "   'fp': array([0, 0, 0, ..., 0, 0, 0]),\n",
        "   'tn': array([1, 1, 1, ..., 0, 0, 0]),\n",
        "   'tp': array([0, 0, 0, ..., 1, 1, 1])}],\n",
        " [{'fn': array([0, 0, 0, ..., 0, 0, 0]),\n",
        "   'fp': array([0, 0, 0, ..., 0, 0, 0]),\n",
        "   'tn': array([1, 1, 1, ..., 0, 0, 0]),\n",
        "   'tp': array([0, 0, 0, ..., 1, 1, 1])},\n",
        "  {'fn': array([0, 0, 0, ..., 1, 1, 0]),\n",
        "   'fp': array([0, 0, 0, ..., 0, 0, 0]),\n",
        "   'tn': array([1, 1, 1, ..., 0, 0, 0]),\n",
        "   'tp': array([0, 0, 0, ..., 0, 0, 1])},\n",
        "  {'fn': array([0, 0, 0, ..., 0, 0, 0]),\n",
        "   'fp': array([0, 0, 0, ..., 0, 0, 0]),\n",
        "   'tn': array([1, 1, 1, ..., 0, 0, 0]),\n",
        "   'tp': array([0, 0, 0, ..., 1, 1, 1])},\n",
        "  {'fn': array([0, 0, 0, ..., 0, 0, 0]),\n",
        "   'fp': array([0, 0, 0, ..., 0, 0, 0]),\n",
        "   'tn': array([1, 1, 1, ..., 0, 0, 0]),\n",
        "   'tp': array([0, 0, 0, ..., 1, 1, 1])},\n",
        "  {'fn': array([0, 0, 0, ..., 0, 0, 0]),\n",
        "   'fp': array([0, 0, 0, ..., 0, 0, 0]),\n",
        "   'tn': array([1, 1, 1, ..., 0, 0, 0]),\n",
        "   'tp': array([0, 0, 0, ..., 1, 1, 1])}],\n",
        " [{'fn': array([0, 0, 0, ..., 0, 0, 0]),\n",
        "   'fp': array([0, 0, 0, ..., 0, 0, 0]),\n",
        "   'tn': array([1, 1, 1, ..., 0, 0, 0]),\n",
        "   'tp': array([0, 0, 0, ..., 1, 1, 1])},\n",
        "  {'fn': array([0, 0, 0, ..., 1, 1, 0]),\n",
        "   'fp': array([0, 0, 0, ..., 0, 0, 0]),\n",
        "   'tn': array([1, 1, 1, ..., 0, 0, 0]),\n",
        "   'tp': array([0, 0, 0, ..., 0, 0, 1])},\n",
        "  {'fn': array([0, 0, 0, ..., 0, 0, 0]),\n",
        "   'fp': array([0, 0, 0, ..., 0, 0, 0]),\n",
        "   'tn': array([1, 1, 1, ..., 0, 0, 0]),\n",
        "   'tp': array([0, 0, 0, ..., 1, 1, 1])},\n",
        "  {'fn': array([0, 0, 0, ..., 0, 0, 0]),\n",
        "   'fp': array([0, 0, 0, ..., 0, 0, 0]),\n",
        "   'tn': array([1, 1, 1, ..., 0, 0, 0]),\n",
        "   'tp': array([0, 0, 0, ..., 1, 1, 1])},\n",
        "  {'fn': array([0, 0, 0, ..., 0, 0, 0]),\n",
        "   'fp': array([0, 0, 0, ..., 0, 0, 0]),\n",
        "   'tn': array([1, 1, 1, ..., 0, 0, 0]),\n",
        "   'tp': array([0, 0, 0, ..., 1, 1, 1])}],\n",
        " [{'fn': array([0, 0, 0, ..., 0, 0, 0]),\n",
        "   'fp': array([0, 0, 0, ..., 0, 0, 0]),\n",
        "   'tn': array([1, 1, 1, ..., 0, 0, 0]),\n",
        "   'tp': array([0, 0, 0, ..., 1, 1, 1])},\n",
        "  {'fn': array([0, 0, 0, ..., 1, 1, 0]),\n",
        "   'fp': array([0, 0, 0, ..., 0, 0, 0]),\n",
        "   'tn': array([1, 1, 1, ..., 0, 0, 0]),\n",
        "   'tp': array([0, 0, 0, ..., 0, 0, 1])},\n",
        "  {'fn': array([0, 0, 0, ..., 0, 0, 0]),\n",
        "   'fp': array([0, 0, 0, ..., 0, 0, 0]),\n",
        "   'tn': array([1, 1, 1, ..., 0, 0, 0]),\n",
        "   'tp': array([0, 0, 0, ..., 1, 1, 1])},\n",
        "  {'fn': array([0, 0, 0, ..., 0, 0, 0]),\n",
        "   'fp': array([0, 0, 0, ..., 0, 0, 0]),\n",
        "   'tn': array([1, 1, 1, ..., 0, 0, 0]),\n",
        "   'tp': array([0, 0, 0, ..., 1, 1, 1])},\n",
        "  {'fn': array([0, 0, 0, ..., 0, 0, 0]),\n",
        "   'fp': array([0, 0, 0, ..., 0, 0, 0]),\n",
        "   'tn': array([1, 1, 1, ..., 0, 0, 0]),\n",
        "   'tp': array([0, 0, 0, ..., 1, 1, 1])}],\n",
        " [{'fn': array([0, 0, 0, ..., 0, 0, 0]),\n",
        "   'fp': array([0, 0, 0, ..., 0, 0, 0]),\n",
        "   'tn': array([1, 1, 1, ..., 0, 0, 0]),\n",
        "   'tp': array([0, 0, 0, ..., 1, 1, 1])},\n",
        "  {'fn': array([0, 0, 0, ..., 1, 1, 0]),\n",
        "   'fp': array([0, 0, 0, ..., 0, 0, 0]),\n",
        "   'tn': array([1, 1, 1, ..., 0, 0, 0]),\n",
        "   'tp': array([0, 0, 0, ..., 0, 0, 1])},\n",
        "  {'fn': array([0, 0, 0, ..., 0, 0, 0]),\n",
        "   'fp': array([0, 0, 0, ..., 0, 0, 0]),\n",
        "   'tn': array([1, 1, 1, ..., 0, 0, 0]),\n",
        "   'tp': array([0, 0, 0, ..., 1, 1, 1])},\n",
        "  {'fn': array([0, 0, 0, ..., 0, 0, 0]),\n",
        "   'fp': array([0, 0, 0, ..., 0, 0, 0]),\n",
        "   'tn': array([1, 1, 1, ..., 0, 0, 0]),\n",
        "   'tp': array([0, 0, 0, ..., 1, 1, 1])},\n",
        "  {'fn': array([0, 0, 0, ..., 0, 0, 0]),\n",
        "   'fp': array([0, 0, 0, ..., 0, 0, 0]),\n",
        "   'tn': array([1, 1, 1, ..., 0, 0, 0]),\n",
        "   'tp': array([0, 0, 0, ..., 1, 1, 1])}],\n",
        " [{'fn': array([0, 0, 0, ..., 0, 0, 0]),\n",
        "   'fp': array([0, 0, 0, ..., 0, 0, 0]),\n",
        "   'tn': array([1, 1, 1, ..., 0, 0, 0]),\n",
        "   'tp': array([0, 0, 0, ..., 1, 1, 1])},\n",
        "  {'fn': array([0, 0, 0, ..., 1, 1, 0]),\n",
        "   'fp': array([0, 0, 0, ..., 0, 0, 0]),\n",
        "   'tn': array([1, 1, 1, ..., 0, 0, 0]),\n",
        "   'tp': array([0, 0, 0, ..., 0, 0, 1])},\n",
        "  {'fn': array([0, 0, 0, ..., 0, 0, 0]),\n",
        "   'fp': array([0, 0, 0, ..., 0, 0, 0]),\n",
        "   'tn': array([1, 1, 1, ..., 0, 0, 0]),\n",
        "   'tp': array([0, 0, 0, ..., 1, 1, 1])},\n",
        "  {'fn': array([0, 0, 0, ..., 0, 0, 0]),\n",
        "   'fp': array([0, 0, 0, ..., 0, 0, 0]),\n",
        "   'tn': array([1, 1, 1, ..., 0, 0, 0]),\n",
        "   'tp': array([0, 0, 0, ..., 1, 1, 1])},\n",
        "  {'fn': array([0, 0, 0, ..., 0, 0, 0]),\n",
        "   'fp': array([0, 0, 0, ..., 0, 0, 0]),\n",
        "   'tn': array([1, 1, 1, ..., 0, 0, 0]),\n",
        "   'tp': array([0, 0, 0, ..., 1, 1, 1])}],\n",
        " [{'fn': array([0, 0, 0, ..., 0, 0, 0]),\n",
        "   'fp': array([0, 0, 0, ..., 0, 0, 0]),\n",
        "   'tn': array([1, 1, 1, ..., 0, 0, 0]),\n",
        "   'tp': array([0, 0, 0, ..., 1, 1, 1])},\n",
        "  {'fn': array([0, 0, 0, ..., 1, 1, 0]),\n",
        "   'fp': array([0, 0, 0, ..., 0, 0, 0]),\n",
        "   'tn': array([1, 1, 1, ..., 0, 0, 0]),\n",
        "   'tp': array([0, 0, 0, ..., 0, 0, 1])},\n",
        "  {'fn': array([0, 0, 0, ..., 0, 0, 0]),\n",
        "   'fp': array([0, 0, 0, ..., 0, 0, 0]),\n",
        "   'tn': array([1, 1, 1, ..., 0, 0, 0]),\n",
        "   'tp': array([0, 0, 0, ..., 1, 1, 1])},\n",
        "  {'fn': array([0, 0, 0, ..., 0, 0, 0]),\n",
        "   'fp': array([0, 0, 0, ..., 0, 0, 0]),\n",
        "   'tn': array([1, 1, 1, ..., 0, 0, 0]),\n",
        "   'tp': array([0, 0, 0, ..., 1, 1, 1])},\n",
        "  {'fn': array([0, 0, 0, ..., 0, 0, 0]),\n",
        "   'fp': array([0, 0, 0, ..., 0, 0, 0]),\n",
        "   'tn': array([1, 1, 1, ..., 0, 0, 0]),\n",
        "   'tp': array([0, 0, 0, ..., 1, 1, 1])}],\n",
        " [{'fn': array([0, 0, 0, ..., 0, 0, 0]),\n",
        "   'fp': array([0, 0, 0, ..., 0, 0, 0]),\n",
        "   'tn': array([1, 1, 1, ..., 0, 0, 0]),\n",
        "   'tp': array([0, 0, 0, ..., 1, 1, 1])},\n",
        "  {'fn': array([0, 0, 0, ..., 1, 1, 0]),\n",
        "   'fp': array([0, 0, 0, ..., 0, 0, 0]),\n",
        "   'tn': array([1, 1, 1, ..., 0, 0, 0]),\n",
        "   'tp': array([0, 0, 0, ..., 0, 0, 1])},\n",
        "  {'fn': array([0, 0, 0, ..., 0, 0, 0]),\n",
        "   'fp': array([0, 0, 0, ..., 0, 0, 0]),\n",
        "   'tn': array([1, 1, 1, ..., 0, 0, 0]),\n",
        "   'tp': array([0, 0, 0, ..., 1, 1, 1])},\n",
        "  {'fn': array([0, 0, 0, ..., 0, 0, 0]),\n",
        "   'fp': array([0, 0, 0, ..., 0, 0, 0]),\n",
        "   'tn': array([1, 1, 1, ..., 0, 0, 0]),\n",
        "   'tp': array([0, 0, 0, ..., 1, 1, 1])},\n",
        "  {'fn': array([0, 0, 0, ..., 0, 0, 0]),\n",
        "   'fp': array([0, 0, 0, ..., 0, 0, 0]),\n",
        "   'tn': array([1, 1, 1, ..., 0, 0, 0]),\n",
        "   'tp': array([0, 0, 0, ..., 1, 1, 1])}]]"
       ]
      }
     ],
     "prompt_number": 161
    },
    {
     "cell_type": "code",
     "collapsed": false,
     "input": [
      "y_ev = [1 for a in list(itertools.chain(*X_ev))]\n",
      "y_air = [0 for a in list(itertools.chain(*X_air))] \n",
      "y = y_air+y_ev"
     ],
     "language": "python",
     "metadata": {},
     "outputs": [],
     "prompt_number": 10
    },
    {
     "cell_type": "code",
     "collapsed": false,
     "input": [
      "t = []\n",
      "#t.append([1 for i in range(5)])\n",
      "#for i in range(len(y_ev)):\n",
      "[t.append(1) for i in range(5)]"
     ],
     "language": "python",
     "metadata": {},
     "outputs": [
      {
       "metadata": {},
       "output_type": "pyout",
       "prompt_number": 23,
       "text": [
        "[None, None, None, None, None]"
       ]
      }
     ],
     "prompt_number": 23
    },
    {
     "cell_type": "code",
     "collapsed": false,
     "input": [
      "t"
     ],
     "language": "python",
     "metadata": {},
     "outputs": [
      {
       "metadata": {},
       "output_type": "pyout",
       "prompt_number": 24,
       "text": [
        "[1, 1, 1, 1, 1]"
       ]
      }
     ],
     "prompt_number": 24
    },
    {
     "cell_type": "code",
     "collapsed": false,
     "input": [
      "X = [x.series for x in X]"
     ],
     "language": "python",
     "metadata": {},
     "outputs": [],
     "prompt_number": 11
    },
    {
     "cell_type": "code",
     "collapsed": false,
     "input": [
      "imp = Imputer(missing_values='NaN', strategy='mean', axis=0)"
     ],
     "language": "python",
     "metadata": {},
     "outputs": [],
     "prompt_number": 12
    },
    {
     "cell_type": "code",
     "collapsed": false,
     "input": [
      "imp.fit(X)"
     ],
     "language": "python",
     "metadata": {},
     "outputs": [
      {
       "metadata": {},
       "output_type": "pyout",
       "prompt_number": 13,
       "text": [
        "Imputer(axis=0, copy=True, missing_values='NaN', strategy='mean', verbose=0)"
       ]
      }
     ],
     "prompt_number": 13
    },
    {
     "cell_type": "code",
     "collapsed": false,
     "input": [
      "new_X = imp.transform(X)"
     ],
     "language": "python",
     "metadata": {},
     "outputs": [],
     "prompt_number": 14
    },
    {
     "cell_type": "code",
     "collapsed": false,
     "input": [
      "#new_X = imp.transform(new_X)"
     ],
     "language": "python",
     "metadata": {},
     "outputs": [],
     "prompt_number": 90
    },
    {
     "cell_type": "code",
     "collapsed": false,
     "input": [
      "new_X = preprocessing.scale(new_X)"
     ],
     "language": "python",
     "metadata": {},
     "outputs": [],
     "prompt_number": 25
    },
    {
     "cell_type": "code",
     "collapsed": false,
     "input": [
      "#hold_out_X = imp.transform(hold_out_X)"
     ],
     "language": "python",
     "metadata": {},
     "outputs": [],
     "prompt_number": 25
    },
    {
     "cell_type": "code",
     "collapsed": false,
     "input": [
      "X_new = new_X\n",
      "y_new = y\n",
      "print len(y_new)\n",
      "print len(X_new)"
     ],
     "language": "python",
     "metadata": {},
     "outputs": [
      {
       "output_type": "stream",
       "stream": "stdout",
       "text": [
        "7440\n",
        "7440\n"
       ]
      }
     ],
     "prompt_number": 26
    },
    {
     "cell_type": "code",
     "collapsed": false,
     "input": [
      "cut_out = len(X_new)/10\n",
      "cut_out_start = cut_out\n",
      "cut_out_end = len(X_new)-cut_out"
     ],
     "language": "python",
     "metadata": {},
     "outputs": [],
     "prompt_number": 27
    },
    {
     "cell_type": "code",
     "collapsed": false,
     "input": [
      "len(X_new)"
     ],
     "language": "python",
     "metadata": {},
     "outputs": [
      {
       "metadata": {},
       "output_type": "pyout",
       "prompt_number": 186,
       "text": [
        "240"
       ]
      }
     ],
     "prompt_number": 186
    },
    {
     "cell_type": "code",
     "collapsed": false,
     "input": [
      "hold_out_y=[]\n",
      "hold_out_X=[]"
     ],
     "language": "python",
     "metadata": {},
     "outputs": [],
     "prompt_number": 28
    },
    {
     "cell_type": "code",
     "collapsed": false,
     "input": [
      "hold_out_X = [x for x in X_new[:cut_out_start]] + [x for x in X_new[cut_out_end:]]"
     ],
     "language": "python",
     "metadata": {},
     "outputs": [],
     "prompt_number": 29
    },
    {
     "cell_type": "code",
     "collapsed": false,
     "input": [
      "te = [23,23]\n",
      "ts = [24,24]\n",
      "print len(hold_out_X)"
     ],
     "language": "python",
     "metadata": {},
     "outputs": [
      {
       "output_type": "stream",
       "stream": "stdout",
       "text": [
        "48\n"
       ]
      }
     ],
     "prompt_number": 223
    },
    {
     "cell_type": "code",
     "collapsed": false,
     "input": [
      "X_new = X_new[cut_out_start:cut_out_end]"
     ],
     "language": "python",
     "metadata": {},
     "outputs": [],
     "prompt_number": 30
    },
    {
     "cell_type": "code",
     "collapsed": false,
     "input": [
      "cut_out\n",
      "print cut_out_start\n",
      "print cut_out_end"
     ],
     "language": "python",
     "metadata": {},
     "outputs": [
      {
       "output_type": "stream",
       "stream": "stdout",
       "text": [
        "24\n",
        "216\n"
       ]
      }
     ],
     "prompt_number": 167
    },
    {
     "cell_type": "code",
     "collapsed": false,
     "input": [
      "hold_out_y = y_new[:cut_out_start]+y_new[cut_out_end:]"
     ],
     "language": "python",
     "metadata": {},
     "outputs": [],
     "prompt_number": 31
    },
    {
     "cell_type": "code",
     "collapsed": false,
     "input": [
      "y_new = y_new[cut_out_start:cut_out_end]"
     ],
     "language": "python",
     "metadata": {},
     "outputs": [],
     "prompt_number": 32
    },
    {
     "cell_type": "code",
     "collapsed": false,
     "input": [
      "print len(y_new)\n",
      "print len(X_new)\n",
      "print len(hold_out_y)\n",
      "print len(hold_out_X)"
     ],
     "language": "python",
     "metadata": {},
     "outputs": [
      {
       "output_type": "stream",
       "stream": "stdout",
       "text": [
        "5952\n",
        "5952\n",
        "1488\n",
        "1488\n"
       ]
      }
     ],
     "prompt_number": 33
    },
    {
     "cell_type": "code",
     "collapsed": false,
     "input": [
      "test_labels = ['one', 'two']\n",
      "le = preprocessing.LabelEncoder()\n",
      "le.fit(test_labels)\n",
      "\n",
      "le.transform(test_labels)"
     ],
     "language": "python",
     "metadata": {},
     "outputs": [
      {
       "metadata": {},
       "output_type": "pyout",
       "prompt_number": 56,
       "text": [
        "array([0, 1])"
       ]
      }
     ],
     "prompt_number": 56
    },
    {
     "cell_type": "code",
     "collapsed": false,
     "input": [
      "clf = svm.SVC(coef0 =2, degree=3, gamma = .1)"
     ],
     "language": "python",
     "metadata": {},
     "outputs": [],
     "prompt_number": 65
    },
    {
     "cell_type": "code",
     "collapsed": false,
     "input": [
      "clf.fit(X_new,y_new)"
     ],
     "language": "python",
     "metadata": {},
     "outputs": [
      {
       "metadata": {},
       "output_type": "pyout",
       "prompt_number": 66,
       "text": [
        "SVC(C=1.0, cache_size=200, class_weight=None, coef0=2, degree=3, gamma=0.1,\n",
        "  kernel='rbf', max_iter=-1, probability=False, random_state=None,\n",
        "  shrinking=True, tol=0.001, verbose=False)"
       ]
      }
     ],
     "prompt_number": 66
    },
    {
     "cell_type": "code",
     "collapsed": false,
     "input": [
      "predictions = clf.predict(hold_out_X)"
     ],
     "language": "python",
     "metadata": {},
     "outputs": [],
     "prompt_number": 67
    },
    {
     "cell_type": "code",
     "collapsed": false,
     "input": [
      "print len(predictions)\n",
      "print len(hold_out_y)"
     ],
     "language": "python",
     "metadata": {},
     "outputs": [
      {
       "output_type": "stream",
       "stream": "stdout",
       "text": [
        "1488\n",
        "1488\n"
       ]
      }
     ],
     "prompt_number": 46
    },
    {
     "cell_type": "code",
     "collapsed": false,
     "input": [
      "#test \n",
      "wrong  = 0 \n",
      "for i, p in enumerate(predictions):\n",
      "    if p==1 and hold_out_y[i]!=1:\n",
      "        wrong=wrong+1\n",
      "    elif p==0 and hold_out_y[i]!=0:\n",
      "        wrong=wrong+1\n",
      "    \n",
      "print wrong   \n",
      "print wrong/float(len(hold_out_y))"
     ],
     "language": "python",
     "metadata": {},
     "outputs": [
      {
       "output_type": "stream",
       "stream": "stdout",
       "text": [
        "309\n",
        "0.223790322581\n"
       ]
      }
     ],
     "prompt_number": 64
    },
    {
     "cell_type": "code",
     "collapsed": false,
     "input": [
      "y_ev_test = [w for w in hold_out_y if w==1]\n",
      "y_air_test = [w for w in hold_out_y if w==0]"
     ],
     "language": "python",
     "metadata": {},
     "outputs": [],
     "prompt_number": 44
    },
    {
     "cell_type": "code",
     "collapsed": false,
     "input": [
      "len(X_air)"
     ],
     "language": "python",
     "metadata": {},
     "outputs": [
      {
       "metadata": {},
       "output_type": "pyout",
       "prompt_number": 234,
       "text": [
        "180"
       ]
      }
     ],
     "prompt_number": 234
    },
    {
     "cell_type": "code",
     "collapsed": false,
     "input": [
      "a = [9,9,0,0,99,8,8,0,0,7,0,9,9]\n"
     ],
     "language": "python",
     "metadata": {},
     "outputs": [],
     "prompt_number": 25
    },
    {
     "cell_type": "code",
     "collapsed": false,
     "input": [
      "con = [] \n",
      "temp = [] \n",
      "for i in range(len(a)-1):\n",
      "    if a[i]!=0:\n",
      "        temp.append(a[i])\n",
      "        if a[i+1]==0 or i+1==len(a)-1:\n",
      "            if a[i+1]!=0:\n",
      "                temp.append(a[i+1])\n",
      "            con.append(temp)\n",
      "            temp = []"
     ],
     "language": "python",
     "metadata": {},
     "outputs": [],
     "prompt_number": 26
    },
    {
     "cell_type": "code",
     "collapsed": false,
     "input": [
      "con"
     ],
     "language": "python",
     "metadata": {},
     "outputs": [
      {
       "metadata": {},
       "output_type": "pyout",
       "prompt_number": 27,
       "text": [
        "[[9, 9], [99, 8, 8], [7], [9, 9]]"
       ]
      }
     ],
     "prompt_number": 27
    },
    {
     "cell_type": "code",
     "collapsed": false,
     "input": [
      "da.utils.pickle_object(8,'test')"
     ],
     "language": "python",
     "metadata": {},
     "outputs": [
      {
       "ename": "IOError",
       "evalue": "[Errno 2] No such file or directory: '/Users/sabina/django_we/wikienergy/proto/SVM/data/test.p'",
       "output_type": "pyerr",
       "traceback": [
        "\u001b[0;31m---------------------------------------------------------------------------\u001b[0m\n\u001b[0;31mIOError\u001b[0m                                   Traceback (most recent call last)",
        "\u001b[0;32m<ipython-input-11-e91015c85e06>\u001b[0m in \u001b[0;36m<module>\u001b[0;34m()\u001b[0m\n\u001b[0;32m----> 1\u001b[0;31m \u001b[0mda\u001b[0m\u001b[0;34m.\u001b[0m\u001b[0mutils\u001b[0m\u001b[0;34m.\u001b[0m\u001b[0mpickle_object\u001b[0m\u001b[0;34m(\u001b[0m\u001b[0;36m8\u001b[0m\u001b[0;34m,\u001b[0m\u001b[0;34m'test'\u001b[0m\u001b[0;34m)\u001b[0m\u001b[0;34m\u001b[0m\u001b[0m\n\u001b[0m",
        "\u001b[0;32m/Users/sabina/django_we/wikienergy/disaggregator/utils.pyc\u001b[0m in \u001b[0;36mpickle_object\u001b[0;34m(obj, title)\u001b[0m\n\u001b[1;32m    256\u001b[0m \u001b[0;31m#print open(os.path.join(rel_path,'{}.p'.format(title)),'wb')\u001b[0m\u001b[0;34m\u001b[0m\u001b[0;34m\u001b[0m\u001b[0m\n\u001b[1;32m    257\u001b[0m \u001b[0;34m\u001b[0m\u001b[0m\n\u001b[0;32m--> 258\u001b[0;31m     \u001b[0;32mwith\u001b[0m \u001b[0mopen\u001b[0m\u001b[0;34m(\u001b[0m\u001b[0mfile\u001b[0m\u001b[0;34m,\u001b[0m\u001b[0;34m'wb'\u001b[0m\u001b[0;34m)\u001b[0m \u001b[0;32mas\u001b[0m \u001b[0mf\u001b[0m\u001b[0;34m:\u001b[0m\u001b[0;34m\u001b[0m\u001b[0m\n\u001b[0m\u001b[1;32m    259\u001b[0m         \u001b[0mpickle\u001b[0m\u001b[0;34m.\u001b[0m\u001b[0mdump\u001b[0m\u001b[0;34m(\u001b[0m\u001b[0mobj\u001b[0m\u001b[0;34m,\u001b[0m \u001b[0mf\u001b[0m\u001b[0;34m)\u001b[0m\u001b[0;34m\u001b[0m\u001b[0m\n\u001b[1;32m    260\u001b[0m \u001b[0;34m\u001b[0m\u001b[0m\n",
        "\u001b[0;31mIOError\u001b[0m: [Errno 2] No such file or directory: '/Users/sabina/django_we/wikienergy/proto/SVM/data/test.p'"
       ]
      }
     ],
     "prompt_number": 11
    },
    {
     "cell_type": "code",
     "collapsed": false,
     "input": [],
     "language": "python",
     "metadata": {},
     "outputs": []
    }
   ],
   "metadata": {}
  }
 ]
}