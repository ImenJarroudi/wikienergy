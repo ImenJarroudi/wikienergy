{
 "metadata": {
  "name": "",
  "signature": "sha256:5f19c81c8a2268b526096a4fa45d8cb0cf3a0ead617b823ac38bed85e15a932e"
 },
 "nbformat": 3,
 "nbformat_minor": 0,
 "worksheets": [
  {
   "cells": [
    {
     "cell_type": "code",
     "collapsed": false,
     "input": [
      "import json\n",
      "import urllib2\n",
      "import urllib\n",
      "from calendar import monthrange\n",
      "import datetime\n",
      "\n",
      "\n",
      "start_date='20130101'\n",
      "zipcode='60304'\n",
      "api='API_KEY'\n",
      "f = urllib2.urlopen('http://developer.nrel.gov/api/solar/solar_resource/v1.json?api_key='+api+'&address='+zipcode)\n",
      "json_string = f.read()\n",
      "parsed_json = json.loads(json_string)"
     ],
     "language": "python",
     "metadata": {},
     "outputs": [],
     "prompt_number": 94
    },
    {
     "cell_type": "code",
     "collapsed": false,
     "input": [
      "month_data=parsed_json['outputs']['avg_lat_tilt']['monthly']\n",
      "print month_data.keys()"
     ],
     "language": "python",
     "metadata": {},
     "outputs": [
      {
       "output_type": "stream",
       "stream": "stdout",
       "text": [
        "[u'mar', u'feb', u'aug', u'sep', u'apr', u'jun', u'jul', u'jan', u'may', u'nov', u'dec', u'oct']\n"
       ]
      }
     ],
     "prompt_number": 95
    },
    {
     "cell_type": "code",
     "collapsed": false,
     "input": [
      "day_start=11\n",
      "month_start=9\n",
      "year_start=2011\n",
      "\n",
      "day_end=20\n",
      "month_end=9\n",
      "year_end=2011\n",
      "\n",
      "\n",
      "month_num=2\n",
      "year_num=2011\n",
      "\n",
      "pv_size=1.6\n",
      "eff_factor=0.8\n",
      "output=month_data[month]*pv_size*eff_factor\n",
      "print 'Average solar output for ' + str(month) + ' is ' + str(\"%.2f\" %output) + ' kWh per day.'\n",
      "\n",
      "energy_cost=0.05\n",
      "month_output=monthrange(year_num,month_num)[1]*output\n",
      "print 'Average solar output is then ' + str(month_output) + 'kWh for the month.'\n",
      "print 'Savings for '+month+' would be $' + str(\"%.2f\" % (energy_cost*month_output))"
     ],
     "language": "python",
     "metadata": {},
     "outputs": [
      {
       "output_type": "stream",
       "stream": "stdout",
       "text": [
        "Average solar output for feb is 5.00 kWh per day.\n",
        "Average solar output is then 140.1344kWh for the month.\n",
        "Savings for feb would be $7.01\n"
       ]
      }
     ],
     "prompt_number": 99
    },
    {
     "cell_type": "code",
     "collapsed": false,
     "input": [
      "def month_num_to_name(month_num): \n",
      "    if month_num == 1:\n",
      "        month='jan'\n",
      "    elif month_num == 2:\n",
      "        month='feb'\n",
      "    elif month_num == 3:\n",
      "        month='mar'\n",
      "    elif month_num == 4:\n",
      "        month='apr'\n",
      "    elif month_num == 5:\n",
      "        month='may'\n",
      "    elif month_num == 6:\n",
      "        month='jun'\n",
      "    elif month_num == 7:\n",
      "        month='jul'\n",
      "    elif month_num == 8:\n",
      "        month='aug'\n",
      "    elif month_num == 9:\n",
      "        month='sep'\n",
      "    elif month_num == 10:\n",
      "        month='oct'\n",
      "    elif month_num == 11:\n",
      "        month='nov'\n",
      "    elif month_num == 12:\n",
      "        month='dec'\n",
      "    else:\n",
      "        raise ValueError()\n",
      "    return month"
     ],
     "language": "python",
     "metadata": {},
     "outputs": [],
     "prompt_number": 82
    },
    {
     "cell_type": "code",
     "collapsed": false,
     "input": [
      "month_num_to_name()"
     ],
     "language": "python",
     "metadata": {},
     "outputs": [
      {
       "ename": "ValueError",
       "evalue": "",
       "output_type": "pyerr",
       "traceback": [
        "\u001b[1;31m---------------------------------------------------------------------------\u001b[0m\n\u001b[1;31mValueError\u001b[0m                                Traceback (most recent call last)",
        "\u001b[1;32m<ipython-input-85-af2c71db5778>\u001b[0m in \u001b[0;36m<module>\u001b[1;34m()\u001b[0m\n\u001b[1;32m----> 1\u001b[1;33m \u001b[0mmonth_num_to_name\u001b[0m\u001b[1;33m(\u001b[0m\u001b[1;36m20\u001b[0m\u001b[1;33m)\u001b[0m\u001b[1;33m\u001b[0m\u001b[0m\n\u001b[0m",
        "\u001b[1;32m<ipython-input-82-5cd45c57c431>\u001b[0m in \u001b[0;36mmonth_num_to_name\u001b[1;34m(month_num)\u001b[0m\n\u001b[0;32m     25\u001b[0m         \u001b[0mmonth\u001b[0m\u001b[1;33m=\u001b[0m\u001b[1;34m'dec'\u001b[0m\u001b[1;33m\u001b[0m\u001b[0m\n\u001b[0;32m     26\u001b[0m     \u001b[1;32melse\u001b[0m\u001b[1;33m:\u001b[0m\u001b[1;33m\u001b[0m\u001b[0m\n\u001b[1;32m---> 27\u001b[1;33m         \u001b[1;32mraise\u001b[0m \u001b[0mValueError\u001b[0m\u001b[1;33m(\u001b[0m\u001b[1;33m)\u001b[0m\u001b[1;33m\u001b[0m\u001b[0m\n\u001b[0m\u001b[0;32m     28\u001b[0m     \u001b[1;32mreturn\u001b[0m \u001b[0mmonth\u001b[0m\u001b[1;33m\u001b[0m\u001b[0m\n",
        "\u001b[1;31mValueError\u001b[0m: "
       ]
      }
     ],
     "prompt_number": 85
    },
    {
     "cell_type": "code",
     "collapsed": false,
     "input": [
      "\n",
      "date_start= datetime.date(year_start,month_start,day_start)\n",
      "date_end = datetime.date(year_end,month_end,day_end)\n",
      "diff = date_end - date_start\n",
      "diff.days"
     ],
     "language": "python",
     "metadata": {},
     "outputs": [
      {
       "ename": "NameError",
       "evalue": "name 'day_start' is not defined",
       "output_type": "pyerr",
       "traceback": [
        "\u001b[1;31m---------------------------------------------------------------------------\u001b[0m\n\u001b[1;31mNameError\u001b[0m                                 Traceback (most recent call last)",
        "\u001b[1;32m<ipython-input-98-1a59eddaf122>\u001b[0m in \u001b[0;36m<module>\u001b[1;34m()\u001b[0m\n\u001b[0;32m      1\u001b[0m \u001b[1;33m\u001b[0m\u001b[0m\n\u001b[1;32m----> 2\u001b[1;33m \u001b[0mdate_start\u001b[0m\u001b[1;33m=\u001b[0m \u001b[0mdatetime\u001b[0m\u001b[1;33m.\u001b[0m\u001b[0mdate\u001b[0m\u001b[1;33m(\u001b[0m\u001b[0myear_start\u001b[0m\u001b[1;33m,\u001b[0m\u001b[0mmonth_start\u001b[0m\u001b[1;33m,\u001b[0m\u001b[0mday_start\u001b[0m\u001b[1;33m)\u001b[0m\u001b[1;33m\u001b[0m\u001b[0m\n\u001b[0m\u001b[0;32m      3\u001b[0m \u001b[0mdate_end\u001b[0m \u001b[1;33m=\u001b[0m \u001b[0mdatetime\u001b[0m\u001b[1;33m.\u001b[0m\u001b[0mdate\u001b[0m\u001b[1;33m(\u001b[0m\u001b[0myear_end\u001b[0m\u001b[1;33m,\u001b[0m\u001b[0mmonth_end\u001b[0m\u001b[1;33m,\u001b[0m\u001b[0mday_end\u001b[0m\u001b[1;33m)\u001b[0m\u001b[1;33m\u001b[0m\u001b[0m\n\u001b[0;32m      4\u001b[0m \u001b[0mdiff\u001b[0m \u001b[1;33m=\u001b[0m \u001b[0mdate_end\u001b[0m \u001b[1;33m-\u001b[0m \u001b[0mdate_start\u001b[0m\u001b[1;33m\u001b[0m\u001b[0m\n\u001b[0;32m      5\u001b[0m \u001b[0mdiff\u001b[0m\u001b[1;33m.\u001b[0m\u001b[0mdays\u001b[0m\u001b[1;33m\u001b[0m\u001b[0m\n",
        "\u001b[1;31mNameError\u001b[0m: name 'day_start' is not defined"
       ]
      }
     ],
     "prompt_number": 98
    },
    {
     "cell_type": "code",
     "collapsed": false,
     "input": [],
     "language": "python",
     "metadata": {},
     "outputs": []
    }
   ],
   "metadata": {}
  }
 ]
}