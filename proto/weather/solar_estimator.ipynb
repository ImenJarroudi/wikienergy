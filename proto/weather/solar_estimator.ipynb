{
 "metadata": {
  "name": "",
  "signature": "sha256:4b84ccd6ee6fedecc02a0a8eb312e1d2d2cc4fb0c2c37685def27979a4dbab10"
 },
 "nbformat": 3,
 "nbformat_minor": 0,
 "worksheets": [
  {
   "cells": [
    {
     "cell_type": "code",
     "collapsed": false,
     "input": [
      "import json\n",
      "import urllib2\n",
      "import urllib\n",
      "from calendar import monthrange\n",
      "#start_date='20130101'\n",
      "address='Oak%20Park,IL'\n",
      "api='API_KEY'\n",
      "f = urllib2.urlopen('http://developer.nrel.gov/api/solar/solar_resource/v1.json?api_key='+api+'&address='+address)\n",
      "json_string = f.read()\n",
      "parsed_json = json.loads(json_string)"
     ],
     "language": "python",
     "metadata": {},
     "outputs": [],
     "prompt_number": 1
    },
    {
     "cell_type": "code",
     "collapsed": false,
     "input": [
      "month_data=parsed_json['outputs']['avg_lat_tilt']['monthly']\n",
      "print month_data.keys()"
     ],
     "language": "python",
     "metadata": {},
     "outputs": [
      {
       "output_type": "stream",
       "stream": "stdout",
       "text": [
        "[u'mar', u'feb', u'aug', u'sep', u'apr', u'jun', u'jul', u'jan', u'may', u'nov', u'dec', u'oct']\n"
       ]
      }
     ],
     "prompt_number": 2
    },
    {
     "cell_type": "code",
     "collapsed": false,
     "input": [
      "month='feb'\n",
      "month_num=2 #This and the month above should match. monthnum/yearnum is to get number of days in month\n",
      "year_num=2011\n",
      "\n",
      "pv_size=1.6\n",
      "eff_factor=0.8\n",
      "output=month_data[month]*pv_size*eff_factor\n",
      "print 'Average solar output for ' + str(month) + ' is ' + str(\"%.2f\" %output) + ' kWh per day.'\n",
      "\n",
      "energy_cost=0.05\n",
      "month_output=monthrange(year_num,month_num)[1]*output\n",
      "print 'Average solar output is then ' + str(month_output) + 'kWh for the month.'\n",
      "print 'Savings for '+month+' would be $' + str(\"%.2f\" % (energy_cost*month_output))"
     ],
     "language": "python",
     "metadata": {},
     "outputs": [
      {
       "output_type": "stream",
       "stream": "stdout",
       "text": [
        "Average solar output for feb is 5.00 kWh per day.\n",
        "Average solar output is then 140.1344kWh for the month.\n",
        "Savings for feb would be $7.01\n"
       ]
      }
     ],
     "prompt_number": 65
    },
    {
     "cell_type": "code",
     "collapsed": false,
     "input": [
      "\n",
      "with open('daily_average_solar_output_by_month.json', 'wb') as fp:\n",
      "    json.dump(month_data, fp)"
     ],
     "language": "python",
     "metadata": {},
     "outputs": [],
     "prompt_number": 4
    },
    {
     "cell_type": "code",
     "collapsed": false,
     "input": [],
     "language": "python",
     "metadata": {},
     "outputs": []
    }
   ],
   "metadata": {}
  }
 ]
}