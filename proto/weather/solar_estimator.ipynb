{
 "metadata": {
  "name": "",
  "signature": "sha256:7e85148adc2a44dc96220bf61ae7bcb4a8d7db7c265ae64110b8a8f56336e2be"
 },
 "nbformat": 3,
 "nbformat_minor": 0,
 "worksheets": [
  {
   "cells": [
    {
     "cell_type": "code",
     "collapsed": false,
     "input": [
      "import sys\n",
      "sys.path.append('../../') # or non-Unix equivalent (add wikienergy/ to path)\n",
      "from disaggregator import solar\n",
      "import datetime\n",
      "reload(solar)"
     ],
     "language": "python",
     "metadata": {},
     "outputs": [
      {
       "metadata": {},
       "output_type": "pyout",
       "prompt_number": 3,
       "text": [
        "<module 'disaggregator.solar' from '../../disaggregator/solar.py'>"
       ]
      }
     ],
     "prompt_number": 3
    },
    {
     "cell_type": "code",
     "collapsed": false,
     "input": [
      "start_dt=datetime.datetime(2012,8,1)\n",
      "end_dt=datetime.datetime(2014,9,30)\n",
      "pv_size=1.6\n",
      "eff_factor=0.8\n",
      "zip_code='60305'\n",
      "api='API_KEY'\n",
      "print solar.calculate_solar_generated(start_dt,end_dt,pv_size,eff_factor,api,zip_code)"
     ],
     "language": "python",
     "metadata": {},
     "outputs": [
      {
       "output_type": "stream",
       "stream": "stdout",
       "text": [
        "4619.5712\n"
       ]
      }
     ],
     "prompt_number": 5
    }
   ],
   "metadata": {}
  }
 ]
}