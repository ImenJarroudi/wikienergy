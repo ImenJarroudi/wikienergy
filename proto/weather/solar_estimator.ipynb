{
 "metadata": {
  "name": "",
  "signature": "sha256:f364546ec0620f46ae63a82eb5fa7336397058b5691da5964341c759d224ea0e"
 },
 "nbformat": 3,
 "nbformat_minor": 0,
 "worksheets": [
  {
   "cells": [
    {
     "cell_type": "code",
     "collapsed": false,
     "input": [
      "import sys\n",
      "sys.path.append('../../') # or non-Unix equivalent (add wikienergy/ to path)\n",
      "from disaggregator import solar\n",
      "import datetime\n",
      "reload(solar)\n",
      "import json"
     ],
     "language": "python",
     "metadata": {},
     "outputs": [],
     "prompt_number": 51
    },
    {
     "cell_type": "code",
     "collapsed": false,
     "input": [
      "start_dt=datetime.datetime(2012,8,1)\n",
      "end_dt=datetime.datetime(2014,9,30)\n",
      "\n",
      "zip_code='60305'\n",
      "api='API_KEY'\n",
      "print solar.calculate_solar_generated(start_dt,end_dt,api,zip_code,month_data)"
     ],
     "language": "python",
     "metadata": {},
     "outputs": [
      {
       "output_type": "stream",
       "stream": "stdout",
       "text": [
        "[{\"date\": \"Aug 2012\", \"value\": 0.13721599999999995}, {\"date\": \"Sep 2012\", \"value\": 0.26537599999999967}, {\"date\": \"Oct 2012\", \"value\": 0.36656}, {\"date\": \"Nov 2012\", \"value\": 0.4402400000000005}, {\"date\": \"Dec 2013\", \"value\": 0.5116639999999997}, {\"date\": \"Jan 2013\", \"value\": 0.5897839999999992}, {\"date\": \"Feb 2013\", \"value\": 0.6775919999999983}, {\"date\": \"Mar 2013\", \"value\": 0.7911759999999979}, {\"date\": \"Apr 2013\", \"value\": 0.9133359999999979}, {\"date\": \"May 2013\", \"value\": 1.041799999999998}, {\"date\": \"Jun 2013\", \"value\": 1.1749999999999998}, {\"date\": \"Jul 2013\", \"value\": 1.3173520000000027}, {\"date\": \"Aug 2013\", \"value\": 1.4502800000000031}, {\"date\": \"Sep 2013\", \"value\": 1.5784400000000012}, {\"date\": \"Oct 2013\", \"value\": 1.679623999999998}, {\"date\": \"Nov 2013\", \"value\": 1.753303999999995}, {\"date\": \"Dec 2014\", \"value\": 1.8247279999999977}, {\"date\": \"Jan 2014\", \"value\": 1.9028479999999972}, {\"date\": \"Feb 2014\", \"value\": 1.9906559999999962}, {\"date\": \"Mar 2014\", \"value\": 2.1042399999999994}, {\"date\": \"Apr 2014\", \"value\": 2.2264000000000026}, {\"date\": \"May 2014\", \"value\": 2.354863999999996}, {\"date\": \"Jun 2014\", \"value\": 2.4880639999999974}, {\"date\": \"Jul 2014\", \"value\": 2.6304160000000008}, {\"date\": \"Aug 2014\", \"value\": 2.763344000000001}]\n"
       ]
      }
     ],
     "prompt_number": 53
    },
    {
     "cell_type": "code",
     "collapsed": false,
     "input": [
      "month_data=solar.get_solar_data_from_nrel(api,zip_code)\n",
      "    "
     ],
     "language": "python",
     "metadata": {},
     "outputs": [],
     "prompt_number": 19
    },
    {
     "cell_type": "code",
     "collapsed": false,
     "input": [
      "def calculate_solar_generated(start_dt,end_dt,api,zip_code,month_data,eff_factor=0.8):\n",
      "\n",
      "    delta = end_dt - start_dt\n",
      "    data = []\n",
      "    this_month = start_dt.month\n",
      "    total_kWh = 0\n",
      "    for val in range(delta.days+1):\n",
      "        delta_days=datetime.timedelta(val)\n",
      "        month_name= solar.get_month_name(this_month)\n",
      "        total_kWh=total_kWh+month_data[month_name]*eff_factor\n",
      "        if (start_dt+delta_days).month is not this_month:\n",
      "            data.append({'date':str(month_name.title())+' ' + str((start_dt+delta_days).year) ,'value':total_kWh/float(1000)})\n",
      "            this_month=(start_dt+delta_days).month\n",
      "            \n",
      "    json_string = json.dumps(data, ensure_ascii=False)\n",
      "    return json_string\n"
     ],
     "language": "python",
     "metadata": {},
     "outputs": [],
     "prompt_number": 49
    },
    {
     "cell_type": "code",
     "collapsed": false,
     "input": [],
     "language": "python",
     "metadata": {},
     "outputs": []
    }
   ],
   "metadata": {}
  }
 ]
}