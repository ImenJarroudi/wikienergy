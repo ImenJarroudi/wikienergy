{
 "metadata": {
  "name": "",
  "signature": "sha256:5ca9699ab8b6ff211dea6e71e4d112542839e242a51770549ebe3974d3a1be69"
 },
 "nbformat": 3,
 "nbformat_minor": 0,
 "worksheets": [
  {
   "cells": [
    {
     "cell_type": "code",
     "collapsed": false,
     "input": [
      "import sys\n",
      "sys.path.append('../../') # or non-Unix equivalent (add wikienergy/ to path)\n",
      "from disaggregator import solar\n",
      "import datetime\n",
      "reload(solar)"
     ],
     "language": "python",
     "metadata": {},
     "outputs": [
      {
       "output_type": "stream",
       "stream": "stderr",
       "text": [
        "/Users/sabina/anaconda/lib/python2.7/site-packages/pandas/io/excel.py:626: UserWarning: Installed openpyxl is not supported at this time. Use >=1.6.1 and <2.0.0.\n",
        "  .format(openpyxl_compat.start_ver, openpyxl_compat.stop_ver))\n"
       ]
      },
      {
       "metadata": {},
       "output_type": "pyout",
       "prompt_number": 1,
       "text": [
        "<module 'disaggregator.solar' from '../../disaggregator/solar.pyc'>"
       ]
      }
     ],
     "prompt_number": 1
    },
    {
     "cell_type": "code",
     "collapsed": false,
     "input": [
      "start_dt=datetime.datetime(2012,8,1)\n",
      "end_dt=datetime.datetime(2014,9,30)\n",
      "pv_size=1.6\n",
      "eff_factor=0.8\n",
      "zip_code='60305'\n",
      "api='API_KEY'\n",
      "print solar.calculate_solar_generated(start_dt,end_dt,pv_size,eff_factor,api,zip_code)"
     ],
     "language": "python",
     "metadata": {},
     "outputs": [
      {
       "ename": "TypeError",
       "evalue": "cannot concatenate 'str' and 'float' objects",
       "output_type": "pyerr",
       "traceback": [
        "\u001b[0;31m---------------------------------------------------------------------------\u001b[0m\n\u001b[0;31mTypeError\u001b[0m                                 Traceback (most recent call last)",
        "\u001b[0;32m<ipython-input-2-d742f05e84dd>\u001b[0m in \u001b[0;36m<module>\u001b[0;34m()\u001b[0m\n\u001b[1;32m      5\u001b[0m \u001b[0mzip_code\u001b[0m\u001b[0;34m=\u001b[0m\u001b[0;34m'60305'\u001b[0m\u001b[0;34m\u001b[0m\u001b[0m\n\u001b[1;32m      6\u001b[0m \u001b[0mapi\u001b[0m\u001b[0;34m=\u001b[0m\u001b[0;34m'API_KEY'\u001b[0m\u001b[0;34m\u001b[0m\u001b[0m\n\u001b[0;32m----> 7\u001b[0;31m \u001b[0;32mprint\u001b[0m \u001b[0msolar\u001b[0m\u001b[0;34m.\u001b[0m\u001b[0mcalculate_solar_generated\u001b[0m\u001b[0;34m(\u001b[0m\u001b[0mstart_dt\u001b[0m\u001b[0;34m,\u001b[0m\u001b[0mend_dt\u001b[0m\u001b[0;34m,\u001b[0m\u001b[0mpv_size\u001b[0m\u001b[0;34m,\u001b[0m\u001b[0meff_factor\u001b[0m\u001b[0;34m,\u001b[0m\u001b[0mapi\u001b[0m\u001b[0;34m,\u001b[0m\u001b[0mzip_code\u001b[0m\u001b[0;34m)\u001b[0m\u001b[0;34m\u001b[0m\u001b[0m\n\u001b[0m",
        "\u001b[0;32m/Users/sabina/django_we/wikienergy/disaggregator/solar.pyc\u001b[0m in \u001b[0;36mcalculate_solar_generated\u001b[0;34m(start_dt, end_dt, pv_size, api, zip_code, eff_factor)\u001b[0m\n\u001b[1;32m     41\u001b[0m \u001b[0;32mdef\u001b[0m \u001b[0mcalculate_solar_generated\u001b[0m\u001b[0;34m(\u001b[0m\u001b[0mstart_dt\u001b[0m\u001b[0;34m,\u001b[0m\u001b[0mend_dt\u001b[0m\u001b[0;34m,\u001b[0m\u001b[0mpv_size\u001b[0m\u001b[0;34m,\u001b[0m\u001b[0mapi\u001b[0m\u001b[0;34m,\u001b[0m\u001b[0mzip_code\u001b[0m\u001b[0;34m,\u001b[0m\u001b[0meff_factor\u001b[0m\u001b[0;34m=\u001b[0m\u001b[0;36m0.8\u001b[0m\u001b[0;34m)\u001b[0m\u001b[0;34m:\u001b[0m\u001b[0;34m\u001b[0m\u001b[0m\n\u001b[1;32m     42\u001b[0m \u001b[0;34m\u001b[0m\u001b[0m\n\u001b[0;32m---> 43\u001b[0;31m     \u001b[0mmonth_data\u001b[0m\u001b[0;34m=\u001b[0m\u001b[0mget_solar_data_from_nrel\u001b[0m\u001b[0;34m(\u001b[0m\u001b[0mapi\u001b[0m\u001b[0;34m,\u001b[0m\u001b[0mzip_code\u001b[0m\u001b[0;34m)\u001b[0m\u001b[0;34m\u001b[0m\u001b[0m\n\u001b[0m\u001b[1;32m     44\u001b[0m     \u001b[0mdelta\u001b[0m \u001b[0;34m=\u001b[0m \u001b[0mend_dt\u001b[0m \u001b[0;34m-\u001b[0m \u001b[0mstart_dt\u001b[0m\u001b[0;34m\u001b[0m\u001b[0m\n\u001b[1;32m     45\u001b[0m \u001b[0;34m\u001b[0m\u001b[0m\n",
        "\u001b[0;32m/Users/sabina/django_we/wikienergy/disaggregator/solar.pyc\u001b[0m in \u001b[0;36mget_solar_data_from_nrel\u001b[0;34m(api, zip_code)\u001b[0m\n\u001b[1;32m      6\u001b[0m \u001b[0;32mdef\u001b[0m \u001b[0mget_solar_data_from_nrel\u001b[0m\u001b[0;34m(\u001b[0m\u001b[0mapi\u001b[0m\u001b[0;34m,\u001b[0m\u001b[0mzip_code\u001b[0m\u001b[0;34m)\u001b[0m\u001b[0;34m:\u001b[0m\u001b[0;34m\u001b[0m\u001b[0m\n\u001b[1;32m      7\u001b[0m     f = urllib2.urlopen('http://developer.nrel.gov/api/solar/solar_resource/'\n\u001b[0;32m----> 8\u001b[0;31m            +'v1.json?api_key='+api+'&address='+zip_code)\n\u001b[0m\u001b[1;32m      9\u001b[0m     \u001b[0mjson_string\u001b[0m \u001b[0;34m=\u001b[0m \u001b[0mf\u001b[0m\u001b[0;34m.\u001b[0m\u001b[0mread\u001b[0m\u001b[0;34m(\u001b[0m\u001b[0;34m)\u001b[0m\u001b[0;34m\u001b[0m\u001b[0m\n\u001b[1;32m     10\u001b[0m     \u001b[0mparsed_json\u001b[0m \u001b[0;34m=\u001b[0m \u001b[0mjson\u001b[0m\u001b[0;34m.\u001b[0m\u001b[0mloads\u001b[0m\u001b[0;34m(\u001b[0m\u001b[0mjson_string\u001b[0m\u001b[0;34m)\u001b[0m\u001b[0;34m\u001b[0m\u001b[0m\n",
        "\u001b[0;31mTypeError\u001b[0m: cannot concatenate 'str' and 'float' objects"
       ]
      }
     ],
     "prompt_number": 2
    },
    {
     "cell_type": "code",
     "collapsed": false,
     "input": [],
     "language": "python",
     "metadata": {},
     "outputs": []
    }
   ],
   "metadata": {}
  }
 ]
}