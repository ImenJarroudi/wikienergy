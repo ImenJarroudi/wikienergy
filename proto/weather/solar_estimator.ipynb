{
 "metadata": {
  "name": "",
<<<<<<< HEAD
  "signature": "sha256:81ddeb96333777b776da1faa93dd82988e0df786b49cfd6109e83cdff6823e29"
=======

>>>>>>> 0571bb479f81e253a94a9cf31f966b5b32d69095
 },
 "nbformat": 3,
 "nbformat_minor": 0,
 "worksheets": [
  {
   "cells": [
    {
     "cell_type": "code",
     "collapsed": false,
     "input": [
      "import sys\n",
      "sys.path.append('../../') # or non-Unix equivalent (add wikienergy/ to path)\n",
      "from disaggregator import solar\n",
      "import datetime\n",
      "reload(solar)\n",
      "import json"
     ],
     "language": "python",
     "metadata": {},
<<<<<<< HEAD
     "outputs": [],
     "prompt_number": 3
=======


     "prompt_number": 1

>>>>>>> 0571bb479f81e253a94a9cf31f966b5b32d69095
    },
    {
     "cell_type": "code",
     "collapsed": false,
     "input": [
      "start_dt=datetime.datetime(2012,8,1)\n",
      "end_dt=datetime.datetime(2014,9,30)\n",
      "\n",
      "zip_code='60305'\n",
      "api='API_KEY'\n",
      "print solar.calculate_solar_generated(start_dt,end_dt,api,zip_code)"
     ],
     "language": "python",
     "metadata": {},
     "outputs": [
      {
<<<<<<< HEAD
       "ename": "KeyError",
       "evalue": "'augsep'",
       "output_type": "pyerr",
       "traceback": [
        "\u001b[1;31m---------------------------------------------------------------------------\u001b[0m\n\u001b[1;31mKeyError\u001b[0m                                  Traceback (most recent call last)",
        "\u001b[1;32m<ipython-input-4-7aabc2ea8285>\u001b[0m in \u001b[0;36m<module>\u001b[1;34m()\u001b[0m\n\u001b[0;32m      4\u001b[0m \u001b[0mzip_code\u001b[0m\u001b[1;33m=\u001b[0m\u001b[1;34m'60305'\u001b[0m\u001b[1;33m\u001b[0m\u001b[0m\n\u001b[0;32m      5\u001b[0m \u001b[0mapi\u001b[0m\u001b[1;33m=\u001b[0m\u001b[1;34m'API_KEY'\u001b[0m\u001b[1;33m\u001b[0m\u001b[0m\n\u001b[1;32m----> 6\u001b[1;33m \u001b[1;32mprint\u001b[0m \u001b[0msolar\u001b[0m\u001b[1;33m.\u001b[0m\u001b[0mcalculate_solar_generated\u001b[0m\u001b[1;33m(\u001b[0m\u001b[0mstart_dt\u001b[0m\u001b[1;33m,\u001b[0m\u001b[0mend_dt\u001b[0m\u001b[1;33m,\u001b[0m\u001b[0mapi\u001b[0m\u001b[1;33m,\u001b[0m\u001b[0mzip_code\u001b[0m\u001b[1;33m)\u001b[0m\u001b[1;33m\u001b[0m\u001b[0m\n\u001b[0m",
        "\u001b[1;32m/home/steve/DSSG/wikienergy/disaggregator/solar.pyc\u001b[0m in \u001b[0;36mcalculate_solar_generated\u001b[1;34m(start_dt, end_dt, api, zip_code, eff_factor)\u001b[0m\n\u001b[0;32m     30\u001b[0m         \u001b[0mdelta_days\u001b[0m\u001b[1;33m=\u001b[0m\u001b[0mdatetime\u001b[0m\u001b[1;33m.\u001b[0m\u001b[0mtimedelta\u001b[0m\u001b[1;33m(\u001b[0m\u001b[0mval\u001b[0m\u001b[1;33m)\u001b[0m\u001b[1;33m\u001b[0m\u001b[0m\n\u001b[0;32m     31\u001b[0m         \u001b[0mmonth_name\u001b[0m\u001b[1;33m=\u001b[0m \u001b[0mget_month_name\u001b[0m\u001b[1;33m(\u001b[0m\u001b[0mthis_month\u001b[0m\u001b[1;33m)\u001b[0m\u001b[1;33m\u001b[0m\u001b[0m\n\u001b[1;32m---> 32\u001b[1;33m         \u001b[0mtotal_kWh\u001b[0m\u001b[1;33m=\u001b[0m\u001b[0mtotal_kWh\u001b[0m\u001b[1;33m+\u001b[0m\u001b[0mmonth_data\u001b[0m\u001b[1;33m[\u001b[0m\u001b[0mmonth_name\u001b[0m\u001b[1;33m]\u001b[0m\u001b[1;33m*\u001b[0m\u001b[0meff_factor\u001b[0m\u001b[1;33m\u001b[0m\u001b[0m\n\u001b[0m\u001b[0;32m     33\u001b[0m         \u001b[1;32mif\u001b[0m \u001b[1;33m(\u001b[0m\u001b[0mstart_dt\u001b[0m\u001b[1;33m+\u001b[0m\u001b[0mdelta_days\u001b[0m\u001b[1;33m)\u001b[0m\u001b[1;33m.\u001b[0m\u001b[0mmonth\u001b[0m \u001b[1;32mis\u001b[0m \u001b[1;32mnot\u001b[0m \u001b[0mthis_month\u001b[0m\u001b[1;33m:\u001b[0m\u001b[1;33m\u001b[0m\u001b[0m\n\u001b[0;32m     34\u001b[0m             \u001b[0mdata\u001b[0m\u001b[1;33m.\u001b[0m\u001b[0mappend\u001b[0m\u001b[1;33m(\u001b[0m\u001b[1;33m{\u001b[0m\u001b[1;34m'date'\u001b[0m\u001b[1;33m:\u001b[0m\u001b[0mstr\u001b[0m\u001b[1;33m(\u001b[0m\u001b[0mmonth_name\u001b[0m\u001b[1;33m.\u001b[0m\u001b[0mtitle\u001b[0m\u001b[1;33m(\u001b[0m\u001b[1;33m)\u001b[0m\u001b[1;33m)\u001b[0m\u001b[1;33m+\u001b[0m\u001b[1;34m' '\u001b[0m \u001b[1;33m+\u001b[0m \u001b[0mstr\u001b[0m\u001b[1;33m(\u001b[0m\u001b[1;33m(\u001b[0m\u001b[0mstart_dt\u001b[0m\u001b[1;33m+\u001b[0m\u001b[0mdelta_days\u001b[0m\u001b[1;33m)\u001b[0m\u001b[1;33m.\u001b[0m\u001b[0myear\u001b[0m\u001b[1;33m)\u001b[0m \u001b[1;33m,\u001b[0m\u001b[1;34m'value'\u001b[0m\u001b[1;33m:\u001b[0m\u001b[0mtotal_kWh\u001b[0m\u001b[1;33m/\u001b[0m\u001b[0mfloat\u001b[0m\u001b[1;33m(\u001b[0m\u001b[1;36m1000\u001b[0m\u001b[1;33m)\u001b[0m\u001b[1;33m}\u001b[0m\u001b[1;33m)\u001b[0m\u001b[1;33m\u001b[0m\u001b[0m\n",
        "\u001b[1;31mKeyError\u001b[0m: 'augsep'"
=======

       "output_type": "stream",
       "stream": "stdout",
       "text": [
        "[{\"date\": \"Aug 2012\", \"value\": 0.13721599999999995}, {\"date\": \"Sep 2012\", \"value\": 0.26537599999999967}, {\"date\": \"Oct 2012\", \"value\": 0.36656}, {\"date\": \"Nov 2012\", \"value\": 0.4402400000000005}, {\"date\": \"Dec 2013\", \"value\": 0.5116639999999997}, {\"date\": \"Jan 2013\", \"value\": 0.5897839999999992}, {\"date\": \"Feb 2013\", \"value\": 0.6775919999999983}, {\"date\": \"Mar 2013\", \"value\": 0.7911759999999979}, {\"date\": \"Apr 2013\", \"value\": 0.9133359999999979}, {\"date\": \"May 2013\", \"value\": 1.041799999999998}, {\"date\": \"Jun 2013\", \"value\": 1.1749999999999998}, {\"date\": \"Jul 2013\", \"value\": 1.3173520000000027}, {\"date\": \"Aug 2013\", \"value\": 1.4502800000000031}, {\"date\": \"Sep 2013\", \"value\": 1.5784400000000012}, {\"date\": \"Oct 2013\", \"value\": 1.679623999999998}, {\"date\": \"Nov 2013\", \"value\": 1.753303999999995}, {\"date\": \"Dec 2014\", \"value\": 1.8247279999999977}, {\"date\": \"Jan 2014\", \"value\": 1.9028479999999972}, {\"date\": \"Feb 2014\", \"value\": 1.9906559999999962}, {\"date\": \"Mar 2014\", \"value\": 2.1042399999999994}, {\"date\": \"Apr 2014\", \"value\": 2.2264000000000026}, {\"date\": \"May 2014\", \"value\": 2.354863999999996}, {\"date\": \"Jun 2014\", \"value\": 2.4880639999999974}, {\"date\": \"Jul 2014\", \"value\": 2.6304160000000008}, {\"date\": \"Aug 2014\", \"value\": 2.763344000000001}]\n"
>>>>>>> 0571bb479f81e253a94a9cf31f966b5b32d69095
       ]
      }
     ],
     "prompt_number": 4
    },
    {
     "cell_type": "code",
     "collapsed": false,
     "input": [
      "month_data=solar.get_solar_data_from_nrel(api,zip_code)\n",
      "    "
     ],
     "language": "python",
     "metadata": {},
     "outputs": []
    },
    {
     "cell_type": "code",
     "collapsed": false,
     "input": [
      "def calculate_solar_generated(start_dt,end_dt,api,zip_code,month_data,eff_factor=0.8):\n",
      "\n",
      "    delta = end_dt - start_dt\n",
      "    data = []\n",
      "    this_month = start_dt.month\n",
      "    total_kWh = 0\n",
      "    for val in range(delta.days+1):\n",
      "        delta_days=datetime.timedelta(val)\n",
      "        month_name= solar.get_month_name(this_month)\n",
      "        total_kWh=total_kWh+month_data[month_name]*eff_factor\n",
      "        if (start_dt+delta_days).month is not this_month:\n",
      "            data.append({'date':str(month_name.title())+' ' + str((start_dt+delta_days).year) ,'value':total_kWh/float(1000)})\n",
      "            this_month=(start_dt+delta_days).month\n",
      "            \n",
      "    json_string = json.dumps(data, ensure_ascii=False)\n",
      "    return json_string\n"
     ],
     "language": "python",
     "metadata": {},
     "outputs": [],
     "prompt_number": 49
>>>>>>> f385d57fa8a6a5d7a6b310a02a2fe2846b9d3e5f
    },
    {
     "cell_type": "code",
     "collapsed": false,
     "input": [],
     "language": "python",
     "metadata": {},
     "outputs": []
    }
   ],
   "metadata": {}
  }
 ]
}