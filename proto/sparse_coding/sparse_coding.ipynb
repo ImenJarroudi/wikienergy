{
 "metadata": {
  "name": "sparse_coding",
  "signature": "sha256:e33c48bcaf4c1b222332e70fc6fe49b5078a50d20569540733226d3f7bac9b71"
 },
 "nbformat": 3,
 "nbformat_minor": 0,
 "worksheets": [
  {
   "cells": [
    {
     "cell_type": "code",
     "collapsed": false,
     "input": [
      "import pandas as pd\n",
      "import json"
     ],
     "language": "python",
     "metadata": {},
     "outputs": [],
     "prompt_number": 150
    },
    {
     "cell_type": "code",
     "collapsed": false,
     "input": [
      "##engine information\n",
      "user_name = 'ssuffian'\n",
      "pw='PASSWORD'\n",
      "host = \"db.wiki-energy.org\"\n",
      "port = \"5432\"\n",
      "db = \"postgres\"\n",
      "schema = '\\\"PecanStreet_CuratedSets\\\"'"
     ],
     "language": "python",
     "metadata": {},
     "outputs": [],
     "prompt_number": 151
    },
    {
     "cell_type": "code",
     "collapsed": false,
     "input": [
      "#query data by id and categorize it\n",
      "category_map = {\n",
      "'use': ['use'],\n",
      "'hvac': ['air1','air2','air3','airwindowunit1','furnace1','furnace2','heater1','housefan1'],\n",
      "'refrigerator': ['refrigerator1','refrigerator2','freezer1'],\n",
      "'waterheater': ['waterheater1','waterheater2'],\n",
      "'bed_bath_dining': ['bedroom1','bedroom2','bedroom3','bedroom4','bedroom5','bathroom1','diningroom1','diningroom2'],\n",
      "'livingroom': ['livingroom1','livingroom2'],\n",
      "'lights_plugs':['lights_plugs1','lights_plugs2','lights_plugs3','lights_plugs4','lights_plugs5','lights_plugs6', 'outsidelights_plugs1','outsidelights_plugs2'],\n",
      "'kitchen': ['kitchen1','kitchen2','kitchenapp1','kitchenapp2','oven1','oven2','disposal1','icemaker1','microwave1','dishwasher1','range1','venthood1','winecooler1'],\n",
      "'washer_dryer': ['clotheswasher1','clotheswasher_dryg1', 'drye1','dryg1'],\n",
      "'misc': ['unknown1','unknown2','unknown3','unknown4','aquarium1','car1','garage1','garage2','jacuzzi1','office1','pool1','pool2','poollight1','poolpump1','pump1','security1','shed1','sprinkler1','subpanel1','subpanel2','utilityroom1']}\n",
      "\n",
      "def get_data(year_month):\n",
      "    query = get_table(eng,'group1_disaggregated_'+year_month)\n",
      "    df = pd.DataFrame(query).fillna(value=0) # replace NA with 0\n",
      "    return df\n",
      "\n",
      "def categorize_data(df):\n",
      "    categorized = {}\n",
      "    for category in category_map:\n",
      "        columns = iter(category_map[category]);\n",
      "        categorized[category] = df[columns.next()].astype(float);\n",
      "        for column in columns:\n",
      "            categorized[category] += df[column].astype(float);\n",
      "    return categorized"
     ],
     "language": "python",
     "metadata": {},
     "outputs": [],
     "prompt_number": 30
    },
    {
     "cell_type": "code",
     "collapsed": false,
     "input": [
      "curated_data = pd.read_csv('/home/eric/g1.csv', parse_dates=[2], nrows=24*4*100).fillna(value=0)"
     ],
     "language": "python",
     "metadata": {},
     "outputs": [],
     "prompt_number": 22
    },
    {
     "cell_type": "code",
     "collapsed": false,
     "input": [
      "house_week_data = []\n",
      "by_dataid = curated_data.groupby('dataid')\n",
      "for data_id,house_data in by_dataid:\n",
      "    house_data = house_data.set_index('utc_15min')\n",
      "    by_week = house_data.groupby(lambda x: x.day)\n",
      "    for week, week_data in by_week:\n",
      "        if len(week_data) == 24*4:\n",
      "            house_week_data.append(categorize_data(week_data))"
     ],
     "language": "python",
     "metadata": {},
     "outputs": [],
     "prompt_number": 31
    },
    {
     "cell_type": "code",
     "collapsed": false,
     "input": [
      "category_data = {}\n",
      "for category in category_map:\n",
      "    if category != 'use':\n",
      "        c = []\n",
      "        for house_week in house_week_data:\n",
      "            c.append(house_week[category])\n",
      "        category_data[category] = np.array(c)"
     ],
     "language": "python",
     "metadata": {},
     "outputs": [],
     "prompt_number": 37
    },
    {
     "cell_type": "code",
     "collapsed": false,
     "input": [
      "from sklearn.decomposition import DictionaryLearning\n",
      "category_dict = {}\n",
      "for category in category_data:\n",
      "    dico = DictionaryLearning(n_atoms=10)\n",
      "    dico.fit(category_data[category])\n",
      "    category_dico[category] = dico.components_\n",
      "dictionary = np.concatenate(category_dico.values())"
     ],
     "language": "python",
     "metadata": {},
     "outputs": [],
     "prompt_number": 52
    },
    {
     "cell_type": "code",
     "collapsed": false,
     "input": [
      "from sklearn.decomposition import SparseCoder\n",
      "scoder = SparseCoder(dictionary=dictionary)"
     ],
     "language": "python",
     "metadata": {},
     "outputs": [],
     "prompt_number": 56
    },
    {
     "cell_type": "code",
     "collapsed": false,
     "input": [
      "i = 23\n",
      "\n",
      "A = scoder.transform(house_week_data[i]['use'])\n",
      "agg = np.zeros(96)\n",
      "for i in range(len(dictionary)):\n",
      "    agg += A[i]*dictionary[i]\n",
      "    \n",
      "use = pd.DataFrame({'use':house_week_data[i]['use'].reset_index().use, 'sc': agg}).plot()"
     ],
     "language": "python",
     "metadata": {},
     "outputs": [
      {
       "output_type": "display_data",
       "png": "[encoded data removed]"
      }
     ],
     "prompt_number": 149
    }
   ],
   "metadata": {}
  }
 ]
}