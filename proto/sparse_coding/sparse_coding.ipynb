{
 "metadata": {
  "name": "sparse_coding",
  "signature": "sha256:e33c48bcaf4c1b222332e70fc6fe49b5078a50d20569540733226d3f7bac9b71"
 },
 "nbformat": 3,
 "nbformat_minor": 0,
 "worksheets": [
  {
   "cells": [
    {
     "cell_type": "code",
     "collapsed": false,
     "input": [
      "import pandas as pd\n",
      "import sqlalchemy as sa\n",
      "from sqlalchemy import *\n",
      "import json \n",
      "import os"
     ],
     "language": "python",
     "metadata": {},
     "outputs": [],
     "prompt_number": 113
    },
    {
     "cell_type": "code",
     "collapsed": false,
     "input": [
      "##engine information\n",
      "user_name = 'ssuffian'\n",
      "pw='PASSWORD'\n",
      "host = \"db.wiki-energy.org\"\n",
      "port = \"5432\"\n",
      "db = \"postgres\"\n",
      "schema = '\\\"PecanStreet_CuratedSets\\\"'"
     ],
     "language": "python",
     "metadata": {},
     "outputs": [],
     "prompt_number": 114
    },
    {
     "cell_type": "code",
     "collapsed": false,
     "input": [
      "#Sabina's functions:\n",
      "def get_eng():\n",
      "    url = \"postgresql\"+\"://\"+user_name+\":\"+pw+\"@\"+host+\":\"+port+\"/\"+db\n",
      "    eng = create_engine(url)\n",
      "    eng.echo=True\n",
      "    return eng\n",
      "\n",
      "def get_dataids(eng,table):\n",
      "    query = \"select distinct(\"+ schema + \".\"+table + \".dataid\" +\") from \" + schema + \".\" +table\n",
      "    eng_object=eng.execute(query)\n",
      "    l=list(eng_object.fetchall())\n",
      "    return l\n",
      "\n",
      "def get_table_by_id(eng,table,i):\n",
      "    query = \"select * from \"+schema+\".\"+table+ \" where \" +schema+\".\"+table+\".dataid=\"+i\n",
      "    eng_object=eng.execute(query)\n",
      "    df = pd.DataFrame.from_records(eng_object.fetchall())\n",
      "    df.columns = eng_object.keys()\n",
      "    return df\n",
      "\n",
      "def get_query(kind,col,table):\n",
      "    if kind=='sum':\n",
      "        return \"select sum(\"+col +\") from \" + schema +\".\"+ table\n",
      "    if kind =='count':\n",
      "        return \"select count(\"+col+ \") from \" + schema +\".\"+ table\n",
      "    if kind =='distinct':\n",
      "        return \"select distinct(\" + schema  +\".\"+table+\".\"+col+ \") from \" + schema +\".\"+ table\n",
      "    #+\".\"+table+\".\"+col+ \") from \" + schema +\".\"+ table\n",
      "    \n",
      "def execute_query(eng,query,form):\n",
      "    ds =[]\n",
      "    eng_object=eng.execute(query)\n",
      "    if form == 'num':\n",
      "        ds=(eng_object.fetchall())\n",
      "    elif form=='ls':\n",
      "        ds = list(eng_object.fetchall())\n",
      "    elif form =='df':\n",
      "        ds = pd.DataFrame.from_records(eng_object.fetchall())\n",
      "        ds.columns = eng_object.keys()\n",
      "    return ds"
     ],
     "language": "python",
     "metadata": {},
     "outputs": [],
     "prompt_number": 115
    },
    {
     "cell_type": "code",
     "collapsed": false,
     "input": [
      "eng = get_eng()"
     ],
     "language": "python",
     "metadata": {},
     "outputs": [],
     "prompt_number": 116
    },
    {
     "cell_type": "code",
     "collapsed": false,
     "input": [
      "#query data by id and categorize it\n",
      "category_map = {'air': ['air1','air2','air3','airwindowunit1'],\n",
      "'refrigerator': ['refrigerator1','refrigerator2','freezer1'],\n",
      "'waterheater': ['waterheater1','waterheater2'],\n",
      "'bedroom': ['bedroom1','bedroom2','bedroom3','bedroom4','bedroom5'],\n",
      "'bathroom': ['bathroom1','bathroom2'],\n",
      "'livingroom': ['livingroom1','livingroom2'],\n",
      "'lights_plugs':['lights_plugs1','lights_plugs2','lights_plugs3','lights_plugs4','lights_plugs5','lights_plugs6', 'outsidelights_plugs1','outsidelights_plugs2'],\n",
      "'kitchen': ['kitchen1','kitchen2','kitchenapp1','kitchenapp2','oven1','oven2','disposal1','icemaker1','microwave1'],\n",
      "'diningroom': ['diningroom1','diningroom2'],\n",
      "'clothes_washer_dryer': ['clotheswasher1','clotheswasher_dryg1'],\n",
      "'dishwasher': ['dishwasher1'],\n",
      "'misc': ['unknown1','unknown2','unknown3','unknown4','aquarium1','car1','drye1','dryg1','furnace1','furnace2','garage1','garage2','heater1','housefan1','jacuzzi1','office1','pool1','pool2','poollight1','poolpump1','pump1','range1','security1','shed1','sprinkler1','subpanel1','subpanel2','utilityroom1','venthood1','winecooler1']}\n",
      "\n",
      "def get_data(house_id, year_month):\n",
      "    query = get_table_by_id(eng,'group1_disaggregated_'+year_month,str(house_id))\n",
      "    df = pd.DataFrame(query).fillna(value=0) # replace NA with 0\n",
      "    categorized = {}\n",
      "    for category in category_map:\n",
      "        columns = iter(category_map[category]);\n",
      "        categorized[category] = df[columns.next()];\n",
      "        for column in columns:\n",
      "            categorized[category] += df[column];\n",
      "    return categorized\n",
      "        "
     ],
     "language": "python",
     "metadata": {},
     "outputs": [],
     "prompt_number": 122
    },
    {
     "cell_type": "code",
     "collapsed": false,
     "input": [
      "house_id=2829\n",
      "year_month='2013_03'\n",
      "df = get_data(house_id,year_month)"
     ],
     "language": "python",
     "metadata": {},
     "outputs": [
      {
       "output_type": "stream",
       "stream": "stdout",
       "text": [
        "2014-06-28 14:34:11,692 INFO sqlalchemy.engine.base.Engine select * from \"PecanStreet_CuratedSets\".group1_disaggregated_2013_03 where \"PecanStreet_CuratedSets\".group1_disaggregated_2013_03.dataid=2829\n"
       ]
      },
      {
       "output_type": "stream",
       "stream": "stdout",
       "text": [
        "2014-06-28 14:34:11,692 INFO sqlalchemy.engine.base.Engine {}\n"
       ]
      }
     ],
     "prompt_number": 125
    },
    {
     "cell_type": "code",
     "collapsed": false,
     "input": [],
     "language": "python",
     "metadata": {},
     "outputs": []
    }
   ],
   "metadata": {}
  }
 ]
}