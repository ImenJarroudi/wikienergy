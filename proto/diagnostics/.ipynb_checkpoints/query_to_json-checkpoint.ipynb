{
 "metadata": {
  "name": "",
  "signature": "sha256:e33c48bcaf4c1b222332e70fc6fe49b5078a50d20569540733226d3f7bac9b71"
 },
 "nbformat": 3,
 "nbformat_minor": 0,
 "worksheets": [
  {
   "cells": [
    {
     "cell_type": "code",
     "collapsed": false,
     "input": [
      "import pandas as pd\n",
      "import sqlalchemy as sa\n",
      "from sqlalchemy import *\n",
      "import json "
     ],
     "language": "python",
     "metadata": {},
     "outputs": [],
     "prompt_number": 90
    },
    {
     "cell_type": "code",
     "collapsed": false,
     "input": [
      "##engine information\n",
      "user_name = 'ssuffian'\n",
      "pw='W&;R4P9@j'\n",
      "host = \"db.wiki-energy.org\"\n",
      "port = \"5432\"\n",
      "db = \"postgres\"\n",
      "schema = '\\\"PecanStreet_SharedData\\\"'"
     ],
     "language": "python",
     "metadata": {},
     "outputs": [],
     "prompt_number": 91
    },
    {
     "cell_type": "code",
     "collapsed": false,
     "input": [
      "#Sabina's functions:\n",
      "def get_eng():\n",
      "    url = \"postgresql\"+\"://\"+user_name+\":\"+pw+\"@\"+host+\":\"+port+\"/\"+db\n",
      "    eng = create_engine(url)\n",
      "    eng.echo=True\n",
      "    return eng\n",
      "\n",
      "def get_dataids(eng,table):\n",
      "    query = \"select distinct(\"+ schema + \".\"+table + \".dataid\" +\") from \" + schema + \".\" +table\n",
      "    eng_object=eng.execute(query)\n",
      "    l=list(eng_object.fetchall())\n",
      "    return l\n",
      "\n",
      "def get_table_by_id(eng,table,i):\n",
      "    query = \"select * from \"+schema+\".\"+table+ \" where \" +schema+\".\"+table+\".dataid=\"+i\n",
      "    eng_object=eng.execute(query)\n",
      "    df = pd.DataFrame.from_records(eng_object.fetchall())\n",
      "    df.columns = eng_object.keys()\n",
      "    return df\n",
      "\n",
      "def get_query(kind,col,table):\n",
      "    if kind=='sum':\n",
      "        return \"select sum(\"+col +\") from \" + schema +\".\"+ table\n",
      "    if kind =='count':\n",
      "        return \"select count(\"+col+ \") from \" + schema +\".\"+ table\n",
      "    if kind =='distinct':\n",
      "        return \"select distinct(\" + schema  +\".\"+table+\".\"+col+ \") from \" + schema +\".\"+ table\n",
      "    #+\".\"+table+\".\"+col+ \") from \" + schema +\".\"+ table\n",
      "    \n",
      "def execute_query(eng,query,form):\n",
      "    ds =[]\n",
      "    eng_object=eng.execute(query)\n",
      "    if form == 'num':\n",
      "        ds=(eng_object.fetchall())\n",
      "    elif form=='ls':\n",
      "        ds = list(eng_object.fetchall())\n",
      "    elif form =='df':\n",
      "        ds = pd.DataFrame.from_records(eng_object.fetchall())\n",
      "        ds.columns = eng_object.keys()\n",
      "    return ds"
     ],
     "language": "python",
     "metadata": {},
     "outputs": [],
     "prompt_number": 92
    },
    {
     "cell_type": "code",
     "collapsed": false,
     "input": [
      "eng = get_eng()"
     ],
     "language": "python",
     "metadata": {},
     "outputs": [],
     "prompt_number": 93
    },
    {
     "cell_type": "code",
     "collapsed": false,
     "input": [
      "#query data by id\n",
      "query = get_table_by_id(eng,'validated_01_2014','2638')"
     ],
     "language": "python",
     "metadata": {},
     "outputs": [
      {
       "output_type": "stream",
       "stream": "stdout",
       "text": [
        "2014-06-23 16:32:28,055 INFO sqlalchemy.engine.base.Engine select version()\n"
       ]
      },
      {
       "output_type": "stream",
       "stream": "stderr",
       "text": [
        "INFO:sqlalchemy.engine.base.Engine:select version()\n"
       ]
      },
      {
       "output_type": "stream",
       "stream": "stdout",
       "text": [
        "2014-06-23 16:32:28,056 INFO sqlalchemy.engine.base.Engine {}\n"
       ]
      },
      {
       "output_type": "stream",
       "stream": "stderr",
       "text": [
        "INFO:sqlalchemy.engine.base.Engine:{}\n"
       ]
      },
      {
       "output_type": "stream",
       "stream": "stdout",
       "text": [
        "2014-06-23 16:32:28,155 INFO sqlalchemy.engine.base.Engine select current_schema()\n"
       ]
      },
      {
       "output_type": "stream",
       "stream": "stderr",
       "text": [
        "INFO:sqlalchemy.engine.base.Engine:select current_schema()\n"
       ]
      },
      {
       "output_type": "stream",
       "stream": "stdout",
       "text": [
        "2014-06-23 16:32:28,159 INFO sqlalchemy.engine.base.Engine {}\n"
       ]
      },
      {
       "output_type": "stream",
       "stream": "stderr",
       "text": [
        "INFO:sqlalchemy.engine.base.Engine:{}\n"
       ]
      },
      {
       "output_type": "stream",
       "stream": "stdout",
       "text": [
        "2014-06-23 16:32:28,262 INFO sqlalchemy.engine.base.Engine SELECT CAST('test plain returns' AS VARCHAR(60)) AS anon_1\n"
       ]
      },
      {
       "output_type": "stream",
       "stream": "stderr",
       "text": [
        "INFO:sqlalchemy.engine.base.Engine:SELECT CAST('test plain returns' AS VARCHAR(60)) AS anon_1\n"
       ]
      },
      {
       "output_type": "stream",
       "stream": "stdout",
       "text": [
        "2014-06-23 16:32:28,263 INFO sqlalchemy.engine.base.Engine {}\n"
       ]
      },
      {
       "output_type": "stream",
       "stream": "stderr",
       "text": [
        "INFO:sqlalchemy.engine.base.Engine:{}\n"
       ]
      },
      {
       "output_type": "stream",
       "stream": "stdout",
       "text": [
        "2014-06-23 16:32:28,319 INFO sqlalchemy.engine.base.Engine SELECT CAST('test unicode returns' AS VARCHAR(60)) AS anon_1\n"
       ]
      },
      {
       "output_type": "stream",
       "stream": "stderr",
       "text": [
        "INFO:sqlalchemy.engine.base.Engine:SELECT CAST('test unicode returns' AS VARCHAR(60)) AS anon_1\n"
       ]
      },
      {
       "output_type": "stream",
       "stream": "stdout",
       "text": [
        "2014-06-23 16:32:28,320 INFO sqlalchemy.engine.base.Engine {}\n"
       ]
      },
      {
       "output_type": "stream",
       "stream": "stderr",
       "text": [
        "INFO:sqlalchemy.engine.base.Engine:{}\n"
       ]
      },
      {
       "output_type": "stream",
       "stream": "stdout",
       "text": [
        "2014-06-23 16:32:28,474 INFO sqlalchemy.engine.base.Engine show standard_conforming_strings\n"
       ]
      },
      {
       "output_type": "stream",
       "stream": "stderr",
       "text": [
        "INFO:sqlalchemy.engine.base.Engine:show standard_conforming_strings\n"
       ]
      },
      {
       "output_type": "stream",
       "stream": "stdout",
       "text": [
        "2014-06-23 16:32:28,475 INFO sqlalchemy.engine.base.Engine {}\n"
       ]
      },
      {
       "output_type": "stream",
       "stream": "stderr",
       "text": [
        "INFO:sqlalchemy.engine.base.Engine:{}\n"
       ]
      },
      {
       "output_type": "stream",
       "stream": "stdout",
       "text": [
        "2014-06-23 16:32:28,581 INFO sqlalchemy.engine.base.Engine select * from \"PecanStreet_SharedData\".validated_01_2014 where \"PecanStreet_SharedData\".validated_01_2014.dataid=2638\n"
       ]
      },
      {
       "output_type": "stream",
       "stream": "stderr",
       "text": [
        "INFO:sqlalchemy.engine.base.Engine:select * from \"PecanStreet_SharedData\".validated_01_2014 where \"PecanStreet_SharedData\".validated_01_2014.dataid=2638\n"
       ]
      },
      {
       "output_type": "stream",
       "stream": "stdout",
       "text": [
        "2014-06-23 16:32:28,583 INFO sqlalchemy.engine.base.Engine {}\n"
       ]
      },
      {
       "output_type": "stream",
       "stream": "stderr",
       "text": [
        "INFO:sqlalchemy.engine.base.Engine:{}\n"
       ]
      }
     ],
     "prompt_number": 94
    },
    {
     "cell_type": "code",
     "collapsed": false,
     "input": [
      "#create dataframe\n",
      "df = pd.DataFrame(query)"
     ],
     "language": "python",
     "metadata": {},
     "outputs": [],
     "prompt_number": 95
    },
    {
     "cell_type": "code",
     "collapsed": false,
     "input": [
      "#view head of df\n",
      "df.head()"
     ],
     "language": "python",
     "metadata": {},
     "outputs": [
      {
       "html": [
        "<div style=\"max-height:1000px;max-width:1500px;overflow:auto;\">\n",
        "<table border=\"1\" class=\"dataframe\">\n",
        "  <thead>\n",
        "    <tr style=\"text-align: right;\">\n",
        "      <th></th>\n",
        "      <th>dataid</th>\n",
        "      <th>localminute</th>\n",
        "      <th>use</th>\n",
        "      <th>air1</th>\n",
        "      <th>air2</th>\n",
        "      <th>air3</th>\n",
        "      <th>airwindowunit1</th>\n",
        "      <th>aquarium1</th>\n",
        "      <th>bathroom1</th>\n",
        "      <th>bathroom2</th>\n",
        "      <th>bedroom1</th>\n",
        "      <th>bedroom2</th>\n",
        "      <th>bedroom3</th>\n",
        "      <th>bedroom4</th>\n",
        "      <th>bedroom5</th>\n",
        "      <th>car1</th>\n",
        "      <th>clotheswasher1</th>\n",
        "      <th>clotheswasher_dryg1</th>\n",
        "      <th>diningroom1</th>\n",
        "      <th>diningroom2</th>\n",
        "      <th></th>\n",
        "    </tr>\n",
        "  </thead>\n",
        "  <tbody>\n",
        "    <tr>\n",
        "      <th>0</th>\n",
        "      <td> 2638</td>\n",
        "      <td> 2014-01-01 01:30:00-06:00</td>\n",
        "      <td> 1.066</td>\n",
        "      <td> 0</td>\n",
        "      <td> None</td>\n",
        "      <td> None</td>\n",
        "      <td> None</td>\n",
        "      <td> None</td>\n",
        "      <td> None</td>\n",
        "      <td> None</td>\n",
        "      <td> None</td>\n",
        "      <td> None</td>\n",
        "      <td> None</td>\n",
        "      <td> None</td>\n",
        "      <td> None</td>\n",
        "      <td> 0</td>\n",
        "      <td> None</td>\n",
        "      <td> None</td>\n",
        "      <td> None</td>\n",
        "      <td> None</td>\n",
        "      <td>...</td>\n",
        "    </tr>\n",
        "    <tr>\n",
        "      <th>1</th>\n",
        "      <td> 2638</td>\n",
        "      <td> 2014-01-01 01:31:00-06:00</td>\n",
        "      <td> 1.205</td>\n",
        "      <td> 0</td>\n",
        "      <td> None</td>\n",
        "      <td> None</td>\n",
        "      <td> None</td>\n",
        "      <td> None</td>\n",
        "      <td> None</td>\n",
        "      <td> None</td>\n",
        "      <td> None</td>\n",
        "      <td> None</td>\n",
        "      <td> None</td>\n",
        "      <td> None</td>\n",
        "      <td> None</td>\n",
        "      <td> 0</td>\n",
        "      <td> None</td>\n",
        "      <td> None</td>\n",
        "      <td> None</td>\n",
        "      <td> None</td>\n",
        "      <td>...</td>\n",
        "    </tr>\n",
        "    <tr>\n",
        "      <th>2</th>\n",
        "      <td> 2638</td>\n",
        "      <td> 2014-01-01 01:32:00-06:00</td>\n",
        "      <td> 1.149</td>\n",
        "      <td> 0</td>\n",
        "      <td> None</td>\n",
        "      <td> None</td>\n",
        "      <td> None</td>\n",
        "      <td> None</td>\n",
        "      <td> None</td>\n",
        "      <td> None</td>\n",
        "      <td> None</td>\n",
        "      <td> None</td>\n",
        "      <td> None</td>\n",
        "      <td> None</td>\n",
        "      <td> None</td>\n",
        "      <td> 0</td>\n",
        "      <td> None</td>\n",
        "      <td> None</td>\n",
        "      <td> None</td>\n",
        "      <td> None</td>\n",
        "      <td>...</td>\n",
        "    </tr>\n",
        "    <tr>\n",
        "      <th>3</th>\n",
        "      <td> 2638</td>\n",
        "      <td> 2014-01-01 01:33:00-06:00</td>\n",
        "      <td> 1.247</td>\n",
        "      <td> 0</td>\n",
        "      <td> None</td>\n",
        "      <td> None</td>\n",
        "      <td> None</td>\n",
        "      <td> None</td>\n",
        "      <td> None</td>\n",
        "      <td> None</td>\n",
        "      <td> None</td>\n",
        "      <td> None</td>\n",
        "      <td> None</td>\n",
        "      <td> None</td>\n",
        "      <td> None</td>\n",
        "      <td> 0</td>\n",
        "      <td> None</td>\n",
        "      <td> None</td>\n",
        "      <td> None</td>\n",
        "      <td> None</td>\n",
        "      <td>...</td>\n",
        "    </tr>\n",
        "    <tr>\n",
        "      <th>4</th>\n",
        "      <td> 2638</td>\n",
        "      <td> 2014-01-01 01:34:00-06:00</td>\n",
        "      <td> 1.344</td>\n",
        "      <td> 0</td>\n",
        "      <td> None</td>\n",
        "      <td> None</td>\n",
        "      <td> None</td>\n",
        "      <td> None</td>\n",
        "      <td> None</td>\n",
        "      <td> None</td>\n",
        "      <td> None</td>\n",
        "      <td> None</td>\n",
        "      <td> None</td>\n",
        "      <td> None</td>\n",
        "      <td> None</td>\n",
        "      <td> 0</td>\n",
        "      <td> None</td>\n",
        "      <td> None</td>\n",
        "      <td> None</td>\n",
        "      <td> None</td>\n",
        "      <td>...</td>\n",
        "    </tr>\n",
        "  </tbody>\n",
        "</table>\n",
        "<p>5 rows \u00d7 73 columns</p>\n",
        "</div>"
       ],
       "metadata": {},
       "output_type": "pyout",
       "prompt_number": 96,
       "text": [
        "   dataid                localminute    use air1  air2  air3 airwindowunit1  \\\n",
        "0    2638  2014-01-01 01:30:00-06:00  1.066    0  None  None           None   \n",
        "1    2638  2014-01-01 01:31:00-06:00  1.205    0  None  None           None   \n",
        "2    2638  2014-01-01 01:32:00-06:00  1.149    0  None  None           None   \n",
        "3    2638  2014-01-01 01:33:00-06:00  1.247    0  None  None           None   \n",
        "4    2638  2014-01-01 01:34:00-06:00  1.344    0  None  None           None   \n",
        "\n",
        "  aquarium1 bathroom1 bathroom2 bedroom1 bedroom2 bedroom3 bedroom4 bedroom5  \\\n",
        "0      None      None      None     None     None     None     None     None   \n",
        "1      None      None      None     None     None     None     None     None   \n",
        "2      None      None      None     None     None     None     None     None   \n",
        "3      None      None      None     None     None     None     None     None   \n",
        "4      None      None      None     None     None     None     None     None   \n",
        "\n",
        "  car1 clotheswasher1 clotheswasher_dryg1 diningroom1 diningroom2      \n",
        "0    0           None                None        None        None ...  \n",
        "1    0           None                None        None        None ...  \n",
        "2    0           None                None        None        None ...  \n",
        "3    0           None                None        None        None ...  \n",
        "4    0           None                None        None        None ...  \n",
        "\n",
        "[5 rows x 73 columns]"
       ]
      }
     ],
     "prompt_number": 96
    },
    {
     "cell_type": "code",
     "collapsed": false,
     "input": [
      "#create a json object from our dataframe\n",
      "df_to_json = df.to_json()"
     ],
     "language": "python",
     "metadata": {},
     "outputs": [],
     "prompt_number": 84
    },
    {
     "cell_type": "code",
     "collapsed": false,
     "input": [
      "#read the df_to_json back to df..... this will create 'None's into NaN\n",
      "#and rearrange the df in abc order\n",
      "read_json = pd.read_json(df_to_json)"
     ],
     "language": "python",
     "metadata": {},
     "outputs": [],
     "prompt_number": 85
    },
    {
     "cell_type": "code",
     "collapsed": false,
     "input": [
      "read_json.head()"
     ],
     "language": "python",
     "metadata": {},
     "outputs": [
      {
       "html": [
        "<div style=\"max-height:1000px;max-width:1500px;overflow:auto;\">\n",
        "<table border=\"1\" class=\"dataframe\">\n",
        "  <thead>\n",
        "    <tr style=\"text-align: right;\">\n",
        "      <th></th>\n",
        "      <th>air1</th>\n",
        "      <th>air2</th>\n",
        "      <th>air3</th>\n",
        "      <th>airwindowunit1</th>\n",
        "      <th>aquarium1</th>\n",
        "      <th>bathroom1</th>\n",
        "      <th>bathroom2</th>\n",
        "      <th>bedroom1</th>\n",
        "      <th>bedroom2</th>\n",
        "      <th>bedroom3</th>\n",
        "      <th>bedroom4</th>\n",
        "      <th>bedroom5</th>\n",
        "      <th>car1</th>\n",
        "      <th>clotheswasher1</th>\n",
        "      <th>clotheswasher_dryg1</th>\n",
        "      <th>dataid</th>\n",
        "      <th>diningroom1</th>\n",
        "      <th>diningroom2</th>\n",
        "      <th>dishwasher1</th>\n",
        "      <th>disposal1</th>\n",
        "      <th></th>\n",
        "    </tr>\n",
        "  </thead>\n",
        "  <tbody>\n",
        "    <tr>\n",
        "      <th>0   </th>\n",
        "      <td> 0</td>\n",
        "      <td>NaN</td>\n",
        "      <td>NaN</td>\n",
        "      <td>NaN</td>\n",
        "      <td>NaN</td>\n",
        "      <td>NaN</td>\n",
        "      <td>NaN</td>\n",
        "      <td>NaN</td>\n",
        "      <td>NaN</td>\n",
        "      <td>NaN</td>\n",
        "      <td>NaN</td>\n",
        "      <td>NaN</td>\n",
        "      <td> 0</td>\n",
        "      <td>NaN</td>\n",
        "      <td>NaN</td>\n",
        "      <td> 2638</td>\n",
        "      <td>NaN</td>\n",
        "      <td>NaN</td>\n",
        "      <td>NaN</td>\n",
        "      <td>NaN</td>\n",
        "      <td>...</td>\n",
        "    </tr>\n",
        "    <tr>\n",
        "      <th>1   </th>\n",
        "      <td> 0</td>\n",
        "      <td>NaN</td>\n",
        "      <td>NaN</td>\n",
        "      <td>NaN</td>\n",
        "      <td>NaN</td>\n",
        "      <td>NaN</td>\n",
        "      <td>NaN</td>\n",
        "      <td>NaN</td>\n",
        "      <td>NaN</td>\n",
        "      <td>NaN</td>\n",
        "      <td>NaN</td>\n",
        "      <td>NaN</td>\n",
        "      <td> 0</td>\n",
        "      <td>NaN</td>\n",
        "      <td>NaN</td>\n",
        "      <td> 2638</td>\n",
        "      <td>NaN</td>\n",
        "      <td>NaN</td>\n",
        "      <td>NaN</td>\n",
        "      <td>NaN</td>\n",
        "      <td>...</td>\n",
        "    </tr>\n",
        "    <tr>\n",
        "      <th>10  </th>\n",
        "      <td> 0</td>\n",
        "      <td>NaN</td>\n",
        "      <td>NaN</td>\n",
        "      <td>NaN</td>\n",
        "      <td>NaN</td>\n",
        "      <td>NaN</td>\n",
        "      <td>NaN</td>\n",
        "      <td>NaN</td>\n",
        "      <td>NaN</td>\n",
        "      <td>NaN</td>\n",
        "      <td>NaN</td>\n",
        "      <td>NaN</td>\n",
        "      <td> 0</td>\n",
        "      <td>NaN</td>\n",
        "      <td>NaN</td>\n",
        "      <td> 2638</td>\n",
        "      <td>NaN</td>\n",
        "      <td>NaN</td>\n",
        "      <td>NaN</td>\n",
        "      <td>NaN</td>\n",
        "      <td>...</td>\n",
        "    </tr>\n",
        "    <tr>\n",
        "      <th>100 </th>\n",
        "      <td> 0</td>\n",
        "      <td>NaN</td>\n",
        "      <td>NaN</td>\n",
        "      <td>NaN</td>\n",
        "      <td>NaN</td>\n",
        "      <td>NaN</td>\n",
        "      <td>NaN</td>\n",
        "      <td>NaN</td>\n",
        "      <td>NaN</td>\n",
        "      <td>NaN</td>\n",
        "      <td>NaN</td>\n",
        "      <td>NaN</td>\n",
        "      <td> 0</td>\n",
        "      <td>NaN</td>\n",
        "      <td>NaN</td>\n",
        "      <td> 2638</td>\n",
        "      <td>NaN</td>\n",
        "      <td>NaN</td>\n",
        "      <td>NaN</td>\n",
        "      <td>NaN</td>\n",
        "      <td>...</td>\n",
        "    </tr>\n",
        "    <tr>\n",
        "      <th>1000</th>\n",
        "      <td> 0</td>\n",
        "      <td>NaN</td>\n",
        "      <td>NaN</td>\n",
        "      <td>NaN</td>\n",
        "      <td>NaN</td>\n",
        "      <td>NaN</td>\n",
        "      <td>NaN</td>\n",
        "      <td>NaN</td>\n",
        "      <td>NaN</td>\n",
        "      <td>NaN</td>\n",
        "      <td>NaN</td>\n",
        "      <td>NaN</td>\n",
        "      <td> 0</td>\n",
        "      <td>NaN</td>\n",
        "      <td>NaN</td>\n",
        "      <td> 2638</td>\n",
        "      <td>NaN</td>\n",
        "      <td>NaN</td>\n",
        "      <td>NaN</td>\n",
        "      <td>NaN</td>\n",
        "      <td>...</td>\n",
        "    </tr>\n",
        "  </tbody>\n",
        "</table>\n",
        "<p>5 rows \u00d7 73 columns</p>\n",
        "</div>"
       ],
       "metadata": {},
       "output_type": "pyout",
       "prompt_number": 86,
       "text": [
        "      air1  air2  air3  airwindowunit1  aquarium1  bathroom1  bathroom2  \\\n",
        "0        0   NaN   NaN             NaN        NaN        NaN        NaN   \n",
        "1        0   NaN   NaN             NaN        NaN        NaN        NaN   \n",
        "10       0   NaN   NaN             NaN        NaN        NaN        NaN   \n",
        "100      0   NaN   NaN             NaN        NaN        NaN        NaN   \n",
        "1000     0   NaN   NaN             NaN        NaN        NaN        NaN   \n",
        "\n",
        "      bedroom1  bedroom2  bedroom3  bedroom4  bedroom5  car1  clotheswasher1  \\\n",
        "0          NaN       NaN       NaN       NaN       NaN     0             NaN   \n",
        "1          NaN       NaN       NaN       NaN       NaN     0             NaN   \n",
        "10         NaN       NaN       NaN       NaN       NaN     0             NaN   \n",
        "100        NaN       NaN       NaN       NaN       NaN     0             NaN   \n",
        "1000       NaN       NaN       NaN       NaN       NaN     0             NaN   \n",
        "\n",
        "      clotheswasher_dryg1  dataid  diningroom1  diningroom2  dishwasher1  \\\n",
        "0                     NaN    2638          NaN          NaN          NaN   \n",
        "1                     NaN    2638          NaN          NaN          NaN   \n",
        "10                    NaN    2638          NaN          NaN          NaN   \n",
        "100                   NaN    2638          NaN          NaN          NaN   \n",
        "1000                  NaN    2638          NaN          NaN          NaN   \n",
        "\n",
        "      disposal1      \n",
        "0           NaN ...  \n",
        "1           NaN ...  \n",
        "10          NaN ...  \n",
        "100         NaN ...  \n",
        "1000        NaN ...  \n",
        "\n",
        "[5 rows x 73 columns]"
       ]
      }
     ],
     "prompt_number": 86
    },
    {
     "cell_type": "code",
     "collapsed": false,
     "input": [
      "#save the json\n",
      "with open('energy.json', 'w') as outfile:\n",
      "  json.dump(df_to_json, outfile)"
     ],
     "language": "python",
     "metadata": {},
     "outputs": [],
     "prompt_number": 75
    },
    {
     "cell_type": "code",
     "collapsed": false,
     "input": [],
     "language": "python",
     "metadata": {},
     "outputs": []
    }
   ],
   "metadata": {}
  }
 ]
}