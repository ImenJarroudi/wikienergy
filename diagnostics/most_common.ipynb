{
 "metadata": {
  "name": "",
  "signature": "sha256:590c40517b11edfc765bf8c3396c4dafbb37a556fbffdb2fbbf171f9b4667d11"
 },
 "nbformat": 3,
 "nbformat_minor": 0,
 "worksheets": [
  {
   "cells": [
    {
     "cell_type": "code",
     "collapsed": false,
     "input": [
      "\n",
      "import datetime\n",
      "import pandas as pd\n",
      "import sqlalchemy as sa\n",
      "from sqlalchemy import *\n",
      "import pandas as pd\n",
      "import os\n",
      "import numpy as np\n",
      "import operator\n",
      "import math\n",
      "import random\n",
      "from pylab import *"
     ],
     "language": "python",
     "metadata": {},
     "outputs": [
      {
       "output_type": "stream",
       "stream": "stderr",
       "text": [
        "/Users/sabina/anaconda/lib/python2.7/site-packages/pandas/io/excel.py:626: UserWarning: Installed openpyxl is not supported at this time. Use >=1.6.1 and <2.0.0.\n",
        "  .format(openpyxl_compat.start_ver, openpyxl_compat.stop_ver))\n"
       ]
      }
     ],
     "prompt_number": 1
    },
    {
     "cell_type": "code",
     "collapsed": false,
     "input": [
      "import json \n",
      "import matplotlib \n",
      "import matplotlib.pyplot as pyplt\n",
      "%matplotlib inline"
     ],
     "language": "python",
     "metadata": {},
     "outputs": [],
     "prompt_number": 2
    },
    {
     "cell_type": "code",
     "collapsed": false,
     "input": [
      "##for accessing all months\n",
      "months = ['01','02','03','04','05','06','07','08','09','10','11']\n",
      "days  = {'01':31,'02':28,'03':31,'04':30,'05':31,'06':30,'07':31,'08':31,'09':30,'10':31,'11':30}"
     ],
     "language": "python",
     "metadata": {},
     "outputs": [],
     "prompt_number": 3
    },
    {
     "cell_type": "code",
     "collapsed": false,
     "input": [
      "##engine information\n",
      "user_name = 'stomkins'\n",
      "pw='PASSWORD'\n",
      "host = \"db.wiki-energy.org\"\n",
      "port = \"5432\"\n",
      "db = \"postgres\""
     ],
     "language": "python",
     "metadata": {},
     "outputs": [],
     "prompt_number": 4
    },
    {
     "cell_type": "code",
     "collapsed": false,
     "input": [
      "##returns a dictionary where the keys are the homes and the values are \n",
      "##dataframe represenations of the tables associated with that home\n",
      "def query_month(month):\n",
      "    query = \"\"\"select * from \"PecanStreet_CuratedSets\".group1_disaggregated_2013_\"\"\"+month\n",
      "    url = \"postgresql\"+\"://\"+user_name+\":\"+pw+\"@\"+host+\":\"+port+\"/\"+db\n",
      "    eng = create_engine(url)\n",
      "    eng.echo=True\n",
      "    eng_object=eng.execute(query)\n",
      "    df = pd.DataFrame.from_records(eng_object.fetchall())\n",
      "    df.columns = eng_object.keys()\n",
      "    dfs_dict = {}\n",
      "    dfs=df.groupby('dataid')\n",
      "    for df in dfs:\n",
      "        dfs_dict[df[0]]=df[1].drop('dataid',1)\n",
      "    return dfs_dict"
     ],
     "language": "python",
     "metadata": {},
     "outputs": [],
     "prompt_number": 5
    },
    {
     "cell_type": "code",
     "collapsed": false,
     "input": [
      "##returns the a dictionary where each key is an appliance and each value is the sum of the power used \n",
      "##by that appliance over the course of the month\n",
      "def get_sums(house):\n",
      "    house=house.drop('id',axis=1)\n",
      "    #house=house.drop('dataid',axis=1)\n",
      "    house=house.drop('utc_15min',axis=1)\n",
      "    sums={}\n",
      "   # print(house.columns)\n",
      "    for col in house.columns:\n",
      "       sums[str(col)]=float(house[col].sum())\n",
      "    return sums        \n",
      "    "
     ],
     "language": "python",
     "metadata": {},
     "outputs": [],
     "prompt_number": 7
    },
    {
     "cell_type": "code",
     "collapsed": false,
     "input": [
      "##for all the houses return the highest appliances\n",
      "def get_highest(house):\n",
      "    sums= get_sums(house)\n",
      "    sums.pop('use',None)\n",
      "    sums.pop('car1',None)\n",
      "    sorted_sums = sorted(sums.iteritems(), key=operator.itemgetter(1), reverse = True)\n",
      "    \n",
      "    return sorted_sums"
     ],
     "language": "python",
     "metadata": {},
     "outputs": [],
     "prompt_number": 8
    },
    {
     "cell_type": "code",
     "collapsed": false,
     "input": [
      "##seeing all of the appliances for \n",
      "def get_top_5_all(d):\n",
      "    k = random.choice(d.keys())\n",
      "    count_highest  = {str(k): 0 for k in d[k].columns}\n",
      "    for house in d.values():\n",
      "        apps=get_highest(house)\n",
      "        for i in range(5):\n",
      "            count_highest[apps[i][0]]=count_highest[apps[i][0]]+1\n",
      "    sorted_sums = sorted(count_highest.iteritems(), key=operator.itemgetter(1), reverse = True)        \n",
      "    return sorted_sums[:5]"
     ],
     "language": "python",
     "metadata": {},
     "outputs": [],
     "prompt_number": 9
    },
    {
     "cell_type": "code",
     "collapsed": false,
     "input": [
      "#month is a string\n",
      "#d is the dictionary for that month, \n",
      "#where the keys are the house ids and the values are dataframes\n",
      "def write_month(month,d):    \n",
      "    dir_path = os.path.join(os.getcwd(), 'ranked_apps/' ) \n",
      "    #os.makedirs(dir_path)\n",
      "    filename = month+'.json'\n",
      "    text = []\n",
      "    for (h_id,house) in d.iteritems():\n",
      "        highs_dict = get_highest(house)\n",
      "        #text_dict[h_id] = highs_dict[2:7]\n",
      "      #  highs_dict.pop('use',None)\n",
      "      #  highs_dict.pop('car1',None)\n",
      "        try_this = {h_id:highs_dict[:5]}\n",
      "        text.append(str(try_this)+'\\n\\n') \n",
      "    \n",
      "    with open(os.path.join(dir_path, filename), 'w') as outfile:\n",
      "        outfile.writelines(text)   \n",
      "    outfile.close()"
     ],
     "language": "python",
     "metadata": {},
     "outputs": [],
     "prompt_number": 10
    },
    {
     "cell_type": "code",
     "collapsed": false,
     "input": [
      "##get all months and output the top five appliances for all houses in that month\n",
      "for month in months:\n",
      "    d = query_month(month)\n",
      "    write_month(month,d)"
     ],
     "language": "python",
     "metadata": {},
     "outputs": []
    },
    {
     "cell_type": "code",
     "collapsed": false,
     "input": [
      "jan = query_month(months[0])"
     ],
     "language": "python",
     "metadata": {},
     "outputs": [
      {
       "output_type": "stream",
       "stream": "stdout",
       "text": [
        "2014-06-25 11:19:31,975 INFO sqlalchemy.engine.base.Engine select version()\n"
       ]
      },
      {
       "output_type": "stream",
       "stream": "stderr",
       "text": [
        "INFO:sqlalchemy.engine.base.Engine:select version()\n"
       ]
      },
      {
       "output_type": "stream",
       "stream": "stdout",
       "text": [
        "2014-06-25 11:19:31,976 INFO sqlalchemy.engine.base.Engine {}\n"
       ]
      },
      {
       "output_type": "stream",
       "stream": "stderr",
       "text": [
        "INFO:sqlalchemy.engine.base.Engine:{}\n"
       ]
      },
      {
       "output_type": "stream",
       "stream": "stdout",
       "text": [
        "2014-06-25 11:19:32,074 INFO sqlalchemy.engine.base.Engine select current_schema()\n"
       ]
      },
      {
       "output_type": "stream",
       "stream": "stderr",
       "text": [
        "INFO:sqlalchemy.engine.base.Engine:select current_schema()\n"
       ]
      },
      {
       "output_type": "stream",
       "stream": "stdout",
       "text": [
        "2014-06-25 11:19:32,075 INFO sqlalchemy.engine.base.Engine {}\n"
       ]
      },
      {
       "output_type": "stream",
       "stream": "stderr",
       "text": [
        "INFO:sqlalchemy.engine.base.Engine:{}\n"
       ]
      },
      {
       "output_type": "stream",
       "stream": "stdout",
       "text": [
        "2014-06-25 11:19:32,162 INFO sqlalchemy.engine.base.Engine SELECT CAST('test plain returns' AS VARCHAR(60)) AS anon_1\n"
       ]
      },
      {
       "output_type": "stream",
       "stream": "stderr",
       "text": [
        "INFO:sqlalchemy.engine.base.Engine:SELECT CAST('test plain returns' AS VARCHAR(60)) AS anon_1\n"
       ]
      },
      {
       "output_type": "stream",
       "stream": "stdout",
       "text": [
        "2014-06-25 11:19:32,163 INFO sqlalchemy.engine.base.Engine {}\n"
       ]
      },
      {
       "output_type": "stream",
       "stream": "stderr",
       "text": [
        "INFO:sqlalchemy.engine.base.Engine:{}\n"
       ]
      },
      {
       "output_type": "stream",
       "stream": "stdout",
       "text": [
        "2014-06-25 11:19:32,213 INFO sqlalchemy.engine.base.Engine SELECT CAST('test unicode returns' AS VARCHAR(60)) AS anon_1\n"
       ]
      },
      {
       "output_type": "stream",
       "stream": "stderr",
       "text": [
        "INFO:sqlalchemy.engine.base.Engine:SELECT CAST('test unicode returns' AS VARCHAR(60)) AS anon_1\n"
       ]
      },
      {
       "output_type": "stream",
       "stream": "stdout",
       "text": [
        "2014-06-25 11:19:32,214 INFO sqlalchemy.engine.base.Engine {}\n"
       ]
      },
      {
       "output_type": "stream",
       "stream": "stderr",
       "text": [
        "INFO:sqlalchemy.engine.base.Engine:{}\n"
       ]
      },
      {
       "output_type": "stream",
       "stream": "stdout",
       "text": [
        "2014-06-25 11:19:32,359 INFO sqlalchemy.engine.base.Engine show standard_conforming_strings\n"
       ]
      },
      {
       "output_type": "stream",
       "stream": "stderr",
       "text": [
        "INFO:sqlalchemy.engine.base.Engine:show standard_conforming_strings\n"
       ]
      },
      {
       "output_type": "stream",
       "stream": "stdout",
       "text": [
        "2014-06-25 11:19:32,360 INFO sqlalchemy.engine.base.Engine {}\n"
       ]
      },
      {
       "output_type": "stream",
       "stream": "stderr",
       "text": [
        "INFO:sqlalchemy.engine.base.Engine:{}\n"
       ]
      },
      {
       "output_type": "stream",
       "stream": "stdout",
       "text": [
        "2014-06-25 11:19:32,457 INFO sqlalchemy.engine.base.Engine select * from \"PecanStreet_CuratedSets\".group1_disaggregated_2013_01\n"
       ]
      },
      {
       "output_type": "stream",
       "stream": "stderr",
       "text": [
        "INFO:sqlalchemy.engine.base.Engine:select * from \"PecanStreet_CuratedSets\".group1_disaggregated_2013_01\n"
       ]
      },
      {
       "output_type": "stream",
       "stream": "stdout",
       "text": [
        "2014-06-25 11:19:32,458 INFO sqlalchemy.engine.base.Engine {}\n"
       ]
      },
      {
       "output_type": "stream",
       "stream": "stderr",
       "text": [
        "INFO:sqlalchemy.engine.base.Engine:{}\n"
       ]
      }
     ],
     "prompt_number": 11
    },
    {
     "cell_type": "code",
     "collapsed": false,
     "input": [
      "s=get_sums(jan.values()[0])"
     ],
     "language": "python",
     "metadata": {},
     "outputs": [],
     "prompt_number": 14
    },
    {
     "cell_type": "code",
     "collapsed": false,
     "input": [
      "s"
     ],
     "language": "python",
     "metadata": {},
     "outputs": [
      {
       "metadata": {},
       "output_type": "pyout",
       "prompt_number": 15,
       "text": [
        "{'air1': 990.45,\n",
        " 'air2': 52.007,\n",
        " 'air3': 38.802,\n",
        " 'airwindowunit1': 0.0,\n",
        " 'aquarium1': 0.0,\n",
        " 'bathroom1': 0.0,\n",
        " 'bathroom2': 0.0,\n",
        " 'bedroom1': 79.599,\n",
        " 'bedroom2': 0.0,\n",
        " 'bedroom3': 0.0,\n",
        " 'bedroom4': 0.0,\n",
        " 'bedroom5': 0.0,\n",
        " 'car1': nan,\n",
        " 'clotheswasher1': 0.0,\n",
        " 'clotheswasher_dryg1': 9.809,\n",
        " 'diningroom1': 29.12,\n",
        " 'diningroom2': 0.0,\n",
        " 'dishwasher1': 21.139,\n",
        " 'disposal1': 0.0,\n",
        " 'drye1': 0.0,\n",
        " 'dryg1': 0.0,\n",
        " 'freezer1': 0.0,\n",
        " 'furnace1': 1377.389,\n",
        " 'furnace2': 42.387,\n",
        " 'garage1': 0.0,\n",
        " 'garage2': 0.0,\n",
        " 'heater1': 0.0,\n",
        " 'housefan1': 0.0,\n",
        " 'icemaker1': 0.0,\n",
        " 'jacuzzi1': 0.0,\n",
        " 'kitchen1': 0.0,\n",
        " 'kitchen2': 0.0,\n",
        " 'kitchenapp1': 139.939,\n",
        " 'kitchenapp2': 0.0,\n",
        " 'lights_plugs1': 0.0,\n",
        " 'lights_plugs2': 0.0,\n",
        " 'lights_plugs3': 0.0,\n",
        " 'lights_plugs4': 0.0,\n",
        " 'lights_plugs5': 0.0,\n",
        " 'lights_plugs6': 0.0,\n",
        " 'livingroom1': 0.0,\n",
        " 'livingroom2': 0.0,\n",
        " 'microwave1': 40.714,\n",
        " 'office1': 302.846,\n",
        " 'outsidelights_plugs1': 0.0,\n",
        " 'outsidelights_plugs2': 0.0,\n",
        " 'oven1': 108.711,\n",
        " 'oven2': 0.0,\n",
        " 'pool1': 0.0,\n",
        " 'pool2': 0.0,\n",
        " 'poollight1': 0.0,\n",
        " 'poolpump1': 0.0,\n",
        " 'pump1': 0.0,\n",
        " 'range1': 72.814,\n",
        " 'refrigerator1': 348.605,\n",
        " 'refrigerator2': 188.728,\n",
        " 'security1': 0.0,\n",
        " 'shed1': 0.0,\n",
        " 'sprinkler1': 0.0,\n",
        " 'subpanel1': 0.0,\n",
        " 'subpanel2': 0.0,\n",
        " 'unknown1': 0.0,\n",
        " 'unknown2': 0.0,\n",
        " 'unknown3': 0.0,\n",
        " 'unknown4': 0.0,\n",
        " 'use': 7600.19,\n",
        " 'utilityroom1': 0.0,\n",
        " 'venthood1': 0.0,\n",
        " 'waterheater1': 0.0,\n",
        " 'waterheater2': 0.0,\n",
        " 'winecooler1': 0.0}"
       ]
      }
     ],
     "prompt_number": 15
    },
    {
     "cell_type": "code",
     "collapsed": false,
     "input": [],
     "language": "python",
     "metadata": {},
     "outputs": []
    }
   ],
   "metadata": {}
  }
 ]
}