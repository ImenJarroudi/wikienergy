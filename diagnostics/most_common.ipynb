{
 "metadata": {
  "name": "",
  "signature": "sha256:b4f9444768dc70d24b545dee7f2789e6b8e28cadc3758fc82c7208e3c1b22750"
 },
 "nbformat": 3,
 "nbformat_minor": 0,
 "worksheets": [
  {
   "cells": [
    {
     "cell_type": "code",
     "collapsed": false,
     "input": [
      "%matplotlib inline\n",
      "\n",
      "import datetime\n",
      "import json \n",
      "import math\n",
      "import random\n",
      "import operator\n",
      "import os\n",
      "from calendar import monthrange\n",
      "\n",
      "import pandas as pd\n",
      "import numpy as np\n",
      "\n",
      "import sqlalchemy as sa\n",
      "from sqlalchemy import *\n",
      "\n",
      "import matplotlib \n",
      "import matplotlib.pyplot as pyplt\n",
      "from pylab import *\n",
      "\n",
      "data_directory = '../data/common_appliances/'\n"
     ],
     "language": "python",
     "metadata": {},
     "outputs": [],
     "prompt_number": 1
    },
    {
     "cell_type": "markdown",
     "metadata": {},
     "source": [
      "#Most common appliances"
     ]
    },
    {
     "cell_type": "code",
     "collapsed": false,
     "input": [
      "# to find days in a certain month for a certain year:\n",
      "monthrange(2011, 2)"
     ],
     "language": "python",
     "metadata": {},
     "outputs": [
      {
       "metadata": {},
       "output_type": "pyout",
       "prompt_number": 2,
       "text": [
        "(1, 28)"
       ]
      }
     ],
     "prompt_number": 2
    },
    {
     "cell_type": "code",
     "collapsed": false,
     "input": [
      "# [SENSITIVE] Create database engine\n",
      "user_name = 'stomkins'\n",
      "pw='PASSWORD'\n",
      "host = \"db.wiki-energy.org\"\n",
      "port = \"5432\"\n",
      "db = \"postgres\"\n",
      "url = \"postgresql\"+\"://\"+user_name+\":\"+pw+\"@\"+host+\":\"+port+\"/\"+db\n",
      "\n",
      "eng = create_engine(url)"
     ],
     "language": "python",
     "metadata": {},
     "outputs": [],
     "prompt_number": 3
    },
    {
     "cell_type": "code",
     "collapsed": false,
     "input": [
      "# runs in < 1s\n",
      "def get_unique_dataids(eng,group,month):\n",
      "    '''gets all dataids for a specifc group(int) for a specific month (int)'''\n",
      "    query = 'select distinct dataid from \"PecanStreet_CuratedSets\".group{0}_disaggregated_2013_{1:02d}'.format(group,month)\n",
      "    eng_object=eng.execute(query)\n",
      "    df = pd.DataFrame.from_records(eng_object.fetchall())\n",
      "    return df[0]\n"
     ],
     "language": "python",
     "metadata": {},
     "outputs": [],
     "prompt_number": 4
    },
    {
     "cell_type": "code",
     "collapsed": false,
     "input": [
      "dataids = get_unique_dataids(eng,1,1)\n",
      "dataids[0]"
     ],
     "language": "python",
     "metadata": {},
     "outputs": [
      {
       "metadata": {},
       "output_type": "pyout",
       "prompt_number": 5,
       "text": [
        "5949"
       ]
      }
     ],
     "prompt_number": 5
    },
    {
     "cell_type": "code",
     "collapsed": false,
     "input": [
      "# takes about 5s to run\n",
      "def get_home_month(eng,group,month,dataid):\n",
      "    '''Returns a dictionary where the keys are the homes and the values are \n",
      "    dataframe represenations of the tables associated with that home\n",
      "    '''\n",
      "    \n",
      "    query = 'select * from \"PecanStreet_CuratedSets\".group{0}_disaggregated_2013_{1:02d} where dataid={2}'.format(group,month,dataid)\n",
      "    eng_object=eng.execute(query)\n",
      "    df = pd.DataFrame.from_records(eng_object.fetchall())\n",
      "    df.columns = eng_object.keys()\n",
      "    return df\n"
     ],
     "language": "python",
     "metadata": {},
     "outputs": [],
     "prompt_number": 6
    },
    {
     "cell_type": "code",
     "collapsed": false,
     "input": [
      "# get all houses data for january. takes about 2 min\n",
      "houses_data = [get_home_month(eng,1,1,dataid) for dataid in dataids]"
     ],
     "language": "python",
     "metadata": {},
     "outputs": [],
     "prompt_number": 7
    },
    {
     "cell_type": "code",
     "collapsed": false,
     "input": [
      "# get data for a single home for a whole year, by month (no december data). takes about 1 min\n",
      "house_1_2013 = [get_home_month(eng,1,month,dataids[0]) for month in range(1,12)]"
     ],
     "language": "python",
     "metadata": {},
     "outputs": [],
     "prompt_number": 8
    },
    {
     "cell_type": "code",
     "collapsed": false,
     "input": [
      "houses_data[0]"
     ],
     "language": "python",
     "metadata": {},
     "outputs": [
      {
       "html": [
        "<pre>\n",
        "&lt;class 'pandas.core.frame.DataFrame'&gt;\n",
        "Int64Index: 2976 entries, 0 to 2975\n",
        "Data columns (total 74 columns):\n",
        "id                      2976  non-null values\n",
        "dataid                  2976  non-null values\n",
        "utc_15min               2976  non-null values\n",
        "air1                    2976  non-null values\n",
        "air2                    2976  non-null values\n",
        "air3                    2976  non-null values\n",
        "airwindowunit1          2976  non-null values\n",
        "aquarium1               2976  non-null values\n",
        "bathroom1               2976  non-null values\n",
        "bathroom2               2976  non-null values\n",
        "bedroom1                2976  non-null values\n",
        "bedroom2                2976  non-null values\n",
        "bedroom3                2976  non-null values\n",
        "bedroom4                2976  non-null values\n",
        "bedroom5                2976  non-null values\n",
        "car1                    0  non-null values\n",
        "clotheswasher1          2976  non-null values\n",
        "clotheswasher_dryg1     2976  non-null values\n",
        "diningroom1             2976  non-null values\n",
        "diningroom2             2976  non-null values\n",
        "dishwasher1             2976  non-null values\n",
        "disposal1               2976  non-null values\n",
        "drye1                   2976  non-null values\n",
        "dryg1                   2976  non-null values\n",
        "freezer1                2976  non-null values\n",
        "furnace1                2976  non-null values\n",
        "furnace2                2976  non-null values\n",
        "garage1                 2976  non-null values\n",
        "garage2                 2976  non-null values\n",
        "heater1                 2976  non-null values\n",
        "housefan1               2976  non-null values\n",
        "icemaker1               2976  non-null values\n",
        "jacuzzi1                2976  non-null values\n",
        "kitchen1                2976  non-null values\n",
        "kitchen2                2976  non-null values\n",
        "kitchenapp1             2976  non-null values\n",
        "kitchenapp2             2976  non-null values\n",
        "lights_plugs1           2976  non-null values\n",
        "lights_plugs2           2976  non-null values\n",
        "lights_plugs3           2976  non-null values\n",
        "lights_plugs4           2976  non-null values\n",
        "lights_plugs5           2976  non-null values\n",
        "lights_plugs6           2976  non-null values\n",
        "livingroom1             2976  non-null values\n",
        "livingroom2             2976  non-null values\n",
        "microwave1              2976  non-null values\n",
        "office1                 2976  non-null values\n",
        "outsidelights_plugs1    2976  non-null values\n",
        "outsidelights_plugs2    2976  non-null values\n",
        "oven1                   2976  non-null values\n",
        "oven2                   2976  non-null values\n",
        "pool1                   2976  non-null values\n",
        "pool2                   2976  non-null values\n",
        "poollight1              2976  non-null values\n",
        "poolpump1               2976  non-null values\n",
        "pump1                   2976  non-null values\n",
        "range1                  2976  non-null values\n",
        "refrigerator1           2976  non-null values\n",
        "refrigerator2           2976  non-null values\n",
        "security1               2976  non-null values\n",
        "shed1                   2976  non-null values\n",
        "sprinkler1              2976  non-null values\n",
        "subpanel1               2976  non-null values\n",
        "subpanel2               2976  non-null values\n",
        "unknown1                2976  non-null values\n",
        "unknown2                2976  non-null values\n",
        "unknown3                2976  non-null values\n",
        "unknown4                2976  non-null values\n",
        "use                     2976  non-null values\n",
        "utilityroom1            2976  non-null values\n",
        "venthood1               2976  non-null values\n",
        "waterheater1            2976  non-null values\n",
        "waterheater2            2976  non-null values\n",
        "winecooler1             2976  non-null values\n",
        "dtypes: int64(2), object(72)\n",
        "</pre>"
       ],
       "metadata": {},
       "output_type": "pyout",
       "prompt_number": 9,
       "text": [
        "<class 'pandas.core.frame.DataFrame'>\n",
        "Int64Index: 2976 entries, 0 to 2975\n",
        "Data columns (total 74 columns):\n",
        "id                      2976  non-null values\n",
        "dataid                  2976  non-null values\n",
        "utc_15min               2976  non-null values\n",
        "air1                    2976  non-null values\n",
        "air2                    2976  non-null values\n",
        "air3                    2976  non-null values\n",
        "airwindowunit1          2976  non-null values\n",
        "aquarium1               2976  non-null values\n",
        "bathroom1               2976  non-null values\n",
        "bathroom2               2976  non-null values\n",
        "bedroom1                2976  non-null values\n",
        "bedroom2                2976  non-null values\n",
        "bedroom3                2976  non-null values\n",
        "bedroom4                2976  non-null values\n",
        "bedroom5                2976  non-null values\n",
        "car1                    0  non-null values\n",
        "clotheswasher1          2976  non-null values\n",
        "clotheswasher_dryg1     2976  non-null values\n",
        "diningroom1             2976  non-null values\n",
        "diningroom2             2976  non-null values\n",
        "dishwasher1             2976  non-null values\n",
        "disposal1               2976  non-null values\n",
        "drye1                   2976  non-null values\n",
        "dryg1                   2976  non-null values\n",
        "freezer1                2976  non-null values\n",
        "furnace1                2976  non-null values\n",
        "furnace2                2976  non-null values\n",
        "garage1                 2976  non-null values\n",
        "garage2                 2976  non-null values\n",
        "heater1                 2976  non-null values\n",
        "housefan1               2976  non-null values\n",
        "icemaker1               2976  non-null values\n",
        "jacuzzi1                2976  non-null values\n",
        "kitchen1                2976  non-null values\n",
        "kitchen2                2976  non-null values\n",
        "kitchenapp1             2976  non-null values\n",
        "kitchenapp2             2976  non-null values\n",
        "lights_plugs1           2976  non-null values\n",
        "lights_plugs2           2976  non-null values\n",
        "lights_plugs3           2976  non-null values\n",
        "lights_plugs4           2976  non-null values\n",
        "lights_plugs5           2976  non-null values\n",
        "lights_plugs6           2976  non-null values\n",
        "livingroom1             2976  non-null values\n",
        "livingroom2             2976  non-null values\n",
        "microwave1              2976  non-null values\n",
        "office1                 2976  non-null values\n",
        "outsidelights_plugs1    2976  non-null values\n",
        "outsidelights_plugs2    2976  non-null values\n",
        "oven1                   2976  non-null values\n",
        "oven2                   2976  non-null values\n",
        "pool1                   2976  non-null values\n",
        "pool2                   2976  non-null values\n",
        "poollight1              2976  non-null values\n",
        "poolpump1               2976  non-null values\n",
        "pump1                   2976  non-null values\n",
        "range1                  2976  non-null values\n",
        "refrigerator1           2976  non-null values\n",
        "refrigerator2           2976  non-null values\n",
        "security1               2976  non-null values\n",
        "shed1                   2976  non-null values\n",
        "sprinkler1              2976  non-null values\n",
        "subpanel1               2976  non-null values\n",
        "subpanel2               2976  non-null values\n",
        "unknown1                2976  non-null values\n",
        "unknown2                2976  non-null values\n",
        "unknown3                2976  non-null values\n",
        "unknown4                2976  non-null values\n",
        "use                     2976  non-null values\n",
        "utilityroom1            2976  non-null values\n",
        "venthood1               2976  non-null values\n",
        "waterheater1            2976  non-null values\n",
        "waterheater2            2976  non-null values\n",
        "winecooler1             2976  non-null values\n",
        "dtypes: int64(2), object(72)"
       ]
      }
     ],
     "prompt_number": 9
    },
    {
     "cell_type": "code",
     "collapsed": false,
     "input": [
      "def get_total_disaggregated_usage(house_data):\n",
      "    '''Given a dataframe of 15min data for a house, sums all columns corresponding to appliances.\n",
      "    '''\n",
      "    # drop everything that's not an appliance\n",
      "    house_data = house_data.drop(['dataid','id','utc_15min','subpanel1','subpanel2','use'],axis=1)\n",
      "    \n",
      "    # sum each column\n",
      "    totals = house_data.sum().fillna(0.)\n",
      "    \n",
      "    return totals\n",
      "    "
     ],
     "language": "python",
     "metadata": {},
     "outputs": [],
     "prompt_number": 24
    },
    {
     "cell_type": "code",
     "collapsed": false,
     "input": [
      "# for each house, compute sum for a single month\n",
      "house_sums = [get_total_disaggregated_usage(house_data) for house_data in houses_data]\n"
     ],
     "language": "python",
     "metadata": {},
     "outputs": [],
     "prompt_number": 11
    },
    {
     "cell_type": "code",
     "collapsed": false,
     "input": [
      "# for one house, compute monthly sums\n",
      "house_1_2013_monthly_sums = [get_total_disaggregated_usage(house_month) for house_month in house_1_2013]\n"
     ],
     "language": "python",
     "metadata": {},
     "outputs": [],
     "prompt_number": 12
    },
    {
     "cell_type": "code",
     "collapsed": false,
     "input": [
      "print len(house_sums)\n",
      "print len(house_1_2013_monthly_sums)"
     ],
     "language": "python",
     "metadata": {},
     "outputs": [
      {
       "output_type": "stream",
       "stream": "stdout",
       "text": [
        "25\n",
        "11\n"
       ]
      }
     ],
     "prompt_number": 13
    },
    {
     "cell_type": "code",
     "collapsed": false,
     "input": [
      "# sort all house_sums so that highest power appliances are at the top.\n",
      "for house_sum in house_sums:\n",
      "    house_sum.sort(ascending=False)\n"
     ],
     "language": "python",
     "metadata": {},
     "outputs": [],
     "prompt_number": 14
    },
    {
     "cell_type": "code",
     "collapsed": false,
     "input": [],
     "language": "python",
     "metadata": {},
     "outputs": [],
     "prompt_number": 14
    },
    {
     "cell_type": "code",
     "collapsed": false,
     "input": [
      "# sum all months\n",
      "def sum_monthly_sums(month_sums):\n",
      "    '''Given a list of appliance usage sum series, return a single series of the total sums\n",
      "    '''\n",
      "    sums = month_sums[0]\n",
      "    for month_sum in month_sums[1:]:\n",
      "        sums += month_sum\n",
      "    return sums\n"
     ],
     "language": "python",
     "metadata": {},
     "outputs": [],
     "prompt_number": 15
    },
    {
     "cell_type": "code",
     "collapsed": false,
     "input": [
      "house_appliance_totals = sum_monthly_sums(house_1_2013_monthly_sums)\n",
      "house_appliance_totals.sort(ascending=False)\n",
      "house_appliance_totals"
     ],
     "language": "python",
     "metadata": {},
     "outputs": [
      {
       "metadata": {},
       "output_type": "pyout",
       "prompt_number": 16,
       "text": [
        "air1             13096.111\n",
        "kitchenapp1       1681.102\n",
        "lights_plugs1      520.677\n",
        "dishwasher1        464.390\n",
        "oven1              344.291\n",
        "bedroom1            88.404\n",
        "disposal1            0.366\n",
        "jacuzzi1             0.000\n",
        "icemaker1            0.000\n",
        "housefan1            0.000\n",
        "heater1              0.000\n",
        "garage1              0.000\n",
        "furnace2             0.000\n",
        "furnace1             0.000\n",
        "freezer1             0.000\n",
        "...\n",
        "poollight1              0\n",
        "pool2                   0\n",
        "pool1                   0\n",
        "oven2                   0\n",
        "outsidelights_plugs2    0\n",
        "outsidelights_plugs1    0\n",
        "office1                 0\n",
        "microwave1              0\n",
        "livingroom2             0\n",
        "livingroom1             0\n",
        "lights_plugs6           0\n",
        "lights_plugs5           0\n",
        "lights_plugs4           0\n",
        "lights_plugs3           0\n",
        "kitchenapp2             0\n",
        "Length: 68, dtype: float64"
       ]
      }
     ],
     "prompt_number": 16
    },
    {
     "cell_type": "code",
     "collapsed": false,
     "input": [
      "def get_top_k_appliances(house_appliance_totals,k):\n",
      "    '''Get the top k appliances for a given summed series.'''\n",
      "    return house_appliance_totals[:k].keys()\n"
     ],
     "language": "python",
     "metadata": {},
     "outputs": [],
     "prompt_number": 17
    },
    {
     "cell_type": "code",
     "collapsed": false,
     "input": [
      "top_5_appliances = get_top_k_appliances(house_appliance_totals,5)"
     ],
     "language": "python",
     "metadata": {},
     "outputs": [],
     "prompt_number": 18
    },
    {
     "cell_type": "code",
     "collapsed": false,
     "input": [
      "def get_usage_for_appliances(house_sums,appliances):\n",
      "    return [house_sum[appliances] for house_sum in house_sums]"
     ],
     "language": "python",
     "metadata": {},
     "outputs": [],
     "prompt_number": 19
    },
    {
     "cell_type": "code",
     "collapsed": false,
     "input": [
      "top_5_appliance_usages = get_usage_for_appliances(house_1_2013_monthly_sums,top_5_appliances)"
     ],
     "language": "python",
     "metadata": {},
     "outputs": [],
     "prompt_number": 20
    },
    {
     "cell_type": "code",
     "collapsed": false,
     "input": [
      "def get_usage_csv(appliance_usages):\n",
      "    # organize data\n",
      "    keys = appliance_usages[0].keys()\n",
      "    appliances = {key:[] for key in keys}\n",
      "    for usages in appliance_usages:\n",
      "        for appliance in keys:\n",
      "            appliances[appliance].append(usages[appliance])\n",
      "    # create csv string\n",
      "    csv_string = \"key,value,date\\n\"\n",
      "    for key in keys:\n",
      "        for month in range(1,12):\n",
      "            csv_string += ','.join([key,str(appliances[key][month-1/1]),'{:02d}/01/13'.format(month)]) + '\\n'\n",
      "    return csv_string"
     ],
     "language": "python",
     "metadata": {},
     "outputs": [],
     "prompt_number": 21
    },
    {
     "cell_type": "code",
     "collapsed": false,
     "input": [
      "csv_string = get_usage_csv(top_5_appliance_usages)"
     ],
     "language": "python",
     "metadata": {},
     "outputs": [],
     "prompt_number": 22
    },
    {
     "cell_type": "code",
     "collapsed": false,
     "input": [
      "print csv_string"
     ],
     "language": "python",
     "metadata": {},
     "outputs": [
      {
       "output_type": "stream",
       "stream": "stdout",
       "text": [
        "key,value,date\n",
        "air1,0.003,01/01/13\n",
        "air1,0.0,02/01/13\n",
        "air1,0.003,03/01/13\n",
        "air1,135.839,04/01/13\n",
        "air1,1110.492,05/01/13\n",
        "air1,2297.781,06/01/13\n",
        "air1,3035.443,07/01/13\n",
        "air1,3813.852,08/01/13\n",
        "air1,2207.333,09/01/13\n",
        "air1,489.391,10/01/13\n",
        "air1,5.974,11/01/13\n",
        "kitchenapp1,166.286,01/01/13\n",
        "kitchenapp1,143.105,02/01/13\n",
        "kitchenapp1,137.548,03/01/13\n",
        "kitchenapp1,153.873,04/01/13\n",
        "kitchenapp1,156.753,05/01/13\n",
        "kitchenapp1,148.582,06/01/13\n",
        "kitchenapp1,163.429,07/01/13\n",
        "kitchenapp1,165.57,08/01/13\n",
        "kitchenapp1,162.922,09/01/13\n",
        "kitchenapp1,123.476,10/01/13\n",
        "kitchenapp1,159.558,11/01/13\n",
        "lights_plugs1,47.973,01/01/13\n",
        "lights_plugs1,44.92,02/01/13\n",
        "lights_plugs1,51.521,03/01/13\n",
        "lights_plugs1,40.575,04/01/13\n",
        "lights_plugs1,71.041,05/01/13\n",
        "lights_plugs1,34.916,06/01/13\n",
        "lights_plugs1,35.488,07/01/13\n",
        "lights_plugs1,58.462,08/01/13\n",
        "lights_plugs1,40.384,09/01/13\n",
        "lights_plugs1,39.319,10/01/13\n",
        "lights_plugs1,56.078,11/01/13\n",
        "dishwasher1,40.754,01/01/13\n",
        "dishwasher1,42.99,02/01/13\n",
        "dishwasher1,52.102,03/01/13\n",
        "dishwasher1,39.346,04/01/13\n",
        "dishwasher1,44.994,05/01/13\n",
        "dishwasher1,34.017,06/01/13\n",
        "dishwasher1,43.723,07/01/13\n",
        "dishwasher1,51.436,08/01/13\n",
        "dishwasher1,38.059,09/01/13\n",
        "dishwasher1,30.583,10/01/13\n",
        "dishwasher1,46.386,11/01/13\n",
        "oven1,40.524,01/01/13\n",
        "oven1,38.607,02/01/13\n",
        "oven1,35.514,03/01/13\n",
        "oven1,17.228,04/01/13\n",
        "oven1,20.491,05/01/13\n",
        "oven1,14.462,06/01/13\n",
        "oven1,25.896,07/01/13\n",
        "oven1,22.424,08/01/13\n",
        "oven1,38.707,09/01/13\n",
        "oven1,27.203,10/01/13\n",
        "oven1,63.235,11/01/13\n",
        "\n"
       ]
      }
     ],
     "prompt_number": 23
    }
   ],
   "metadata": {}
  }
 ]
}