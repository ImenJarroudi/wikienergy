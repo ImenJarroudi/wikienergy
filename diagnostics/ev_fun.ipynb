{
 "metadata": {
  "name": "",
  "signature": "sha256:75d46516dd58b5304c138597b03cdb86d800ab34159cab209e739dfbbed45304"
 },
 "nbformat": 3,
 "nbformat_minor": 0,
 "worksheets": [
  {
   "cells": [
    {
     "cell_type": "code",
     "collapsed": false,
     "input": [
      "\n",
      "import datetime\n",
      "import pandas as pd\n",
      "import sqlalchemy as sa\n",
      "from sqlalchemy import *\n",
      "import pandas as pd\n",
      "import os\n",
      "import numpy as np\n",
      "import operator\n",
      "import math\n",
      "import random\n",
      "from pylab import *\n",
      "import ast"
     ],
     "language": "python",
     "metadata": {},
     "outputs": [
      {
       "output_type": "stream",
       "stream": "stderr",
       "text": [
        "/Users/sabina/anaconda/lib/python2.7/site-packages/pandas/io/excel.py:626: UserWarning: Installed openpyxl is not supported at this time. Use >=1.6.1 and <2.0.0.\n",
        "  .format(openpyxl_compat.start_ver, openpyxl_compat.stop_ver))\n"
       ]
      }
     ],
     "prompt_number": 1
    },
    {
     "cell_type": "code",
     "collapsed": false,
     "input": [
      "import json \n",
      "import matplotlib \n",
      "import matplotlib.pyplot as pyplt\n",
      "%matplotlib inline"
     ],
     "language": "python",
     "metadata": {},
     "outputs": [],
     "prompt_number": 2
    },
    {
     "cell_type": "code",
     "collapsed": false,
     "input": [],
     "language": "python",
     "metadata": {},
     "outputs": []
    },
    {
     "cell_type": "code",
     "collapsed": false,
     "input": [
      "#homes in intersection of all four months\n",
      "def get_json_data(folder, filename):    \n",
      "    dir_path = os.path.join(os.getcwd(),folder)\n",
      "    with open(os.path.join(dir_path, filename)) as outfile:\n",
      "        return json.load(outfile)\n",
      "    "
     ],
     "language": "python",
     "metadata": {},
     "outputs": [],
     "prompt_number": 3
    },
    {
     "cell_type": "code",
     "collapsed": false,
     "input": [
      "def init_dict():\n",
      "    global homes \n",
      "    homes= get_json_data('cars/April/','cars_April.json')\n",
      "    global home_ids\n",
      "    home_ids= homes.keys()\n",
      "    "
     ],
     "language": "python",
     "metadata": {},
     "outputs": [],
     "prompt_number": 4
    },
    {
     "cell_type": "code",
     "collapsed": false,
     "input": [
      "init_dict()"
     ],
     "language": "python",
     "metadata": {},
     "outputs": [],
     "prompt_number": 5
    },
    {
     "cell_type": "code",
     "collapsed": false,
     "input": [
      "def plot_a_home(home,col_name,time_frame):\n",
      "    y = home[col_name]\n",
      "    y_values=[]\n",
      "    x_ticks = []\n",
      "    if time_frame == 'day':\n",
      "        #update to be random \n",
      "        y_values = y[:1441]\n",
      "        locs = list(range(0,len(y_values),len(y_values)/4))\n",
      "        x_ticks = ['00:00','6:00','12:00','6:00','00:00']\n",
      "    if time_frame == 'week':\n",
      "        y_values = y[:10081]\n",
      "        locs = list(range(0,len(y_values),len(y_values)/6))\n",
      "        x_ticks = [str(i) for i in range(1,8)]\n",
      "    pyplt.xticks(locs,x_ticks)\n",
      "    pyplt.plot(y_values)\n",
      "    pyplt.show()"
     ],
     "language": "python",
     "metadata": {},
     "outputs": [],
     "prompt_number": 8
    },
    {
     "cell_type": "code",
     "collapsed": false,
     "input": [
      "def plot_all_homes(time_frame_num):\n",
      "    time_frame_len = (60*24*time_frame_num)\n",
      "    ev = np.zeros(time_frame_len)\n",
      "    for h in homes.values():\n",
      "        ev = np.add(ev,h['car1'][:time_frame_len])\n",
      "    if time_frame_num == 1:\n",
      "        locs = list(range(0,len(ev),len(ev)/4))\n",
      "        x_ticks = ['00:00','6:00','12:00','6:00','00:00']\n",
      "    if time_frame_num ==7:\n",
      "        locs = list(range(0,len(ev),len(ev)/6))\n",
      "        x_ticks = [str(i) for i in range(1,8)]  \n",
      "    ev= np.divide(ev,len(homes))\n",
      "    pyplt.xticks(locs,x_ticks)\n",
      "    pyplt.plot(ev)\n",
      "    pyplt.ylabel('Power')\n",
      "    pyplt.xlabel('Time')\n",
      "    pyplt.title('EV April')\n",
      "    pyplt.show()"
     ],
     "language": "python",
     "metadata": {},
     "outputs": [],
     "prompt_number": 23
    },
    {
     "cell_type": "code",
     "collapsed": false,
     "input": [
      "plot_a_home(homes[home_ids[12]],'car1','day')"
     ],
     "language": "python",
     "metadata": {},
     "outputs": [
      {
       "metadata": {},
       "output_type": "display_data",
       "png": "[encoded data removed]",
       "text": [
        "<matplotlib.figure.Figure at 0x10770af50>"
       ]
      }
     ],
     "prompt_number": 21
    },
    {
     "cell_type": "code",
     "collapsed": false,
     "input": [
      "plot_all_homes(1)\n",
      "####Averaging is terrible!"
     ],
     "language": "python",
     "metadata": {},
     "outputs": [
      {
       "metadata": {},
       "output_type": "display_data",
       "png": "[encoded data removed]",
       "text": [
        "<matplotlib.figure.Figure at 0x12d718e50>"
       ]
      }
     ],
     "prompt_number": 24
    },
    {
     "cell_type": "code",
     "collapsed": false,
     "input": [
      "##find max\n",
      "def look_at_distribution():\n",
      "    df = pd.DataFrame.from_dict(homes.values())\n",
      "    return df  "
     ],
     "language": "python",
     "metadata": {},
     "outputs": [],
     "prompt_number": 133
    },
    {
     "cell_type": "code",
     "collapsed": false,
     "input": [
      "homes_df = look_at_distribution()"
     ],
     "language": "python",
     "metadata": {},
     "outputs": [],
     "prompt_number": 134
    },
    {
     "cell_type": "code",
     "collapsed": false,
     "input": [
      "max((homes_df['car1']).max())"
     ],
     "language": "python",
     "metadata": {},
     "outputs": [
      {
       "metadata": {},
       "output_type": "pyout",
       "prompt_number": 143,
       "text": [
        "6.691"
       ]
      }
     ],
     "prompt_number": 143
    },
    {
     "cell_type": "code",
     "collapsed": false,
     "input": [
      "type(homes_df['car1'][0])"
     ],
     "language": "python",
     "metadata": {},
     "outputs": [
      {
       "metadata": {},
       "output_type": "pyout",
       "prompt_number": 164,
       "text": [
        "list"
       ]
      }
     ],
     "prompt_number": 164
    },
    {
     "cell_type": "code",
     "collapsed": false,
     "input": [
      "cars_hist = list([])"
     ],
     "language": "python",
     "metadata": {},
     "outputs": [],
     "prompt_number": 174
    },
    {
     "cell_type": "code",
     "collapsed": false,
     "input": [
      "for i in homes_df['car1']:\n",
      "    if len(i)==43200:\n",
      "        cars_hist = cars_hist + (i)"
     ],
     "language": "python",
     "metadata": {},
     "outputs": [],
     "prompt_number": 177
    },
    {
     "cell_type": "code",
     "collapsed": false,
     "input": [],
     "language": "python",
     "metadata": {},
     "outputs": []
    }
   ],
   "metadata": {}
  }
 ]
}