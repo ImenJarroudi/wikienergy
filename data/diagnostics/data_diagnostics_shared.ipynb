{
 "metadata": {
  "name": "",
  "signature": "sha256:822a8e45e3802fd77dc06aa7813ec1d85eeeffbb9c072a15add3dda569008cb9"
 },
 "nbformat": 3,
 "nbformat_minor": 0,
 "worksheets": [
  {
   "cells": [
    {
     "cell_type": "code",
     "collapsed": false,
     "input": [
      "\n",
      "import datetime\n",
      "import pandas as pd\n",
      "import sqlalchemy as sa\n",
      "from sqlalchemy import *\n",
      "import pandas as pd\n",
      "import os\n",
      "import numpy as np\n",
      "import operator\n",
      "import math\n",
      "import random\n",
      "from pylab import *"
     ],
     "language": "python",
     "metadata": {},
     "outputs": [],
     "prompt_number": 3
    },
    {
     "cell_type": "code",
     "collapsed": false,
     "input": [
      "import json \n",
      "import matplotlib \n",
      "import matplotlib.pyplot as pyplt\n",
      "%matplotlib inline"
     ],
     "language": "python",
     "metadata": {},
     "outputs": [],
     "prompt_number": 4
    },
    {
     "cell_type": "code",
     "collapsed": false,
     "input": [
      "##for accessing all months\n",
      "#months = ['01','02','03','04','05','06','07','08','09','10','11']\n",
      "month_titles={'01':'January','02':'February','03':'March','04':'April'}\n",
      "#days  = {'01':31,'02':28,'03':31,'04':30,'05':31,'06':30,'07':31,'08':31,'09':30,'10':31,'11':30}"
     ],
     "language": "python",
     "metadata": {},
     "outputs": [],
     "prompt_number": 5
    },
    {
     "cell_type": "code",
     "collapsed": false,
     "input": [
      "##engine information\n",
      "user_name = 'stomkins'\n",
      "pw='PASSWORD'\n",
      "host = \"db.wiki-energy.org\"\n",
      "port = \"5432\"\n",
      "db = \"postgres\"\n",
      "schema = '\\\"PecanStreet_SharedData\\\"'"
     ],
     "language": "python",
     "metadata": {},
     "outputs": [],
     "prompt_number": 6
    },
    {
     "cell_type": "code",
     "collapsed": false,
     "input": [
      "def get_eng():\n",
      "    url = \"postgresql\"+\"://\"+user_name+\":\"+pw+\"@\"+host+\":\"+port+\"/\"+db\n",
      "    eng = create_engine(url)\n",
      "    eng.echo=True\n",
      "    return eng"
     ],
     "language": "python",
     "metadata": {},
     "outputs": [],
     "prompt_number": 7
    },
    {
     "cell_type": "code",
     "collapsed": false,
     "input": [
      "def get_dataids(eng,table):\n",
      "    query = \"select distinct(\"+ schema + \".\"+table + \".dataid\" +\") from \" + schema + \".\" +table\n",
      "    eng_object=eng.execute(query)\n",
      "    l=list(eng_object.fetchall())\n",
      "    return l"
     ],
     "language": "python",
     "metadata": {},
     "outputs": [],
     "prompt_number": 8
    },
    {
     "cell_type": "code",
     "collapsed": false,
     "input": [
      "def get_table_by_id(eng,table,i):\n",
      "    query = \"select * from \"+schema+\".\"+table+ \" where \" +schema+\".\"+table+\".dataid=\"+i\n",
      "    eng_object=eng.execute(query)\n",
      "    df = pd.DataFrame.from_records(eng_object.fetchall())\n",
      "    df.columns = eng_object.keys()\n",
      "    return df"
     ],
     "language": "python",
     "metadata": {},
     "outputs": [],
     "prompt_number": 9
    },
    {
     "cell_type": "code",
     "collapsed": false,
     "input": [
      "def get_query(kind,col,table):\n",
      "    if kind=='sum':\n",
      "        return \"select sum(\"+col +\") from \" + schema +\".\"+ table\n",
      "    if kind =='count':\n",
      "        return \"select count(\"+col+ \") from \" + schema +\".\"+ table\n",
      "    if kind =='distinct':\n",
      "        return \"select distinct(\" + schema  +\".\"+table+\".\"+col+ \") from \" + schema +\".\"+ table\n",
      "    #+\".\"+table+\".\"+col+ \") from \" + schema +\".\"+ table\n"
     ],
     "language": "python",
     "metadata": {},
     "outputs": [],
     "prompt_number": 10
    },
    {
     "cell_type": "code",
     "collapsed": false,
     "input": [
      "def execute_query(eng,query,form):\n",
      "    ds =[]\n",
      "    eng_object=eng.execute(query)\n",
      "    if form == 'num':\n",
      "        ds=(eng_object.fetchall())\n",
      "    elif form=='ls':\n",
      "        ds = list(eng_object.fetchall())\n",
      "    elif form =='df':\n",
      "        ds = pd.DataFrame.from_records(eng_object.fetchall())\n",
      "        ds.columns = eng_object.keys()\n",
      "    return ds"
     ],
     "language": "python",
     "metadata": {},
     "outputs": [],
     "prompt_number": 11
    },
    {
     "cell_type": "code",
     "collapsed": false,
     "input": [
      "def get_hvac_stats(eng,month):\n",
      "    hvacs = {}\n",
      "    hvac_cols = ['air1','air2','air3','furnace1','furnace2','airwindowunit1','housefan1','heater1','use','car1']\n",
      "    hvacs_f = {'air':0,'furnaces':0,'heater':0,'use':0}\n",
      "    for c in hvac_cols:\n",
      "        hvacs[c]=execute_query(eng,get_query('sum',c,\"validated_\"+month+\"_2014\"),'ls') \n",
      "    #hvacs['total_rows'] =  execute_query(eng,len_query,'ls')\n",
      "    hvacs={k:float(list(hvacs[k][0])[0]) for k in hvacs.keys() if not (math.isnan(float(list(hvacs[k][0])[0])))}\n",
      "    hvacs_f['air']=hvacs['air1']+hvacs['air2']+hvacs['air3']+hvacs['airwindowunit1']\n",
      "    hvacs_f['furnaces'] = hvacs['furnace1']+hvacs['furnace2']\n",
      "    hvacs_f['use']=hvacs['use']-hvacs['car1']\n",
      "    return hvacs_f"
     ],
     "language": "python",
     "metadata": {},
     "outputs": [],
     "prompt_number": 12
    },
    {
     "cell_type": "code",
     "collapsed": false,
     "input": [
      "eng = get_eng()"
     ],
     "language": "python",
     "metadata": {},
     "outputs": [],
     "prompt_number": 13
    },
    {
     "cell_type": "code",
     "collapsed": false,
     "input": [
      "q=get_query('distinct',\"dataid\",\"validated_01_2014\")\n"
     ],
     "language": "python",
     "metadata": {},
     "outputs": [],
     "prompt_number": 14
    },
    {
     "cell_type": "code",
     "collapsed": false,
     "input": [
      "dataids = execute_query(eng,q,'ls')"
     ],
     "language": "python",
     "metadata": {},
     "outputs": [
      {
       "output_type": "stream",
       "stream": "stdout",
       "text": [
        "2014-06-18 16:12:20,077 INFO sqlalchemy.engine.base.Engine select version()\n"
       ]
      },
      {
       "output_type": "stream",
       "stream": "stderr",
       "text": [
        "INFO:sqlalchemy.engine.base.Engine:select version()\n"
       ]
      },
      {
       "output_type": "stream",
       "stream": "stdout",
       "text": [
        "2014-06-18 16:12:20,079 INFO sqlalchemy.engine.base.Engine {}\n"
       ]
      },
      {
       "output_type": "stream",
       "stream": "stderr",
       "text": [
        "INFO:sqlalchemy.engine.base.Engine:{}\n"
       ]
      },
      {
       "output_type": "stream",
       "stream": "stdout",
       "text": [
        "2014-06-18 16:12:20,364 INFO sqlalchemy.engine.base.Engine select current_schema()\n"
       ]
      },
      {
       "output_type": "stream",
       "stream": "stderr",
       "text": [
        "INFO:sqlalchemy.engine.base.Engine:select current_schema()\n"
       ]
      },
      {
       "output_type": "stream",
       "stream": "stdout",
       "text": [
        "2014-06-18 16:12:20,365 INFO sqlalchemy.engine.base.Engine {}\n"
       ]
      },
      {
       "output_type": "stream",
       "stream": "stderr",
       "text": [
        "INFO:sqlalchemy.engine.base.Engine:{}\n"
       ]
      },
      {
       "output_type": "stream",
       "stream": "stdout",
       "text": [
        "2014-06-18 16:12:20,659 INFO sqlalchemy.engine.base.Engine SELECT CAST('test plain returns' AS VARCHAR(60)) AS anon_1\n"
       ]
      },
      {
       "output_type": "stream",
       "stream": "stderr",
       "text": [
        "INFO:sqlalchemy.engine.base.Engine:SELECT CAST('test plain returns' AS VARCHAR(60)) AS anon_1\n"
       ]
      },
      {
       "output_type": "stream",
       "stream": "stdout",
       "text": [
        "2014-06-18 16:12:20,660 INFO sqlalchemy.engine.base.Engine {}\n"
       ]
      },
      {
       "output_type": "stream",
       "stream": "stderr",
       "text": [
        "INFO:sqlalchemy.engine.base.Engine:{}\n"
       ]
      },
      {
       "output_type": "stream",
       "stream": "stdout",
       "text": [
        "2014-06-18 16:12:20,799 INFO sqlalchemy.engine.base.Engine SELECT CAST('test unicode returns' AS VARCHAR(60)) AS anon_1\n"
       ]
      },
      {
       "output_type": "stream",
       "stream": "stderr",
       "text": [
        "INFO:sqlalchemy.engine.base.Engine:SELECT CAST('test unicode returns' AS VARCHAR(60)) AS anon_1\n"
       ]
      },
      {
       "output_type": "stream",
       "stream": "stdout",
       "text": [
        "2014-06-18 16:12:20,801 INFO sqlalchemy.engine.base.Engine {}\n"
       ]
      },
      {
       "output_type": "stream",
       "stream": "stderr",
       "text": [
        "INFO:sqlalchemy.engine.base.Engine:{}\n"
       ]
      },
      {
       "output_type": "stream",
       "stream": "stdout",
       "text": [
        "2014-06-18 16:12:21,287 INFO sqlalchemy.engine.base.Engine show standard_conforming_strings\n"
       ]
      },
      {
       "output_type": "stream",
       "stream": "stderr",
       "text": [
        "INFO:sqlalchemy.engine.base.Engine:show standard_conforming_strings\n"
       ]
      },
      {
       "output_type": "stream",
       "stream": "stdout",
       "text": [
        "2014-06-18 16:12:21,289 INFO sqlalchemy.engine.base.Engine {}\n"
       ]
      },
      {
       "output_type": "stream",
       "stream": "stderr",
       "text": [
        "INFO:sqlalchemy.engine.base.Engine:{}\n"
       ]
      },
      {
       "output_type": "stream",
       "stream": "stdout",
       "text": [
        "2014-06-18 16:12:21,672 INFO sqlalchemy.engine.base.Engine select distinct(\"PecanStreet_SharedData\".validated_01_2014.dataid) from \"PecanStreet_SharedData\".validated_01_2014\n"
       ]
      },
      {
       "output_type": "stream",
       "stream": "stderr",
       "text": [
        "INFO:sqlalchemy.engine.base.Engine:select distinct(\"PecanStreet_SharedData\".validated_01_2014.dataid) from \"PecanStreet_SharedData\".validated_01_2014\n"
       ]
      },
      {
       "output_type": "stream",
       "stream": "stdout",
       "text": [
        "2014-06-18 16:12:21,673 INFO sqlalchemy.engine.base.Engine {}\n"
       ]
      },
      {
       "output_type": "stream",
       "stream": "stderr",
       "text": [
        "INFO:sqlalchemy.engine.base.Engine:{}\n"
       ]
      }
     ],
     "prompt_number": 15
    },
    {
     "cell_type": "code",
     "collapsed": false,
     "input": [
      "dataids = [str(d[0]) for d in dataids]"
     ],
     "language": "python",
     "metadata": {},
     "outputs": [],
     "prompt_number": 16
    },
    {
     "cell_type": "code",
     "collapsed": false,
     "input": [
      "dataids"
     ],
     "language": "python",
     "metadata": {},
     "outputs": [
      {
       "metadata": {},
       "output_type": "pyout",
       "prompt_number": 17,
       "text": [
        "['744',\n",
        " '2129',\n",
        " '2575',\n",
        " '4874',\n",
        " '7989',\n",
        " '410',\n",
        " '1782',\n",
        " '3394',\n",
        " '8467',\n",
        " '1167',\n",
        " '5026',\n",
        " '8142',\n",
        " '5218',\n",
        " '8736',\n",
        " '3263',\n",
        " '6673',\n",
        " '7617',\n",
        " '8342',\n",
        " '8829',\n",
        " '3544',\n",
        " '370',\n",
        " '3736',\n",
        " '4505',\n",
        " '9938',\n",
        " '9922',\n",
        " '3795',\n",
        " '9771',\n",
        " '821',\n",
        " '94',\n",
        " '2171',\n",
        " '4313',\n",
        " '2769',\n",
        " '9499',\n",
        " '1800',\n",
        " '2829',\n",
        " '4373',\n",
        " '4154',\n",
        " '6941',\n",
        " '1632',\n",
        " '3504',\n",
        " '5972',\n",
        " '585',\n",
        " '3649',\n",
        " '871',\n",
        " '5938',\n",
        " '5357',\n",
        " '1283',\n",
        " '3652',\n",
        " '9937',\n",
        " '3044',\n",
        " '5109',\n",
        " '936',\n",
        " '1994',\n",
        " '9729',\n",
        " '2606',\n",
        " '4447',\n",
        " '5785',\n",
        " '7800',\n",
        " '484',\n",
        " '3221',\n",
        " '2156',\n",
        " '5746',\n",
        " '3367',\n",
        " '2953',\n",
        " '7390',\n",
        " '1953',\n",
        " '5395',\n",
        " '545',\n",
        " '2470',\n",
        " '6730',\n",
        " '2638',\n",
        " '7940',\n",
        " '9548',\n",
        " '2449',\n",
        " '5874',\n",
        " '2818',\n",
        " '86',\n",
        " '9343',\n",
        " '7731',\n",
        " '4298',\n",
        " '9701',\n",
        " '8419',\n",
        " '2945',\n",
        " '5275',\n",
        " '9875',\n",
        " '3482',\n",
        " '9654',\n",
        " '9939',\n",
        " '1731',\n",
        " '4922',\n",
        " '2094',\n",
        " '2974',\n",
        " '3456',\n",
        " '8852',\n",
        " '3893',\n",
        " '9609',\n",
        " '4957',\n",
        " '1697',\n",
        " '4135',\n",
        " '9160',\n",
        " '8292',\n",
        " '2233',\n",
        " '4342',\n",
        " '93',\n",
        " '8741',\n",
        " '8645',\n",
        " '9578',\n",
        " '5545',\n",
        " '3967',\n",
        " '9915',\n",
        " '661',\n",
        " '1464',\n",
        " '3778',\n",
        " '6990',\n",
        " '6412',\n",
        " '8317',\n",
        " '8079',\n",
        " '9484',\n",
        " '4514',\n",
        " '3723',\n",
        " '8197',\n",
        " '6836',\n",
        " '9830',\n",
        " '4641',\n",
        " '5677',\n",
        " '4031',\n",
        " '9643',\n",
        " '7788',\n",
        " '7531',\n",
        " '1718',\n",
        " '2814',\n",
        " '3092',\n",
        " '9019',\n",
        " '1642',\n",
        " '5209',\n",
        " '6910',\n",
        " '2337',\n",
        " '9555',\n",
        " '8084',\n",
        " '7850',\n",
        " '9121',\n",
        " '7062',\n",
        " '7863',\n",
        " '1790',\n",
        " '1169',\n",
        " '2242',\n",
        " '9932',\n",
        " '9926',\n",
        " '9934',\n",
        " '1334',\n",
        " '9983',\n",
        " '1192',\n",
        " '8031',\n",
        " '5262',\n",
        " '8669',\n",
        " '2864',\n",
        " '5371',\n",
        " '3039',\n",
        " '8061',\n",
        " '7536',\n",
        " '5949',\n",
        " '2158',\n",
        " '9036',\n",
        " '7504',\n",
        " '4956',\n",
        " '7319',\n",
        " '9737',\n",
        " '4336',\n",
        " '9933',\n",
        " '3918',\n",
        " '7875',\n",
        " '9942',\n",
        " '4526',\n",
        " '6423',\n",
        " '490',\n",
        " '5814',\n",
        " '9982',\n",
        " '7982',\n",
        " '739',\n",
        " '3192',\n",
        " '4732',\n",
        " '4767',\n",
        " '6636',\n",
        " '7769',\n",
        " '8956',\n",
        " '8046',\n",
        " '4773',\n",
        " '7951',\n",
        " '7597',\n",
        " '8047',\n",
        " '4998',\n",
        " '1629',\n",
        " '624',\n",
        " '9356',\n",
        " '6139',\n",
        " '1801',\n",
        " '5568',\n",
        " '1185',\n",
        " '1714',\n",
        " '2335']"
       ]
      }
     ],
     "prompt_number": 17
    },
    {
     "cell_type": "code",
     "collapsed": false,
     "input": [
      "#dataids[0][0]\n",
      "test = get_table_by_id(eng,\"validated_01_2014\",str(dataids[0][0]))\n"
     ],
     "language": "python",
     "metadata": {},
     "outputs": [
      {
       "output_type": "stream",
       "stream": "stdout",
       "text": [
        "2014-06-18 16:12:27,520 INFO sqlalchemy.engine.base.Engine select * from \"PecanStreet_SharedData\".validated_01_2014 where \"PecanStreet_SharedData\".validated_01_2014.dataid=7\n"
       ]
      },
      {
       "output_type": "stream",
       "stream": "stderr",
       "text": [
        "INFO:sqlalchemy.engine.base.Engine:select * from \"PecanStreet_SharedData\".validated_01_2014 where \"PecanStreet_SharedData\".validated_01_2014.dataid=7\n"
       ]
      },
      {
       "output_type": "stream",
       "stream": "stdout",
       "text": [
        "2014-06-18 16:12:27,521 INFO sqlalchemy.engine.base.Engine {}\n"
       ]
      },
      {
       "output_type": "stream",
       "stream": "stderr",
       "text": [
        "INFO:sqlalchemy.engine.base.Engine:{}\n"
       ]
      },
      {
       "ename": "Exception",
       "evalue": "Length mismatch (73 vs 0)",
       "output_type": "pyerr",
       "traceback": [
        "\u001b[0;31m---------------------------------------------------------------------------\u001b[0m\n\u001b[0;31mException\u001b[0m                                 Traceback (most recent call last)",
        "\u001b[0;32m<ipython-input-18-5e45d6d7f696>\u001b[0m in \u001b[0;36m<module>\u001b[0;34m()\u001b[0m\n\u001b[1;32m      1\u001b[0m \u001b[0;31m#dataids[0][0]\u001b[0m\u001b[0;34m\u001b[0m\u001b[0;34m\u001b[0m\u001b[0m\n\u001b[0;32m----> 2\u001b[0;31m \u001b[0mtest\u001b[0m \u001b[0;34m=\u001b[0m \u001b[0mget_table_by_id\u001b[0m\u001b[0;34m(\u001b[0m\u001b[0meng\u001b[0m\u001b[0;34m,\u001b[0m\u001b[0;34m\"validated_01_2014\"\u001b[0m\u001b[0;34m,\u001b[0m\u001b[0mstr\u001b[0m\u001b[0;34m(\u001b[0m\u001b[0mdataids\u001b[0m\u001b[0;34m[\u001b[0m\u001b[0;36m0\u001b[0m\u001b[0;34m]\u001b[0m\u001b[0;34m[\u001b[0m\u001b[0;36m0\u001b[0m\u001b[0;34m]\u001b[0m\u001b[0;34m)\u001b[0m\u001b[0;34m)\u001b[0m\u001b[0;34m\u001b[0m\u001b[0m\n\u001b[0m",
        "\u001b[0;32m<ipython-input-9-d18d8d644fe6>\u001b[0m in \u001b[0;36mget_table_by_id\u001b[0;34m(eng, table, i)\u001b[0m\n\u001b[1;32m      3\u001b[0m     \u001b[0meng_object\u001b[0m\u001b[0;34m=\u001b[0m\u001b[0meng\u001b[0m\u001b[0;34m.\u001b[0m\u001b[0mexecute\u001b[0m\u001b[0;34m(\u001b[0m\u001b[0mquery\u001b[0m\u001b[0;34m)\u001b[0m\u001b[0;34m\u001b[0m\u001b[0m\n\u001b[1;32m      4\u001b[0m     \u001b[0mdf\u001b[0m \u001b[0;34m=\u001b[0m \u001b[0mpd\u001b[0m\u001b[0;34m.\u001b[0m\u001b[0mDataFrame\u001b[0m\u001b[0;34m.\u001b[0m\u001b[0mfrom_records\u001b[0m\u001b[0;34m(\u001b[0m\u001b[0meng_object\u001b[0m\u001b[0;34m.\u001b[0m\u001b[0mfetchall\u001b[0m\u001b[0;34m(\u001b[0m\u001b[0;34m)\u001b[0m\u001b[0;34m)\u001b[0m\u001b[0;34m\u001b[0m\u001b[0m\n\u001b[0;32m----> 5\u001b[0;31m     \u001b[0mdf\u001b[0m\u001b[0;34m.\u001b[0m\u001b[0mcolumns\u001b[0m \u001b[0;34m=\u001b[0m \u001b[0meng_object\u001b[0m\u001b[0;34m.\u001b[0m\u001b[0mkeys\u001b[0m\u001b[0;34m(\u001b[0m\u001b[0;34m)\u001b[0m\u001b[0;34m\u001b[0m\u001b[0m\n\u001b[0m\u001b[1;32m      6\u001b[0m     \u001b[0;32mreturn\u001b[0m \u001b[0mdf\u001b[0m\u001b[0;34m\u001b[0m\u001b[0m\n",
        "\u001b[0;32m/usr/local/lib/python2.7/site-packages/pandas/core/frame.pyc\u001b[0m in \u001b[0;36m__setattr__\u001b[0;34m(self, name, value)\u001b[0m\n\u001b[1;32m   2097\u001b[0m                 \u001b[0mexisting\u001b[0m \u001b[0;34m=\u001b[0m \u001b[0mgetattr\u001b[0m\u001b[0;34m(\u001b[0m\u001b[0mself\u001b[0m\u001b[0;34m,\u001b[0m \u001b[0mname\u001b[0m\u001b[0;34m)\u001b[0m\u001b[0;34m\u001b[0m\u001b[0m\n\u001b[1;32m   2098\u001b[0m                 \u001b[0;32mif\u001b[0m \u001b[0misinstance\u001b[0m\u001b[0;34m(\u001b[0m\u001b[0mexisting\u001b[0m\u001b[0;34m,\u001b[0m \u001b[0mIndex\u001b[0m\u001b[0;34m)\u001b[0m\u001b[0;34m:\u001b[0m\u001b[0;34m\u001b[0m\u001b[0m\n\u001b[0;32m-> 2099\u001b[0;31m                     \u001b[0msuper\u001b[0m\u001b[0;34m(\u001b[0m\u001b[0mDataFrame\u001b[0m\u001b[0;34m,\u001b[0m \u001b[0mself\u001b[0m\u001b[0;34m)\u001b[0m\u001b[0;34m.\u001b[0m\u001b[0m__setattr__\u001b[0m\u001b[0;34m(\u001b[0m\u001b[0mname\u001b[0m\u001b[0;34m,\u001b[0m \u001b[0mvalue\u001b[0m\u001b[0;34m)\u001b[0m\u001b[0;34m\u001b[0m\u001b[0m\n\u001b[0m\u001b[1;32m   2100\u001b[0m                 \u001b[0;32melif\u001b[0m \u001b[0mname\u001b[0m \u001b[0;32min\u001b[0m \u001b[0mself\u001b[0m\u001b[0;34m.\u001b[0m\u001b[0mcolumns\u001b[0m\u001b[0;34m:\u001b[0m\u001b[0;34m\u001b[0m\u001b[0m\n\u001b[1;32m   2101\u001b[0m                     \u001b[0mself\u001b[0m\u001b[0;34m[\u001b[0m\u001b[0mname\u001b[0m\u001b[0;34m]\u001b[0m \u001b[0;34m=\u001b[0m \u001b[0mvalue\u001b[0m\u001b[0;34m\u001b[0m\u001b[0m\n",
        "\u001b[0;32m/usr/local/lib/python2.7/site-packages/pandas/lib.so\u001b[0m in \u001b[0;36mpandas.lib.AxisProperty.__set__ (pandas/lib.c:29330)\u001b[0;34m()\u001b[0m\n",
        "\u001b[0;32m/usr/local/lib/python2.7/site-packages/pandas/core/generic.pyc\u001b[0m in \u001b[0;36m_set_axis\u001b[0;34m(self, axis, labels)\u001b[0m\n\u001b[1;32m    654\u001b[0m \u001b[0;34m\u001b[0m\u001b[0m\n\u001b[1;32m    655\u001b[0m     \u001b[0;32mdef\u001b[0m \u001b[0m_set_axis\u001b[0m\u001b[0;34m(\u001b[0m\u001b[0mself\u001b[0m\u001b[0;34m,\u001b[0m \u001b[0maxis\u001b[0m\u001b[0;34m,\u001b[0m \u001b[0mlabels\u001b[0m\u001b[0;34m)\u001b[0m\u001b[0;34m:\u001b[0m\u001b[0;34m\u001b[0m\u001b[0m\n\u001b[0;32m--> 656\u001b[0;31m         \u001b[0mself\u001b[0m\u001b[0;34m.\u001b[0m\u001b[0m_data\u001b[0m\u001b[0;34m.\u001b[0m\u001b[0mset_axis\u001b[0m\u001b[0;34m(\u001b[0m\u001b[0maxis\u001b[0m\u001b[0;34m,\u001b[0m \u001b[0mlabels\u001b[0m\u001b[0;34m)\u001b[0m\u001b[0;34m\u001b[0m\u001b[0m\n\u001b[0m\u001b[1;32m    657\u001b[0m         \u001b[0mself\u001b[0m\u001b[0;34m.\u001b[0m\u001b[0m_clear_item_cache\u001b[0m\u001b[0;34m(\u001b[0m\u001b[0;34m)\u001b[0m\u001b[0;34m\u001b[0m\u001b[0m\n\u001b[1;32m    658\u001b[0m \u001b[0;34m\u001b[0m\u001b[0m\n",
        "\u001b[0;32m/usr/local/lib/python2.7/site-packages/pandas/core/internals.pyc\u001b[0m in \u001b[0;36mset_axis\u001b[0;34m(self, axis, value, maybe_rename, check_axis)\u001b[0m\n\u001b[1;32m   1024\u001b[0m         \u001b[0;32mif\u001b[0m \u001b[0mcheck_axis\u001b[0m \u001b[0;32mand\u001b[0m \u001b[0mlen\u001b[0m\u001b[0;34m(\u001b[0m\u001b[0mvalue\u001b[0m\u001b[0;34m)\u001b[0m \u001b[0;34m!=\u001b[0m \u001b[0mlen\u001b[0m\u001b[0;34m(\u001b[0m\u001b[0mcur_axis\u001b[0m\u001b[0;34m)\u001b[0m\u001b[0;34m:\u001b[0m\u001b[0;34m\u001b[0m\u001b[0m\n\u001b[1;32m   1025\u001b[0m             raise Exception('Length mismatch (%d vs %d)'\n\u001b[0;32m-> 1026\u001b[0;31m                             % (len(value), len(cur_axis)))\n\u001b[0m\u001b[1;32m   1027\u001b[0m \u001b[0;34m\u001b[0m\u001b[0m\n\u001b[1;32m   1028\u001b[0m         \u001b[0mself\u001b[0m\u001b[0;34m.\u001b[0m\u001b[0maxes\u001b[0m\u001b[0;34m[\u001b[0m\u001b[0maxis\u001b[0m\u001b[0;34m]\u001b[0m \u001b[0;34m=\u001b[0m \u001b[0mvalue\u001b[0m\u001b[0;34m\u001b[0m\u001b[0m\n",
        "\u001b[0;31mException\u001b[0m: Length mismatch (73 vs 0)"
       ]
      }
     ],
     "prompt_number": 18
    },
    {
     "cell_type": "code",
     "collapsed": false,
     "input": [
      "def get_sums(house):\n",
      "   # house=house.drop('id',axis=1)\n",
      "    house=house.drop('dataid',axis=1)\n",
      "    house=house.drop('localminute',axis=1)\n",
      "    sums={}\n",
      "   # print(house.columns)\n",
      "    for col in house.columns:\n",
      "       sums[str(col)]=float(house[col].sum())\n",
      "    return sums  "
     ],
     "language": "python",
     "metadata": {},
     "outputs": [],
     "prompt_number": 19
    },
    {
     "cell_type": "code",
     "collapsed": false,
     "input": [
      "##for all the houses return the highest appliances\n",
      "def get_highest(house):\n",
      "    sums= get_sums(house)\n",
      "    sums.pop('use',None)\n",
      "    #sums.pop('car1',None)\n",
      "    sorted_sums = sorted(sums.iteritems(), key=operator.itemgetter(1), reverse = True)\n",
      "    \n",
      "    return dict(sorted_sums)"
     ],
     "language": "python",
     "metadata": {},
     "outputs": [],
     "prompt_number": 20
    },
    {
     "cell_type": "code",
     "collapsed": false,
     "input": [
      "get_table_by_id(eng,\"validated_01_2014\",'9771')"
     ],
     "language": "python",
     "metadata": {},
     "outputs": [
      {
       "output_type": "stream",
       "stream": "stdout",
       "text": [
        "2014-06-18 16:12:32,797 INFO sqlalchemy.engine.base.Engine select * from \"PecanStreet_SharedData\".validated_01_2014 where \"PecanStreet_SharedData\".validated_01_2014.dataid=9771\n"
       ]
      },
      {
       "output_type": "stream",
       "stream": "stderr",
       "text": [
        "INFO:sqlalchemy.engine.base.Engine:select * from \"PecanStreet_SharedData\".validated_01_2014 where \"PecanStreet_SharedData\".validated_01_2014.dataid=9771\n"
       ]
      },
      {
       "output_type": "stream",
       "stream": "stdout",
       "text": [
        "2014-06-18 16:12:32,799 INFO sqlalchemy.engine.base.Engine {}\n"
       ]
      },
      {
       "output_type": "stream",
       "stream": "stderr",
       "text": [
        "INFO:sqlalchemy.engine.base.Engine:{}\n"
       ]
      }
     ]
    },
    {
     "cell_type": "code",
     "collapsed": false,
     "input": [
      "for homeid in dataids:\n",
      "    home = get_table_by_id(eng,\"validated_01_2014\",homeid)\n",
      "    if 'use' not in home.columns:\n",
      "        print homeid"
     ],
     "language": "python",
     "metadata": {},
     "outputs": []
    },
    {
     "cell_type": "code",
     "collapsed": false,
     "input": [
      "##check if gen is only non nan\n",
      "homes_with_gen_only=[]\n",
      "dir_path = os.path.join(os.getcwd(), 'homes/' ) \n",
      "    #os.makedirs(dir_path)\n",
      "filename = 'genonly.txt'\n",
      "for homeid in dataids:\n",
      "    home = get_table_by_id(eng,\"validated_01_2014\",homeid)\n",
      "    l = [i for i in home.dropna(axis=1).columns]\n",
      "    \n",
      "    if len(l)<5 and 'gen' in l:\n",
      "        homes_with_gen_only.append(homeid)\n",
      "with open(os.path.join(dir_path, filename), 'w') as outfile:\n",
      "    outfile.writelines(homes_with_gen_only)"
     ],
     "language": "python",
     "metadata": {},
     "outputs": []
    },
    {
     "cell_type": "code",
     "collapsed": false,
     "input": [
      "homeid"
     ],
     "language": "python",
     "metadata": {},
     "outputs": []
    },
    {
     "cell_type": "code",
     "collapsed": false,
     "input": [
      "t = get_table_by_id(\"3368\")"
     ],
     "language": "python",
     "metadata": {},
     "outputs": []
    },
    {
     "cell_type": "code",
     "collapsed": false,
     "input": [
      "def get_apps(df):\n",
      "    apps = {}\n",
      "    print(len(df.columns))\n",
      "    for col in df.columns:\n",
      "        if col!='localminute':\n",
      "          if df[col].sum()!='nan':  \n",
      "              apps[col]=df[col].sum()\n",
      "    print(len(apps))\n",
      "    return apps"
     ],
     "language": "python",
     "metadata": {},
     "outputs": [],
     "prompt_number": 30
    },
    {
     "cell_type": "code",
     "collapsed": false,
     "input": [
      "##should make this faster\n",
      "def get_pie(d,drop,title):\n",
      "    if drop in d:\n",
      "        d.pop(drop,None)\n",
      "    fracs = [float(i) for i in d.values() if not (math.isnan(float(i)))]\n",
      "    labels = [k for k in d.keys()] \n",
      "    ax = pyplt.figure(figsize=(6,6))\n",
      "    pyplt.pie(fracs,labels=labels)\n",
      "    pyplt.title(title)\n",
      "    savefig(title+'.png')\n",
      "    pyplt.clf()\n",
      "    pyplt.cla()\n",
      "    pyplt.close()"
     ],
     "language": "python",
     "metadata": {},
     "outputs": [],
     "prompt_number": 182
    },
    {
     "cell_type": "code",
     "collapsed": false,
     "input": [
      "##get graphs for all 4 2014 months \n",
      "def get_pie_month_hvac(eng,month):\n",
      "    h = get_hvac_stats(eng,month)\n",
      "    print h\n",
      "  #  h={k:float(list(h[k][0])[0]) for k in h.keys()}\n",
      "    get_pie(h,'total_rows',month_titles[month]+'_HVAC_and_USE_wo_ev')"
     ],
     "language": "python",
     "metadata": {},
     "outputs": [],
     "prompt_number": 191
    },
    {
     "cell_type": "code",
     "collapsed": false,
     "input": [
      "\n",
      "get_pie_month_hvac(eng,'04')"
     ],
     "language": "python",
     "metadata": {},
     "outputs": [
      {
       "output_type": "stream",
       "stream": "stdout",
       "text": [
        "2014-06-18 12:56:07,126 INFO sqlalchemy.engine.base.Engine select sum(air1) from \"PecanStreet_SharedData\".validated_04_2014\n"
       ]
      },
      {
       "output_type": "stream",
       "stream": "stderr",
       "text": [
        "INFO:sqlalchemy.engine.base.Engine:select sum(air1) from \"PecanStreet_SharedData\".validated_04_2014\n"
       ]
      },
      {
       "output_type": "stream",
       "stream": "stdout",
       "text": [
        "2014-06-18 12:56:07,126 INFO sqlalchemy.engine.base.Engine {}\n"
       ]
      },
      {
       "output_type": "stream",
       "stream": "stderr",
       "text": [
        "INFO:sqlalchemy.engine.base.Engine:{}\n"
       ]
      },
      {
       "output_type": "stream",
       "stream": "stdout",
       "text": [
        "2014-06-18 12:56:11,750 INFO sqlalchemy.engine.base.Engine select sum(air2) from \"PecanStreet_SharedData\".validated_04_2014\n"
       ]
      },
      {
       "output_type": "stream",
       "stream": "stderr",
       "text": [
        "INFO:sqlalchemy.engine.base.Engine:select sum(air2) from \"PecanStreet_SharedData\".validated_04_2014\n"
       ]
      },
      {
       "output_type": "stream",
       "stream": "stdout",
       "text": [
        "2014-06-18 12:56:11,751 INFO sqlalchemy.engine.base.Engine {}\n"
       ]
      },
      {
       "output_type": "stream",
       "stream": "stderr",
       "text": [
        "INFO:sqlalchemy.engine.base.Engine:{}\n"
       ]
      },
      {
       "output_type": "stream",
       "stream": "stdout",
       "text": [
        "2014-06-18 12:56:15,639 INFO sqlalchemy.engine.base.Engine select sum(air3) from \"PecanStreet_SharedData\".validated_04_2014\n"
       ]
      },
      {
       "output_type": "stream",
       "stream": "stderr",
       "text": [
        "INFO:sqlalchemy.engine.base.Engine:select sum(air3) from \"PecanStreet_SharedData\".validated_04_2014\n"
       ]
      },
      {
       "output_type": "stream",
       "stream": "stdout",
       "text": [
        "2014-06-18 12:56:15,641 INFO sqlalchemy.engine.base.Engine {}\n"
       ]
      },
      {
       "output_type": "stream",
       "stream": "stderr",
       "text": [
        "INFO:sqlalchemy.engine.base.Engine:{}\n"
       ]
      },
      {
       "output_type": "stream",
       "stream": "stdout",
       "text": [
        "2014-06-18 12:56:18,143 INFO sqlalchemy.engine.base.Engine select sum(furnace1) from \"PecanStreet_SharedData\".validated_04_2014\n"
       ]
      },
      {
       "output_type": "stream",
       "stream": "stderr",
       "text": [
        "INFO:sqlalchemy.engine.base.Engine:select sum(furnace1) from \"PecanStreet_SharedData\".validated_04_2014\n"
       ]
      },
      {
       "output_type": "stream",
       "stream": "stdout",
       "text": [
        "2014-06-18 12:56:18,145 INFO sqlalchemy.engine.base.Engine {}\n"
       ]
      },
      {
       "output_type": "stream",
       "stream": "stderr",
       "text": [
        "INFO:sqlalchemy.engine.base.Engine:{}\n"
       ]
      },
      {
       "output_type": "stream",
       "stream": "stdout",
       "text": [
        "2014-06-18 12:56:23,785 INFO sqlalchemy.engine.base.Engine select sum(furnace2) from \"PecanStreet_SharedData\".validated_04_2014\n"
       ]
      },
      {
       "output_type": "stream",
       "stream": "stderr",
       "text": [
        "INFO:sqlalchemy.engine.base.Engine:select sum(furnace2) from \"PecanStreet_SharedData\".validated_04_2014\n"
       ]
      },
      {
       "output_type": "stream",
       "stream": "stdout",
       "text": [
        "2014-06-18 12:56:23,786 INFO sqlalchemy.engine.base.Engine {}\n"
       ]
      },
      {
       "output_type": "stream",
       "stream": "stderr",
       "text": [
        "INFO:sqlalchemy.engine.base.Engine:{}\n"
       ]
      },
      {
       "output_type": "stream",
       "stream": "stdout",
       "text": [
        "2014-06-18 12:56:26,911 INFO sqlalchemy.engine.base.Engine select sum(airwindowunit1) from \"PecanStreet_SharedData\".validated_04_2014\n"
       ]
      },
      {
       "output_type": "stream",
       "stream": "stderr",
       "text": [
        "INFO:sqlalchemy.engine.base.Engine:select sum(airwindowunit1) from \"PecanStreet_SharedData\".validated_04_2014\n"
       ]
      },
      {
       "output_type": "stream",
       "stream": "stdout",
       "text": [
        "2014-06-18 12:56:26,912 INFO sqlalchemy.engine.base.Engine {}\n"
       ]
      },
      {
       "output_type": "stream",
       "stream": "stderr",
       "text": [
        "INFO:sqlalchemy.engine.base.Engine:{}\n"
       ]
      },
      {
       "output_type": "stream",
       "stream": "stdout",
       "text": [
        "2014-06-18 12:56:29,515 INFO sqlalchemy.engine.base.Engine select sum(housefan1) from \"PecanStreet_SharedData\".validated_04_2014\n"
       ]
      },
      {
       "output_type": "stream",
       "stream": "stderr",
       "text": [
        "INFO:sqlalchemy.engine.base.Engine:select sum(housefan1) from \"PecanStreet_SharedData\".validated_04_2014\n"
       ]
      },
      {
       "output_type": "stream",
       "stream": "stdout",
       "text": [
        "2014-06-18 12:56:29,516 INFO sqlalchemy.engine.base.Engine {}\n"
       ]
      },
      {
       "output_type": "stream",
       "stream": "stderr",
       "text": [
        "INFO:sqlalchemy.engine.base.Engine:{}\n"
       ]
      },
      {
       "output_type": "stream",
       "stream": "stdout",
       "text": [
        "2014-06-18 12:56:34,201 INFO sqlalchemy.engine.base.Engine select sum(heater1) from \"PecanStreet_SharedData\".validated_04_2014\n"
       ]
      },
      {
       "output_type": "stream",
       "stream": "stderr",
       "text": [
        "INFO:sqlalchemy.engine.base.Engine:select sum(heater1) from \"PecanStreet_SharedData\".validated_04_2014\n"
       ]
      },
      {
       "output_type": "stream",
       "stream": "stdout",
       "text": [
        "2014-06-18 12:56:34,202 INFO sqlalchemy.engine.base.Engine {}\n"
       ]
      },
      {
       "output_type": "stream",
       "stream": "stderr",
       "text": [
        "INFO:sqlalchemy.engine.base.Engine:{}\n"
       ]
      },
      {
       "output_type": "stream",
       "stream": "stdout",
       "text": [
        "2014-06-18 12:56:38,657 INFO sqlalchemy.engine.base.Engine select sum(use) from \"PecanStreet_SharedData\".validated_04_2014\n"
       ]
      },
      {
       "output_type": "stream",
       "stream": "stderr",
       "text": [
        "INFO:sqlalchemy.engine.base.Engine:select sum(use) from \"PecanStreet_SharedData\".validated_04_2014\n"
       ]
      },
      {
       "output_type": "stream",
       "stream": "stdout",
       "text": [
        "2014-06-18 12:56:38,658 INFO sqlalchemy.engine.base.Engine {}\n"
       ]
      },
      {
       "output_type": "stream",
       "stream": "stderr",
       "text": [
        "INFO:sqlalchemy.engine.base.Engine:{}\n"
       ]
      },
      {
       "output_type": "stream",
       "stream": "stdout",
       "text": [
        "2014-06-18 12:56:42,652 INFO sqlalchemy.engine.base.Engine select sum(car1) from \"PecanStreet_SharedData\".validated_04_2014\n"
       ]
      },
      {
       "output_type": "stream",
       "stream": "stderr",
       "text": [
        "INFO:sqlalchemy.engine.base.Engine:select sum(car1) from \"PecanStreet_SharedData\".validated_04_2014\n"
       ]
      },
      {
       "output_type": "stream",
       "stream": "stdout",
       "text": [
        "2014-06-18 12:56:42,652 INFO sqlalchemy.engine.base.Engine {}\n"
       ]
      },
      {
       "output_type": "stream",
       "stream": "stderr",
       "text": [
        "INFO:sqlalchemy.engine.base.Engine:{}\n"
       ]
      },
      {
       "output_type": "stream",
       "stream": "stdout",
       "text": [
        "{'heater': 0, 'use': 8038862.05, 'furnaces': 474096.491, 'air': 1296054.4649999999}\n"
       ]
      }
     ],
     "prompt_number": 195
    },
    {
     "cell_type": "code",
     "collapsed": false,
     "input": [
      "##for all the houses return the highest appliances\n",
      "def get_highest(house):\n",
      "    sums= get_sums(house)\n",
      "    sums.pop('use',None)\n",
      "    sums.pop('car1',None)\n",
      "    sorted_sums = sorted(sums.iteritems(), key=operator.itemgetter(1), reverse = True)\n",
      "    \n",
      "    return sorted_sums"
     ],
     "language": "python",
     "metadata": {},
     "outputs": [],
     "prompt_number": 24
    }
   ],
   "metadata": {}
  }
 ]
}