{
 "metadata": {
  "name": "",
  "signature": "sha256:80579eb1d91382db5eb8082f3cdc3430fd97d3ca997e8617ea56eb9decc9301c"
 },
 "nbformat": 3,
 "nbformat_minor": 0,
 "worksheets": [
  {
   "cells": [
    {
     "cell_type": "code",
     "collapsed": false,
     "input": [
      "\n",
      "import datetime\n",
      "import pandas as pd\n",
      "import sqlalchemy as sa\n",
      "from sqlalchemy import *\n",
      "import pandas as pd\n",
      "import os\n",
      "import numpy as np\n",
      "import operator\n",
      "import math\n",
      "import random\n",
      "from pylab import *\n",
      "import ast"
     ],
     "language": "python",
     "metadata": {},
     "outputs": [
      {
       "output_type": "stream",
       "stream": "stderr",
       "text": [
        "/Users/sabina/anaconda/lib/python2.7/site-packages/pandas/io/excel.py:626: UserWarning: Installed openpyxl is not supported at this time. Use >=1.6.1 and <2.0.0.\n",
        "  .format(openpyxl_compat.start_ver, openpyxl_compat.stop_ver))\n"
       ]
      }
     ],
     "prompt_number": 1
    },
    {
     "cell_type": "code",
     "collapsed": false,
     "input": [
      "import json \n",
      "import matplotlib \n",
      "import matplotlib.pyplot as pyplt\n",
      "%matplotlib inline"
     ],
     "language": "python",
     "metadata": {},
     "outputs": [],
     "prompt_number": 2
    },
    {
     "cell_type": "code",
     "collapsed": false,
     "input": [
      "##for accessing all months\n",
      "#months = ['01','02','03','04','05','06','07','08','09','10','11']\n",
      "month_titles={'01':'January','02':'February','03':'March','04':'April'}\n",
      "#days  = {'01':31,'02':28,'03':31,'04':30,'05':31,'06':30,'07':31,'08':31,'09':30,'10':31,'11':30}"
     ],
     "language": "python",
     "metadata": {},
     "outputs": [],
     "prompt_number": 3
    },
    {
     "cell_type": "code",
     "collapsed": false,
     "input": [
      "##engine information\n",
      "user_name = 'stomkins'\n",
      "pw='PASSWORD'\n",
      "host = \"db.wiki-energy.org\"\n",
      "port = \"5432\"\n",
      "db = \"postgres\"\n",
      "schema = '\\\"PecanStreet_SharedData\\\"'\n",
      "table = \"validated_04_2014\""
     ],
     "language": "python",
     "metadata": {},
     "outputs": [],
     "prompt_number": 12
    },
    {
     "cell_type": "code",
     "collapsed": false,
     "input": [
      "def get_eng():\n",
      "    url = \"postgresql\"+\"://\"+user_name+\":\"+pw+\"@\"+host+\":\"+port+\"/\"+db\n",
      "    eng = create_engine(url)\n",
      "    eng.echo=True\n",
      "    return eng"
     ],
     "language": "python",
     "metadata": {},
     "outputs": [],
     "prompt_number": 6
    },
    {
     "cell_type": "code",
     "collapsed": false,
     "input": [
      "def get_dataids(eng,table):\n",
      "    query = \"select distinct(\"+ schema + \".\"+table + \".dataid\" +\") from \" + schema + \".\" +table\n",
      "    eng_object=eng.execute(query)\n",
      "    l=list(eng_object.fetchall())\n",
      "    return l"
     ],
     "language": "python",
     "metadata": {},
     "outputs": [],
     "prompt_number": 7
    },
    {
     "cell_type": "code",
     "collapsed": false,
     "input": [
      "def get_table_by_id(eng,table,i):\n",
      "    query = \"select * from \"+schema+\".\"+table+ \" where \" +schema+\".\"+table+\".dataid=\"+i\n",
      "    eng_object=eng.execute(query)\n",
      "    df = pd.DataFrame.from_records(eng_object.fetchall())\n",
      "    df.columns = eng_object.keys()\n",
      "    return df"
     ],
     "language": "python",
     "metadata": {},
     "outputs": [],
     "prompt_number": 8
    },
    {
     "cell_type": "code",
     "collapsed": false,
     "input": [
      "def get_query(kind,col,table):\n",
      "    if kind=='sum':\n",
      "        return \"select sum(\"+col +\") from \" + schema +\".\"+ table\n",
      "    if kind =='count':\n",
      "        return \"select count(\"+col+ \") from \" + schema +\".\"+ table\n",
      "    if kind =='distinct':\n",
      "        return \"select distinct(\" + schema  +\".\"+table+\".\"+col+ \") from \" + schema +\".\"+ table\n",
      "    #+\".\"+table+\".\"+col+ \") from \" + schema +\".\"+ table\n"
     ],
     "language": "python",
     "metadata": {},
     "outputs": [],
     "prompt_number": 9
    },
    {
     "cell_type": "code",
     "collapsed": false,
     "input": [
      "month_ids={}"
     ],
     "language": "python",
     "metadata": {},
     "outputs": [],
     "prompt_number": 211
    },
    {
     "cell_type": "code",
     "collapsed": false,
     "input": [
      "\n",
      "feb=get_dataids(eng,\"validated_04_2014\")\n",
      "feb = [str(i[0]) for i in feb ]\n",
      "month_ids['april']=feb"
     ],
     "language": "python",
     "metadata": {},
     "outputs": [
      {
       "output_type": "stream",
       "stream": "stdout",
       "text": [
        "2014-06-19 18:27:37,076 INFO sqlalchemy.engine.base.Engine select distinct(\"PecanStreet_SharedData\".validated_04_2014.dataid) from \"PecanStreet_SharedData\".validated_04_2014\n"
       ]
      },
      {
       "output_type": "stream",
       "stream": "stderr",
       "text": [
        "INFO:sqlalchemy.engine.base.Engine:select distinct(\"PecanStreet_SharedData\".validated_04_2014.dataid) from \"PecanStreet_SharedData\".validated_04_2014\n"
       ]
      },
      {
       "output_type": "stream",
       "stream": "stdout",
       "text": [
        "2014-06-19 18:27:37,078 INFO sqlalchemy.engine.base.Engine {}\n"
       ]
      },
      {
       "output_type": "stream",
       "stream": "stderr",
       "text": [
        "INFO:sqlalchemy.engine.base.Engine:{}\n"
       ]
      }
     ],
     "prompt_number": 231
    },
    {
     "cell_type": "code",
     "collapsed": false,
     "input": [
      "inter = (list(set(month_ids['jan'])&set(month_ids['feb'])&set(month_ids['mar'])&set(month_ids['april'])))"
     ],
     "language": "python",
     "metadata": {},
     "outputs": [],
     "prompt_number": 232
    },
    {
     "cell_type": "code",
     "collapsed": false,
     "input": [
      "not_in=[]\n",
      "for val in month_ids.values():\n",
      "    for i in val:\n",
      "        if i not in inter:\n",
      "            not_in.append(i)"
     ],
     "language": "python",
     "metadata": {},
     "outputs": [],
     "prompt_number": 227
    },
    {
     "cell_type": "code",
     "collapsed": false,
     "input": [
      "dir_path = os.path.join(os.getcwd(), 'shared_stats/' ) \n",
      "with open(os.path.join(dir_path, 'homes_in_intersection.json'), 'w') as outfile:\n",
      "    outfile.writelines(json.dumps(inter))"
     ],
     "language": "python",
     "metadata": {},
     "outputs": [],
     "prompt_number": 233
    },
    {
     "cell_type": "code",
     "collapsed": false,
     "input": [
      "len(inter)"
     ],
     "language": "python",
     "metadata": {},
     "outputs": [
      {
       "metadata": {},
       "output_type": "pyout",
       "prompt_number": 234,
       "text": [
        "163"
       ]
      }
     ],
     "prompt_number": 234
    },
    {
     "cell_type": "code",
     "collapsed": false,
     "input": [
      "def execute_query(eng,query,form):\n",
      "    ds =[]\n",
      "    eng_object=eng.execute(query)\n",
      "    if form == 'num':\n",
      "        ds=(eng_object.fetchall())\n",
      "    elif form=='ls':\n",
      "        ds = list(eng_object.fetchall())\n",
      "    elif form =='df':\n",
      "        ds = pd.DataFrame.from_records(eng_object.fetchall())\n",
      "        ds.columns = eng_object.keys()\n",
      "    return ds"
     ],
     "language": "python",
     "metadata": {},
     "outputs": [],
     "prompt_number": 10
    },
    {
     "cell_type": "code",
     "collapsed": false,
     "input": [
      "def get_hvac_stats(eng,month):\n",
      "    hvacs = {}\n",
      "    hvac_cols = ['air1','air2','air3','furnace1','furnace2','airwindowunit1','housefan1','heater1','use','car1']\n",
      "    hvacs_f = {'air':0,'furnaces':0,'heater':0,'use':0}\n",
      "    for c in hvac_cols:\n",
      "        hvacs[c]=execute_query(eng,get_query('sum',c,\"validated_\"+month+\"_2014\"),'ls') \n",
      "    #hvacs['total_rows'] =  execute_query(eng,len_query,'ls')\n",
      "    hvacs={k:float(list(hvacs[k][0])[0]) for k in hvacs.keys() if not (math.isnan(float(list(hvacs[k][0])[0])))}\n",
      "    hvacs_f['air']=hvacs['air1']+hvacs['air2']+hvacs['air3']+hvacs['airwindowunit1']\n",
      "    hvacs_f['furnaces'] = hvacs['furnace1']+hvacs['furnace2']\n",
      "    hvacs_f['use']=hvacs['use']-hvacs['car1']\n",
      "    return hvacs_f"
     ],
     "language": "python",
     "metadata": {},
     "outputs": [],
     "prompt_number": 10
    },
    {
     "cell_type": "code",
     "collapsed": false,
     "input": [
      "eng = get_eng()"
     ],
     "language": "python",
     "metadata": {},
     "outputs": [],
     "prompt_number": 11
    },
    {
     "cell_type": "code",
     "collapsed": false,
     "input": [
      "q=get_query('distinct',\"dataid\",\"validated_01_2014\")\n"
     ],
     "language": "python",
     "metadata": {},
     "outputs": [],
     "prompt_number": 12
    },
    {
     "cell_type": "code",
     "collapsed": false,
     "input": [
      "dataids = execute_query(eng,q,'ls')"
     ],
     "language": "python",
     "metadata": {},
     "outputs": [
      {
       "output_type": "stream",
       "stream": "stdout",
       "text": [
        "2014-06-18 15:06:08,866 INFO sqlalchemy.engine.base.Engine select version()\n"
       ]
      },
      {
       "output_type": "stream",
       "stream": "stderr",
       "text": [
        "INFO:sqlalchemy.engine.base.Engine:select version()\n"
       ]
      },
      {
       "output_type": "stream",
       "stream": "stdout",
       "text": [
        "2014-06-18 15:06:08,867 INFO sqlalchemy.engine.base.Engine {}\n"
       ]
      },
      {
       "output_type": "stream",
       "stream": "stderr",
       "text": [
        "INFO:sqlalchemy.engine.base.Engine:{}\n"
       ]
      },
      {
       "output_type": "stream",
       "stream": "stdout",
       "text": [
        "2014-06-18 15:06:08,978 INFO sqlalchemy.engine.base.Engine select current_schema()\n"
       ]
      },
      {
       "output_type": "stream",
       "stream": "stderr",
       "text": [
        "INFO:sqlalchemy.engine.base.Engine:select current_schema()\n"
       ]
      },
      {
       "output_type": "stream",
       "stream": "stdout",
       "text": [
        "2014-06-18 15:06:08,979 INFO sqlalchemy.engine.base.Engine {}\n"
       ]
      },
      {
       "output_type": "stream",
       "stream": "stderr",
       "text": [
        "INFO:sqlalchemy.engine.base.Engine:{}\n"
       ]
      },
      {
       "output_type": "stream",
       "stream": "stdout",
       "text": [
        "2014-06-18 15:06:09,075 INFO sqlalchemy.engine.base.Engine SELECT CAST('test plain returns' AS VARCHAR(60)) AS anon_1\n"
       ]
      },
      {
       "output_type": "stream",
       "stream": "stderr",
       "text": [
        "INFO:sqlalchemy.engine.base.Engine:SELECT CAST('test plain returns' AS VARCHAR(60)) AS anon_1\n"
       ]
      },
      {
       "output_type": "stream",
       "stream": "stdout",
       "text": [
        "2014-06-18 15:06:09,076 INFO sqlalchemy.engine.base.Engine {}\n"
       ]
      },
      {
       "output_type": "stream",
       "stream": "stderr",
       "text": [
        "INFO:sqlalchemy.engine.base.Engine:{}\n"
       ]
      },
      {
       "output_type": "stream",
       "stream": "stdout",
       "text": [
        "2014-06-18 15:06:09,120 INFO sqlalchemy.engine.base.Engine SELECT CAST('test unicode returns' AS VARCHAR(60)) AS anon_1\n"
       ]
      },
      {
       "output_type": "stream",
       "stream": "stderr",
       "text": [
        "INFO:sqlalchemy.engine.base.Engine:SELECT CAST('test unicode returns' AS VARCHAR(60)) AS anon_1\n"
       ]
      },
      {
       "output_type": "stream",
       "stream": "stdout",
       "text": [
        "2014-06-18 15:06:09,121 INFO sqlalchemy.engine.base.Engine {}\n"
       ]
      },
      {
       "output_type": "stream",
       "stream": "stderr",
       "text": [
        "INFO:sqlalchemy.engine.base.Engine:{}\n"
       ]
      },
      {
       "output_type": "stream",
       "stream": "stdout",
       "text": [
        "2014-06-18 15:06:09,307 INFO sqlalchemy.engine.base.Engine show standard_conforming_strings\n"
       ]
      },
      {
       "output_type": "stream",
       "stream": "stderr",
       "text": [
        "INFO:sqlalchemy.engine.base.Engine:show standard_conforming_strings\n"
       ]
      },
      {
       "output_type": "stream",
       "stream": "stdout",
       "text": [
        "2014-06-18 15:06:09,308 INFO sqlalchemy.engine.base.Engine {}\n"
       ]
      },
      {
       "output_type": "stream",
       "stream": "stderr",
       "text": [
        "INFO:sqlalchemy.engine.base.Engine:{}\n"
       ]
      },
      {
       "output_type": "stream",
       "stream": "stdout",
       "text": [
        "2014-06-18 15:06:09,429 INFO sqlalchemy.engine.base.Engine select distinct(\"PecanStreet_SharedData\".validated_01_2014.dataid) from \"PecanStreet_SharedData\".validated_01_2014\n"
       ]
      },
      {
       "output_type": "stream",
       "stream": "stderr",
       "text": [
        "INFO:sqlalchemy.engine.base.Engine:select distinct(\"PecanStreet_SharedData\".validated_01_2014.dataid) from \"PecanStreet_SharedData\".validated_01_2014\n"
       ]
      },
      {
       "output_type": "stream",
       "stream": "stdout",
       "text": [
        "2014-06-18 15:06:09,429 INFO sqlalchemy.engine.base.Engine {}\n"
       ]
      },
      {
       "output_type": "stream",
       "stream": "stderr",
       "text": [
        "INFO:sqlalchemy.engine.base.Engine:{}\n"
       ]
      }
     ],
     "prompt_number": 13
    },
    {
     "cell_type": "code",
     "collapsed": false,
     "input": [
      "dataids = [str(d[0]) for d in dataids]"
     ],
     "language": "python",
     "metadata": {},
     "outputs": [],
     "prompt_number": 14
    },
    {
     "cell_type": "code",
     "collapsed": false,
     "input": [
      "'545' in dataids"
     ],
     "language": "python",
     "metadata": {},
     "outputs": [
      {
       "metadata": {},
       "output_type": "pyout",
       "prompt_number": 66,
       "text": [
        "True"
       ]
      }
     ],
     "prompt_number": 66
    },
    {
     "cell_type": "code",
     "collapsed": false,
     "input": [
      "#dataids[0][0]\n",
      "test = get_table_by_id(eng,\"validated_01_2014\",str(dataids[0][0]))\n"
     ],
     "language": "python",
     "metadata": {},
     "outputs": [
      {
       "output_type": "stream",
       "stream": "stdout",
       "text": [
        "2014-06-18 13:39:47,820 INFO sqlalchemy.engine.base.Engine select * from\"PecanStreet_SharedData\".validated_01_2014 where \"PecanStreet_SharedData\".validated_01_2014.dataid=744\n"
       ]
      },
      {
       "output_type": "stream",
       "stream": "stderr",
       "text": [
        "INFO:sqlalchemy.engine.base.Engine:select * from\"PecanStreet_SharedData\".validated_01_2014 where \"PecanStreet_SharedData\".validated_01_2014.dataid=744\n"
       ]
      },
      {
       "output_type": "stream",
       "stream": "stdout",
       "text": [
        "2014-06-18 13:39:47,821 INFO sqlalchemy.engine.base.Engine {}\n"
       ]
      },
      {
       "output_type": "stream",
       "stream": "stderr",
       "text": [
        "INFO:sqlalchemy.engine.base.Engine:{}\n"
       ]
      }
     ],
     "prompt_number": 217
    },
    {
     "cell_type": "code",
     "collapsed": false,
     "input": [
      "def get_sums(house):\n",
      "   # house=house.drop('id',axis=1)\n",
      "    house=house.drop('dataid',axis=1)\n",
      "    house=house.drop('localminute',axis=1)\n",
      "    sums={}\n",
      "   # print(house.columns)\n",
      "    for col in house.columns:\n",
      "       sums[str(col)]=float(house[col].sum())\n",
      "    return sums  "
     ],
     "language": "python",
     "metadata": {},
     "outputs": [],
     "prompt_number": 207
    },
    {
     "cell_type": "code",
     "collapsed": false,
     "input": [
      "##for all the houses return the highest appliances\n",
      "def get_highest(house):\n",
      "    sums= get_sums(house)\n",
      "    sums.pop('use',None)\n",
      "    #sums.pop('car1',None)\n",
      "    sorted_sums = sorted(sums.iteritems(), key=operator.itemgetter(1), reverse = True)\n",
      "    \n",
      "    return dict(sorted_sums)"
     ],
     "language": "python",
     "metadata": {},
     "outputs": [],
     "prompt_number": 212
    },
    {
     "cell_type": "code",
     "collapsed": false,
     "input": [
      "get_table_by_id(eng,\"validated_01_2014\",'9771')"
     ],
     "language": "python",
     "metadata": {},
     "outputs": [
      {
       "output_type": "stream",
       "stream": "stdout",
       "text": [
        "2014-06-18 15:27:30,245 INFO sqlalchemy.engine.base.Engine select * from \"PecanStreet_SharedData\".validated_01_2014 where \"PecanStreet_SharedData\".validated_01_2014.dataid=9771\n"
       ]
      },
      {
       "output_type": "stream",
       "stream": "stderr",
       "text": [
        "INFO:sqlalchemy.engine.base.Engine:select * from \"PecanStreet_SharedData\".validated_01_2014 where \"PecanStreet_SharedData\".validated_01_2014.dataid=9771\n"
       ]
      },
      {
       "output_type": "stream",
       "stream": "stdout",
       "text": [
        "2014-06-18 15:27:30,246 INFO sqlalchemy.engine.base.Engine {}\n"
       ]
      },
      {
       "output_type": "stream",
       "stream": "stderr",
       "text": [
        "INFO:sqlalchemy.engine.base.Engine:{}\n"
       ]
      },
      {
       "html": [
        "<div style=\"max-height:1000px;max-width:1500px;overflow:auto;\">\n",
        "<table border=\"1\" class=\"dataframe\">\n",
        "  <thead>\n",
        "    <tr style=\"text-align: right;\">\n",
        "      <th></th>\n",
        "      <th>dataid</th>\n",
        "      <th>localminute</th>\n",
        "      <th>use</th>\n",
        "      <th>air1</th>\n",
        "      <th>air2</th>\n",
        "      <th>air3</th>\n",
        "      <th>airwindowunit1</th>\n",
        "      <th>aquarium1</th>\n",
        "      <th>bathroom1</th>\n",
        "      <th>bathroom2</th>\n",
        "      <th>...</th>\n",
        "      <th>sprinkler1</th>\n",
        "      <th>unknown1</th>\n",
        "      <th>unknown2</th>\n",
        "      <th>unknown3</th>\n",
        "      <th>unknown4</th>\n",
        "      <th>utilityroom1</th>\n",
        "      <th>venthood1</th>\n",
        "      <th>waterheater1</th>\n",
        "      <th>waterheater2</th>\n",
        "      <th>winecooler1</th>\n",
        "    </tr>\n",
        "  </thead>\n",
        "  <tbody>\n",
        "    <tr>\n",
        "      <th>0    </th>\n",
        "      <td> 9771</td>\n",
        "      <td> 2014-01-01 00:00:00-06:00</td>\n",
        "      <td> 3.230</td>\n",
        "      <td> 0.004</td>\n",
        "      <td> 0.004</td>\n",
        "      <td> None</td>\n",
        "      <td> None</td>\n",
        "      <td> None</td>\n",
        "      <td> None</td>\n",
        "      <td> None</td>\n",
        "      <td>...</td>\n",
        "      <td> None</td>\n",
        "      <td> None</td>\n",
        "      <td> 0.088</td>\n",
        "      <td> None</td>\n",
        "      <td> None</td>\n",
        "      <td> None</td>\n",
        "      <td> None</td>\n",
        "      <td> None</td>\n",
        "      <td> None</td>\n",
        "      <td> None</td>\n",
        "    </tr>\n",
        "    <tr>\n",
        "      <th>1    </th>\n",
        "      <td> 9771</td>\n",
        "      <td> 2014-01-01 00:01:00-06:00</td>\n",
        "      <td> 2.836</td>\n",
        "      <td> 0.004</td>\n",
        "      <td> 0.003</td>\n",
        "      <td> None</td>\n",
        "      <td> None</td>\n",
        "      <td> None</td>\n",
        "      <td> None</td>\n",
        "      <td> None</td>\n",
        "      <td>...</td>\n",
        "      <td> None</td>\n",
        "      <td> None</td>\n",
        "      <td> 0.072</td>\n",
        "      <td> None</td>\n",
        "      <td> None</td>\n",
        "      <td> None</td>\n",
        "      <td> None</td>\n",
        "      <td> None</td>\n",
        "      <td> None</td>\n",
        "      <td> None</td>\n",
        "    </tr>\n",
        "    <tr>\n",
        "      <th>2    </th>\n",
        "      <td> 9771</td>\n",
        "      <td> 2014-01-01 00:02:00-06:00</td>\n",
        "      <td> 2.811</td>\n",
        "      <td> 0.004</td>\n",
        "      <td> 0.003</td>\n",
        "      <td> None</td>\n",
        "      <td> None</td>\n",
        "      <td> None</td>\n",
        "      <td> None</td>\n",
        "      <td> None</td>\n",
        "      <td>...</td>\n",
        "      <td> None</td>\n",
        "      <td> None</td>\n",
        "      <td> 0.070</td>\n",
        "      <td> None</td>\n",
        "      <td> None</td>\n",
        "      <td> None</td>\n",
        "      <td> None</td>\n",
        "      <td> None</td>\n",
        "      <td> None</td>\n",
        "      <td> None</td>\n",
        "    </tr>\n",
        "    <tr>\n",
        "      <th>3    </th>\n",
        "      <td> 9771</td>\n",
        "      <td> 2014-01-01 00:03:00-06:00</td>\n",
        "      <td> 2.670</td>\n",
        "      <td> 0.004</td>\n",
        "      <td>     0</td>\n",
        "      <td> None</td>\n",
        "      <td> None</td>\n",
        "      <td> None</td>\n",
        "      <td> None</td>\n",
        "      <td> None</td>\n",
        "      <td>...</td>\n",
        "      <td> None</td>\n",
        "      <td> None</td>\n",
        "      <td> 0.068</td>\n",
        "      <td> None</td>\n",
        "      <td> None</td>\n",
        "      <td> None</td>\n",
        "      <td> None</td>\n",
        "      <td> None</td>\n",
        "      <td> None</td>\n",
        "      <td> None</td>\n",
        "    </tr>\n",
        "    <tr>\n",
        "      <th>4    </th>\n",
        "      <td> 9771</td>\n",
        "      <td> 2014-01-01 00:04:00-06:00</td>\n",
        "      <td> 2.524</td>\n",
        "      <td> 0.004</td>\n",
        "      <td>     0</td>\n",
        "      <td> None</td>\n",
        "      <td> None</td>\n",
        "      <td> None</td>\n",
        "      <td> None</td>\n",
        "      <td> None</td>\n",
        "      <td>...</td>\n",
        "      <td> None</td>\n",
        "      <td> None</td>\n",
        "      <td> 0.067</td>\n",
        "      <td> None</td>\n",
        "      <td> None</td>\n",
        "      <td> None</td>\n",
        "      <td> None</td>\n",
        "      <td> None</td>\n",
        "      <td> None</td>\n",
        "      <td> None</td>\n",
        "    </tr>\n",
        "    <tr>\n",
        "      <th>5    </th>\n",
        "      <td> 9771</td>\n",
        "      <td> 2014-01-01 00:05:00-06:00</td>\n",
        "      <td> 2.545</td>\n",
        "      <td> 0.004</td>\n",
        "      <td>     0</td>\n",
        "      <td> None</td>\n",
        "      <td> None</td>\n",
        "      <td> None</td>\n",
        "      <td> None</td>\n",
        "      <td> None</td>\n",
        "      <td>...</td>\n",
        "      <td> None</td>\n",
        "      <td> None</td>\n",
        "      <td> 0.067</td>\n",
        "      <td> None</td>\n",
        "      <td> None</td>\n",
        "      <td> None</td>\n",
        "      <td> None</td>\n",
        "      <td> None</td>\n",
        "      <td> None</td>\n",
        "      <td> None</td>\n",
        "    </tr>\n",
        "    <tr>\n",
        "      <th>6    </th>\n",
        "      <td> 9771</td>\n",
        "      <td> 2014-01-01 00:06:00-06:00</td>\n",
        "      <td> 2.551</td>\n",
        "      <td> 0.004</td>\n",
        "      <td>     0</td>\n",
        "      <td> None</td>\n",
        "      <td> None</td>\n",
        "      <td> None</td>\n",
        "      <td> None</td>\n",
        "      <td> None</td>\n",
        "      <td>...</td>\n",
        "      <td> None</td>\n",
        "      <td> None</td>\n",
        "      <td> 0.067</td>\n",
        "      <td> None</td>\n",
        "      <td> None</td>\n",
        "      <td> None</td>\n",
        "      <td> None</td>\n",
        "      <td> None</td>\n",
        "      <td> None</td>\n",
        "      <td> None</td>\n",
        "    </tr>\n",
        "    <tr>\n",
        "      <th>7    </th>\n",
        "      <td> 9771</td>\n",
        "      <td> 2014-01-01 00:07:00-06:00</td>\n",
        "      <td> 2.560</td>\n",
        "      <td> 0.004</td>\n",
        "      <td>     0</td>\n",
        "      <td> None</td>\n",
        "      <td> None</td>\n",
        "      <td> None</td>\n",
        "      <td> None</td>\n",
        "      <td> None</td>\n",
        "      <td>...</td>\n",
        "      <td> None</td>\n",
        "      <td> None</td>\n",
        "      <td> 0.067</td>\n",
        "      <td> None</td>\n",
        "      <td> None</td>\n",
        "      <td> None</td>\n",
        "      <td> None</td>\n",
        "      <td> None</td>\n",
        "      <td> None</td>\n",
        "      <td> None</td>\n",
        "    </tr>\n",
        "    <tr>\n",
        "      <th>8    </th>\n",
        "      <td> 9771</td>\n",
        "      <td> 2014-01-01 00:08:00-06:00</td>\n",
        "      <td> 2.605</td>\n",
        "      <td> 0.004</td>\n",
        "      <td>     0</td>\n",
        "      <td> None</td>\n",
        "      <td> None</td>\n",
        "      <td> None</td>\n",
        "      <td> None</td>\n",
        "      <td> None</td>\n",
        "      <td>...</td>\n",
        "      <td> None</td>\n",
        "      <td> None</td>\n",
        "      <td> 0.067</td>\n",
        "      <td> None</td>\n",
        "      <td> None</td>\n",
        "      <td> None</td>\n",
        "      <td> None</td>\n",
        "      <td> None</td>\n",
        "      <td> None</td>\n",
        "      <td> None</td>\n",
        "    </tr>\n",
        "    <tr>\n",
        "      <th>9    </th>\n",
        "      <td> 9771</td>\n",
        "      <td> 2014-01-01 00:09:00-06:00</td>\n",
        "      <td> 2.805</td>\n",
        "      <td> 0.004</td>\n",
        "      <td> 0.003</td>\n",
        "      <td> None</td>\n",
        "      <td> None</td>\n",
        "      <td> None</td>\n",
        "      <td> None</td>\n",
        "      <td> None</td>\n",
        "      <td>...</td>\n",
        "      <td> None</td>\n",
        "      <td> None</td>\n",
        "      <td> 0.067</td>\n",
        "      <td> None</td>\n",
        "      <td> None</td>\n",
        "      <td> None</td>\n",
        "      <td> None</td>\n",
        "      <td> None</td>\n",
        "      <td> None</td>\n",
        "      <td> None</td>\n",
        "    </tr>\n",
        "    <tr>\n",
        "      <th>10   </th>\n",
        "      <td> 9771</td>\n",
        "      <td> 2014-01-01 00:10:00-06:00</td>\n",
        "      <td> 2.855</td>\n",
        "      <td> 0.004</td>\n",
        "      <td> 0.003</td>\n",
        "      <td> None</td>\n",
        "      <td> None</td>\n",
        "      <td> None</td>\n",
        "      <td> None</td>\n",
        "      <td> None</td>\n",
        "      <td>...</td>\n",
        "      <td> None</td>\n",
        "      <td> None</td>\n",
        "      <td> 0.067</td>\n",
        "      <td> None</td>\n",
        "      <td> None</td>\n",
        "      <td> None</td>\n",
        "      <td> None</td>\n",
        "      <td> None</td>\n",
        "      <td> None</td>\n",
        "      <td> None</td>\n",
        "    </tr>\n",
        "    <tr>\n",
        "      <th>11   </th>\n",
        "      <td> 9771</td>\n",
        "      <td> 2014-01-01 00:11:00-06:00</td>\n",
        "      <td> 2.788</td>\n",
        "      <td> 0.004</td>\n",
        "      <td>     0</td>\n",
        "      <td> None</td>\n",
        "      <td> None</td>\n",
        "      <td> None</td>\n",
        "      <td> None</td>\n",
        "      <td> None</td>\n",
        "      <td>...</td>\n",
        "      <td> None</td>\n",
        "      <td> None</td>\n",
        "      <td> 0.067</td>\n",
        "      <td> None</td>\n",
        "      <td> None</td>\n",
        "      <td> None</td>\n",
        "      <td> None</td>\n",
        "      <td> None</td>\n",
        "      <td> None</td>\n",
        "      <td> None</td>\n",
        "    </tr>\n",
        "    <tr>\n",
        "      <th>12   </th>\n",
        "      <td> 9771</td>\n",
        "      <td> 2014-01-01 00:12:00-06:00</td>\n",
        "      <td> 2.689</td>\n",
        "      <td> 0.004</td>\n",
        "      <td>     0</td>\n",
        "      <td> None</td>\n",
        "      <td> None</td>\n",
        "      <td> None</td>\n",
        "      <td> None</td>\n",
        "      <td> None</td>\n",
        "      <td>...</td>\n",
        "      <td> None</td>\n",
        "      <td> None</td>\n",
        "      <td> 0.067</td>\n",
        "      <td> None</td>\n",
        "      <td> None</td>\n",
        "      <td> None</td>\n",
        "      <td> None</td>\n",
        "      <td> None</td>\n",
        "      <td> None</td>\n",
        "      <td> None</td>\n",
        "    </tr>\n",
        "    <tr>\n",
        "      <th>13   </th>\n",
        "      <td> 9771</td>\n",
        "      <td> 2014-01-01 00:13:00-06:00</td>\n",
        "      <td> 2.639</td>\n",
        "      <td> 0.003</td>\n",
        "      <td>     0</td>\n",
        "      <td> None</td>\n",
        "      <td> None</td>\n",
        "      <td> None</td>\n",
        "      <td> None</td>\n",
        "      <td> None</td>\n",
        "      <td>...</td>\n",
        "      <td> None</td>\n",
        "      <td> None</td>\n",
        "      <td> 0.062</td>\n",
        "      <td> None</td>\n",
        "      <td> None</td>\n",
        "      <td> None</td>\n",
        "      <td> None</td>\n",
        "      <td> None</td>\n",
        "      <td> None</td>\n",
        "      <td> None</td>\n",
        "    </tr>\n",
        "    <tr>\n",
        "      <th>14   </th>\n",
        "      <td> 9771</td>\n",
        "      <td> 2014-01-01 00:14:00-06:00</td>\n",
        "      <td> 2.518</td>\n",
        "      <td> 0.003</td>\n",
        "      <td>     0</td>\n",
        "      <td> None</td>\n",
        "      <td> None</td>\n",
        "      <td> None</td>\n",
        "      <td> None</td>\n",
        "      <td> None</td>\n",
        "      <td>...</td>\n",
        "      <td> None</td>\n",
        "      <td> None</td>\n",
        "      <td> 0.058</td>\n",
        "      <td> None</td>\n",
        "      <td> None</td>\n",
        "      <td> None</td>\n",
        "      <td> None</td>\n",
        "      <td> None</td>\n",
        "      <td> None</td>\n",
        "      <td> None</td>\n",
        "    </tr>\n",
        "    <tr>\n",
        "      <th>15   </th>\n",
        "      <td> 9771</td>\n",
        "      <td> 2014-01-01 00:15:00-06:00</td>\n",
        "      <td> 2.665</td>\n",
        "      <td> 0.003</td>\n",
        "      <td>     0</td>\n",
        "      <td> None</td>\n",
        "      <td> None</td>\n",
        "      <td> None</td>\n",
        "      <td> None</td>\n",
        "      <td> None</td>\n",
        "      <td>...</td>\n",
        "      <td> None</td>\n",
        "      <td> None</td>\n",
        "      <td> 0.060</td>\n",
        "      <td> None</td>\n",
        "      <td> None</td>\n",
        "      <td> None</td>\n",
        "      <td> None</td>\n",
        "      <td> None</td>\n",
        "      <td> None</td>\n",
        "      <td> None</td>\n",
        "    </tr>\n",
        "    <tr>\n",
        "      <th>16   </th>\n",
        "      <td> 9771</td>\n",
        "      <td> 2014-01-01 00:16:00-06:00</td>\n",
        "      <td> 2.797</td>\n",
        "      <td> 0.004</td>\n",
        "      <td>     0</td>\n",
        "      <td> None</td>\n",
        "      <td> None</td>\n",
        "      <td> None</td>\n",
        "      <td> None</td>\n",
        "      <td> None</td>\n",
        "      <td>...</td>\n",
        "      <td> None</td>\n",
        "      <td> None</td>\n",
        "      <td> 0.065</td>\n",
        "      <td> None</td>\n",
        "      <td> None</td>\n",
        "      <td> None</td>\n",
        "      <td> None</td>\n",
        "      <td> None</td>\n",
        "      <td> None</td>\n",
        "      <td> None</td>\n",
        "    </tr>\n",
        "    <tr>\n",
        "      <th>17   </th>\n",
        "      <td> 9771</td>\n",
        "      <td> 2014-01-01 00:17:00-06:00</td>\n",
        "      <td> 2.919</td>\n",
        "      <td> 0.004</td>\n",
        "      <td>     0</td>\n",
        "      <td> None</td>\n",
        "      <td> None</td>\n",
        "      <td> None</td>\n",
        "      <td> None</td>\n",
        "      <td> None</td>\n",
        "      <td>...</td>\n",
        "      <td> None</td>\n",
        "      <td> None</td>\n",
        "      <td> 0.068</td>\n",
        "      <td> None</td>\n",
        "      <td> None</td>\n",
        "      <td> None</td>\n",
        "      <td> None</td>\n",
        "      <td> None</td>\n",
        "      <td> None</td>\n",
        "      <td> None</td>\n",
        "    </tr>\n",
        "    <tr>\n",
        "      <th>18   </th>\n",
        "      <td> 9771</td>\n",
        "      <td> 2014-01-01 00:18:00-06:00</td>\n",
        "      <td> 2.937</td>\n",
        "      <td> 0.004</td>\n",
        "      <td>     0</td>\n",
        "      <td> None</td>\n",
        "      <td> None</td>\n",
        "      <td> None</td>\n",
        "      <td> None</td>\n",
        "      <td> None</td>\n",
        "      <td>...</td>\n",
        "      <td> None</td>\n",
        "      <td> None</td>\n",
        "      <td> 0.068</td>\n",
        "      <td> None</td>\n",
        "      <td> None</td>\n",
        "      <td> None</td>\n",
        "      <td> None</td>\n",
        "      <td> None</td>\n",
        "      <td> None</td>\n",
        "      <td> None</td>\n",
        "    </tr>\n",
        "    <tr>\n",
        "      <th>19   </th>\n",
        "      <td> 9771</td>\n",
        "      <td> 2014-01-01 00:19:00-06:00</td>\n",
        "      <td> 2.900</td>\n",
        "      <td> 0.004</td>\n",
        "      <td>     0</td>\n",
        "      <td> None</td>\n",
        "      <td> None</td>\n",
        "      <td> None</td>\n",
        "      <td> None</td>\n",
        "      <td> None</td>\n",
        "      <td>...</td>\n",
        "      <td> None</td>\n",
        "      <td> None</td>\n",
        "      <td> 0.067</td>\n",
        "      <td> None</td>\n",
        "      <td> None</td>\n",
        "      <td> None</td>\n",
        "      <td> None</td>\n",
        "      <td> None</td>\n",
        "      <td> None</td>\n",
        "      <td> None</td>\n",
        "    </tr>\n",
        "    <tr>\n",
        "      <th>20   </th>\n",
        "      <td> 9771</td>\n",
        "      <td> 2014-01-01 00:20:00-06:00</td>\n",
        "      <td> 2.854</td>\n",
        "      <td> 0.004</td>\n",
        "      <td>     0</td>\n",
        "      <td> None</td>\n",
        "      <td> None</td>\n",
        "      <td> None</td>\n",
        "      <td> None</td>\n",
        "      <td> None</td>\n",
        "      <td>...</td>\n",
        "      <td> None</td>\n",
        "      <td> None</td>\n",
        "      <td> 0.068</td>\n",
        "      <td> None</td>\n",
        "      <td> None</td>\n",
        "      <td> None</td>\n",
        "      <td> None</td>\n",
        "      <td> None</td>\n",
        "      <td> None</td>\n",
        "      <td> None</td>\n",
        "    </tr>\n",
        "    <tr>\n",
        "      <th>21   </th>\n",
        "      <td> 9771</td>\n",
        "      <td> 2014-01-01 00:21:00-06:00</td>\n",
        "      <td> 2.809</td>\n",
        "      <td> 0.004</td>\n",
        "      <td>     0</td>\n",
        "      <td> None</td>\n",
        "      <td> None</td>\n",
        "      <td> None</td>\n",
        "      <td> None</td>\n",
        "      <td> None</td>\n",
        "      <td>...</td>\n",
        "      <td> None</td>\n",
        "      <td> None</td>\n",
        "      <td> 0.067</td>\n",
        "      <td> None</td>\n",
        "      <td> None</td>\n",
        "      <td> None</td>\n",
        "      <td> None</td>\n",
        "      <td> None</td>\n",
        "      <td> None</td>\n",
        "      <td> None</td>\n",
        "    </tr>\n",
        "    <tr>\n",
        "      <th>22   </th>\n",
        "      <td> 9771</td>\n",
        "      <td> 2014-01-01 00:22:00-06:00</td>\n",
        "      <td> 2.805</td>\n",
        "      <td> 0.004</td>\n",
        "      <td>     0</td>\n",
        "      <td> None</td>\n",
        "      <td> None</td>\n",
        "      <td> None</td>\n",
        "      <td> None</td>\n",
        "      <td> None</td>\n",
        "      <td>...</td>\n",
        "      <td> None</td>\n",
        "      <td> None</td>\n",
        "      <td> 0.067</td>\n",
        "      <td> None</td>\n",
        "      <td> None</td>\n",
        "      <td> None</td>\n",
        "      <td> None</td>\n",
        "      <td> None</td>\n",
        "      <td> None</td>\n",
        "      <td> None</td>\n",
        "    </tr>\n",
        "    <tr>\n",
        "      <th>23   </th>\n",
        "      <td> 9771</td>\n",
        "      <td> 2014-01-01 00:23:00-06:00</td>\n",
        "      <td> 2.653</td>\n",
        "      <td> 0.004</td>\n",
        "      <td>     0</td>\n",
        "      <td> None</td>\n",
        "      <td> None</td>\n",
        "      <td> None</td>\n",
        "      <td> None</td>\n",
        "      <td> None</td>\n",
        "      <td>...</td>\n",
        "      <td> None</td>\n",
        "      <td> None</td>\n",
        "      <td> 0.067</td>\n",
        "      <td> None</td>\n",
        "      <td> None</td>\n",
        "      <td> None</td>\n",
        "      <td> None</td>\n",
        "      <td> None</td>\n",
        "      <td> None</td>\n",
        "      <td> None</td>\n",
        "    </tr>\n",
        "    <tr>\n",
        "      <th>24   </th>\n",
        "      <td> 9771</td>\n",
        "      <td> 2014-01-01 00:24:00-06:00</td>\n",
        "      <td> 2.581</td>\n",
        "      <td> 0.004</td>\n",
        "      <td>     0</td>\n",
        "      <td> None</td>\n",
        "      <td> None</td>\n",
        "      <td> None</td>\n",
        "      <td> None</td>\n",
        "      <td> None</td>\n",
        "      <td>...</td>\n",
        "      <td> None</td>\n",
        "      <td> None</td>\n",
        "      <td> 0.067</td>\n",
        "      <td> None</td>\n",
        "      <td> None</td>\n",
        "      <td> None</td>\n",
        "      <td> None</td>\n",
        "      <td> None</td>\n",
        "      <td> None</td>\n",
        "      <td> None</td>\n",
        "    </tr>\n",
        "    <tr>\n",
        "      <th>25   </th>\n",
        "      <td> 9771</td>\n",
        "      <td> 2014-01-01 00:25:00-06:00</td>\n",
        "      <td> 2.622</td>\n",
        "      <td> 0.004</td>\n",
        "      <td>     0</td>\n",
        "      <td> None</td>\n",
        "      <td> None</td>\n",
        "      <td> None</td>\n",
        "      <td> None</td>\n",
        "      <td> None</td>\n",
        "      <td>...</td>\n",
        "      <td> None</td>\n",
        "      <td> None</td>\n",
        "      <td> 0.067</td>\n",
        "      <td> None</td>\n",
        "      <td> None</td>\n",
        "      <td> None</td>\n",
        "      <td> None</td>\n",
        "      <td> None</td>\n",
        "      <td> None</td>\n",
        "      <td> None</td>\n",
        "    </tr>\n",
        "    <tr>\n",
        "      <th>26   </th>\n",
        "      <td> 9771</td>\n",
        "      <td> 2014-01-01 00:26:00-06:00</td>\n",
        "      <td> 2.600</td>\n",
        "      <td> 0.004</td>\n",
        "      <td>     0</td>\n",
        "      <td> None</td>\n",
        "      <td> None</td>\n",
        "      <td> None</td>\n",
        "      <td> None</td>\n",
        "      <td> None</td>\n",
        "      <td>...</td>\n",
        "      <td> None</td>\n",
        "      <td> None</td>\n",
        "      <td> 0.067</td>\n",
        "      <td> None</td>\n",
        "      <td> None</td>\n",
        "      <td> None</td>\n",
        "      <td> None</td>\n",
        "      <td> None</td>\n",
        "      <td> None</td>\n",
        "      <td> None</td>\n",
        "    </tr>\n",
        "    <tr>\n",
        "      <th>27   </th>\n",
        "      <td> 9771</td>\n",
        "      <td> 2014-01-01 00:27:00-06:00</td>\n",
        "      <td> 2.479</td>\n",
        "      <td> 0.004</td>\n",
        "      <td>     0</td>\n",
        "      <td> None</td>\n",
        "      <td> None</td>\n",
        "      <td> None</td>\n",
        "      <td> None</td>\n",
        "      <td> None</td>\n",
        "      <td>...</td>\n",
        "      <td> None</td>\n",
        "      <td> None</td>\n",
        "      <td> 0.067</td>\n",
        "      <td> None</td>\n",
        "      <td> None</td>\n",
        "      <td> None</td>\n",
        "      <td> None</td>\n",
        "      <td> None</td>\n",
        "      <td> None</td>\n",
        "      <td> None</td>\n",
        "    </tr>\n",
        "    <tr>\n",
        "      <th>28   </th>\n",
        "      <td> 9771</td>\n",
        "      <td> 2014-01-01 00:28:00-06:00</td>\n",
        "      <td> 2.378</td>\n",
        "      <td> 0.004</td>\n",
        "      <td>     0</td>\n",
        "      <td> None</td>\n",
        "      <td> None</td>\n",
        "      <td> None</td>\n",
        "      <td> None</td>\n",
        "      <td> None</td>\n",
        "      <td>...</td>\n",
        "      <td> None</td>\n",
        "      <td> None</td>\n",
        "      <td> 0.067</td>\n",
        "      <td> None</td>\n",
        "      <td> None</td>\n",
        "      <td> None</td>\n",
        "      <td> None</td>\n",
        "      <td> None</td>\n",
        "      <td> None</td>\n",
        "      <td> None</td>\n",
        "    </tr>\n",
        "    <tr>\n",
        "      <th>29   </th>\n",
        "      <td> 9771</td>\n",
        "      <td> 2014-01-01 00:29:00-06:00</td>\n",
        "      <td> 2.422</td>\n",
        "      <td> 0.004</td>\n",
        "      <td>     0</td>\n",
        "      <td> None</td>\n",
        "      <td> None</td>\n",
        "      <td> None</td>\n",
        "      <td> None</td>\n",
        "      <td> None</td>\n",
        "      <td>...</td>\n",
        "      <td> None</td>\n",
        "      <td> None</td>\n",
        "      <td> 0.067</td>\n",
        "      <td> None</td>\n",
        "      <td> None</td>\n",
        "      <td> None</td>\n",
        "      <td> None</td>\n",
        "      <td> None</td>\n",
        "      <td> None</td>\n",
        "      <td> None</td>\n",
        "    </tr>\n",
        "    <tr>\n",
        "      <th>...</th>\n",
        "      <td>...</td>\n",
        "      <td>...</td>\n",
        "      <td>...</td>\n",
        "      <td>...</td>\n",
        "      <td>...</td>\n",
        "      <td>...</td>\n",
        "      <td>...</td>\n",
        "      <td>...</td>\n",
        "      <td>...</td>\n",
        "      <td>...</td>\n",
        "      <td>...</td>\n",
        "      <td>...</td>\n",
        "      <td>...</td>\n",
        "      <td>...</td>\n",
        "      <td>...</td>\n",
        "      <td>...</td>\n",
        "      <td>...</td>\n",
        "      <td>...</td>\n",
        "      <td>...</td>\n",
        "      <td>...</td>\n",
        "      <td>...</td>\n",
        "    </tr>\n",
        "    <tr>\n",
        "      <th>44610</th>\n",
        "      <td> 9771</td>\n",
        "      <td> 2014-01-31 23:30:00-06:00</td>\n",
        "      <td> 2.517</td>\n",
        "      <td>     0</td>\n",
        "      <td>     0</td>\n",
        "      <td> None</td>\n",
        "      <td> None</td>\n",
        "      <td> None</td>\n",
        "      <td> None</td>\n",
        "      <td> None</td>\n",
        "      <td>...</td>\n",
        "      <td> None</td>\n",
        "      <td> None</td>\n",
        "      <td> 0.010</td>\n",
        "      <td> None</td>\n",
        "      <td> None</td>\n",
        "      <td> None</td>\n",
        "      <td> None</td>\n",
        "      <td> None</td>\n",
        "      <td> None</td>\n",
        "      <td> None</td>\n",
        "    </tr>\n",
        "    <tr>\n",
        "      <th>44611</th>\n",
        "      <td> 9771</td>\n",
        "      <td> 2014-01-31 23:31:00-06:00</td>\n",
        "      <td> 2.464</td>\n",
        "      <td>     0</td>\n",
        "      <td>     0</td>\n",
        "      <td> None</td>\n",
        "      <td> None</td>\n",
        "      <td> None</td>\n",
        "      <td> None</td>\n",
        "      <td> None</td>\n",
        "      <td>...</td>\n",
        "      <td> None</td>\n",
        "      <td> None</td>\n",
        "      <td> 0.009</td>\n",
        "      <td> None</td>\n",
        "      <td> None</td>\n",
        "      <td> None</td>\n",
        "      <td> None</td>\n",
        "      <td> None</td>\n",
        "      <td> None</td>\n",
        "      <td> None</td>\n",
        "    </tr>\n",
        "    <tr>\n",
        "      <th>44612</th>\n",
        "      <td> 9771</td>\n",
        "      <td> 2014-01-31 23:32:00-06:00</td>\n",
        "      <td> 2.510</td>\n",
        "      <td>     0</td>\n",
        "      <td>     0</td>\n",
        "      <td> None</td>\n",
        "      <td> None</td>\n",
        "      <td> None</td>\n",
        "      <td> None</td>\n",
        "      <td> None</td>\n",
        "      <td>...</td>\n",
        "      <td> None</td>\n",
        "      <td> None</td>\n",
        "      <td> 0.009</td>\n",
        "      <td> None</td>\n",
        "      <td> None</td>\n",
        "      <td> None</td>\n",
        "      <td> None</td>\n",
        "      <td> None</td>\n",
        "      <td> None</td>\n",
        "      <td> None</td>\n",
        "    </tr>\n",
        "    <tr>\n",
        "      <th>44613</th>\n",
        "      <td> 9771</td>\n",
        "      <td> 2014-01-31 23:33:00-06:00</td>\n",
        "      <td> 2.500</td>\n",
        "      <td>     0</td>\n",
        "      <td>     0</td>\n",
        "      <td> None</td>\n",
        "      <td> None</td>\n",
        "      <td> None</td>\n",
        "      <td> None</td>\n",
        "      <td> None</td>\n",
        "      <td>...</td>\n",
        "      <td> None</td>\n",
        "      <td> None</td>\n",
        "      <td> 0.009</td>\n",
        "      <td> None</td>\n",
        "      <td> None</td>\n",
        "      <td> None</td>\n",
        "      <td> None</td>\n",
        "      <td> None</td>\n",
        "      <td> None</td>\n",
        "      <td> None</td>\n",
        "    </tr>\n",
        "    <tr>\n",
        "      <th>44614</th>\n",
        "      <td> 9771</td>\n",
        "      <td> 2014-01-31 23:34:00-06:00</td>\n",
        "      <td> 2.481</td>\n",
        "      <td>     0</td>\n",
        "      <td>     0</td>\n",
        "      <td> None</td>\n",
        "      <td> None</td>\n",
        "      <td> None</td>\n",
        "      <td> None</td>\n",
        "      <td> None</td>\n",
        "      <td>...</td>\n",
        "      <td> None</td>\n",
        "      <td> None</td>\n",
        "      <td> 0.009</td>\n",
        "      <td> None</td>\n",
        "      <td> None</td>\n",
        "      <td> None</td>\n",
        "      <td> None</td>\n",
        "      <td> None</td>\n",
        "      <td> None</td>\n",
        "      <td> None</td>\n",
        "    </tr>\n",
        "    <tr>\n",
        "      <th>44615</th>\n",
        "      <td> 9771</td>\n",
        "      <td> 2014-01-31 23:35:00-06:00</td>\n",
        "      <td> 2.728</td>\n",
        "      <td>     0</td>\n",
        "      <td>     0</td>\n",
        "      <td> None</td>\n",
        "      <td> None</td>\n",
        "      <td> None</td>\n",
        "      <td> None</td>\n",
        "      <td> None</td>\n",
        "      <td>...</td>\n",
        "      <td> None</td>\n",
        "      <td> None</td>\n",
        "      <td> 0.014</td>\n",
        "      <td> None</td>\n",
        "      <td> None</td>\n",
        "      <td> None</td>\n",
        "      <td> None</td>\n",
        "      <td> None</td>\n",
        "      <td> None</td>\n",
        "      <td> None</td>\n",
        "    </tr>\n",
        "    <tr>\n",
        "      <th>44616</th>\n",
        "      <td> 9771</td>\n",
        "      <td> 2014-01-31 23:36:00-06:00</td>\n",
        "      <td> 2.750</td>\n",
        "      <td>     0</td>\n",
        "      <td>     0</td>\n",
        "      <td> None</td>\n",
        "      <td> None</td>\n",
        "      <td> None</td>\n",
        "      <td> None</td>\n",
        "      <td> None</td>\n",
        "      <td>...</td>\n",
        "      <td> None</td>\n",
        "      <td> None</td>\n",
        "      <td> 0.013</td>\n",
        "      <td> None</td>\n",
        "      <td> None</td>\n",
        "      <td> None</td>\n",
        "      <td> None</td>\n",
        "      <td> None</td>\n",
        "      <td> None</td>\n",
        "      <td> None</td>\n",
        "    </tr>\n",
        "    <tr>\n",
        "      <th>44617</th>\n",
        "      <td> 9771</td>\n",
        "      <td> 2014-01-31 23:37:00-06:00</td>\n",
        "      <td> 2.736</td>\n",
        "      <td>     0</td>\n",
        "      <td>     0</td>\n",
        "      <td> None</td>\n",
        "      <td> None</td>\n",
        "      <td> None</td>\n",
        "      <td> None</td>\n",
        "      <td> None</td>\n",
        "      <td>...</td>\n",
        "      <td> None</td>\n",
        "      <td> None</td>\n",
        "      <td> 0.013</td>\n",
        "      <td> None</td>\n",
        "      <td> None</td>\n",
        "      <td> None</td>\n",
        "      <td> None</td>\n",
        "      <td> None</td>\n",
        "      <td> None</td>\n",
        "      <td> None</td>\n",
        "    </tr>\n",
        "    <tr>\n",
        "      <th>44618</th>\n",
        "      <td> 9771</td>\n",
        "      <td> 2014-01-31 23:38:00-06:00</td>\n",
        "      <td> 2.724</td>\n",
        "      <td>     0</td>\n",
        "      <td>     0</td>\n",
        "      <td> None</td>\n",
        "      <td> None</td>\n",
        "      <td> None</td>\n",
        "      <td> None</td>\n",
        "      <td> None</td>\n",
        "      <td>...</td>\n",
        "      <td> None</td>\n",
        "      <td> None</td>\n",
        "      <td> 0.013</td>\n",
        "      <td> None</td>\n",
        "      <td> None</td>\n",
        "      <td> None</td>\n",
        "      <td> None</td>\n",
        "      <td> None</td>\n",
        "      <td> None</td>\n",
        "      <td> None</td>\n",
        "    </tr>\n",
        "    <tr>\n",
        "      <th>44619</th>\n",
        "      <td> 9771</td>\n",
        "      <td> 2014-01-31 23:39:00-06:00</td>\n",
        "      <td> 2.699</td>\n",
        "      <td>     0</td>\n",
        "      <td>     0</td>\n",
        "      <td> None</td>\n",
        "      <td> None</td>\n",
        "      <td> None</td>\n",
        "      <td> None</td>\n",
        "      <td> None</td>\n",
        "      <td>...</td>\n",
        "      <td> None</td>\n",
        "      <td> None</td>\n",
        "      <td> 0.013</td>\n",
        "      <td> None</td>\n",
        "      <td> None</td>\n",
        "      <td> None</td>\n",
        "      <td> None</td>\n",
        "      <td> None</td>\n",
        "      <td> None</td>\n",
        "      <td> None</td>\n",
        "    </tr>\n",
        "    <tr>\n",
        "      <th>44620</th>\n",
        "      <td> 9771</td>\n",
        "      <td> 2014-01-31 23:40:00-06:00</td>\n",
        "      <td> 2.704</td>\n",
        "      <td>     0</td>\n",
        "      <td>     0</td>\n",
        "      <td> None</td>\n",
        "      <td> None</td>\n",
        "      <td> None</td>\n",
        "      <td> None</td>\n",
        "      <td> None</td>\n",
        "      <td>...</td>\n",
        "      <td> None</td>\n",
        "      <td> None</td>\n",
        "      <td> 0.013</td>\n",
        "      <td> None</td>\n",
        "      <td> None</td>\n",
        "      <td> None</td>\n",
        "      <td> None</td>\n",
        "      <td> None</td>\n",
        "      <td> None</td>\n",
        "      <td> None</td>\n",
        "    </tr>\n",
        "    <tr>\n",
        "      <th>44621</th>\n",
        "      <td> 9771</td>\n",
        "      <td> 2014-01-31 23:41:00-06:00</td>\n",
        "      <td> 2.390</td>\n",
        "      <td>     0</td>\n",
        "      <td>     0</td>\n",
        "      <td> None</td>\n",
        "      <td> None</td>\n",
        "      <td> None</td>\n",
        "      <td> None</td>\n",
        "      <td> None</td>\n",
        "      <td>...</td>\n",
        "      <td> None</td>\n",
        "      <td> None</td>\n",
        "      <td> 0.009</td>\n",
        "      <td> None</td>\n",
        "      <td> None</td>\n",
        "      <td> None</td>\n",
        "      <td> None</td>\n",
        "      <td> None</td>\n",
        "      <td> None</td>\n",
        "      <td> None</td>\n",
        "    </tr>\n",
        "    <tr>\n",
        "      <th>44622</th>\n",
        "      <td> 9771</td>\n",
        "      <td> 2014-01-31 23:42:00-06:00</td>\n",
        "      <td> 2.347</td>\n",
        "      <td>     0</td>\n",
        "      <td>     0</td>\n",
        "      <td> None</td>\n",
        "      <td> None</td>\n",
        "      <td> None</td>\n",
        "      <td> None</td>\n",
        "      <td> None</td>\n",
        "      <td>...</td>\n",
        "      <td> None</td>\n",
        "      <td> None</td>\n",
        "      <td> 0.008</td>\n",
        "      <td> None</td>\n",
        "      <td> None</td>\n",
        "      <td> None</td>\n",
        "      <td> None</td>\n",
        "      <td> None</td>\n",
        "      <td> None</td>\n",
        "      <td> None</td>\n",
        "    </tr>\n",
        "    <tr>\n",
        "      <th>44623</th>\n",
        "      <td> 9771</td>\n",
        "      <td> 2014-01-31 23:43:00-06:00</td>\n",
        "      <td> 2.321</td>\n",
        "      <td>     0</td>\n",
        "      <td>     0</td>\n",
        "      <td> None</td>\n",
        "      <td> None</td>\n",
        "      <td> None</td>\n",
        "      <td> None</td>\n",
        "      <td> None</td>\n",
        "      <td>...</td>\n",
        "      <td> None</td>\n",
        "      <td> None</td>\n",
        "      <td> 0.008</td>\n",
        "      <td> None</td>\n",
        "      <td> None</td>\n",
        "      <td> None</td>\n",
        "      <td> None</td>\n",
        "      <td> None</td>\n",
        "      <td> None</td>\n",
        "      <td> None</td>\n",
        "    </tr>\n",
        "    <tr>\n",
        "      <th>44624</th>\n",
        "      <td> 9771</td>\n",
        "      <td> 2014-01-31 23:44:00-06:00</td>\n",
        "      <td> 2.552</td>\n",
        "      <td>     0</td>\n",
        "      <td>     0</td>\n",
        "      <td> None</td>\n",
        "      <td> None</td>\n",
        "      <td> None</td>\n",
        "      <td> None</td>\n",
        "      <td> None</td>\n",
        "      <td>...</td>\n",
        "      <td> None</td>\n",
        "      <td> None</td>\n",
        "      <td> 0.010</td>\n",
        "      <td> None</td>\n",
        "      <td> None</td>\n",
        "      <td> None</td>\n",
        "      <td> None</td>\n",
        "      <td> None</td>\n",
        "      <td> None</td>\n",
        "      <td> None</td>\n",
        "    </tr>\n",
        "    <tr>\n",
        "      <th>44625</th>\n",
        "      <td> 9771</td>\n",
        "      <td> 2014-01-31 23:45:00-06:00</td>\n",
        "      <td> 2.565</td>\n",
        "      <td>     0</td>\n",
        "      <td>     0</td>\n",
        "      <td> None</td>\n",
        "      <td> None</td>\n",
        "      <td> None</td>\n",
        "      <td> None</td>\n",
        "      <td> None</td>\n",
        "      <td>...</td>\n",
        "      <td> None</td>\n",
        "      <td> None</td>\n",
        "      <td> 0.010</td>\n",
        "      <td> None</td>\n",
        "      <td> None</td>\n",
        "      <td> None</td>\n",
        "      <td> None</td>\n",
        "      <td> None</td>\n",
        "      <td> None</td>\n",
        "      <td> None</td>\n",
        "    </tr>\n",
        "    <tr>\n",
        "      <th>44626</th>\n",
        "      <td> 9771</td>\n",
        "      <td> 2014-01-31 23:46:00-06:00</td>\n",
        "      <td> 2.699</td>\n",
        "      <td>     0</td>\n",
        "      <td>     0</td>\n",
        "      <td> None</td>\n",
        "      <td> None</td>\n",
        "      <td> None</td>\n",
        "      <td> None</td>\n",
        "      <td> None</td>\n",
        "      <td>...</td>\n",
        "      <td> None</td>\n",
        "      <td> None</td>\n",
        "      <td> 0.011</td>\n",
        "      <td> None</td>\n",
        "      <td> None</td>\n",
        "      <td> None</td>\n",
        "      <td> None</td>\n",
        "      <td> None</td>\n",
        "      <td> None</td>\n",
        "      <td> None</td>\n",
        "    </tr>\n",
        "    <tr>\n",
        "      <th>44627</th>\n",
        "      <td> 9771</td>\n",
        "      <td> 2014-01-31 23:47:00-06:00</td>\n",
        "      <td> 2.599</td>\n",
        "      <td>     0</td>\n",
        "      <td>     0</td>\n",
        "      <td> None</td>\n",
        "      <td> None</td>\n",
        "      <td> None</td>\n",
        "      <td> None</td>\n",
        "      <td> None</td>\n",
        "      <td>...</td>\n",
        "      <td> None</td>\n",
        "      <td> None</td>\n",
        "      <td> 0.011</td>\n",
        "      <td> None</td>\n",
        "      <td> None</td>\n",
        "      <td> None</td>\n",
        "      <td> None</td>\n",
        "      <td> None</td>\n",
        "      <td> None</td>\n",
        "      <td> None</td>\n",
        "    </tr>\n",
        "    <tr>\n",
        "      <th>44628</th>\n",
        "      <td> 9771</td>\n",
        "      <td> 2014-01-31 23:48:00-06:00</td>\n",
        "      <td> 2.648</td>\n",
        "      <td>     0</td>\n",
        "      <td>     0</td>\n",
        "      <td> None</td>\n",
        "      <td> None</td>\n",
        "      <td> None</td>\n",
        "      <td> None</td>\n",
        "      <td> None</td>\n",
        "      <td>...</td>\n",
        "      <td> None</td>\n",
        "      <td> None</td>\n",
        "      <td> 0.011</td>\n",
        "      <td> None</td>\n",
        "      <td> None</td>\n",
        "      <td> None</td>\n",
        "      <td> None</td>\n",
        "      <td> None</td>\n",
        "      <td> None</td>\n",
        "      <td> None</td>\n",
        "    </tr>\n",
        "    <tr>\n",
        "      <th>44629</th>\n",
        "      <td> 9771</td>\n",
        "      <td> 2014-01-31 23:49:00-06:00</td>\n",
        "      <td> 2.803</td>\n",
        "      <td>     0</td>\n",
        "      <td>     0</td>\n",
        "      <td> None</td>\n",
        "      <td> None</td>\n",
        "      <td> None</td>\n",
        "      <td> None</td>\n",
        "      <td> None</td>\n",
        "      <td>...</td>\n",
        "      <td> None</td>\n",
        "      <td> None</td>\n",
        "      <td> 0.014</td>\n",
        "      <td> None</td>\n",
        "      <td> None</td>\n",
        "      <td> None</td>\n",
        "      <td> None</td>\n",
        "      <td> None</td>\n",
        "      <td> None</td>\n",
        "      <td> None</td>\n",
        "    </tr>\n",
        "    <tr>\n",
        "      <th>44630</th>\n",
        "      <td> 9771</td>\n",
        "      <td> 2014-01-31 23:50:00-06:00</td>\n",
        "      <td> 2.939</td>\n",
        "      <td>     0</td>\n",
        "      <td>     0</td>\n",
        "      <td> None</td>\n",
        "      <td> None</td>\n",
        "      <td> None</td>\n",
        "      <td> None</td>\n",
        "      <td> None</td>\n",
        "      <td>...</td>\n",
        "      <td> None</td>\n",
        "      <td> None</td>\n",
        "      <td> 0.015</td>\n",
        "      <td> None</td>\n",
        "      <td> None</td>\n",
        "      <td> None</td>\n",
        "      <td> None</td>\n",
        "      <td> None</td>\n",
        "      <td> None</td>\n",
        "      <td> None</td>\n",
        "    </tr>\n",
        "    <tr>\n",
        "      <th>44631</th>\n",
        "      <td> 9771</td>\n",
        "      <td> 2014-01-31 23:51:00-06:00</td>\n",
        "      <td> 2.895</td>\n",
        "      <td>     0</td>\n",
        "      <td>     0</td>\n",
        "      <td> None</td>\n",
        "      <td> None</td>\n",
        "      <td> None</td>\n",
        "      <td> None</td>\n",
        "      <td> None</td>\n",
        "      <td>...</td>\n",
        "      <td> None</td>\n",
        "      <td> None</td>\n",
        "      <td> 0.015</td>\n",
        "      <td> None</td>\n",
        "      <td> None</td>\n",
        "      <td> None</td>\n",
        "      <td> None</td>\n",
        "      <td> None</td>\n",
        "      <td> None</td>\n",
        "      <td> None</td>\n",
        "    </tr>\n",
        "    <tr>\n",
        "      <th>44632</th>\n",
        "      <td> 9771</td>\n",
        "      <td> 2014-01-31 23:52:00-06:00</td>\n",
        "      <td> 2.454</td>\n",
        "      <td>     0</td>\n",
        "      <td>     0</td>\n",
        "      <td> None</td>\n",
        "      <td> None</td>\n",
        "      <td> None</td>\n",
        "      <td> None</td>\n",
        "      <td> None</td>\n",
        "      <td>...</td>\n",
        "      <td> None</td>\n",
        "      <td> None</td>\n",
        "      <td> 0.006</td>\n",
        "      <td> None</td>\n",
        "      <td> None</td>\n",
        "      <td> None</td>\n",
        "      <td> None</td>\n",
        "      <td> None</td>\n",
        "      <td> None</td>\n",
        "      <td> None</td>\n",
        "    </tr>\n",
        "    <tr>\n",
        "      <th>44633</th>\n",
        "      <td> 9771</td>\n",
        "      <td> 2014-01-31 23:53:00-06:00</td>\n",
        "      <td> 2.271</td>\n",
        "      <td>     0</td>\n",
        "      <td>     0</td>\n",
        "      <td> None</td>\n",
        "      <td> None</td>\n",
        "      <td> None</td>\n",
        "      <td> None</td>\n",
        "      <td> None</td>\n",
        "      <td>...</td>\n",
        "      <td> None</td>\n",
        "      <td> None</td>\n",
        "      <td> 0.004</td>\n",
        "      <td> None</td>\n",
        "      <td> None</td>\n",
        "      <td> None</td>\n",
        "      <td> None</td>\n",
        "      <td> None</td>\n",
        "      <td> None</td>\n",
        "      <td> None</td>\n",
        "    </tr>\n",
        "    <tr>\n",
        "      <th>44634</th>\n",
        "      <td> 9771</td>\n",
        "      <td> 2014-01-31 23:54:00-06:00</td>\n",
        "      <td> 2.178</td>\n",
        "      <td>     0</td>\n",
        "      <td>     0</td>\n",
        "      <td> None</td>\n",
        "      <td> None</td>\n",
        "      <td> None</td>\n",
        "      <td> None</td>\n",
        "      <td> None</td>\n",
        "      <td>...</td>\n",
        "      <td> None</td>\n",
        "      <td> None</td>\n",
        "      <td> 0.004</td>\n",
        "      <td> None</td>\n",
        "      <td> None</td>\n",
        "      <td> None</td>\n",
        "      <td> None</td>\n",
        "      <td> None</td>\n",
        "      <td> None</td>\n",
        "      <td> None</td>\n",
        "    </tr>\n",
        "    <tr>\n",
        "      <th>44635</th>\n",
        "      <td> 9771</td>\n",
        "      <td> 2014-01-31 23:55:00-06:00</td>\n",
        "      <td> 1.948</td>\n",
        "      <td>     0</td>\n",
        "      <td>     0</td>\n",
        "      <td> None</td>\n",
        "      <td> None</td>\n",
        "      <td> None</td>\n",
        "      <td> None</td>\n",
        "      <td> None</td>\n",
        "      <td>...</td>\n",
        "      <td> None</td>\n",
        "      <td> None</td>\n",
        "      <td>     0</td>\n",
        "      <td> None</td>\n",
        "      <td> None</td>\n",
        "      <td> None</td>\n",
        "      <td> None</td>\n",
        "      <td> None</td>\n",
        "      <td> None</td>\n",
        "      <td> None</td>\n",
        "    </tr>\n",
        "    <tr>\n",
        "      <th>44636</th>\n",
        "      <td> 9771</td>\n",
        "      <td> 2014-01-31 23:56:00-06:00</td>\n",
        "      <td> 1.968</td>\n",
        "      <td>     0</td>\n",
        "      <td>     0</td>\n",
        "      <td> None</td>\n",
        "      <td> None</td>\n",
        "      <td> None</td>\n",
        "      <td> None</td>\n",
        "      <td> None</td>\n",
        "      <td>...</td>\n",
        "      <td> None</td>\n",
        "      <td> None</td>\n",
        "      <td>     0</td>\n",
        "      <td> None</td>\n",
        "      <td> None</td>\n",
        "      <td> None</td>\n",
        "      <td> None</td>\n",
        "      <td> None</td>\n",
        "      <td> None</td>\n",
        "      <td> None</td>\n",
        "    </tr>\n",
        "    <tr>\n",
        "      <th>44637</th>\n",
        "      <td> 9771</td>\n",
        "      <td> 2014-01-31 23:57:00-06:00</td>\n",
        "      <td> 1.954</td>\n",
        "      <td>     0</td>\n",
        "      <td>     0</td>\n",
        "      <td> None</td>\n",
        "      <td> None</td>\n",
        "      <td> None</td>\n",
        "      <td> None</td>\n",
        "      <td> None</td>\n",
        "      <td>...</td>\n",
        "      <td> None</td>\n",
        "      <td> None</td>\n",
        "      <td>     0</td>\n",
        "      <td> None</td>\n",
        "      <td> None</td>\n",
        "      <td> None</td>\n",
        "      <td> None</td>\n",
        "      <td> None</td>\n",
        "      <td> None</td>\n",
        "      <td> None</td>\n",
        "    </tr>\n",
        "    <tr>\n",
        "      <th>44638</th>\n",
        "      <td> 9771</td>\n",
        "      <td> 2014-01-31 23:58:00-06:00</td>\n",
        "      <td> 1.701</td>\n",
        "      <td>     0</td>\n",
        "      <td>     0</td>\n",
        "      <td> None</td>\n",
        "      <td> None</td>\n",
        "      <td> None</td>\n",
        "      <td> None</td>\n",
        "      <td> None</td>\n",
        "      <td>...</td>\n",
        "      <td> None</td>\n",
        "      <td> None</td>\n",
        "      <td>     0</td>\n",
        "      <td> None</td>\n",
        "      <td> None</td>\n",
        "      <td> None</td>\n",
        "      <td> None</td>\n",
        "      <td> None</td>\n",
        "      <td> None</td>\n",
        "      <td> None</td>\n",
        "    </tr>\n",
        "    <tr>\n",
        "      <th>44639</th>\n",
        "      <td> 9771</td>\n",
        "      <td> 2014-01-31 23:59:00-06:00</td>\n",
        "      <td> 1.624</td>\n",
        "      <td>     0</td>\n",
        "      <td>     0</td>\n",
        "      <td> None</td>\n",
        "      <td> None</td>\n",
        "      <td> None</td>\n",
        "      <td> None</td>\n",
        "      <td> None</td>\n",
        "      <td>...</td>\n",
        "      <td> None</td>\n",
        "      <td> None</td>\n",
        "      <td>     0</td>\n",
        "      <td> None</td>\n",
        "      <td> None</td>\n",
        "      <td> None</td>\n",
        "      <td> None</td>\n",
        "      <td> None</td>\n",
        "      <td> None</td>\n",
        "      <td> None</td>\n",
        "    </tr>\n",
        "  </tbody>\n",
        "</table>\n",
        "<p>44640 rows \u00d7 73 columns</p>\n",
        "</div>"
       ],
       "metadata": {},
       "output_type": "pyout",
       "prompt_number": 18,
       "text": [
        "       dataid                localminute    use   air1   air2  air3  \\\n",
        "0        9771  2014-01-01 00:00:00-06:00  3.230  0.004  0.004  None   \n",
        "1        9771  2014-01-01 00:01:00-06:00  2.836  0.004  0.003  None   \n",
        "2        9771  2014-01-01 00:02:00-06:00  2.811  0.004  0.003  None   \n",
        "3        9771  2014-01-01 00:03:00-06:00  2.670  0.004      0  None   \n",
        "4        9771  2014-01-01 00:04:00-06:00  2.524  0.004      0  None   \n",
        "5        9771  2014-01-01 00:05:00-06:00  2.545  0.004      0  None   \n",
        "6        9771  2014-01-01 00:06:00-06:00  2.551  0.004      0  None   \n",
        "7        9771  2014-01-01 00:07:00-06:00  2.560  0.004      0  None   \n",
        "8        9771  2014-01-01 00:08:00-06:00  2.605  0.004      0  None   \n",
        "9        9771  2014-01-01 00:09:00-06:00  2.805  0.004  0.003  None   \n",
        "10       9771  2014-01-01 00:10:00-06:00  2.855  0.004  0.003  None   \n",
        "11       9771  2014-01-01 00:11:00-06:00  2.788  0.004      0  None   \n",
        "12       9771  2014-01-01 00:12:00-06:00  2.689  0.004      0  None   \n",
        "13       9771  2014-01-01 00:13:00-06:00  2.639  0.003      0  None   \n",
        "14       9771  2014-01-01 00:14:00-06:00  2.518  0.003      0  None   \n",
        "15       9771  2014-01-01 00:15:00-06:00  2.665  0.003      0  None   \n",
        "16       9771  2014-01-01 00:16:00-06:00  2.797  0.004      0  None   \n",
        "17       9771  2014-01-01 00:17:00-06:00  2.919  0.004      0  None   \n",
        "18       9771  2014-01-01 00:18:00-06:00  2.937  0.004      0  None   \n",
        "19       9771  2014-01-01 00:19:00-06:00  2.900  0.004      0  None   \n",
        "20       9771  2014-01-01 00:20:00-06:00  2.854  0.004      0  None   \n",
        "21       9771  2014-01-01 00:21:00-06:00  2.809  0.004      0  None   \n",
        "22       9771  2014-01-01 00:22:00-06:00  2.805  0.004      0  None   \n",
        "23       9771  2014-01-01 00:23:00-06:00  2.653  0.004      0  None   \n",
        "24       9771  2014-01-01 00:24:00-06:00  2.581  0.004      0  None   \n",
        "25       9771  2014-01-01 00:25:00-06:00  2.622  0.004      0  None   \n",
        "26       9771  2014-01-01 00:26:00-06:00  2.600  0.004      0  None   \n",
        "27       9771  2014-01-01 00:27:00-06:00  2.479  0.004      0  None   \n",
        "28       9771  2014-01-01 00:28:00-06:00  2.378  0.004      0  None   \n",
        "29       9771  2014-01-01 00:29:00-06:00  2.422  0.004      0  None   \n",
        "...       ...                        ...    ...    ...    ...   ...   \n",
        "44610    9771  2014-01-31 23:30:00-06:00  2.517      0      0  None   \n",
        "44611    9771  2014-01-31 23:31:00-06:00  2.464      0      0  None   \n",
        "44612    9771  2014-01-31 23:32:00-06:00  2.510      0      0  None   \n",
        "44613    9771  2014-01-31 23:33:00-06:00  2.500      0      0  None   \n",
        "44614    9771  2014-01-31 23:34:00-06:00  2.481      0      0  None   \n",
        "44615    9771  2014-01-31 23:35:00-06:00  2.728      0      0  None   \n",
        "44616    9771  2014-01-31 23:36:00-06:00  2.750      0      0  None   \n",
        "44617    9771  2014-01-31 23:37:00-06:00  2.736      0      0  None   \n",
        "44618    9771  2014-01-31 23:38:00-06:00  2.724      0      0  None   \n",
        "44619    9771  2014-01-31 23:39:00-06:00  2.699      0      0  None   \n",
        "44620    9771  2014-01-31 23:40:00-06:00  2.704      0      0  None   \n",
        "44621    9771  2014-01-31 23:41:00-06:00  2.390      0      0  None   \n",
        "44622    9771  2014-01-31 23:42:00-06:00  2.347      0      0  None   \n",
        "44623    9771  2014-01-31 23:43:00-06:00  2.321      0      0  None   \n",
        "44624    9771  2014-01-31 23:44:00-06:00  2.552      0      0  None   \n",
        "44625    9771  2014-01-31 23:45:00-06:00  2.565      0      0  None   \n",
        "44626    9771  2014-01-31 23:46:00-06:00  2.699      0      0  None   \n",
        "44627    9771  2014-01-31 23:47:00-06:00  2.599      0      0  None   \n",
        "44628    9771  2014-01-31 23:48:00-06:00  2.648      0      0  None   \n",
        "44629    9771  2014-01-31 23:49:00-06:00  2.803      0      0  None   \n",
        "44630    9771  2014-01-31 23:50:00-06:00  2.939      0      0  None   \n",
        "44631    9771  2014-01-31 23:51:00-06:00  2.895      0      0  None   \n",
        "44632    9771  2014-01-31 23:52:00-06:00  2.454      0      0  None   \n",
        "44633    9771  2014-01-31 23:53:00-06:00  2.271      0      0  None   \n",
        "44634    9771  2014-01-31 23:54:00-06:00  2.178      0      0  None   \n",
        "44635    9771  2014-01-31 23:55:00-06:00  1.948      0      0  None   \n",
        "44636    9771  2014-01-31 23:56:00-06:00  1.968      0      0  None   \n",
        "44637    9771  2014-01-31 23:57:00-06:00  1.954      0      0  None   \n",
        "44638    9771  2014-01-31 23:58:00-06:00  1.701      0      0  None   \n",
        "44639    9771  2014-01-31 23:59:00-06:00  1.624      0      0  None   \n",
        "\n",
        "      airwindowunit1 aquarium1 bathroom1 bathroom2    ...    sprinkler1  \\\n",
        "0               None      None      None      None    ...          None   \n",
        "1               None      None      None      None    ...          None   \n",
        "2               None      None      None      None    ...          None   \n",
        "3               None      None      None      None    ...          None   \n",
        "4               None      None      None      None    ...          None   \n",
        "5               None      None      None      None    ...          None   \n",
        "6               None      None      None      None    ...          None   \n",
        "7               None      None      None      None    ...          None   \n",
        "8               None      None      None      None    ...          None   \n",
        "9               None      None      None      None    ...          None   \n",
        "10              None      None      None      None    ...          None   \n",
        "11              None      None      None      None    ...          None   \n",
        "12              None      None      None      None    ...          None   \n",
        "13              None      None      None      None    ...          None   \n",
        "14              None      None      None      None    ...          None   \n",
        "15              None      None      None      None    ...          None   \n",
        "16              None      None      None      None    ...          None   \n",
        "17              None      None      None      None    ...          None   \n",
        "18              None      None      None      None    ...          None   \n",
        "19              None      None      None      None    ...          None   \n",
        "20              None      None      None      None    ...          None   \n",
        "21              None      None      None      None    ...          None   \n",
        "22              None      None      None      None    ...          None   \n",
        "23              None      None      None      None    ...          None   \n",
        "24              None      None      None      None    ...          None   \n",
        "25              None      None      None      None    ...          None   \n",
        "26              None      None      None      None    ...          None   \n",
        "27              None      None      None      None    ...          None   \n",
        "28              None      None      None      None    ...          None   \n",
        "29              None      None      None      None    ...          None   \n",
        "...              ...       ...       ...       ...    ...           ...   \n",
        "44610           None      None      None      None    ...          None   \n",
        "44611           None      None      None      None    ...          None   \n",
        "44612           None      None      None      None    ...          None   \n",
        "44613           None      None      None      None    ...          None   \n",
        "44614           None      None      None      None    ...          None   \n",
        "44615           None      None      None      None    ...          None   \n",
        "44616           None      None      None      None    ...          None   \n",
        "44617           None      None      None      None    ...          None   \n",
        "44618           None      None      None      None    ...          None   \n",
        "44619           None      None      None      None    ...          None   \n",
        "44620           None      None      None      None    ...          None   \n",
        "44621           None      None      None      None    ...          None   \n",
        "44622           None      None      None      None    ...          None   \n",
        "44623           None      None      None      None    ...          None   \n",
        "44624           None      None      None      None    ...          None   \n",
        "44625           None      None      None      None    ...          None   \n",
        "44626           None      None      None      None    ...          None   \n",
        "44627           None      None      None      None    ...          None   \n",
        "44628           None      None      None      None    ...          None   \n",
        "44629           None      None      None      None    ...          None   \n",
        "44630           None      None      None      None    ...          None   \n",
        "44631           None      None      None      None    ...          None   \n",
        "44632           None      None      None      None    ...          None   \n",
        "44633           None      None      None      None    ...          None   \n",
        "44634           None      None      None      None    ...          None   \n",
        "44635           None      None      None      None    ...          None   \n",
        "44636           None      None      None      None    ...          None   \n",
        "44637           None      None      None      None    ...          None   \n",
        "44638           None      None      None      None    ...          None   \n",
        "44639           None      None      None      None    ...          None   \n",
        "\n",
        "      unknown1 unknown2 unknown3 unknown4 utilityroom1 venthood1 waterheater1  \\\n",
        "0         None    0.088     None     None         None      None         None   \n",
        "1         None    0.072     None     None         None      None         None   \n",
        "2         None    0.070     None     None         None      None         None   \n",
        "3         None    0.068     None     None         None      None         None   \n",
        "4         None    0.067     None     None         None      None         None   \n",
        "5         None    0.067     None     None         None      None         None   \n",
        "6         None    0.067     None     None         None      None         None   \n",
        "7         None    0.067     None     None         None      None         None   \n",
        "8         None    0.067     None     None         None      None         None   \n",
        "9         None    0.067     None     None         None      None         None   \n",
        "10        None    0.067     None     None         None      None         None   \n",
        "11        None    0.067     None     None         None      None         None   \n",
        "12        None    0.067     None     None         None      None         None   \n",
        "13        None    0.062     None     None         None      None         None   \n",
        "14        None    0.058     None     None         None      None         None   \n",
        "15        None    0.060     None     None         None      None         None   \n",
        "16        None    0.065     None     None         None      None         None   \n",
        "17        None    0.068     None     None         None      None         None   \n",
        "18        None    0.068     None     None         None      None         None   \n",
        "19        None    0.067     None     None         None      None         None   \n",
        "20        None    0.068     None     None         None      None         None   \n",
        "21        None    0.067     None     None         None      None         None   \n",
        "22        None    0.067     None     None         None      None         None   \n",
        "23        None    0.067     None     None         None      None         None   \n",
        "24        None    0.067     None     None         None      None         None   \n",
        "25        None    0.067     None     None         None      None         None   \n",
        "26        None    0.067     None     None         None      None         None   \n",
        "27        None    0.067     None     None         None      None         None   \n",
        "28        None    0.067     None     None         None      None         None   \n",
        "29        None    0.067     None     None         None      None         None   \n",
        "...        ...      ...      ...      ...          ...       ...          ...   \n",
        "44610     None    0.010     None     None         None      None         None   \n",
        "44611     None    0.009     None     None         None      None         None   \n",
        "44612     None    0.009     None     None         None      None         None   \n",
        "44613     None    0.009     None     None         None      None         None   \n",
        "44614     None    0.009     None     None         None      None         None   \n",
        "44615     None    0.014     None     None         None      None         None   \n",
        "44616     None    0.013     None     None         None      None         None   \n",
        "44617     None    0.013     None     None         None      None         None   \n",
        "44618     None    0.013     None     None         None      None         None   \n",
        "44619     None    0.013     None     None         None      None         None   \n",
        "44620     None    0.013     None     None         None      None         None   \n",
        "44621     None    0.009     None     None         None      None         None   \n",
        "44622     None    0.008     None     None         None      None         None   \n",
        "44623     None    0.008     None     None         None      None         None   \n",
        "44624     None    0.010     None     None         None      None         None   \n",
        "44625     None    0.010     None     None         None      None         None   \n",
        "44626     None    0.011     None     None         None      None         None   \n",
        "44627     None    0.011     None     None         None      None         None   \n",
        "44628     None    0.011     None     None         None      None         None   \n",
        "44629     None    0.014     None     None         None      None         None   \n",
        "44630     None    0.015     None     None         None      None         None   \n",
        "44631     None    0.015     None     None         None      None         None   \n",
        "44632     None    0.006     None     None         None      None         None   \n",
        "44633     None    0.004     None     None         None      None         None   \n",
        "44634     None    0.004     None     None         None      None         None   \n",
        "44635     None        0     None     None         None      None         None   \n",
        "44636     None        0     None     None         None      None         None   \n",
        "44637     None        0     None     None         None      None         None   \n",
        "44638     None        0     None     None         None      None         None   \n",
        "44639     None        0     None     None         None      None         None   \n",
        "\n",
        "      waterheater2 winecooler1  \n",
        "0             None        None  \n",
        "1             None        None  \n",
        "2             None        None  \n",
        "3             None        None  \n",
        "4             None        None  \n",
        "5             None        None  \n",
        "6             None        None  \n",
        "7             None        None  \n",
        "8             None        None  \n",
        "9             None        None  \n",
        "10            None        None  \n",
        "11            None        None  \n",
        "12            None        None  \n",
        "13            None        None  \n",
        "14            None        None  \n",
        "15            None        None  \n",
        "16            None        None  \n",
        "17            None        None  \n",
        "18            None        None  \n",
        "19            None        None  \n",
        "20            None        None  \n",
        "21            None        None  \n",
        "22            None        None  \n",
        "23            None        None  \n",
        "24            None        None  \n",
        "25            None        None  \n",
        "26            None        None  \n",
        "27            None        None  \n",
        "28            None        None  \n",
        "29            None        None  \n",
        "...            ...         ...  \n",
        "44610         None        None  \n",
        "44611         None        None  \n",
        "44612         None        None  \n",
        "44613         None        None  \n",
        "44614         None        None  \n",
        "44615         None        None  \n",
        "44616         None        None  \n",
        "44617         None        None  \n",
        "44618         None        None  \n",
        "44619         None        None  \n",
        "44620         None        None  \n",
        "44621         None        None  \n",
        "44622         None        None  \n",
        "44623         None        None  \n",
        "44624         None        None  \n",
        "44625         None        None  \n",
        "44626         None        None  \n",
        "44627         None        None  \n",
        "44628         None        None  \n",
        "44629         None        None  \n",
        "44630         None        None  \n",
        "44631         None        None  \n",
        "44632         None        None  \n",
        "44633         None        None  \n",
        "44634         None        None  \n",
        "44635         None        None  \n",
        "44636         None        None  \n",
        "44637         None        None  \n",
        "44638         None        None  \n",
        "44639         None        None  \n",
        "\n",
        "[44640 rows x 73 columns]"
       ]
      }
     ],
     "prompt_number": 18
    },
    {
     "cell_type": "code",
     "collapsed": false,
     "input": [
      "for homeid in dataids:\n",
      "    home = get_table_by_id(eng,\"validated_01_2014\",homeid)\n",
      "    if 'use' not in home.columns:\n",
      "        print homeid"
     ],
     "language": "python",
     "metadata": {},
     "outputs": [
      {
       "output_type": "stream",
       "stream": "stdout",
       "text": [
        "2014-06-18 14:43:00,104 INFO sqlalchemy.engine.base.Engine select * from \"PecanStreet_SharedData\".validated_01_2014 where \"PecanStreet_SharedData\".validated_01_2014.dataid=744\n"
       ]
      },
      {
       "output_type": "stream",
       "stream": "stderr",
       "text": [
        "INFO:sqlalchemy.engine.base.Engine:select * from \"PecanStreet_SharedData\".validated_01_2014 where \"PecanStreet_SharedData\".validated_01_2014.dataid=744\n"
       ]
      },
      {
       "output_type": "stream",
       "stream": "stdout",
       "text": [
        "2014-06-18 14:43:00,105 INFO sqlalchemy.engine.base.Engine {}\n"
       ]
      },
      {
       "output_type": "stream",
       "stream": "stderr",
       "text": [
        "INFO:sqlalchemy.engine.base.Engine:{}\n"
       ]
      },
      {
       "output_type": "stream",
       "stream": "stdout",
       "text": [
        "2014-06-18 14:43:30,343 INFO sqlalchemy.engine.base.Engine select * from \"PecanStreet_SharedData\".validated_01_2014 where \"PecanStreet_SharedData\".validated_01_2014.dataid=2129\n"
       ]
      },
      {
       "output_type": "stream",
       "stream": "stderr",
       "text": [
        "INFO:sqlalchemy.engine.base.Engine:select * from \"PecanStreet_SharedData\".validated_01_2014 where \"PecanStreet_SharedData\".validated_01_2014.dataid=2129\n"
       ]
      },
      {
       "output_type": "stream",
       "stream": "stdout",
       "text": [
        "2014-06-18 14:43:30,344 INFO sqlalchemy.engine.base.Engine {}\n"
       ]
      },
      {
       "output_type": "stream",
       "stream": "stderr",
       "text": [
        "INFO:sqlalchemy.engine.base.Engine:{}\n"
       ]
      },
      {
       "output_type": "stream",
       "stream": "stdout",
       "text": [
        "2014-06-18 14:44:04,427 INFO sqlalchemy.engine.base.Engine select * from \"PecanStreet_SharedData\".validated_01_2014 where \"PecanStreet_SharedData\".validated_01_2014.dataid=2575\n"
       ]
      },
      {
       "output_type": "stream",
       "stream": "stderr",
       "text": [
        "INFO:sqlalchemy.engine.base.Engine:select * from \"PecanStreet_SharedData\".validated_01_2014 where \"PecanStreet_SharedData\".validated_01_2014.dataid=2575\n"
       ]
      },
      {
       "output_type": "stream",
       "stream": "stdout",
       "text": [
        "2014-06-18 14:44:04,427 INFO sqlalchemy.engine.base.Engine {}\n"
       ]
      },
      {
       "output_type": "stream",
       "stream": "stderr",
       "text": [
        "INFO:sqlalchemy.engine.base.Engine:{}\n"
       ]
      },
      {
       "output_type": "stream",
       "stream": "stdout",
       "text": [
        "2014-06-18 14:44:42,685 INFO sqlalchemy.engine.base.Engine select * from \"PecanStreet_SharedData\".validated_01_2014 where \"PecanStreet_SharedData\".validated_01_2014.dataid=4874\n"
       ]
      },
      {
       "output_type": "stream",
       "stream": "stderr",
       "text": [
        "INFO:sqlalchemy.engine.base.Engine:select * from \"PecanStreet_SharedData\".validated_01_2014 where \"PecanStreet_SharedData\".validated_01_2014.dataid=4874\n"
       ]
      },
      {
       "output_type": "stream",
       "stream": "stdout",
       "text": [
        "2014-06-18 14:44:42,685 INFO sqlalchemy.engine.base.Engine {}\n"
       ]
      },
      {
       "output_type": "stream",
       "stream": "stderr",
       "text": [
        "INFO:sqlalchemy.engine.base.Engine:{}\n"
       ]
      },
      {
       "output_type": "stream",
       "stream": "stdout",
       "text": [
        "2014-06-18 14:45:21,766 INFO sqlalchemy.engine.base.Engine select * from \"PecanStreet_SharedData\".validated_01_2014 where \"PecanStreet_SharedData\".validated_01_2014.dataid=7989\n"
       ]
      },
      {
       "output_type": "stream",
       "stream": "stderr",
       "text": [
        "INFO:sqlalchemy.engine.base.Engine:select * from \"PecanStreet_SharedData\".validated_01_2014 where \"PecanStreet_SharedData\".validated_01_2014.dataid=7989\n"
       ]
      },
      {
       "output_type": "stream",
       "stream": "stdout",
       "text": [
        "2014-06-18 14:45:21,767 INFO sqlalchemy.engine.base.Engine {}\n"
       ]
      },
      {
       "output_type": "stream",
       "stream": "stderr",
       "text": [
        "INFO:sqlalchemy.engine.base.Engine:{}\n"
       ]
      },
      {
       "output_type": "stream",
       "stream": "stdout",
       "text": [
        "2014-06-18 14:45:58,493 INFO sqlalchemy.engine.base.Engine select * from \"PecanStreet_SharedData\".validated_01_2014 where \"PecanStreet_SharedData\".validated_01_2014.dataid=410\n"
       ]
      },
      {
       "output_type": "stream",
       "stream": "stderr",
       "text": [
        "INFO:sqlalchemy.engine.base.Engine:select * from \"PecanStreet_SharedData\".validated_01_2014 where \"PecanStreet_SharedData\".validated_01_2014.dataid=410\n"
       ]
      },
      {
       "output_type": "stream",
       "stream": "stdout",
       "text": [
        "2014-06-18 14:45:58,494 INFO sqlalchemy.engine.base.Engine {}\n"
       ]
      },
      {
       "output_type": "stream",
       "stream": "stderr",
       "text": [
        "INFO:sqlalchemy.engine.base.Engine:{}\n"
       ]
      },
      {
       "output_type": "stream",
       "stream": "stdout",
       "text": [
        "2014-06-18 14:46:34,763 INFO sqlalchemy.engine.base.Engine select * from \"PecanStreet_SharedData\".validated_01_2014 where \"PecanStreet_SharedData\".validated_01_2014.dataid=1782\n"
       ]
      },
      {
       "output_type": "stream",
       "stream": "stderr",
       "text": [
        "INFO:sqlalchemy.engine.base.Engine:select * from \"PecanStreet_SharedData\".validated_01_2014 where \"PecanStreet_SharedData\".validated_01_2014.dataid=1782\n"
       ]
      },
      {
       "output_type": "stream",
       "stream": "stdout",
       "text": [
        "2014-06-18 14:46:34,764 INFO sqlalchemy.engine.base.Engine {}\n"
       ]
      },
      {
       "output_type": "stream",
       "stream": "stderr",
       "text": [
        "INFO:sqlalchemy.engine.base.Engine:{}\n"
       ]
      },
      {
       "output_type": "stream",
       "stream": "stdout",
       "text": [
        "2014-06-18 14:47:16,523 INFO sqlalchemy.engine.base.Engine select * from \"PecanStreet_SharedData\".validated_01_2014 where \"PecanStreet_SharedData\".validated_01_2014.dataid=3394\n"
       ]
      },
      {
       "output_type": "stream",
       "stream": "stderr",
       "text": [
        "INFO:sqlalchemy.engine.base.Engine:select * from \"PecanStreet_SharedData\".validated_01_2014 where \"PecanStreet_SharedData\".validated_01_2014.dataid=3394\n"
       ]
      },
      {
       "output_type": "stream",
       "stream": "stdout",
       "text": [
        "2014-06-18 14:47:16,523 INFO sqlalchemy.engine.base.Engine {}\n"
       ]
      },
      {
       "output_type": "stream",
       "stream": "stderr",
       "text": [
        "INFO:sqlalchemy.engine.base.Engine:{}\n"
       ]
      },
      {
       "output_type": "stream",
       "stream": "stdout",
       "text": [
        "2014-06-18 14:47:57,174 INFO sqlalchemy.engine.base.Engine select * from \"PecanStreet_SharedData\".validated_01_2014 where \"PecanStreet_SharedData\".validated_01_2014.dataid=8467\n"
       ]
      },
      {
       "output_type": "stream",
       "stream": "stderr",
       "text": [
        "INFO:sqlalchemy.engine.base.Engine:select * from \"PecanStreet_SharedData\".validated_01_2014 where \"PecanStreet_SharedData\".validated_01_2014.dataid=8467\n"
       ]
      },
      {
       "output_type": "stream",
       "stream": "stdout",
       "text": [
        "2014-06-18 14:47:57,182 INFO sqlalchemy.engine.base.Engine {}\n"
       ]
      },
      {
       "output_type": "stream",
       "stream": "stderr",
       "text": [
        "INFO:sqlalchemy.engine.base.Engine:{}\n"
       ]
      },
      {
       "output_type": "stream",
       "stream": "stdout",
       "text": [
        "2014-06-18 14:48:43,821 INFO sqlalchemy.engine.base.Engine select * from \"PecanStreet_SharedData\".validated_01_2014 where \"PecanStreet_SharedData\".validated_01_2014.dataid=1167\n"
       ]
      },
      {
       "output_type": "stream",
       "stream": "stderr",
       "text": [
        "INFO:sqlalchemy.engine.base.Engine:select * from \"PecanStreet_SharedData\".validated_01_2014 where \"PecanStreet_SharedData\".validated_01_2014.dataid=1167\n"
       ]
      },
      {
       "output_type": "stream",
       "stream": "stdout",
       "text": [
        "2014-06-18 14:48:43,822 INFO sqlalchemy.engine.base.Engine {}\n"
       ]
      },
      {
       "output_type": "stream",
       "stream": "stderr",
       "text": [
        "INFO:sqlalchemy.engine.base.Engine:{}\n"
       ]
      },
      {
       "output_type": "stream",
       "stream": "stdout",
       "text": [
        "2014-06-18 14:49:20,419 INFO sqlalchemy.engine.base.Engine select * from \"PecanStreet_SharedData\".validated_01_2014 where \"PecanStreet_SharedData\".validated_01_2014.dataid=5026\n"
       ]
      },
      {
       "output_type": "stream",
       "stream": "stderr",
       "text": [
        "INFO:sqlalchemy.engine.base.Engine:select * from \"PecanStreet_SharedData\".validated_01_2014 where \"PecanStreet_SharedData\".validated_01_2014.dataid=5026\n"
       ]
      },
      {
       "output_type": "stream",
       "stream": "stdout",
       "text": [
        "2014-06-18 14:49:20,420 INFO sqlalchemy.engine.base.Engine {}\n"
       ]
      },
      {
       "output_type": "stream",
       "stream": "stderr",
       "text": [
        "INFO:sqlalchemy.engine.base.Engine:{}\n"
       ]
      },
      {
       "output_type": "stream",
       "stream": "stdout",
       "text": [
        "2014-06-18 14:50:00,117 INFO sqlalchemy.engine.base.Engine select * from \"PecanStreet_SharedData\".validated_01_2014 where \"PecanStreet_SharedData\".validated_01_2014.dataid=8142\n"
       ]
      },
      {
       "output_type": "stream",
       "stream": "stderr",
       "text": [
        "INFO:sqlalchemy.engine.base.Engine:select * from \"PecanStreet_SharedData\".validated_01_2014 where \"PecanStreet_SharedData\".validated_01_2014.dataid=8142\n"
       ]
      },
      {
       "output_type": "stream",
       "stream": "stdout",
       "text": [
        "2014-06-18 14:50:00,117 INFO sqlalchemy.engine.base.Engine {}\n"
       ]
      },
      {
       "output_type": "stream",
       "stream": "stderr",
       "text": [
        "INFO:sqlalchemy.engine.base.Engine:{}\n"
       ]
      },
      {
       "output_type": "stream",
       "stream": "stdout",
       "text": [
        "2014-06-18 14:50:42,773 INFO sqlalchemy.engine.base.Engine select * from \"PecanStreet_SharedData\".validated_01_2014 where \"PecanStreet_SharedData\".validated_01_2014.dataid=5218\n"
       ]
      },
      {
       "output_type": "stream",
       "stream": "stderr",
       "text": [
        "INFO:sqlalchemy.engine.base.Engine:select * from \"PecanStreet_SharedData\".validated_01_2014 where \"PecanStreet_SharedData\".validated_01_2014.dataid=5218\n"
       ]
      },
      {
       "output_type": "stream",
       "stream": "stdout",
       "text": [
        "2014-06-18 14:50:42,773 INFO sqlalchemy.engine.base.Engine {}\n"
       ]
      },
      {
       "output_type": "stream",
       "stream": "stderr",
       "text": [
        "INFO:sqlalchemy.engine.base.Engine:{}\n"
       ]
      },
      {
       "output_type": "stream",
       "stream": "stdout",
       "text": [
        "2014-06-18 14:51:20,893 INFO sqlalchemy.engine.base.Engine select * from \"PecanStreet_SharedData\".validated_01_2014 where \"PecanStreet_SharedData\".validated_01_2014.dataid=8736\n"
       ]
      },
      {
       "output_type": "stream",
       "stream": "stderr",
       "text": [
        "INFO:sqlalchemy.engine.base.Engine:select * from \"PecanStreet_SharedData\".validated_01_2014 where \"PecanStreet_SharedData\".validated_01_2014.dataid=8736\n"
       ]
      },
      {
       "output_type": "stream",
       "stream": "stdout",
       "text": [
        "2014-06-18 14:51:20,895 INFO sqlalchemy.engine.base.Engine {}\n"
       ]
      },
      {
       "output_type": "stream",
       "stream": "stderr",
       "text": [
        "INFO:sqlalchemy.engine.base.Engine:{}\n"
       ]
      },
      {
       "output_type": "stream",
       "stream": "stdout",
       "text": [
        "2014-06-18 14:51:58,410 INFO sqlalchemy.engine.base.Engine select * from \"PecanStreet_SharedData\".validated_01_2014 where \"PecanStreet_SharedData\".validated_01_2014.dataid=3263\n"
       ]
      },
      {
       "output_type": "stream",
       "stream": "stderr",
       "text": [
        "INFO:sqlalchemy.engine.base.Engine:select * from \"PecanStreet_SharedData\".validated_01_2014 where \"PecanStreet_SharedData\".validated_01_2014.dataid=3263\n"
       ]
      },
      {
       "output_type": "stream",
       "stream": "stdout",
       "text": [
        "2014-06-18 14:51:58,411 INFO sqlalchemy.engine.base.Engine {}\n"
       ]
      },
      {
       "output_type": "stream",
       "stream": "stderr",
       "text": [
        "INFO:sqlalchemy.engine.base.Engine:{}\n"
       ]
      },
      {
       "output_type": "stream",
       "stream": "stdout",
       "text": [
        "2014-06-18 14:52:35,536 INFO sqlalchemy.engine.base.Engine select * from \"PecanStreet_SharedData\".validated_01_2014 where \"PecanStreet_SharedData\".validated_01_2014.dataid=6673\n"
       ]
      },
      {
       "output_type": "stream",
       "stream": "stderr",
       "text": [
        "INFO:sqlalchemy.engine.base.Engine:select * from \"PecanStreet_SharedData\".validated_01_2014 where \"PecanStreet_SharedData\".validated_01_2014.dataid=6673\n"
       ]
      },
      {
       "output_type": "stream",
       "stream": "stdout",
       "text": [
        "2014-06-18 14:52:35,536 INFO sqlalchemy.engine.base.Engine {}\n"
       ]
      },
      {
       "output_type": "stream",
       "stream": "stderr",
       "text": [
        "INFO:sqlalchemy.engine.base.Engine:{}\n"
       ]
      },
      {
       "output_type": "stream",
       "stream": "stdout",
       "text": [
        "2014-06-18 14:53:14,838 INFO sqlalchemy.engine.base.Engine select * from \"PecanStreet_SharedData\".validated_01_2014 where \"PecanStreet_SharedData\".validated_01_2014.dataid=7617\n"
       ]
      },
      {
       "output_type": "stream",
       "stream": "stderr",
       "text": [
        "INFO:sqlalchemy.engine.base.Engine:select * from \"PecanStreet_SharedData\".validated_01_2014 where \"PecanStreet_SharedData\".validated_01_2014.dataid=7617\n"
       ]
      },
      {
       "output_type": "stream",
       "stream": "stdout",
       "text": [
        "2014-06-18 14:53:14,839 INFO sqlalchemy.engine.base.Engine {}\n"
       ]
      },
      {
       "output_type": "stream",
       "stream": "stderr",
       "text": [
        "INFO:sqlalchemy.engine.base.Engine:{}\n"
       ]
      },
      {
       "output_type": "stream",
       "stream": "stdout",
       "text": [
        "2014-06-18 14:53:54,482 INFO sqlalchemy.engine.base.Engine select * from \"PecanStreet_SharedData\".validated_01_2014 where \"PecanStreet_SharedData\".validated_01_2014.dataid=8342\n"
       ]
      },
      {
       "output_type": "stream",
       "stream": "stderr",
       "text": [
        "INFO:sqlalchemy.engine.base.Engine:select * from \"PecanStreet_SharedData\".validated_01_2014 where \"PecanStreet_SharedData\".validated_01_2014.dataid=8342\n"
       ]
      },
      {
       "output_type": "stream",
       "stream": "stdout",
       "text": [
        "2014-06-18 14:53:54,483 INFO sqlalchemy.engine.base.Engine {}\n"
       ]
      },
      {
       "output_type": "stream",
       "stream": "stderr",
       "text": [
        "INFO:sqlalchemy.engine.base.Engine:{}\n"
       ]
      },
      {
       "output_type": "stream",
       "stream": "stdout",
       "text": [
        "2014-06-18 14:54:28,685 INFO sqlalchemy.engine.base.Engine select * from \"PecanStreet_SharedData\".validated_01_2014 where \"PecanStreet_SharedData\".validated_01_2014.dataid=8829\n"
       ]
      },
      {
       "output_type": "stream",
       "stream": "stderr",
       "text": [
        "INFO:sqlalchemy.engine.base.Engine:select * from \"PecanStreet_SharedData\".validated_01_2014 where \"PecanStreet_SharedData\".validated_01_2014.dataid=8829\n"
       ]
      },
      {
       "output_type": "stream",
       "stream": "stdout",
       "text": [
        "2014-06-18 14:54:28,686 INFO sqlalchemy.engine.base.Engine {}\n"
       ]
      },
      {
       "output_type": "stream",
       "stream": "stderr",
       "text": [
        "INFO:sqlalchemy.engine.base.Engine:{}\n"
       ]
      },
      {
       "output_type": "stream",
       "stream": "stdout",
       "text": [
        "2014-06-18 14:55:01,184 INFO sqlalchemy.engine.base.Engine select * from \"PecanStreet_SharedData\".validated_01_2014 where \"PecanStreet_SharedData\".validated_01_2014.dataid=3544\n"
       ]
      },
      {
       "output_type": "stream",
       "stream": "stderr",
       "text": [
        "INFO:sqlalchemy.engine.base.Engine:select * from \"PecanStreet_SharedData\".validated_01_2014 where \"PecanStreet_SharedData\".validated_01_2014.dataid=3544\n"
       ]
      },
      {
       "output_type": "stream",
       "stream": "stdout",
       "text": [
        "2014-06-18 14:55:01,185 INFO sqlalchemy.engine.base.Engine {}\n"
       ]
      },
      {
       "output_type": "stream",
       "stream": "stderr",
       "text": [
        "INFO:sqlalchemy.engine.base.Engine:{}\n"
       ]
      },
      {
       "output_type": "stream",
       "stream": "stdout",
       "text": [
        "2014-06-18 14:55:37,464 INFO sqlalchemy.engine.base.Engine select * from \"PecanStreet_SharedData\".validated_01_2014 where \"PecanStreet_SharedData\".validated_01_2014.dataid=370\n"
       ]
      },
      {
       "output_type": "stream",
       "stream": "stderr",
       "text": [
        "INFO:sqlalchemy.engine.base.Engine:select * from \"PecanStreet_SharedData\".validated_01_2014 where \"PecanStreet_SharedData\".validated_01_2014.dataid=370\n"
       ]
      },
      {
       "output_type": "stream",
       "stream": "stdout",
       "text": [
        "2014-06-18 14:55:37,465 INFO sqlalchemy.engine.base.Engine {}\n"
       ]
      },
      {
       "output_type": "stream",
       "stream": "stderr",
       "text": [
        "INFO:sqlalchemy.engine.base.Engine:{}\n"
       ]
      },
      {
       "output_type": "stream",
       "stream": "stdout",
       "text": [
        "2014-06-18 14:56:17,334 INFO sqlalchemy.engine.base.Engine select * from \"PecanStreet_SharedData\".validated_01_2014 where \"PecanStreet_SharedData\".validated_01_2014.dataid=3736\n"
       ]
      },
      {
       "output_type": "stream",
       "stream": "stderr",
       "text": [
        "INFO:sqlalchemy.engine.base.Engine:select * from \"PecanStreet_SharedData\".validated_01_2014 where \"PecanStreet_SharedData\".validated_01_2014.dataid=3736\n"
       ]
      },
      {
       "output_type": "stream",
       "stream": "stdout",
       "text": [
        "2014-06-18 14:56:17,335 INFO sqlalchemy.engine.base.Engine {}\n"
       ]
      },
      {
       "output_type": "stream",
       "stream": "stderr",
       "text": [
        "INFO:sqlalchemy.engine.base.Engine:{}\n"
       ]
      },
      {
       "output_type": "stream",
       "stream": "stdout",
       "text": [
        "2014-06-18 14:56:54,163 INFO sqlalchemy.engine.base.Engine select * from \"PecanStreet_SharedData\".validated_01_2014 where \"PecanStreet_SharedData\".validated_01_2014.dataid=4505\n"
       ]
      },
      {
       "output_type": "stream",
       "stream": "stderr",
       "text": [
        "INFO:sqlalchemy.engine.base.Engine:select * from \"PecanStreet_SharedData\".validated_01_2014 where \"PecanStreet_SharedData\".validated_01_2014.dataid=4505\n"
       ]
      },
      {
       "output_type": "stream",
       "stream": "stdout",
       "text": [
        "2014-06-18 14:56:54,164 INFO sqlalchemy.engine.base.Engine {}\n"
       ]
      },
      {
       "output_type": "stream",
       "stream": "stderr",
       "text": [
        "INFO:sqlalchemy.engine.base.Engine:{}\n"
       ]
      },
      {
       "output_type": "stream",
       "stream": "stdout",
       "text": [
        "2014-06-18 14:57:27,732 INFO sqlalchemy.engine.base.Engine select * from \"PecanStreet_SharedData\".validated_01_2014 where \"PecanStreet_SharedData\".validated_01_2014.dataid=9938\n"
       ]
      },
      {
       "output_type": "stream",
       "stream": "stderr",
       "text": [
        "INFO:sqlalchemy.engine.base.Engine:select * from \"PecanStreet_SharedData\".validated_01_2014 where \"PecanStreet_SharedData\".validated_01_2014.dataid=9938\n"
       ]
      },
      {
       "output_type": "stream",
       "stream": "stdout",
       "text": [
        "2014-06-18 14:57:27,733 INFO sqlalchemy.engine.base.Engine {}\n"
       ]
      },
      {
       "output_type": "stream",
       "stream": "stderr",
       "text": [
        "INFO:sqlalchemy.engine.base.Engine:{}\n"
       ]
      },
      {
       "output_type": "stream",
       "stream": "stdout",
       "text": [
        "2014-06-18 14:58:04,924 INFO sqlalchemy.engine.base.Engine select * from \"PecanStreet_SharedData\".validated_01_2014 where \"PecanStreet_SharedData\".validated_01_2014.dataid=9922\n"
       ]
      },
      {
       "output_type": "stream",
       "stream": "stderr",
       "text": [
        "INFO:sqlalchemy.engine.base.Engine:select * from \"PecanStreet_SharedData\".validated_01_2014 where \"PecanStreet_SharedData\".validated_01_2014.dataid=9922\n"
       ]
      },
      {
       "output_type": "stream",
       "stream": "stdout",
       "text": [
        "2014-06-18 14:58:04,925 INFO sqlalchemy.engine.base.Engine {}\n"
       ]
      },
      {
       "output_type": "stream",
       "stream": "stderr",
       "text": [
        "INFO:sqlalchemy.engine.base.Engine:{}\n"
       ]
      },
      {
       "output_type": "stream",
       "stream": "stdout",
       "text": [
        "2014-06-18 14:58:49,592 INFO sqlalchemy.engine.base.Engine select * from \"PecanStreet_SharedData\".validated_01_2014 where \"PecanStreet_SharedData\".validated_01_2014.dataid=3795\n"
       ]
      },
      {
       "output_type": "stream",
       "stream": "stderr",
       "text": [
        "INFO:sqlalchemy.engine.base.Engine:select * from \"PecanStreet_SharedData\".validated_01_2014 where \"PecanStreet_SharedData\".validated_01_2014.dataid=3795\n"
       ]
      },
      {
       "output_type": "stream",
       "stream": "stdout",
       "text": [
        "2014-06-18 14:58:49,593 INFO sqlalchemy.engine.base.Engine {}\n"
       ]
      },
      {
       "output_type": "stream",
       "stream": "stderr",
       "text": [
        "INFO:sqlalchemy.engine.base.Engine:{}\n"
       ]
      },
      {
       "output_type": "stream",
       "stream": "stdout",
       "text": [
        "2014-06-18 14:59:31,242 INFO sqlalchemy.engine.base.Engine select * from \"PecanStreet_SharedData\".validated_01_2014 where \"PecanStreet_SharedData\".validated_01_2014.dataid=9771\n"
       ]
      },
      {
       "output_type": "stream",
       "stream": "stderr",
       "text": [
        "INFO:sqlalchemy.engine.base.Engine:select * from \"PecanStreet_SharedData\".validated_01_2014 where \"PecanStreet_SharedData\".validated_01_2014.dataid=9771\n"
       ]
      },
      {
       "output_type": "stream",
       "stream": "stdout",
       "text": [
        "2014-06-18 14:59:31,243 INFO sqlalchemy.engine.base.Engine {}\n"
       ]
      },
      {
       "output_type": "stream",
       "stream": "stderr",
       "text": [
        "INFO:sqlalchemy.engine.base.Engine:{}\n"
       ]
      },
      {
       "output_type": "stream",
       "stream": "stdout",
       "text": [
        "2014-06-18 15:00:14,120 INFO sqlalchemy.engine.base.Engine select * from \"PecanStreet_SharedData\".validated_01_2014 where \"PecanStreet_SharedData\".validated_01_2014.dataid=821\n"
       ]
      },
      {
       "output_type": "stream",
       "stream": "stderr",
       "text": [
        "INFO:sqlalchemy.engine.base.Engine:select * from \"PecanStreet_SharedData\".validated_01_2014 where \"PecanStreet_SharedData\".validated_01_2014.dataid=821\n"
       ]
      },
      {
       "output_type": "stream",
       "stream": "stdout",
       "text": [
        "2014-06-18 15:00:14,121 INFO sqlalchemy.engine.base.Engine {}\n"
       ]
      },
      {
       "output_type": "stream",
       "stream": "stderr",
       "text": [
        "INFO:sqlalchemy.engine.base.Engine:{}\n"
       ]
      },
      {
       "output_type": "stream",
       "stream": "stdout",
       "text": [
        "2014-06-18 15:00:52,116 INFO sqlalchemy.engine.base.Engine select * from \"PecanStreet_SharedData\".validated_01_2014 where \"PecanStreet_SharedData\".validated_01_2014.dataid=94\n"
       ]
      },
      {
       "output_type": "stream",
       "stream": "stderr",
       "text": [
        "INFO:sqlalchemy.engine.base.Engine:select * from \"PecanStreet_SharedData\".validated_01_2014 where \"PecanStreet_SharedData\".validated_01_2014.dataid=94\n"
       ]
      },
      {
       "output_type": "stream",
       "stream": "stdout",
       "text": [
        "2014-06-18 15:00:52,116 INFO sqlalchemy.engine.base.Engine {}\n"
       ]
      },
      {
       "output_type": "stream",
       "stream": "stderr",
       "text": [
        "INFO:sqlalchemy.engine.base.Engine:{}\n"
       ]
      },
      {
       "output_type": "stream",
       "stream": "stdout",
       "text": [
        "2014-06-18 15:01:26,739 INFO sqlalchemy.engine.base.Engine select * from \"PecanStreet_SharedData\".validated_01_2014 where \"PecanStreet_SharedData\".validated_01_2014.dataid=2171\n"
       ]
      },
      {
       "output_type": "stream",
       "stream": "stderr",
       "text": [
        "INFO:sqlalchemy.engine.base.Engine:select * from \"PecanStreet_SharedData\".validated_01_2014 where \"PecanStreet_SharedData\".validated_01_2014.dataid=2171\n"
       ]
      },
      {
       "output_type": "stream",
       "stream": "stdout",
       "text": [
        "2014-06-18 15:01:26,740 INFO sqlalchemy.engine.base.Engine {}\n"
       ]
      },
      {
       "output_type": "stream",
       "stream": "stderr",
       "text": [
        "INFO:sqlalchemy.engine.base.Engine:{}\n"
       ]
      },
      {
       "output_type": "stream",
       "stream": "stdout",
       "text": [
        "2014-06-18 15:02:00,086 INFO sqlalchemy.engine.base.Engine select * from \"PecanStreet_SharedData\".validated_01_2014 where \"PecanStreet_SharedData\".validated_01_2014.dataid=4313\n"
       ]
      },
      {
       "output_type": "stream",
       "stream": "stderr",
       "text": [
        "INFO:sqlalchemy.engine.base.Engine:select * from \"PecanStreet_SharedData\".validated_01_2014 where \"PecanStreet_SharedData\".validated_01_2014.dataid=4313\n"
       ]
      },
      {
       "output_type": "stream",
       "stream": "stdout",
       "text": [
        "2014-06-18 15:02:00,087 INFO sqlalchemy.engine.base.Engine {}\n"
       ]
      },
      {
       "output_type": "stream",
       "stream": "stderr",
       "text": [
        "INFO:sqlalchemy.engine.base.Engine:{}\n"
       ]
      },
      {
       "output_type": "stream",
       "stream": "stdout",
       "text": [
        "2014-06-18 15:02:34,737 INFO sqlalchemy.engine.base.Engine select * from \"PecanStreet_SharedData\".validated_01_2014 where \"PecanStreet_SharedData\".validated_01_2014.dataid=2769\n"
       ]
      },
      {
       "output_type": "stream",
       "stream": "stderr",
       "text": [
        "INFO:sqlalchemy.engine.base.Engine:select * from \"PecanStreet_SharedData\".validated_01_2014 where \"PecanStreet_SharedData\".validated_01_2014.dataid=2769\n"
       ]
      },
      {
       "output_type": "stream",
       "stream": "stdout",
       "text": [
        "2014-06-18 15:02:34,738 INFO sqlalchemy.engine.base.Engine {}\n"
       ]
      },
      {
       "output_type": "stream",
       "stream": "stderr",
       "text": [
        "INFO:sqlalchemy.engine.base.Engine:{}\n"
       ]
      }
     ]
    },
    {
     "cell_type": "code",
     "collapsed": false,
     "input": [
      "##check if gen is only non nan\n",
      "homes_with_gen_only=[]\n",
      "dir_path = os.path.join(os.getcwd(), 'homes/' ) \n",
      "    #os.makedirs(dir_path)\n",
      "filename = 'genonly.txt'\n",
      "for homeid in dataids:\n",
      "    home = get_table_by_id(eng,\"validated_01_2014\",homeid)\n",
      "    l = [i for i in home.dropna(axis=1).columns]\n",
      "    \n",
      "    if len(l)<5 and 'gen' in l:\n",
      "        homes_with_gen_only.append(homeid)\n",
      "with open(os.path.join(dir_path, filename), 'w') as outfile:\n",
      "    outfile.writelines(homes_with_gen_only)"
     ],
     "language": "python",
     "metadata": {},
     "outputs": [
      {
       "output_type": "stream",
       "stream": "stdout",
       "text": [
        "2014-06-18 15:29:56,742 INFO sqlalchemy.engine.base.Engine select * from \"PecanStreet_SharedData\".validated_01_2014 where \"PecanStreet_SharedData\".validated_01_2014.dataid=744\n"
       ]
      },
      {
       "output_type": "stream",
       "stream": "stderr",
       "text": [
        "INFO:sqlalchemy.engine.base.Engine:select * from \"PecanStreet_SharedData\".validated_01_2014 where \"PecanStreet_SharedData\".validated_01_2014.dataid=744\n"
       ]
      },
      {
       "output_type": "stream",
       "stream": "stdout",
       "text": [
        "2014-06-18 15:29:56,743 INFO sqlalchemy.engine.base.Engine {}\n"
       ]
      },
      {
       "output_type": "stream",
       "stream": "stderr",
       "text": [
        "INFO:sqlalchemy.engine.base.Engine:{}\n"
       ]
      },
      {
       "output_type": "stream",
       "stream": "stdout",
       "text": [
        "2014-06-18 15:30:34,555 INFO sqlalchemy.engine.base.Engine select * from \"PecanStreet_SharedData\".validated_01_2014 where \"PecanStreet_SharedData\".validated_01_2014.dataid=2129\n"
       ]
      },
      {
       "output_type": "stream",
       "stream": "stderr",
       "text": [
        "INFO:sqlalchemy.engine.base.Engine:select * from \"PecanStreet_SharedData\".validated_01_2014 where \"PecanStreet_SharedData\".validated_01_2014.dataid=2129\n"
       ]
      },
      {
       "output_type": "stream",
       "stream": "stdout",
       "text": [
        "2014-06-18 15:30:34,556 INFO sqlalchemy.engine.base.Engine {}\n"
       ]
      },
      {
       "output_type": "stream",
       "stream": "stderr",
       "text": [
        "INFO:sqlalchemy.engine.base.Engine:{}\n"
       ]
      },
      {
       "output_type": "stream",
       "stream": "stdout",
       "text": [
        "2014-06-18 15:31:10,659 INFO sqlalchemy.engine.base.Engine select * from \"PecanStreet_SharedData\".validated_01_2014 where \"PecanStreet_SharedData\".validated_01_2014.dataid=2575\n"
       ]
      },
      {
       "output_type": "stream",
       "stream": "stderr",
       "text": [
        "INFO:sqlalchemy.engine.base.Engine:select * from \"PecanStreet_SharedData\".validated_01_2014 where \"PecanStreet_SharedData\".validated_01_2014.dataid=2575\n"
       ]
      },
      {
       "output_type": "stream",
       "stream": "stdout",
       "text": [
        "2014-06-18 15:31:10,660 INFO sqlalchemy.engine.base.Engine {}\n"
       ]
      },
      {
       "output_type": "stream",
       "stream": "stderr",
       "text": [
        "INFO:sqlalchemy.engine.base.Engine:{}\n"
       ]
      },
      {
       "output_type": "stream",
       "stream": "stdout",
       "text": [
        "2014-06-18 15:31:52,360 INFO sqlalchemy.engine.base.Engine select * from \"PecanStreet_SharedData\".validated_01_2014 where \"PecanStreet_SharedData\".validated_01_2014.dataid=4874\n"
       ]
      },
      {
       "output_type": "stream",
       "stream": "stderr",
       "text": [
        "INFO:sqlalchemy.engine.base.Engine:select * from \"PecanStreet_SharedData\".validated_01_2014 where \"PecanStreet_SharedData\".validated_01_2014.dataid=4874\n"
       ]
      },
      {
       "output_type": "stream",
       "stream": "stdout",
       "text": [
        "2014-06-18 15:31:52,361 INFO sqlalchemy.engine.base.Engine {}\n"
       ]
      },
      {
       "output_type": "stream",
       "stream": "stderr",
       "text": [
        "INFO:sqlalchemy.engine.base.Engine:{}\n"
       ]
      },
      {
       "output_type": "stream",
       "stream": "stdout",
       "text": [
        "2014-06-18 15:32:37,753 INFO sqlalchemy.engine.base.Engine select * from \"PecanStreet_SharedData\".validated_01_2014 where \"PecanStreet_SharedData\".validated_01_2014.dataid=7989\n"
       ]
      },
      {
       "output_type": "stream",
       "stream": "stderr",
       "text": [
        "INFO:sqlalchemy.engine.base.Engine:select * from \"PecanStreet_SharedData\".validated_01_2014 where \"PecanStreet_SharedData\".validated_01_2014.dataid=7989\n"
       ]
      },
      {
       "output_type": "stream",
       "stream": "stdout",
       "text": [
        "2014-06-18 15:32:37,754 INFO sqlalchemy.engine.base.Engine {}\n"
       ]
      },
      {
       "output_type": "stream",
       "stream": "stderr",
       "text": [
        "INFO:sqlalchemy.engine.base.Engine:{}\n"
       ]
      },
      {
       "output_type": "stream",
       "stream": "stdout",
       "text": [
        "2014-06-18 15:33:15,475 INFO sqlalchemy.engine.base.Engine select * from \"PecanStreet_SharedData\".validated_01_2014 where \"PecanStreet_SharedData\".validated_01_2014.dataid=410\n"
       ]
      },
      {
       "output_type": "stream",
       "stream": "stderr",
       "text": [
        "INFO:sqlalchemy.engine.base.Engine:select * from \"PecanStreet_SharedData\".validated_01_2014 where \"PecanStreet_SharedData\".validated_01_2014.dataid=410\n"
       ]
      },
      {
       "output_type": "stream",
       "stream": "stdout",
       "text": [
        "2014-06-18 15:33:15,476 INFO sqlalchemy.engine.base.Engine {}\n"
       ]
      },
      {
       "output_type": "stream",
       "stream": "stderr",
       "text": [
        "INFO:sqlalchemy.engine.base.Engine:{}\n"
       ]
      },
      {
       "output_type": "stream",
       "stream": "stdout",
       "text": [
        "2014-06-18 15:33:53,413 INFO sqlalchemy.engine.base.Engine select * from \"PecanStreet_SharedData\".validated_01_2014 where \"PecanStreet_SharedData\".validated_01_2014.dataid=1782\n"
       ]
      },
      {
       "output_type": "stream",
       "stream": "stderr",
       "text": [
        "INFO:sqlalchemy.engine.base.Engine:select * from \"PecanStreet_SharedData\".validated_01_2014 where \"PecanStreet_SharedData\".validated_01_2014.dataid=1782\n"
       ]
      },
      {
       "output_type": "stream",
       "stream": "stdout",
       "text": [
        "2014-06-18 15:33:53,414 INFO sqlalchemy.engine.base.Engine {}\n"
       ]
      },
      {
       "output_type": "stream",
       "stream": "stderr",
       "text": [
        "INFO:sqlalchemy.engine.base.Engine:{}\n"
       ]
      },
      {
       "output_type": "stream",
       "stream": "stdout",
       "text": [
        "2014-06-18 15:34:38,052 INFO sqlalchemy.engine.base.Engine select * from \"PecanStreet_SharedData\".validated_01_2014 where \"PecanStreet_SharedData\".validated_01_2014.dataid=3394\n"
       ]
      },
      {
       "output_type": "stream",
       "stream": "stderr",
       "text": [
        "INFO:sqlalchemy.engine.base.Engine:select * from \"PecanStreet_SharedData\".validated_01_2014 where \"PecanStreet_SharedData\".validated_01_2014.dataid=3394\n"
       ]
      },
      {
       "output_type": "stream",
       "stream": "stdout",
       "text": [
        "2014-06-18 15:34:38,053 INFO sqlalchemy.engine.base.Engine {}\n"
       ]
      },
      {
       "output_type": "stream",
       "stream": "stderr",
       "text": [
        "INFO:sqlalchemy.engine.base.Engine:{}\n"
       ]
      },
      {
       "output_type": "stream",
       "stream": "stdout",
       "text": [
        "2014-06-18 15:35:16,939 INFO sqlalchemy.engine.base.Engine select * from \"PecanStreet_SharedData\".validated_01_2014 where \"PecanStreet_SharedData\".validated_01_2014.dataid=8467\n"
       ]
      },
      {
       "output_type": "stream",
       "stream": "stderr",
       "text": [
        "INFO:sqlalchemy.engine.base.Engine:select * from \"PecanStreet_SharedData\".validated_01_2014 where \"PecanStreet_SharedData\".validated_01_2014.dataid=8467\n"
       ]
      },
      {
       "output_type": "stream",
       "stream": "stdout",
       "text": [
        "2014-06-18 15:35:16,941 INFO sqlalchemy.engine.base.Engine {}\n"
       ]
      },
      {
       "output_type": "stream",
       "stream": "stderr",
       "text": [
        "INFO:sqlalchemy.engine.base.Engine:{}\n"
       ]
      },
      {
       "output_type": "stream",
       "stream": "stdout",
       "text": [
        "2014-06-18 15:35:50,966 INFO sqlalchemy.engine.base.Engine select * from \"PecanStreet_SharedData\".validated_01_2014 where \"PecanStreet_SharedData\".validated_01_2014.dataid=1167\n"
       ]
      },
      {
       "output_type": "stream",
       "stream": "stderr",
       "text": [
        "INFO:sqlalchemy.engine.base.Engine:select * from \"PecanStreet_SharedData\".validated_01_2014 where \"PecanStreet_SharedData\".validated_01_2014.dataid=1167\n"
       ]
      },
      {
       "output_type": "stream",
       "stream": "stdout",
       "text": [
        "2014-06-18 15:35:50,967 INFO sqlalchemy.engine.base.Engine {}\n"
       ]
      },
      {
       "output_type": "stream",
       "stream": "stderr",
       "text": [
        "INFO:sqlalchemy.engine.base.Engine:{}\n"
       ]
      },
      {
       "output_type": "stream",
       "stream": "stdout",
       "text": [
        "2014-06-18 15:36:29,926 INFO sqlalchemy.engine.base.Engine select * from \"PecanStreet_SharedData\".validated_01_2014 where \"PecanStreet_SharedData\".validated_01_2014.dataid=5026\n"
       ]
      },
      {
       "output_type": "stream",
       "stream": "stderr",
       "text": [
        "INFO:sqlalchemy.engine.base.Engine:select * from \"PecanStreet_SharedData\".validated_01_2014 where \"PecanStreet_SharedData\".validated_01_2014.dataid=5026\n"
       ]
      },
      {
       "output_type": "stream",
       "stream": "stdout",
       "text": [
        "2014-06-18 15:36:29,927 INFO sqlalchemy.engine.base.Engine {}\n"
       ]
      },
      {
       "output_type": "stream",
       "stream": "stderr",
       "text": [
        "INFO:sqlalchemy.engine.base.Engine:{}\n"
       ]
      },
      {
       "output_type": "stream",
       "stream": "stdout",
       "text": [
        "2014-06-18 15:37:10,334 INFO sqlalchemy.engine.base.Engine select * from \"PecanStreet_SharedData\".validated_01_2014 where \"PecanStreet_SharedData\".validated_01_2014.dataid=8142\n"
       ]
      },
      {
       "output_type": "stream",
       "stream": "stderr",
       "text": [
        "INFO:sqlalchemy.engine.base.Engine:select * from \"PecanStreet_SharedData\".validated_01_2014 where \"PecanStreet_SharedData\".validated_01_2014.dataid=8142\n"
       ]
      },
      {
       "output_type": "stream",
       "stream": "stdout",
       "text": [
        "2014-06-18 15:37:10,335 INFO sqlalchemy.engine.base.Engine {}\n"
       ]
      },
      {
       "output_type": "stream",
       "stream": "stderr",
       "text": [
        "INFO:sqlalchemy.engine.base.Engine:{}\n"
       ]
      },
      {
       "output_type": "stream",
       "stream": "stdout",
       "text": [
        "2014-06-18 15:37:55,618 INFO sqlalchemy.engine.base.Engine select * from \"PecanStreet_SharedData\".validated_01_2014 where \"PecanStreet_SharedData\".validated_01_2014.dataid=5218\n"
       ]
      },
      {
       "output_type": "stream",
       "stream": "stderr",
       "text": [
        "INFO:sqlalchemy.engine.base.Engine:select * from \"PecanStreet_SharedData\".validated_01_2014 where \"PecanStreet_SharedData\".validated_01_2014.dataid=5218\n"
       ]
      },
      {
       "output_type": "stream",
       "stream": "stdout",
       "text": [
        "2014-06-18 15:37:55,619 INFO sqlalchemy.engine.base.Engine {}\n"
       ]
      },
      {
       "output_type": "stream",
       "stream": "stderr",
       "text": [
        "INFO:sqlalchemy.engine.base.Engine:{}\n"
       ]
      },
      {
       "output_type": "stream",
       "stream": "stdout",
       "text": [
        "2014-06-18 15:38:38,893 INFO sqlalchemy.engine.base.Engine select * from \"PecanStreet_SharedData\".validated_01_2014 where \"PecanStreet_SharedData\".validated_01_2014.dataid=8736\n"
       ]
      },
      {
       "output_type": "stream",
       "stream": "stderr",
       "text": [
        "INFO:sqlalchemy.engine.base.Engine:select * from \"PecanStreet_SharedData\".validated_01_2014 where \"PecanStreet_SharedData\".validated_01_2014.dataid=8736\n"
       ]
      },
      {
       "output_type": "stream",
       "stream": "stdout",
       "text": [
        "2014-06-18 15:38:38,894 INFO sqlalchemy.engine.base.Engine {}\n"
       ]
      },
      {
       "output_type": "stream",
       "stream": "stderr",
       "text": [
        "INFO:sqlalchemy.engine.base.Engine:{}\n"
       ]
      },
      {
       "output_type": "stream",
       "stream": "stdout",
       "text": [
        "2014-06-18 15:39:19,615 INFO sqlalchemy.engine.base.Engine select * from \"PecanStreet_SharedData\".validated_01_2014 where \"PecanStreet_SharedData\".validated_01_2014.dataid=3263\n"
       ]
      },
      {
       "output_type": "stream",
       "stream": "stderr",
       "text": [
        "INFO:sqlalchemy.engine.base.Engine:select * from \"PecanStreet_SharedData\".validated_01_2014 where \"PecanStreet_SharedData\".validated_01_2014.dataid=3263\n"
       ]
      },
      {
       "output_type": "stream",
       "stream": "stdout",
       "text": [
        "2014-06-18 15:39:19,616 INFO sqlalchemy.engine.base.Engine {}\n"
       ]
      },
      {
       "output_type": "stream",
       "stream": "stderr",
       "text": [
        "INFO:sqlalchemy.engine.base.Engine:{}\n"
       ]
      },
      {
       "output_type": "stream",
       "stream": "stdout",
       "text": [
        "2014-06-18 15:40:03,678 INFO sqlalchemy.engine.base.Engine select * from \"PecanStreet_SharedData\".validated_01_2014 where \"PecanStreet_SharedData\".validated_01_2014.dataid=6673\n"
       ]
      },
      {
       "output_type": "stream",
       "stream": "stderr",
       "text": [
        "INFO:sqlalchemy.engine.base.Engine:select * from \"PecanStreet_SharedData\".validated_01_2014 where \"PecanStreet_SharedData\".validated_01_2014.dataid=6673\n"
       ]
      },
      {
       "output_type": "stream",
       "stream": "stdout",
       "text": [
        "2014-06-18 15:40:03,679 INFO sqlalchemy.engine.base.Engine {}\n"
       ]
      },
      {
       "output_type": "stream",
       "stream": "stderr",
       "text": [
        "INFO:sqlalchemy.engine.base.Engine:{}\n"
       ]
      },
      {
       "output_type": "stream",
       "stream": "stdout",
       "text": [
        "2014-06-18 15:40:48,482 INFO sqlalchemy.engine.base.Engine select * from \"PecanStreet_SharedData\".validated_01_2014 where \"PecanStreet_SharedData\".validated_01_2014.dataid=7617\n"
       ]
      },
      {
       "output_type": "stream",
       "stream": "stderr",
       "text": [
        "INFO:sqlalchemy.engine.base.Engine:select * from \"PecanStreet_SharedData\".validated_01_2014 where \"PecanStreet_SharedData\".validated_01_2014.dataid=7617\n"
       ]
      },
      {
       "output_type": "stream",
       "stream": "stdout",
       "text": [
        "2014-06-18 15:40:48,483 INFO sqlalchemy.engine.base.Engine {}\n"
       ]
      },
      {
       "output_type": "stream",
       "stream": "stderr",
       "text": [
        "INFO:sqlalchemy.engine.base.Engine:{}\n"
       ]
      },
      {
       "output_type": "stream",
       "stream": "stdout",
       "text": [
        "2014-06-18 15:41:26,617 INFO sqlalchemy.engine.base.Engine select * from \"PecanStreet_SharedData\".validated_01_2014 where \"PecanStreet_SharedData\".validated_01_2014.dataid=8342\n"
       ]
      },
      {
       "output_type": "stream",
       "stream": "stderr",
       "text": [
        "INFO:sqlalchemy.engine.base.Engine:select * from \"PecanStreet_SharedData\".validated_01_2014 where \"PecanStreet_SharedData\".validated_01_2014.dataid=8342\n"
       ]
      },
      {
       "output_type": "stream",
       "stream": "stdout",
       "text": [
        "2014-06-18 15:41:26,618 INFO sqlalchemy.engine.base.Engine {}\n"
       ]
      },
      {
       "output_type": "stream",
       "stream": "stderr",
       "text": [
        "INFO:sqlalchemy.engine.base.Engine:{}\n"
       ]
      },
      {
       "output_type": "stream",
       "stream": "stdout",
       "text": [
        "2014-06-18 15:42:14,251 INFO sqlalchemy.engine.base.Engine select * from \"PecanStreet_SharedData\".validated_01_2014 where \"PecanStreet_SharedData\".validated_01_2014.dataid=8829\n"
       ]
      },
      {
       "output_type": "stream",
       "stream": "stderr",
       "text": [
        "INFO:sqlalchemy.engine.base.Engine:select * from \"PecanStreet_SharedData\".validated_01_2014 where \"PecanStreet_SharedData\".validated_01_2014.dataid=8829\n"
       ]
      },
      {
       "output_type": "stream",
       "stream": "stdout",
       "text": [
        "2014-06-18 15:42:14,252 INFO sqlalchemy.engine.base.Engine {}\n"
       ]
      },
      {
       "output_type": "stream",
       "stream": "stderr",
       "text": [
        "INFO:sqlalchemy.engine.base.Engine:{}\n"
       ]
      },
      {
       "output_type": "stream",
       "stream": "stdout",
       "text": [
        "2014-06-18 15:42:51,647 INFO sqlalchemy.engine.base.Engine select * from \"PecanStreet_SharedData\".validated_01_2014 where \"PecanStreet_SharedData\".validated_01_2014.dataid=3544\n"
       ]
      },
      {
       "output_type": "stream",
       "stream": "stderr",
       "text": [
        "INFO:sqlalchemy.engine.base.Engine:select * from \"PecanStreet_SharedData\".validated_01_2014 where \"PecanStreet_SharedData\".validated_01_2014.dataid=3544\n"
       ]
      },
      {
       "output_type": "stream",
       "stream": "stdout",
       "text": [
        "2014-06-18 15:42:51,647 INFO sqlalchemy.engine.base.Engine {}\n"
       ]
      },
      {
       "output_type": "stream",
       "stream": "stderr",
       "text": [
        "INFO:sqlalchemy.engine.base.Engine:{}\n"
       ]
      },
      {
       "output_type": "stream",
       "stream": "stdout",
       "text": [
        "2014-06-18 15:43:46,808 INFO sqlalchemy.engine.base.Engine select * from \"PecanStreet_SharedData\".validated_01_2014 where \"PecanStreet_SharedData\".validated_01_2014.dataid=370\n"
       ]
      },
      {
       "output_type": "stream",
       "stream": "stderr",
       "text": [
        "INFO:sqlalchemy.engine.base.Engine:select * from \"PecanStreet_SharedData\".validated_01_2014 where \"PecanStreet_SharedData\".validated_01_2014.dataid=370\n"
       ]
      },
      {
       "output_type": "stream",
       "stream": "stdout",
       "text": [
        "2014-06-18 15:43:46,809 INFO sqlalchemy.engine.base.Engine {}\n"
       ]
      },
      {
       "output_type": "stream",
       "stream": "stderr",
       "text": [
        "INFO:sqlalchemy.engine.base.Engine:{}\n"
       ]
      },
      {
       "output_type": "stream",
       "stream": "stdout",
       "text": [
        "2014-06-18 15:44:47,521 INFO sqlalchemy.engine.base.Engine select * from \"PecanStreet_SharedData\".validated_01_2014 where \"PecanStreet_SharedData\".validated_01_2014.dataid=3736\n"
       ]
      },
      {
       "output_type": "stream",
       "stream": "stderr",
       "text": [
        "INFO:sqlalchemy.engine.base.Engine:select * from \"PecanStreet_SharedData\".validated_01_2014 where \"PecanStreet_SharedData\".validated_01_2014.dataid=3736\n"
       ]
      },
      {
       "output_type": "stream",
       "stream": "stdout",
       "text": [
        "2014-06-18 15:44:47,521 INFO sqlalchemy.engine.base.Engine {}\n"
       ]
      },
      {
       "output_type": "stream",
       "stream": "stderr",
       "text": [
        "INFO:sqlalchemy.engine.base.Engine:{}\n"
       ]
      },
      {
       "output_type": "stream",
       "stream": "stdout",
       "text": [
        "2014-06-18 15:45:38,219 INFO sqlalchemy.engine.base.Engine select * from \"PecanStreet_SharedData\".validated_01_2014 where \"PecanStreet_SharedData\".validated_01_2014.dataid=4505\n"
       ]
      },
      {
       "output_type": "stream",
       "stream": "stderr",
       "text": [
        "INFO:sqlalchemy.engine.base.Engine:select * from \"PecanStreet_SharedData\".validated_01_2014 where \"PecanStreet_SharedData\".validated_01_2014.dataid=4505\n"
       ]
      },
      {
       "output_type": "stream",
       "stream": "stdout",
       "text": [
        "2014-06-18 15:45:38,220 INFO sqlalchemy.engine.base.Engine {}\n"
       ]
      },
      {
       "output_type": "stream",
       "stream": "stderr",
       "text": [
        "INFO:sqlalchemy.engine.base.Engine:{}\n"
       ]
      },
      {
       "output_type": "stream",
       "stream": "stdout",
       "text": [
        "2014-06-18 15:46:23,904 INFO sqlalchemy.engine.base.Engine select * from \"PecanStreet_SharedData\".validated_01_2014 where \"PecanStreet_SharedData\".validated_01_2014.dataid=9938\n"
       ]
      },
      {
       "output_type": "stream",
       "stream": "stderr",
       "text": [
        "INFO:sqlalchemy.engine.base.Engine:select * from \"PecanStreet_SharedData\".validated_01_2014 where \"PecanStreet_SharedData\".validated_01_2014.dataid=9938\n"
       ]
      },
      {
       "output_type": "stream",
       "stream": "stdout",
       "text": [
        "2014-06-18 15:46:23,905 INFO sqlalchemy.engine.base.Engine {}\n"
       ]
      },
      {
       "output_type": "stream",
       "stream": "stderr",
       "text": [
        "INFO:sqlalchemy.engine.base.Engine:{}\n"
       ]
      },
      {
       "output_type": "stream",
       "stream": "stdout",
       "text": [
        "2014-06-18 15:47:08,231 INFO sqlalchemy.engine.base.Engine select * from \"PecanStreet_SharedData\".validated_01_2014 where \"PecanStreet_SharedData\".validated_01_2014.dataid=9922\n"
       ]
      },
      {
       "output_type": "stream",
       "stream": "stderr",
       "text": [
        "INFO:sqlalchemy.engine.base.Engine:select * from \"PecanStreet_SharedData\".validated_01_2014 where \"PecanStreet_SharedData\".validated_01_2014.dataid=9922\n"
       ]
      },
      {
       "output_type": "stream",
       "stream": "stdout",
       "text": [
        "2014-06-18 15:47:08,232 INFO sqlalchemy.engine.base.Engine {}\n"
       ]
      },
      {
       "output_type": "stream",
       "stream": "stderr",
       "text": [
        "INFO:sqlalchemy.engine.base.Engine:{}\n"
       ]
      },
      {
       "output_type": "stream",
       "stream": "stdout",
       "text": [
        "2014-06-18 15:47:56,517 INFO sqlalchemy.engine.base.Engine select * from \"PecanStreet_SharedData\".validated_01_2014 where \"PecanStreet_SharedData\".validated_01_2014.dataid=3795\n"
       ]
      },
      {
       "output_type": "stream",
       "stream": "stderr",
       "text": [
        "INFO:sqlalchemy.engine.base.Engine:select * from \"PecanStreet_SharedData\".validated_01_2014 where \"PecanStreet_SharedData\".validated_01_2014.dataid=3795\n"
       ]
      },
      {
       "output_type": "stream",
       "stream": "stdout",
       "text": [
        "2014-06-18 15:47:56,518 INFO sqlalchemy.engine.base.Engine {}\n"
       ]
      },
      {
       "output_type": "stream",
       "stream": "stderr",
       "text": [
        "INFO:sqlalchemy.engine.base.Engine:{}\n"
       ]
      },
      {
       "output_type": "stream",
       "stream": "stdout",
       "text": [
        "2014-06-18 15:48:40,245 INFO sqlalchemy.engine.base.Engine select * from \"PecanStreet_SharedData\".validated_01_2014 where \"PecanStreet_SharedData\".validated_01_2014.dataid=9771\n"
       ]
      },
      {
       "output_type": "stream",
       "stream": "stderr",
       "text": [
        "INFO:sqlalchemy.engine.base.Engine:select * from \"PecanStreet_SharedData\".validated_01_2014 where \"PecanStreet_SharedData\".validated_01_2014.dataid=9771\n"
       ]
      },
      {
       "output_type": "stream",
       "stream": "stdout",
       "text": [
        "2014-06-18 15:48:40,246 INFO sqlalchemy.engine.base.Engine {}\n"
       ]
      },
      {
       "output_type": "stream",
       "stream": "stderr",
       "text": [
        "INFO:sqlalchemy.engine.base.Engine:{}\n"
       ]
      },
      {
       "output_type": "stream",
       "stream": "stdout",
       "text": [
        "2014-06-18 15:49:21,165 INFO sqlalchemy.engine.base.Engine select * from \"PecanStreet_SharedData\".validated_01_2014 where \"PecanStreet_SharedData\".validated_01_2014.dataid=821\n"
       ]
      },
      {
       "output_type": "stream",
       "stream": "stderr",
       "text": [
        "INFO:sqlalchemy.engine.base.Engine:select * from \"PecanStreet_SharedData\".validated_01_2014 where \"PecanStreet_SharedData\".validated_01_2014.dataid=821\n"
       ]
      },
      {
       "output_type": "stream",
       "stream": "stdout",
       "text": [
        "2014-06-18 15:49:21,166 INFO sqlalchemy.engine.base.Engine {}\n"
       ]
      },
      {
       "output_type": "stream",
       "stream": "stderr",
       "text": [
        "INFO:sqlalchemy.engine.base.Engine:{}\n"
       ]
      },
      {
       "output_type": "stream",
       "stream": "stdout",
       "text": [
        "2014-06-18 15:49:58,922 INFO sqlalchemy.engine.base.Engine select * from \"PecanStreet_SharedData\".validated_01_2014 where \"PecanStreet_SharedData\".validated_01_2014.dataid=94\n"
       ]
      },
      {
       "output_type": "stream",
       "stream": "stderr",
       "text": [
        "INFO:sqlalchemy.engine.base.Engine:select * from \"PecanStreet_SharedData\".validated_01_2014 where \"PecanStreet_SharedData\".validated_01_2014.dataid=94\n"
       ]
      },
      {
       "output_type": "stream",
       "stream": "stdout",
       "text": [
        "2014-06-18 15:49:58,922 INFO sqlalchemy.engine.base.Engine {}\n"
       ]
      },
      {
       "output_type": "stream",
       "stream": "stderr",
       "text": [
        "INFO:sqlalchemy.engine.base.Engine:{}\n"
       ]
      },
      {
       "output_type": "stream",
       "stream": "stdout",
       "text": [
        "2014-06-18 15:50:43,989 INFO sqlalchemy.engine.base.Engine select * from \"PecanStreet_SharedData\".validated_01_2014 where \"PecanStreet_SharedData\".validated_01_2014.dataid=2171\n"
       ]
      },
      {
       "output_type": "stream",
       "stream": "stderr",
       "text": [
        "INFO:sqlalchemy.engine.base.Engine:select * from \"PecanStreet_SharedData\".validated_01_2014 where \"PecanStreet_SharedData\".validated_01_2014.dataid=2171\n"
       ]
      },
      {
       "output_type": "stream",
       "stream": "stdout",
       "text": [
        "2014-06-18 15:50:43,990 INFO sqlalchemy.engine.base.Engine {}\n"
       ]
      },
      {
       "output_type": "stream",
       "stream": "stderr",
       "text": [
        "INFO:sqlalchemy.engine.base.Engine:{}\n"
       ]
      },
      {
       "output_type": "stream",
       "stream": "stdout",
       "text": [
        "2014-06-18 15:51:28,233 INFO sqlalchemy.engine.base.Engine select * from \"PecanStreet_SharedData\".validated_01_2014 where \"PecanStreet_SharedData\".validated_01_2014.dataid=4313\n"
       ]
      },
      {
       "output_type": "stream",
       "stream": "stderr",
       "text": [
        "INFO:sqlalchemy.engine.base.Engine:select * from \"PecanStreet_SharedData\".validated_01_2014 where \"PecanStreet_SharedData\".validated_01_2014.dataid=4313\n"
       ]
      },
      {
       "output_type": "stream",
       "stream": "stdout",
       "text": [
        "2014-06-18 15:51:28,234 INFO sqlalchemy.engine.base.Engine {}\n"
       ]
      },
      {
       "output_type": "stream",
       "stream": "stderr",
       "text": [
        "INFO:sqlalchemy.engine.base.Engine:{}\n"
       ]
      },
      {
       "output_type": "stream",
       "stream": "stdout",
       "text": [
        "2014-06-18 15:52:10,622 INFO sqlalchemy.engine.base.Engine select * from \"PecanStreet_SharedData\".validated_01_2014 where \"PecanStreet_SharedData\".validated_01_2014.dataid=2769\n"
       ]
      },
      {
       "output_type": "stream",
       "stream": "stderr",
       "text": [
        "INFO:sqlalchemy.engine.base.Engine:select * from \"PecanStreet_SharedData\".validated_01_2014 where \"PecanStreet_SharedData\".validated_01_2014.dataid=2769\n"
       ]
      },
      {
       "output_type": "stream",
       "stream": "stdout",
       "text": [
        "2014-06-18 15:52:10,623 INFO sqlalchemy.engine.base.Engine {}\n"
       ]
      },
      {
       "output_type": "stream",
       "stream": "stderr",
       "text": [
        "INFO:sqlalchemy.engine.base.Engine:{}\n"
       ]
      },
      {
       "output_type": "stream",
       "stream": "stdout",
       "text": [
        "2014-06-18 15:52:53,966 INFO sqlalchemy.engine.base.Engine select * from \"PecanStreet_SharedData\".validated_01_2014 where \"PecanStreet_SharedData\".validated_01_2014.dataid=9499\n"
       ]
      },
      {
       "output_type": "stream",
       "stream": "stderr",
       "text": [
        "INFO:sqlalchemy.engine.base.Engine:select * from \"PecanStreet_SharedData\".validated_01_2014 where \"PecanStreet_SharedData\".validated_01_2014.dataid=9499\n"
       ]
      },
      {
       "output_type": "stream",
       "stream": "stdout",
       "text": [
        "2014-06-18 15:52:53,967 INFO sqlalchemy.engine.base.Engine {}\n"
       ]
      },
      {
       "output_type": "stream",
       "stream": "stderr",
       "text": [
        "INFO:sqlalchemy.engine.base.Engine:{}\n"
       ]
      },
      {
       "output_type": "stream",
       "stream": "stdout",
       "text": [
        "2014-06-18 15:53:57,163 INFO sqlalchemy.engine.base.Engine select * from \"PecanStreet_SharedData\".validated_01_2014 where \"PecanStreet_SharedData\".validated_01_2014.dataid=1800\n"
       ]
      },
      {
       "output_type": "stream",
       "stream": "stderr",
       "text": [
        "INFO:sqlalchemy.engine.base.Engine:select * from \"PecanStreet_SharedData\".validated_01_2014 where \"PecanStreet_SharedData\".validated_01_2014.dataid=1800\n"
       ]
      },
      {
       "output_type": "stream",
       "stream": "stdout",
       "text": [
        "2014-06-18 15:53:57,164 INFO sqlalchemy.engine.base.Engine {}\n"
       ]
      },
      {
       "output_type": "stream",
       "stream": "stderr",
       "text": [
        "INFO:sqlalchemy.engine.base.Engine:{}\n"
       ]
      },
      {
       "output_type": "stream",
       "stream": "stdout",
       "text": [
        "2014-06-18 15:54:44,180 INFO sqlalchemy.engine.base.Engine select * from \"PecanStreet_SharedData\".validated_01_2014 where \"PecanStreet_SharedData\".validated_01_2014.dataid=2829\n"
       ]
      },
      {
       "output_type": "stream",
       "stream": "stderr",
       "text": [
        "INFO:sqlalchemy.engine.base.Engine:select * from \"PecanStreet_SharedData\".validated_01_2014 where \"PecanStreet_SharedData\".validated_01_2014.dataid=2829\n"
       ]
      },
      {
       "output_type": "stream",
       "stream": "stdout",
       "text": [
        "2014-06-18 15:54:44,181 INFO sqlalchemy.engine.base.Engine {}\n"
       ]
      },
      {
       "output_type": "stream",
       "stream": "stderr",
       "text": [
        "INFO:sqlalchemy.engine.base.Engine:{}\n"
       ]
      },
      {
       "output_type": "stream",
       "stream": "stdout",
       "text": [
        "2014-06-18 15:55:35,613 INFO sqlalchemy.engine.base.Engine select * from \"PecanStreet_SharedData\".validated_01_2014 where \"PecanStreet_SharedData\".validated_01_2014.dataid=4373\n"
       ]
      },
      {
       "output_type": "stream",
       "stream": "stderr",
       "text": [
        "INFO:sqlalchemy.engine.base.Engine:select * from \"PecanStreet_SharedData\".validated_01_2014 where \"PecanStreet_SharedData\".validated_01_2014.dataid=4373\n"
       ]
      },
      {
       "output_type": "stream",
       "stream": "stdout",
       "text": [
        "2014-06-18 15:55:35,614 INFO sqlalchemy.engine.base.Engine {}\n"
       ]
      },
      {
       "output_type": "stream",
       "stream": "stderr",
       "text": [
        "INFO:sqlalchemy.engine.base.Engine:{}\n"
       ]
      },
      {
       "output_type": "stream",
       "stream": "stdout",
       "text": [
        "2014-06-18 15:56:21,390 INFO sqlalchemy.engine.base.Engine select * from \"PecanStreet_SharedData\".validated_01_2014 where \"PecanStreet_SharedData\".validated_01_2014.dataid=4154\n"
       ]
      },
      {
       "output_type": "stream",
       "stream": "stderr",
       "text": [
        "INFO:sqlalchemy.engine.base.Engine:select * from \"PecanStreet_SharedData\".validated_01_2014 where \"PecanStreet_SharedData\".validated_01_2014.dataid=4154\n"
       ]
      },
      {
       "output_type": "stream",
       "stream": "stdout",
       "text": [
        "2014-06-18 15:56:21,391 INFO sqlalchemy.engine.base.Engine {}\n"
       ]
      },
      {
       "output_type": "stream",
       "stream": "stderr",
       "text": [
        "INFO:sqlalchemy.engine.base.Engine:{}\n"
       ]
      },
      {
       "output_type": "stream",
       "stream": "stdout",
       "text": [
        "2014-06-18 15:57:04,402 INFO sqlalchemy.engine.base.Engine select * from \"PecanStreet_SharedData\".validated_01_2014 where \"PecanStreet_SharedData\".validated_01_2014.dataid=6941\n"
       ]
      },
      {
       "output_type": "stream",
       "stream": "stderr",
       "text": [
        "INFO:sqlalchemy.engine.base.Engine:select * from \"PecanStreet_SharedData\".validated_01_2014 where \"PecanStreet_SharedData\".validated_01_2014.dataid=6941\n"
       ]
      },
      {
       "output_type": "stream",
       "stream": "stdout",
       "text": [
        "2014-06-18 15:57:04,403 INFO sqlalchemy.engine.base.Engine {}\n"
       ]
      },
      {
       "output_type": "stream",
       "stream": "stderr",
       "text": [
        "INFO:sqlalchemy.engine.base.Engine:{}\n"
       ]
      },
      {
       "output_type": "stream",
       "stream": "stdout",
       "text": [
        "2014-06-18 15:58:11,794 INFO sqlalchemy.engine.base.Engine select * from \"PecanStreet_SharedData\".validated_01_2014 where \"PecanStreet_SharedData\".validated_01_2014.dataid=1632\n"
       ]
      },
      {
       "output_type": "stream",
       "stream": "stderr",
       "text": [
        "INFO:sqlalchemy.engine.base.Engine:select * from \"PecanStreet_SharedData\".validated_01_2014 where \"PecanStreet_SharedData\".validated_01_2014.dataid=1632\n"
       ]
      },
      {
       "output_type": "stream",
       "stream": "stdout",
       "text": [
        "2014-06-18 15:58:11,795 INFO sqlalchemy.engine.base.Engine {}\n"
       ]
      },
      {
       "output_type": "stream",
       "stream": "stderr",
       "text": [
        "INFO:sqlalchemy.engine.base.Engine:{}\n"
       ]
      },
      {
       "output_type": "stream",
       "stream": "stdout",
       "text": [
        "2014-06-18 15:59:53,396 INFO sqlalchemy.engine.base.Engine select * from \"PecanStreet_SharedData\".validated_01_2014 where \"PecanStreet_SharedData\".validated_01_2014.dataid=3504\n"
       ]
      },
      {
       "output_type": "stream",
       "stream": "stderr",
       "text": [
        "INFO:sqlalchemy.engine.base.Engine:select * from \"PecanStreet_SharedData\".validated_01_2014 where \"PecanStreet_SharedData\".validated_01_2014.dataid=3504\n"
       ]
      },
      {
       "output_type": "stream",
       "stream": "stdout",
       "text": [
        "2014-06-18 15:59:53,397 INFO sqlalchemy.engine.base.Engine {}\n"
       ]
      },
      {
       "output_type": "stream",
       "stream": "stderr",
       "text": [
        "INFO:sqlalchemy.engine.base.Engine:{}\n"
       ]
      },
      {
       "output_type": "stream",
       "stream": "stdout",
       "text": [
        "2014-06-18 16:01:56,500 INFO sqlalchemy.engine.base.Engine select * from \"PecanStreet_SharedData\".validated_01_2014 where \"PecanStreet_SharedData\".validated_01_2014.dataid=5972\n"
       ]
      },
      {
       "output_type": "stream",
       "stream": "stderr",
       "text": [
        "INFO:sqlalchemy.engine.base.Engine:select * from \"PecanStreet_SharedData\".validated_01_2014 where \"PecanStreet_SharedData\".validated_01_2014.dataid=5972\n"
       ]
      },
      {
       "output_type": "stream",
       "stream": "stdout",
       "text": [
        "2014-06-18 16:01:56,501 INFO sqlalchemy.engine.base.Engine {}\n"
       ]
      },
      {
       "output_type": "stream",
       "stream": "stderr",
       "text": [
        "INFO:sqlalchemy.engine.base.Engine:{}\n"
       ]
      },
      {
       "output_type": "stream",
       "stream": "stdout",
       "text": [
        "2014-06-18 16:03:11,895 INFO sqlalchemy.engine.base.Engine select * from \"PecanStreet_SharedData\".validated_01_2014 where \"PecanStreet_SharedData\".validated_01_2014.dataid=585\n"
       ]
      },
      {
       "output_type": "stream",
       "stream": "stderr",
       "text": [
        "INFO:sqlalchemy.engine.base.Engine:select * from \"PecanStreet_SharedData\".validated_01_2014 where \"PecanStreet_SharedData\".validated_01_2014.dataid=585\n"
       ]
      },
      {
       "output_type": "stream",
       "stream": "stdout",
       "text": [
        "2014-06-18 16:03:11,896 INFO sqlalchemy.engine.base.Engine {}\n"
       ]
      },
      {
       "output_type": "stream",
       "stream": "stderr",
       "text": [
        "INFO:sqlalchemy.engine.base.Engine:{}\n"
       ]
      },
      {
       "output_type": "stream",
       "stream": "stdout",
       "text": [
        "2014-06-18 16:04:05,184 INFO sqlalchemy.engine.base.Engine select * from \"PecanStreet_SharedData\".validated_01_2014 where \"PecanStreet_SharedData\".validated_01_2014.dataid=3649\n"
       ]
      },
      {
       "output_type": "stream",
       "stream": "stderr",
       "text": [
        "INFO:sqlalchemy.engine.base.Engine:select * from \"PecanStreet_SharedData\".validated_01_2014 where \"PecanStreet_SharedData\".validated_01_2014.dataid=3649\n"
       ]
      },
      {
       "output_type": "stream",
       "stream": "stdout",
       "text": [
        "2014-06-18 16:04:05,185 INFO sqlalchemy.engine.base.Engine {}\n"
       ]
      },
      {
       "output_type": "stream",
       "stream": "stderr",
       "text": [
        "INFO:sqlalchemy.engine.base.Engine:{}\n"
       ]
      },
      {
       "output_type": "stream",
       "stream": "stdout",
       "text": [
        "2014-06-18 16:05:33,463 INFO sqlalchemy.engine.base.Engine select * from \"PecanStreet_SharedData\".validated_01_2014 where \"PecanStreet_SharedData\".validated_01_2014.dataid=871\n"
       ]
      },
      {
       "output_type": "stream",
       "stream": "stderr",
       "text": [
        "INFO:sqlalchemy.engine.base.Engine:select * from \"PecanStreet_SharedData\".validated_01_2014 where \"PecanStreet_SharedData\".validated_01_2014.dataid=871\n"
       ]
      },
      {
       "output_type": "stream",
       "stream": "stdout",
       "text": [
        "2014-06-18 16:05:33,463 INFO sqlalchemy.engine.base.Engine {}\n"
       ]
      },
      {
       "output_type": "stream",
       "stream": "stderr",
       "text": [
        "INFO:sqlalchemy.engine.base.Engine:{}\n"
       ]
      },
      {
       "output_type": "stream",
       "stream": "stdout",
       "text": [
        "2014-06-18 16:06:51,766 INFO sqlalchemy.engine.base.Engine select * from \"PecanStreet_SharedData\".validated_01_2014 where \"PecanStreet_SharedData\".validated_01_2014.dataid=5938\n"
       ]
      },
      {
       "output_type": "stream",
       "stream": "stderr",
       "text": [
        "INFO:sqlalchemy.engine.base.Engine:select * from \"PecanStreet_SharedData\".validated_01_2014 where \"PecanStreet_SharedData\".validated_01_2014.dataid=5938\n"
       ]
      },
      {
       "output_type": "stream",
       "stream": "stdout",
       "text": [
        "2014-06-18 16:06:51,767 INFO sqlalchemy.engine.base.Engine {}\n"
       ]
      },
      {
       "output_type": "stream",
       "stream": "stderr",
       "text": [
        "INFO:sqlalchemy.engine.base.Engine:{}\n"
       ]
      },
      {
       "output_type": "stream",
       "stream": "stdout",
       "text": [
        "2014-06-18 16:08:28,900 INFO sqlalchemy.engine.base.Engine select * from \"PecanStreet_SharedData\".validated_01_2014 where \"PecanStreet_SharedData\".validated_01_2014.dataid=5357\n"
       ]
      },
      {
       "output_type": "stream",
       "stream": "stderr",
       "text": [
        "INFO:sqlalchemy.engine.base.Engine:select * from \"PecanStreet_SharedData\".validated_01_2014 where \"PecanStreet_SharedData\".validated_01_2014.dataid=5357\n"
       ]
      },
      {
       "output_type": "stream",
       "stream": "stdout",
       "text": [
        "2014-06-18 16:08:28,901 INFO sqlalchemy.engine.base.Engine {}\n"
       ]
      },
      {
       "output_type": "stream",
       "stream": "stderr",
       "text": [
        "INFO:sqlalchemy.engine.base.Engine:{}\n"
       ]
      },
      {
       "output_type": "stream",
       "stream": "stdout",
       "text": [
        "2014-06-18 16:09:38,956 INFO sqlalchemy.engine.base.Engine select * from \"PecanStreet_SharedData\".validated_01_2014 where \"PecanStreet_SharedData\".validated_01_2014.dataid=1283\n"
       ]
      },
      {
       "output_type": "stream",
       "stream": "stderr",
       "text": [
        "INFO:sqlalchemy.engine.base.Engine:select * from \"PecanStreet_SharedData\".validated_01_2014 where \"PecanStreet_SharedData\".validated_01_2014.dataid=1283\n"
       ]
      },
      {
       "output_type": "stream",
       "stream": "stdout",
       "text": [
        "2014-06-18 16:09:38,957 INFO sqlalchemy.engine.base.Engine {}\n"
       ]
      },
      {
       "output_type": "stream",
       "stream": "stderr",
       "text": [
        "INFO:sqlalchemy.engine.base.Engine:{}\n"
       ]
      },
      {
       "output_type": "stream",
       "stream": "stdout",
       "text": [
        "2014-06-18 16:10:35,939 INFO sqlalchemy.engine.base.Engine select * from \"PecanStreet_SharedData\".validated_01_2014 where \"PecanStreet_SharedData\".validated_01_2014.dataid=3652\n"
       ]
      },
      {
       "output_type": "stream",
       "stream": "stderr",
       "text": [
        "INFO:sqlalchemy.engine.base.Engine:select * from \"PecanStreet_SharedData\".validated_01_2014 where \"PecanStreet_SharedData\".validated_01_2014.dataid=3652\n"
       ]
      },
      {
       "output_type": "stream",
       "stream": "stdout",
       "text": [
        "2014-06-18 16:10:35,940 INFO sqlalchemy.engine.base.Engine {}\n"
       ]
      },
      {
       "output_type": "stream",
       "stream": "stderr",
       "text": [
        "INFO:sqlalchemy.engine.base.Engine:{}\n"
       ]
      },
      {
       "output_type": "stream",
       "stream": "stdout",
       "text": [
        "2014-06-18 16:11:40,161 INFO sqlalchemy.engine.base.Engine select * from \"PecanStreet_SharedData\".validated_01_2014 where \"PecanStreet_SharedData\".validated_01_2014.dataid=9937\n"
       ]
      },
      {
       "output_type": "stream",
       "stream": "stderr",
       "text": [
        "INFO:sqlalchemy.engine.base.Engine:select * from \"PecanStreet_SharedData\".validated_01_2014 where \"PecanStreet_SharedData\".validated_01_2014.dataid=9937\n"
       ]
      },
      {
       "output_type": "stream",
       "stream": "stdout",
       "text": [
        "2014-06-18 16:11:40,164 INFO sqlalchemy.engine.base.Engine {}\n"
       ]
      },
      {
       "output_type": "stream",
       "stream": "stderr",
       "text": [
        "INFO:sqlalchemy.engine.base.Engine:{}\n"
       ]
      },
      {
       "output_type": "stream",
       "stream": "stdout",
       "text": [
        "2014-06-18 16:12:42,088 INFO sqlalchemy.engine.base.Engine select * from \"PecanStreet_SharedData\".validated_01_2014 where \"PecanStreet_SharedData\".validated_01_2014.dataid=3044\n"
       ]
      },
      {
       "output_type": "stream",
       "stream": "stderr",
       "text": [
        "INFO:sqlalchemy.engine.base.Engine:select * from \"PecanStreet_SharedData\".validated_01_2014 where \"PecanStreet_SharedData\".validated_01_2014.dataid=3044\n"
       ]
      },
      {
       "output_type": "stream",
       "stream": "stdout",
       "text": [
        "2014-06-18 16:12:42,089 INFO sqlalchemy.engine.base.Engine {}\n"
       ]
      },
      {
       "output_type": "stream",
       "stream": "stderr",
       "text": [
        "INFO:sqlalchemy.engine.base.Engine:{}\n"
       ]
      },
      {
       "output_type": "stream",
       "stream": "stdout",
       "text": [
        "2014-06-18 16:14:37,207 INFO sqlalchemy.engine.base.Engine select * from \"PecanStreet_SharedData\".validated_01_2014 where \"PecanStreet_SharedData\".validated_01_2014.dataid=5109\n"
       ]
      },
      {
       "output_type": "stream",
       "stream": "stderr",
       "text": [
        "INFO:sqlalchemy.engine.base.Engine:select * from \"PecanStreet_SharedData\".validated_01_2014 where \"PecanStreet_SharedData\".validated_01_2014.dataid=5109\n"
       ]
      },
      {
       "output_type": "stream",
       "stream": "stdout",
       "text": [
        "2014-06-18 16:14:37,208 INFO sqlalchemy.engine.base.Engine {}\n"
       ]
      },
      {
       "output_type": "stream",
       "stream": "stderr",
       "text": [
        "INFO:sqlalchemy.engine.base.Engine:{}\n"
       ]
      },
      {
       "output_type": "stream",
       "stream": "stdout",
       "text": [
        "2014-06-18 16:15:25,087 INFO sqlalchemy.engine.base.Engine select * from \"PecanStreet_SharedData\".validated_01_2014 where \"PecanStreet_SharedData\".validated_01_2014.dataid=936\n"
       ]
      },
      {
       "output_type": "stream",
       "stream": "stderr",
       "text": [
        "INFO:sqlalchemy.engine.base.Engine:select * from \"PecanStreet_SharedData\".validated_01_2014 where \"PecanStreet_SharedData\".validated_01_2014.dataid=936\n"
       ]
      },
      {
       "output_type": "stream",
       "stream": "stdout",
       "text": [
        "2014-06-18 16:15:25,087 INFO sqlalchemy.engine.base.Engine {}\n"
       ]
      },
      {
       "output_type": "stream",
       "stream": "stderr",
       "text": [
        "INFO:sqlalchemy.engine.base.Engine:{}\n"
       ]
      },
      {
       "output_type": "stream",
       "stream": "stdout",
       "text": [
        "2014-06-18 16:16:17,698 INFO sqlalchemy.engine.base.Engine select * from \"PecanStreet_SharedData\".validated_01_2014 where \"PecanStreet_SharedData\".validated_01_2014.dataid=1994\n"
       ]
      },
      {
       "output_type": "stream",
       "stream": "stderr",
       "text": [
        "INFO:sqlalchemy.engine.base.Engine:select * from \"PecanStreet_SharedData\".validated_01_2014 where \"PecanStreet_SharedData\".validated_01_2014.dataid=1994\n"
       ]
      },
      {
       "output_type": "stream",
       "stream": "stdout",
       "text": [
        "2014-06-18 16:16:17,699 INFO sqlalchemy.engine.base.Engine {}\n"
       ]
      },
      {
       "output_type": "stream",
       "stream": "stderr",
       "text": [
        "INFO:sqlalchemy.engine.base.Engine:{}\n"
       ]
      },
      {
       "output_type": "stream",
       "stream": "stdout",
       "text": [
        "2014-06-18 16:17:05,036 INFO sqlalchemy.engine.base.Engine select * from \"PecanStreet_SharedData\".validated_01_2014 where \"PecanStreet_SharedData\".validated_01_2014.dataid=9729\n"
       ]
      },
      {
       "output_type": "stream",
       "stream": "stderr",
       "text": [
        "INFO:sqlalchemy.engine.base.Engine:select * from \"PecanStreet_SharedData\".validated_01_2014 where \"PecanStreet_SharedData\".validated_01_2014.dataid=9729\n"
       ]
      },
      {
       "output_type": "stream",
       "stream": "stdout",
       "text": [
        "2014-06-18 16:17:05,036 INFO sqlalchemy.engine.base.Engine {}\n"
       ]
      },
      {
       "output_type": "stream",
       "stream": "stderr",
       "text": [
        "INFO:sqlalchemy.engine.base.Engine:{}\n"
       ]
      },
      {
       "output_type": "stream",
       "stream": "stdout",
       "text": [
        "2014-06-18 16:17:56,107 INFO sqlalchemy.engine.base.Engine select * from \"PecanStreet_SharedData\".validated_01_2014 where \"PecanStreet_SharedData\".validated_01_2014.dataid=2606\n"
       ]
      },
      {
       "output_type": "stream",
       "stream": "stderr",
       "text": [
        "INFO:sqlalchemy.engine.base.Engine:select * from \"PecanStreet_SharedData\".validated_01_2014 where \"PecanStreet_SharedData\".validated_01_2014.dataid=2606\n"
       ]
      },
      {
       "output_type": "stream",
       "stream": "stdout",
       "text": [
        "2014-06-18 16:17:56,107 INFO sqlalchemy.engine.base.Engine {}\n"
       ]
      },
      {
       "output_type": "stream",
       "stream": "stderr",
       "text": [
        "INFO:sqlalchemy.engine.base.Engine:{}\n"
       ]
      },
      {
       "output_type": "stream",
       "stream": "stdout",
       "text": [
        "2014-06-18 16:18:44,868 INFO sqlalchemy.engine.base.Engine select * from \"PecanStreet_SharedData\".validated_01_2014 where \"PecanStreet_SharedData\".validated_01_2014.dataid=4447\n"
       ]
      },
      {
       "output_type": "stream",
       "stream": "stderr",
       "text": [
        "INFO:sqlalchemy.engine.base.Engine:select * from \"PecanStreet_SharedData\".validated_01_2014 where \"PecanStreet_SharedData\".validated_01_2014.dataid=4447\n"
       ]
      },
      {
       "output_type": "stream",
       "stream": "stdout",
       "text": [
        "2014-06-18 16:18:44,869 INFO sqlalchemy.engine.base.Engine {}\n"
       ]
      },
      {
       "output_type": "stream",
       "stream": "stderr",
       "text": [
        "INFO:sqlalchemy.engine.base.Engine:{}\n"
       ]
      },
      {
       "output_type": "stream",
       "stream": "stdout",
       "text": [
        "2014-06-18 16:19:32,206 INFO sqlalchemy.engine.base.Engine select * from \"PecanStreet_SharedData\".validated_01_2014 where \"PecanStreet_SharedData\".validated_01_2014.dataid=5785\n"
       ]
      },
      {
       "output_type": "stream",
       "stream": "stderr",
       "text": [
        "INFO:sqlalchemy.engine.base.Engine:select * from \"PecanStreet_SharedData\".validated_01_2014 where \"PecanStreet_SharedData\".validated_01_2014.dataid=5785\n"
       ]
      },
      {
       "output_type": "stream",
       "stream": "stdout",
       "text": [
        "2014-06-18 16:19:32,207 INFO sqlalchemy.engine.base.Engine {}\n"
       ]
      },
      {
       "output_type": "stream",
       "stream": "stderr",
       "text": [
        "INFO:sqlalchemy.engine.base.Engine:{}\n"
       ]
      },
      {
       "output_type": "stream",
       "stream": "stdout",
       "text": [
        "2014-06-18 16:20:12,765 INFO sqlalchemy.engine.base.Engine select * from \"PecanStreet_SharedData\".validated_01_2014 where \"PecanStreet_SharedData\".validated_01_2014.dataid=7800\n"
       ]
      },
      {
       "output_type": "stream",
       "stream": "stderr",
       "text": [
        "INFO:sqlalchemy.engine.base.Engine:select * from \"PecanStreet_SharedData\".validated_01_2014 where \"PecanStreet_SharedData\".validated_01_2014.dataid=7800\n"
       ]
      },
      {
       "output_type": "stream",
       "stream": "stdout",
       "text": [
        "2014-06-18 16:20:12,766 INFO sqlalchemy.engine.base.Engine {}\n"
       ]
      },
      {
       "output_type": "stream",
       "stream": "stderr",
       "text": [
        "INFO:sqlalchemy.engine.base.Engine:{}\n"
       ]
      },
      {
       "output_type": "stream",
       "stream": "stdout",
       "text": [
        "2014-06-18 16:21:02,398 INFO sqlalchemy.engine.base.Engine select * from \"PecanStreet_SharedData\".validated_01_2014 where \"PecanStreet_SharedData\".validated_01_2014.dataid=484\n"
       ]
      },
      {
       "output_type": "stream",
       "stream": "stderr",
       "text": [
        "INFO:sqlalchemy.engine.base.Engine:select * from \"PecanStreet_SharedData\".validated_01_2014 where \"PecanStreet_SharedData\".validated_01_2014.dataid=484\n"
       ]
      },
      {
       "output_type": "stream",
       "stream": "stdout",
       "text": [
        "2014-06-18 16:21:02,399 INFO sqlalchemy.engine.base.Engine {}\n"
       ]
      },
      {
       "output_type": "stream",
       "stream": "stderr",
       "text": [
        "INFO:sqlalchemy.engine.base.Engine:{}\n"
       ]
      },
      {
       "output_type": "stream",
       "stream": "stdout",
       "text": [
        "2014-06-18 16:21:42,017 INFO sqlalchemy.engine.base.Engine select * from \"PecanStreet_SharedData\".validated_01_2014 where \"PecanStreet_SharedData\".validated_01_2014.dataid=3221\n"
       ]
      },
      {
       "output_type": "stream",
       "stream": "stderr",
       "text": [
        "INFO:sqlalchemy.engine.base.Engine:select * from \"PecanStreet_SharedData\".validated_01_2014 where \"PecanStreet_SharedData\".validated_01_2014.dataid=3221\n"
       ]
      },
      {
       "output_type": "stream",
       "stream": "stdout",
       "text": [
        "2014-06-18 16:21:42,017 INFO sqlalchemy.engine.base.Engine {}\n"
       ]
      },
      {
       "output_type": "stream",
       "stream": "stderr",
       "text": [
        "INFO:sqlalchemy.engine.base.Engine:{}\n"
       ]
      },
      {
       "output_type": "stream",
       "stream": "stdout",
       "text": [
        "2014-06-18 16:22:21,496 INFO sqlalchemy.engine.base.Engine select * from \"PecanStreet_SharedData\".validated_01_2014 where \"PecanStreet_SharedData\".validated_01_2014.dataid=2156\n"
       ]
      },
      {
       "output_type": "stream",
       "stream": "stderr",
       "text": [
        "INFO:sqlalchemy.engine.base.Engine:select * from \"PecanStreet_SharedData\".validated_01_2014 where \"PecanStreet_SharedData\".validated_01_2014.dataid=2156\n"
       ]
      },
      {
       "output_type": "stream",
       "stream": "stdout",
       "text": [
        "2014-06-18 16:22:21,497 INFO sqlalchemy.engine.base.Engine {}\n"
       ]
      },
      {
       "output_type": "stream",
       "stream": "stderr",
       "text": [
        "INFO:sqlalchemy.engine.base.Engine:{}\n"
       ]
      },
      {
       "output_type": "stream",
       "stream": "stdout",
       "text": [
        "2014-06-18 16:23:02,892 INFO sqlalchemy.engine.base.Engine select * from \"PecanStreet_SharedData\".validated_01_2014 where \"PecanStreet_SharedData\".validated_01_2014.dataid=5746\n"
       ]
      },
      {
       "output_type": "stream",
       "stream": "stderr",
       "text": [
        "INFO:sqlalchemy.engine.base.Engine:select * from \"PecanStreet_SharedData\".validated_01_2014 where \"PecanStreet_SharedData\".validated_01_2014.dataid=5746\n"
       ]
      },
      {
       "output_type": "stream",
       "stream": "stdout",
       "text": [
        "2014-06-18 16:23:02,892 INFO sqlalchemy.engine.base.Engine {}\n"
       ]
      },
      {
       "output_type": "stream",
       "stream": "stderr",
       "text": [
        "INFO:sqlalchemy.engine.base.Engine:{}\n"
       ]
      },
      {
       "output_type": "stream",
       "stream": "stdout",
       "text": [
        "2014-06-18 16:23:45,522 INFO sqlalchemy.engine.base.Engine select * from \"PecanStreet_SharedData\".validated_01_2014 where \"PecanStreet_SharedData\".validated_01_2014.dataid=3367\n"
       ]
      },
      {
       "output_type": "stream",
       "stream": "stderr",
       "text": [
        "INFO:sqlalchemy.engine.base.Engine:select * from \"PecanStreet_SharedData\".validated_01_2014 where \"PecanStreet_SharedData\".validated_01_2014.dataid=3367\n"
       ]
      },
      {
       "output_type": "stream",
       "stream": "stdout",
       "text": [
        "2014-06-18 16:23:45,523 INFO sqlalchemy.engine.base.Engine {}\n"
       ]
      },
      {
       "output_type": "stream",
       "stream": "stderr",
       "text": [
        "INFO:sqlalchemy.engine.base.Engine:{}\n"
       ]
      },
      {
       "output_type": "stream",
       "stream": "stdout",
       "text": [
        "2014-06-18 16:24:44,167 INFO sqlalchemy.engine.base.Engine select * from \"PecanStreet_SharedData\".validated_01_2014 where \"PecanStreet_SharedData\".validated_01_2014.dataid=2953\n"
       ]
      },
      {
       "output_type": "stream",
       "stream": "stderr",
       "text": [
        "INFO:sqlalchemy.engine.base.Engine:select * from \"PecanStreet_SharedData\".validated_01_2014 where \"PecanStreet_SharedData\".validated_01_2014.dataid=2953\n"
       ]
      },
      {
       "output_type": "stream",
       "stream": "stdout",
       "text": [
        "2014-06-18 16:24:44,168 INFO sqlalchemy.engine.base.Engine {}\n"
       ]
      },
      {
       "output_type": "stream",
       "stream": "stderr",
       "text": [
        "INFO:sqlalchemy.engine.base.Engine:{}\n"
       ]
      },
      {
       "output_type": "stream",
       "stream": "stdout",
       "text": [
        "2014-06-18 16:25:32,180 INFO sqlalchemy.engine.base.Engine select * from \"PecanStreet_SharedData\".validated_01_2014 where \"PecanStreet_SharedData\".validated_01_2014.dataid=7390\n"
       ]
      },
      {
       "output_type": "stream",
       "stream": "stderr",
       "text": [
        "INFO:sqlalchemy.engine.base.Engine:select * from \"PecanStreet_SharedData\".validated_01_2014 where \"PecanStreet_SharedData\".validated_01_2014.dataid=7390\n"
       ]
      },
      {
       "output_type": "stream",
       "stream": "stdout",
       "text": [
        "2014-06-18 16:25:32,181 INFO sqlalchemy.engine.base.Engine {}\n"
       ]
      },
      {
       "output_type": "stream",
       "stream": "stderr",
       "text": [
        "INFO:sqlalchemy.engine.base.Engine:{}\n"
       ]
      },
      {
       "output_type": "stream",
       "stream": "stdout",
       "text": [
        "2014-06-18 16:26:18,978 INFO sqlalchemy.engine.base.Engine select * from \"PecanStreet_SharedData\".validated_01_2014 where \"PecanStreet_SharedData\".validated_01_2014.dataid=1953\n"
       ]
      },
      {
       "output_type": "stream",
       "stream": "stderr",
       "text": [
        "INFO:sqlalchemy.engine.base.Engine:select * from \"PecanStreet_SharedData\".validated_01_2014 where \"PecanStreet_SharedData\".validated_01_2014.dataid=1953\n"
       ]
      },
      {
       "output_type": "stream",
       "stream": "stdout",
       "text": [
        "2014-06-18 16:26:18,978 INFO sqlalchemy.engine.base.Engine {}\n"
       ]
      },
      {
       "output_type": "stream",
       "stream": "stderr",
       "text": [
        "INFO:sqlalchemy.engine.base.Engine:{}\n"
       ]
      },
      {
       "output_type": "stream",
       "stream": "stdout",
       "text": [
        "2014-06-18 16:27:06,560 INFO sqlalchemy.engine.base.Engine select * from \"PecanStreet_SharedData\".validated_01_2014 where \"PecanStreet_SharedData\".validated_01_2014.dataid=5395\n"
       ]
      },
      {
       "output_type": "stream",
       "stream": "stderr",
       "text": [
        "INFO:sqlalchemy.engine.base.Engine:select * from \"PecanStreet_SharedData\".validated_01_2014 where \"PecanStreet_SharedData\".validated_01_2014.dataid=5395\n"
       ]
      },
      {
       "output_type": "stream",
       "stream": "stdout",
       "text": [
        "2014-06-18 16:27:06,561 INFO sqlalchemy.engine.base.Engine {}\n"
       ]
      },
      {
       "output_type": "stream",
       "stream": "stderr",
       "text": [
        "INFO:sqlalchemy.engine.base.Engine:{}\n"
       ]
      },
      {
       "output_type": "stream",
       "stream": "stdout",
       "text": [
        "2014-06-18 16:27:54,614 INFO sqlalchemy.engine.base.Engine select * from \"PecanStreet_SharedData\".validated_01_2014 where \"PecanStreet_SharedData\".validated_01_2014.dataid=545\n"
       ]
      },
      {
       "output_type": "stream",
       "stream": "stderr",
       "text": [
        "INFO:sqlalchemy.engine.base.Engine:select * from \"PecanStreet_SharedData\".validated_01_2014 where \"PecanStreet_SharedData\".validated_01_2014.dataid=545\n"
       ]
      },
      {
       "output_type": "stream",
       "stream": "stdout",
       "text": [
        "2014-06-18 16:27:54,615 INFO sqlalchemy.engine.base.Engine {}\n"
       ]
      },
      {
       "output_type": "stream",
       "stream": "stderr",
       "text": [
        "INFO:sqlalchemy.engine.base.Engine:{}\n"
       ]
      },
      {
       "output_type": "stream",
       "stream": "stdout",
       "text": [
        "2014-06-18 16:28:43,461 INFO sqlalchemy.engine.base.Engine select * from \"PecanStreet_SharedData\".validated_01_2014 where \"PecanStreet_SharedData\".validated_01_2014.dataid=2470\n"
       ]
      },
      {
       "output_type": "stream",
       "stream": "stderr",
       "text": [
        "INFO:sqlalchemy.engine.base.Engine:select * from \"PecanStreet_SharedData\".validated_01_2014 where \"PecanStreet_SharedData\".validated_01_2014.dataid=2470\n"
       ]
      },
      {
       "output_type": "stream",
       "stream": "stdout",
       "text": [
        "2014-06-18 16:28:43,462 INFO sqlalchemy.engine.base.Engine {}\n"
       ]
      },
      {
       "output_type": "stream",
       "stream": "stderr",
       "text": [
        "INFO:sqlalchemy.engine.base.Engine:{}\n"
       ]
      },
      {
       "output_type": "stream",
       "stream": "stdout",
       "text": [
        "2014-06-18 16:29:33,895 INFO sqlalchemy.engine.base.Engine select * from \"PecanStreet_SharedData\".validated_01_2014 where \"PecanStreet_SharedData\".validated_01_2014.dataid=6730\n"
       ]
      },
      {
       "output_type": "stream",
       "stream": "stderr",
       "text": [
        "INFO:sqlalchemy.engine.base.Engine:select * from \"PecanStreet_SharedData\".validated_01_2014 where \"PecanStreet_SharedData\".validated_01_2014.dataid=6730\n"
       ]
      },
      {
       "output_type": "stream",
       "stream": "stdout",
       "text": [
        "2014-06-18 16:29:33,896 INFO sqlalchemy.engine.base.Engine {}\n"
       ]
      },
      {
       "output_type": "stream",
       "stream": "stderr",
       "text": [
        "INFO:sqlalchemy.engine.base.Engine:{}\n"
       ]
      },
      {
       "output_type": "stream",
       "stream": "stdout",
       "text": [
        "2014-06-18 16:30:16,000 INFO sqlalchemy.engine.base.Engine select * from \"PecanStreet_SharedData\".validated_01_2014 where \"PecanStreet_SharedData\".validated_01_2014.dataid=2638\n"
       ]
      },
      {
       "output_type": "stream",
       "stream": "stderr",
       "text": [
        "INFO:sqlalchemy.engine.base.Engine:select * from \"PecanStreet_SharedData\".validated_01_2014 where \"PecanStreet_SharedData\".validated_01_2014.dataid=2638\n"
       ]
      },
      {
       "output_type": "stream",
       "stream": "stdout",
       "text": [
        "2014-06-18 16:30:16,001 INFO sqlalchemy.engine.base.Engine {}\n"
       ]
      },
      {
       "output_type": "stream",
       "stream": "stderr",
       "text": [
        "INFO:sqlalchemy.engine.base.Engine:{}\n"
       ]
      },
      {
       "output_type": "stream",
       "stream": "stdout",
       "text": [
        "2014-06-18 16:30:50,846 INFO sqlalchemy.engine.base.Engine select * from \"PecanStreet_SharedData\".validated_01_2014 where \"PecanStreet_SharedData\".validated_01_2014.dataid=7940\n"
       ]
      },
      {
       "output_type": "stream",
       "stream": "stderr",
       "text": [
        "INFO:sqlalchemy.engine.base.Engine:select * from \"PecanStreet_SharedData\".validated_01_2014 where \"PecanStreet_SharedData\".validated_01_2014.dataid=7940\n"
       ]
      },
      {
       "output_type": "stream",
       "stream": "stdout",
       "text": [
        "2014-06-18 16:30:50,847 INFO sqlalchemy.engine.base.Engine {}\n"
       ]
      },
      {
       "output_type": "stream",
       "stream": "stderr",
       "text": [
        "INFO:sqlalchemy.engine.base.Engine:{}\n"
       ]
      },
      {
       "output_type": "stream",
       "stream": "stdout",
       "text": [
        "2014-06-18 16:31:46,817 INFO sqlalchemy.engine.base.Engine select * from \"PecanStreet_SharedData\".validated_01_2014 where \"PecanStreet_SharedData\".validated_01_2014.dataid=9548\n"
       ]
      },
      {
       "output_type": "stream",
       "stream": "stderr",
       "text": [
        "INFO:sqlalchemy.engine.base.Engine:select * from \"PecanStreet_SharedData\".validated_01_2014 where \"PecanStreet_SharedData\".validated_01_2014.dataid=9548\n"
       ]
      },
      {
       "output_type": "stream",
       "stream": "stdout",
       "text": [
        "2014-06-18 16:31:46,818 INFO sqlalchemy.engine.base.Engine {}\n"
       ]
      },
      {
       "output_type": "stream",
       "stream": "stderr",
       "text": [
        "INFO:sqlalchemy.engine.base.Engine:{}\n"
       ]
      },
      {
       "output_type": "stream",
       "stream": "stdout",
       "text": [
        "2014-06-18 16:32:30,003 INFO sqlalchemy.engine.base.Engine select * from \"PecanStreet_SharedData\".validated_01_2014 where \"PecanStreet_SharedData\".validated_01_2014.dataid=2449\n"
       ]
      },
      {
       "output_type": "stream",
       "stream": "stderr",
       "text": [
        "INFO:sqlalchemy.engine.base.Engine:select * from \"PecanStreet_SharedData\".validated_01_2014 where \"PecanStreet_SharedData\".validated_01_2014.dataid=2449\n"
       ]
      },
      {
       "output_type": "stream",
       "stream": "stdout",
       "text": [
        "2014-06-18 16:32:30,004 INFO sqlalchemy.engine.base.Engine {}\n"
       ]
      },
      {
       "output_type": "stream",
       "stream": "stderr",
       "text": [
        "INFO:sqlalchemy.engine.base.Engine:{}\n"
       ]
      },
      {
       "output_type": "stream",
       "stream": "stdout",
       "text": [
        "2014-06-18 16:33:08,193 INFO sqlalchemy.engine.base.Engine select * from \"PecanStreet_SharedData\".validated_01_2014 where \"PecanStreet_SharedData\".validated_01_2014.dataid=5874\n"
       ]
      },
      {
       "output_type": "stream",
       "stream": "stderr",
       "text": [
        "INFO:sqlalchemy.engine.base.Engine:select * from \"PecanStreet_SharedData\".validated_01_2014 where \"PecanStreet_SharedData\".validated_01_2014.dataid=5874\n"
       ]
      },
      {
       "output_type": "stream",
       "stream": "stdout",
       "text": [
        "2014-06-18 16:33:08,194 INFO sqlalchemy.engine.base.Engine {}\n"
       ]
      },
      {
       "output_type": "stream",
       "stream": "stderr",
       "text": [
        "INFO:sqlalchemy.engine.base.Engine:{}\n"
       ]
      },
      {
       "output_type": "stream",
       "stream": "stdout",
       "text": [
        "2014-06-18 16:33:48,636 INFO sqlalchemy.engine.base.Engine select * from \"PecanStreet_SharedData\".validated_01_2014 where \"PecanStreet_SharedData\".validated_01_2014.dataid=2818\n"
       ]
      },
      {
       "output_type": "stream",
       "stream": "stderr",
       "text": [
        "INFO:sqlalchemy.engine.base.Engine:select * from \"PecanStreet_SharedData\".validated_01_2014 where \"PecanStreet_SharedData\".validated_01_2014.dataid=2818\n"
       ]
      },
      {
       "output_type": "stream",
       "stream": "stdout",
       "text": [
        "2014-06-18 16:33:48,637 INFO sqlalchemy.engine.base.Engine {}\n"
       ]
      },
      {
       "output_type": "stream",
       "stream": "stderr",
       "text": [
        "INFO:sqlalchemy.engine.base.Engine:{}\n"
       ]
      },
      {
       "output_type": "stream",
       "stream": "stdout",
       "text": [
        "2014-06-18 16:34:35,837 INFO sqlalchemy.engine.base.Engine select * from \"PecanStreet_SharedData\".validated_01_2014 where \"PecanStreet_SharedData\".validated_01_2014.dataid=86\n"
       ]
      },
      {
       "output_type": "stream",
       "stream": "stderr",
       "text": [
        "INFO:sqlalchemy.engine.base.Engine:select * from \"PecanStreet_SharedData\".validated_01_2014 where \"PecanStreet_SharedData\".validated_01_2014.dataid=86\n"
       ]
      },
      {
       "output_type": "stream",
       "stream": "stdout",
       "text": [
        "2014-06-18 16:34:35,838 INFO sqlalchemy.engine.base.Engine {}\n"
       ]
      },
      {
       "output_type": "stream",
       "stream": "stderr",
       "text": [
        "INFO:sqlalchemy.engine.base.Engine:{}\n"
       ]
      },
      {
       "output_type": "stream",
       "stream": "stdout",
       "text": [
        "2014-06-18 16:35:20,960 INFO sqlalchemy.engine.base.Engine select * from \"PecanStreet_SharedData\".validated_01_2014 where \"PecanStreet_SharedData\".validated_01_2014.dataid=9343\n"
       ]
      },
      {
       "output_type": "stream",
       "stream": "stderr",
       "text": [
        "INFO:sqlalchemy.engine.base.Engine:select * from \"PecanStreet_SharedData\".validated_01_2014 where \"PecanStreet_SharedData\".validated_01_2014.dataid=9343\n"
       ]
      },
      {
       "output_type": "stream",
       "stream": "stdout",
       "text": [
        "2014-06-18 16:35:20,961 INFO sqlalchemy.engine.base.Engine {}\n"
       ]
      },
      {
       "output_type": "stream",
       "stream": "stderr",
       "text": [
        "INFO:sqlalchemy.engine.base.Engine:{}\n"
       ]
      },
      {
       "output_type": "stream",
       "stream": "stdout",
       "text": [
        "2014-06-18 19:17:54,296 INFO sqlalchemy.engine.base.Engine ROLLBACK\n"
       ]
      },
      {
       "output_type": "stream",
       "stream": "stderr",
       "text": [
        "INFO:sqlalchemy.engine.base.Engine:ROLLBACK\n"
       ]
      },
      {
       "ename": "OperationalError",
       "evalue": "(OperationalError) SSL SYSCALL error: EOF detected\n None None",
       "output_type": "pyerr",
       "traceback": [
        "\u001b[0;31m---------------------------------------------------------------------------\u001b[0m\n\u001b[0;31mOperationalError\u001b[0m                          Traceback (most recent call last)",
        "\u001b[0;32m<ipython-input-19-ce9dc4427d73>\u001b[0m in \u001b[0;36m<module>\u001b[0;34m()\u001b[0m\n\u001b[1;32m      5\u001b[0m \u001b[0mfilename\u001b[0m \u001b[0;34m=\u001b[0m \u001b[0;34m'genonly.txt'\u001b[0m\u001b[0;34m\u001b[0m\u001b[0m\n\u001b[1;32m      6\u001b[0m \u001b[0;32mfor\u001b[0m \u001b[0mhomeid\u001b[0m \u001b[0;32min\u001b[0m \u001b[0mdataids\u001b[0m\u001b[0;34m:\u001b[0m\u001b[0;34m\u001b[0m\u001b[0m\n\u001b[0;32m----> 7\u001b[0;31m     \u001b[0mhome\u001b[0m \u001b[0;34m=\u001b[0m \u001b[0mget_table_by_id\u001b[0m\u001b[0;34m(\u001b[0m\u001b[0meng\u001b[0m\u001b[0;34m,\u001b[0m\u001b[0;34m\"validated_01_2014\"\u001b[0m\u001b[0;34m,\u001b[0m\u001b[0mhomeid\u001b[0m\u001b[0;34m)\u001b[0m\u001b[0;34m\u001b[0m\u001b[0m\n\u001b[0m\u001b[1;32m      8\u001b[0m     \u001b[0ml\u001b[0m \u001b[0;34m=\u001b[0m \u001b[0;34m[\u001b[0m\u001b[0mi\u001b[0m \u001b[0;32mfor\u001b[0m \u001b[0mi\u001b[0m \u001b[0;32min\u001b[0m \u001b[0mhome\u001b[0m\u001b[0;34m.\u001b[0m\u001b[0mdropna\u001b[0m\u001b[0;34m(\u001b[0m\u001b[0maxis\u001b[0m\u001b[0;34m=\u001b[0m\u001b[0;36m1\u001b[0m\u001b[0;34m)\u001b[0m\u001b[0;34m.\u001b[0m\u001b[0mcolumns\u001b[0m\u001b[0;34m]\u001b[0m\u001b[0;34m\u001b[0m\u001b[0m\n\u001b[1;32m      9\u001b[0m \u001b[0;34m\u001b[0m\u001b[0m\n",
        "\u001b[0;32m<ipython-input-7-d18d8d644fe6>\u001b[0m in \u001b[0;36mget_table_by_id\u001b[0;34m(eng, table, i)\u001b[0m\n\u001b[1;32m      1\u001b[0m \u001b[0;32mdef\u001b[0m \u001b[0mget_table_by_id\u001b[0m\u001b[0;34m(\u001b[0m\u001b[0meng\u001b[0m\u001b[0;34m,\u001b[0m\u001b[0mtable\u001b[0m\u001b[0;34m,\u001b[0m\u001b[0mi\u001b[0m\u001b[0;34m)\u001b[0m\u001b[0;34m:\u001b[0m\u001b[0;34m\u001b[0m\u001b[0m\n\u001b[1;32m      2\u001b[0m     \u001b[0mquery\u001b[0m \u001b[0;34m=\u001b[0m \u001b[0;34m\"select * from \"\u001b[0m\u001b[0;34m+\u001b[0m\u001b[0mschema\u001b[0m\u001b[0;34m+\u001b[0m\u001b[0;34m\".\"\u001b[0m\u001b[0;34m+\u001b[0m\u001b[0mtable\u001b[0m\u001b[0;34m+\u001b[0m \u001b[0;34m\" where \"\u001b[0m \u001b[0;34m+\u001b[0m\u001b[0mschema\u001b[0m\u001b[0;34m+\u001b[0m\u001b[0;34m\".\"\u001b[0m\u001b[0;34m+\u001b[0m\u001b[0mtable\u001b[0m\u001b[0;34m+\u001b[0m\u001b[0;34m\".dataid=\"\u001b[0m\u001b[0;34m+\u001b[0m\u001b[0mi\u001b[0m\u001b[0;34m\u001b[0m\u001b[0m\n\u001b[0;32m----> 3\u001b[0;31m     \u001b[0meng_object\u001b[0m\u001b[0;34m=\u001b[0m\u001b[0meng\u001b[0m\u001b[0;34m.\u001b[0m\u001b[0mexecute\u001b[0m\u001b[0;34m(\u001b[0m\u001b[0mquery\u001b[0m\u001b[0;34m)\u001b[0m\u001b[0;34m\u001b[0m\u001b[0m\n\u001b[0m\u001b[1;32m      4\u001b[0m     \u001b[0mdf\u001b[0m \u001b[0;34m=\u001b[0m \u001b[0mpd\u001b[0m\u001b[0;34m.\u001b[0m\u001b[0mDataFrame\u001b[0m\u001b[0;34m.\u001b[0m\u001b[0mfrom_records\u001b[0m\u001b[0;34m(\u001b[0m\u001b[0meng_object\u001b[0m\u001b[0;34m.\u001b[0m\u001b[0mfetchall\u001b[0m\u001b[0;34m(\u001b[0m\u001b[0;34m)\u001b[0m\u001b[0;34m)\u001b[0m\u001b[0;34m\u001b[0m\u001b[0m\n\u001b[1;32m      5\u001b[0m     \u001b[0mdf\u001b[0m\u001b[0;34m.\u001b[0m\u001b[0mcolumns\u001b[0m \u001b[0;34m=\u001b[0m \u001b[0meng_object\u001b[0m\u001b[0;34m.\u001b[0m\u001b[0mkeys\u001b[0m\u001b[0;34m(\u001b[0m\u001b[0;34m)\u001b[0m\u001b[0;34m\u001b[0m\u001b[0m\n",
        "\u001b[0;32m/Users/sabina/anaconda/lib/python2.7/site-packages/sqlalchemy/engine/base.pyc\u001b[0m in \u001b[0;36mexecute\u001b[0;34m(self, statement, *multiparams, **params)\u001b[0m\n\u001b[1;32m   1680\u001b[0m \u001b[0;34m\u001b[0m\u001b[0m\n\u001b[1;32m   1681\u001b[0m         \u001b[0mconnection\u001b[0m \u001b[0;34m=\u001b[0m \u001b[0mself\u001b[0m\u001b[0;34m.\u001b[0m\u001b[0mcontextual_connect\u001b[0m\u001b[0;34m(\u001b[0m\u001b[0mclose_with_result\u001b[0m\u001b[0;34m=\u001b[0m\u001b[0mTrue\u001b[0m\u001b[0;34m)\u001b[0m\u001b[0;34m\u001b[0m\u001b[0m\n\u001b[0;32m-> 1682\u001b[0;31m         \u001b[0;32mreturn\u001b[0m \u001b[0mconnection\u001b[0m\u001b[0;34m.\u001b[0m\u001b[0mexecute\u001b[0m\u001b[0;34m(\u001b[0m\u001b[0mstatement\u001b[0m\u001b[0;34m,\u001b[0m \u001b[0;34m*\u001b[0m\u001b[0mmultiparams\u001b[0m\u001b[0;34m,\u001b[0m \u001b[0;34m**\u001b[0m\u001b[0mparams\u001b[0m\u001b[0;34m)\u001b[0m\u001b[0;34m\u001b[0m\u001b[0m\n\u001b[0m\u001b[1;32m   1683\u001b[0m \u001b[0;34m\u001b[0m\u001b[0m\n\u001b[1;32m   1684\u001b[0m     \u001b[0;32mdef\u001b[0m \u001b[0mscalar\u001b[0m\u001b[0;34m(\u001b[0m\u001b[0mself\u001b[0m\u001b[0;34m,\u001b[0m \u001b[0mstatement\u001b[0m\u001b[0;34m,\u001b[0m \u001b[0;34m*\u001b[0m\u001b[0mmultiparams\u001b[0m\u001b[0;34m,\u001b[0m \u001b[0;34m**\u001b[0m\u001b[0mparams\u001b[0m\u001b[0;34m)\u001b[0m\u001b[0;34m:\u001b[0m\u001b[0;34m\u001b[0m\u001b[0m\n",
        "\u001b[0;32m/Users/sabina/anaconda/lib/python2.7/site-packages/sqlalchemy/engine/base.pyc\u001b[0m in \u001b[0;36mexecute\u001b[0;34m(self, object, *multiparams, **params)\u001b[0m\n\u001b[1;32m    710\u001b[0m         \"\"\"\n\u001b[1;32m    711\u001b[0m         \u001b[0;32mif\u001b[0m \u001b[0misinstance\u001b[0m\u001b[0;34m(\u001b[0m\u001b[0mobject\u001b[0m\u001b[0;34m,\u001b[0m \u001b[0mutil\u001b[0m\u001b[0;34m.\u001b[0m\u001b[0mstring_types\u001b[0m\u001b[0;34m[\u001b[0m\u001b[0;36m0\u001b[0m\u001b[0;34m]\u001b[0m\u001b[0;34m)\u001b[0m\u001b[0;34m:\u001b[0m\u001b[0;34m\u001b[0m\u001b[0m\n\u001b[0;32m--> 712\u001b[0;31m             \u001b[0;32mreturn\u001b[0m \u001b[0mself\u001b[0m\u001b[0;34m.\u001b[0m\u001b[0m_execute_text\u001b[0m\u001b[0;34m(\u001b[0m\u001b[0mobject\u001b[0m\u001b[0;34m,\u001b[0m \u001b[0mmultiparams\u001b[0m\u001b[0;34m,\u001b[0m \u001b[0mparams\u001b[0m\u001b[0;34m)\u001b[0m\u001b[0;34m\u001b[0m\u001b[0m\n\u001b[0m\u001b[1;32m    713\u001b[0m         \u001b[0;32mtry\u001b[0m\u001b[0;34m:\u001b[0m\u001b[0;34m\u001b[0m\u001b[0m\n\u001b[1;32m    714\u001b[0m             \u001b[0mmeth\u001b[0m \u001b[0;34m=\u001b[0m \u001b[0mobject\u001b[0m\u001b[0;34m.\u001b[0m\u001b[0m_execute_on_connection\u001b[0m\u001b[0;34m\u001b[0m\u001b[0m\n",
        "\u001b[0;32m/Users/sabina/anaconda/lib/python2.7/site-packages/sqlalchemy/engine/base.pyc\u001b[0m in \u001b[0;36m_execute_text\u001b[0;34m(self, statement, multiparams, params)\u001b[0m\n\u001b[1;32m    859\u001b[0m             \u001b[0mstatement\u001b[0m\u001b[0;34m,\u001b[0m\u001b[0;34m\u001b[0m\u001b[0m\n\u001b[1;32m    860\u001b[0m             \u001b[0mparameters\u001b[0m\u001b[0;34m,\u001b[0m\u001b[0;34m\u001b[0m\u001b[0m\n\u001b[0;32m--> 861\u001b[0;31m             \u001b[0mstatement\u001b[0m\u001b[0;34m,\u001b[0m \u001b[0mparameters\u001b[0m\u001b[0;34m\u001b[0m\u001b[0m\n\u001b[0m\u001b[1;32m    862\u001b[0m         )\n\u001b[1;32m    863\u001b[0m         \u001b[0;32mif\u001b[0m \u001b[0mself\u001b[0m\u001b[0;34m.\u001b[0m\u001b[0m_has_events\u001b[0m \u001b[0;32mor\u001b[0m \u001b[0mself\u001b[0m\u001b[0;34m.\u001b[0m\u001b[0mengine\u001b[0m\u001b[0;34m.\u001b[0m\u001b[0m_has_events\u001b[0m\u001b[0;34m:\u001b[0m\u001b[0;34m\u001b[0m\u001b[0m\n",
        "\u001b[0;32m/Users/sabina/anaconda/lib/python2.7/site-packages/sqlalchemy/engine/base.pyc\u001b[0m in \u001b[0;36m_execute_context\u001b[0;34m(self, dialect, constructor, statement, parameters, *args)\u001b[0m\n\u001b[1;32m    945\u001b[0m                                 \u001b[0mparameters\u001b[0m\u001b[0;34m,\u001b[0m\u001b[0;34m\u001b[0m\u001b[0m\n\u001b[1;32m    946\u001b[0m                                 \u001b[0mcursor\u001b[0m\u001b[0;34m,\u001b[0m\u001b[0;34m\u001b[0m\u001b[0m\n\u001b[0;32m--> 947\u001b[0;31m                                 context)\n\u001b[0m\u001b[1;32m    948\u001b[0m \u001b[0;34m\u001b[0m\u001b[0m\n\u001b[1;32m    949\u001b[0m         \u001b[0;32mif\u001b[0m \u001b[0mself\u001b[0m\u001b[0;34m.\u001b[0m\u001b[0m_has_events\u001b[0m \u001b[0;32mor\u001b[0m \u001b[0mself\u001b[0m\u001b[0;34m.\u001b[0m\u001b[0mengine\u001b[0m\u001b[0;34m.\u001b[0m\u001b[0m_has_events\u001b[0m\u001b[0;34m:\u001b[0m\u001b[0;34m\u001b[0m\u001b[0m\n",
        "\u001b[0;32m/Users/sabina/anaconda/lib/python2.7/site-packages/sqlalchemy/engine/base.pyc\u001b[0m in \u001b[0;36m_handle_dbapi_exception\u001b[0;34m(self, e, statement, parameters, cursor, context)\u001b[0m\n\u001b[1;32m   1096\u001b[0m                 \u001b[0;32mif\u001b[0m \u001b[0mcursor\u001b[0m\u001b[0;34m:\u001b[0m\u001b[0;34m\u001b[0m\u001b[0m\n\u001b[1;32m   1097\u001b[0m                     \u001b[0mself\u001b[0m\u001b[0;34m.\u001b[0m\u001b[0m_safe_close_cursor\u001b[0m\u001b[0;34m(\u001b[0m\u001b[0mcursor\u001b[0m\u001b[0;34m)\u001b[0m\u001b[0;34m\u001b[0m\u001b[0m\n\u001b[0;32m-> 1098\u001b[0;31m                 \u001b[0mself\u001b[0m\u001b[0;34m.\u001b[0m\u001b[0m_autorollback\u001b[0m\u001b[0;34m(\u001b[0m\u001b[0;34m)\u001b[0m\u001b[0;34m\u001b[0m\u001b[0m\n\u001b[0m\u001b[1;32m   1099\u001b[0m \u001b[0;34m\u001b[0m\u001b[0m\n\u001b[1;32m   1100\u001b[0m             \u001b[0;32mif\u001b[0m \u001b[0mshould_wrap\u001b[0m\u001b[0;34m:\u001b[0m\u001b[0;34m\u001b[0m\u001b[0m\n",
        "\u001b[0;32m/Users/sabina/anaconda/lib/python2.7/site-packages/sqlalchemy/engine/base.pyc\u001b[0m in \u001b[0;36m_autorollback\u001b[0;34m(self)\u001b[0m\n\u001b[1;32m    608\u001b[0m     \u001b[0;32mdef\u001b[0m \u001b[0m_autorollback\u001b[0m\u001b[0;34m(\u001b[0m\u001b[0mself\u001b[0m\u001b[0;34m)\u001b[0m\u001b[0;34m:\u001b[0m\u001b[0;34m\u001b[0m\u001b[0m\n\u001b[1;32m    609\u001b[0m         \u001b[0;32mif\u001b[0m \u001b[0;32mnot\u001b[0m \u001b[0mself\u001b[0m\u001b[0;34m.\u001b[0m\u001b[0min_transaction\u001b[0m\u001b[0;34m(\u001b[0m\u001b[0;34m)\u001b[0m\u001b[0;34m:\u001b[0m\u001b[0;34m\u001b[0m\u001b[0m\n\u001b[0;32m--> 610\u001b[0;31m             \u001b[0mself\u001b[0m\u001b[0;34m.\u001b[0m\u001b[0m_rollback_impl\u001b[0m\u001b[0;34m(\u001b[0m\u001b[0;34m)\u001b[0m\u001b[0;34m\u001b[0m\u001b[0m\n\u001b[0m\u001b[1;32m    611\u001b[0m \u001b[0;34m\u001b[0m\u001b[0m\n\u001b[1;32m    612\u001b[0m     \u001b[0;32mdef\u001b[0m \u001b[0mclose\u001b[0m\u001b[0;34m(\u001b[0m\u001b[0mself\u001b[0m\u001b[0;34m)\u001b[0m\u001b[0;34m:\u001b[0m\u001b[0;34m\u001b[0m\u001b[0m\n",
        "\u001b[0;32m/Users/sabina/anaconda/lib/python2.7/site-packages/sqlalchemy/engine/base.pyc\u001b[0m in \u001b[0;36m_rollback_impl\u001b[0;34m(self)\u001b[0m\n\u001b[1;32m    506\u001b[0m                 \u001b[0mself\u001b[0m\u001b[0;34m.\u001b[0m\u001b[0mengine\u001b[0m\u001b[0;34m.\u001b[0m\u001b[0mdialect\u001b[0m\u001b[0;34m.\u001b[0m\u001b[0mdo_rollback\u001b[0m\u001b[0;34m(\u001b[0m\u001b[0mself\u001b[0m\u001b[0;34m.\u001b[0m\u001b[0mconnection\u001b[0m\u001b[0;34m)\u001b[0m\u001b[0;34m\u001b[0m\u001b[0m\n\u001b[1;32m    507\u001b[0m             \u001b[0;32mexcept\u001b[0m \u001b[0mException\u001b[0m \u001b[0;32mas\u001b[0m \u001b[0me\u001b[0m\u001b[0;34m:\u001b[0m\u001b[0;34m\u001b[0m\u001b[0m\n\u001b[0;32m--> 508\u001b[0;31m                 \u001b[0mself\u001b[0m\u001b[0;34m.\u001b[0m\u001b[0m_handle_dbapi_exception\u001b[0m\u001b[0;34m(\u001b[0m\u001b[0me\u001b[0m\u001b[0;34m,\u001b[0m \u001b[0mNone\u001b[0m\u001b[0;34m,\u001b[0m \u001b[0mNone\u001b[0m\u001b[0;34m,\u001b[0m \u001b[0mNone\u001b[0m\u001b[0;34m,\u001b[0m \u001b[0mNone\u001b[0m\u001b[0;34m)\u001b[0m\u001b[0;34m\u001b[0m\u001b[0m\n\u001b[0m\u001b[1;32m    509\u001b[0m             \u001b[0;32mfinally\u001b[0m\u001b[0;34m:\u001b[0m\u001b[0;34m\u001b[0m\u001b[0m\n\u001b[1;32m    510\u001b[0m                 \u001b[0;32mif\u001b[0m \u001b[0mself\u001b[0m\u001b[0;34m.\u001b[0m\u001b[0mconnection\u001b[0m\u001b[0;34m.\u001b[0m\u001b[0m_reset_agent\u001b[0m \u001b[0;32mis\u001b[0m \u001b[0mself\u001b[0m\u001b[0;34m.\u001b[0m\u001b[0m__transaction\u001b[0m\u001b[0;34m:\u001b[0m\u001b[0;34m\u001b[0m\u001b[0m\n",
        "\u001b[0;32m/Users/sabina/anaconda/lib/python2.7/site-packages/sqlalchemy/engine/base.pyc\u001b[0m in \u001b[0;36m_handle_dbapi_exception\u001b[0;34m(self, e, statement, parameters, cursor, context)\u001b[0m\n\u001b[1;32m   1074\u001b[0m                                             \u001b[0me\u001b[0m\u001b[0;34m,\u001b[0m\u001b[0;34m\u001b[0m\u001b[0m\n\u001b[1;32m   1075\u001b[0m                                             self.dialect.dbapi.Error),\n\u001b[0;32m-> 1076\u001b[0;31m                         \u001b[0mexc_info\u001b[0m\u001b[0;34m\u001b[0m\u001b[0m\n\u001b[0m\u001b[1;32m   1077\u001b[0m                         )\n\u001b[1;32m   1078\u001b[0m         \u001b[0mself\u001b[0m\u001b[0;34m.\u001b[0m\u001b[0m_reentrant_error\u001b[0m \u001b[0;34m=\u001b[0m \u001b[0mTrue\u001b[0m\u001b[0;34m\u001b[0m\u001b[0m\n",
        "\u001b[0;32m/Users/sabina/anaconda/lib/python2.7/site-packages/sqlalchemy/util/compat.pyc\u001b[0m in \u001b[0;36mraise_from_cause\u001b[0;34m(exception, exc_info)\u001b[0m\n\u001b[1;32m    183\u001b[0m             \u001b[0mexc_info\u001b[0m \u001b[0;34m=\u001b[0m \u001b[0msys\u001b[0m\u001b[0;34m.\u001b[0m\u001b[0mexc_info\u001b[0m\u001b[0;34m(\u001b[0m\u001b[0;34m)\u001b[0m\u001b[0;34m\u001b[0m\u001b[0m\n\u001b[1;32m    184\u001b[0m         \u001b[0mexc_type\u001b[0m\u001b[0;34m,\u001b[0m \u001b[0mexc_value\u001b[0m\u001b[0;34m,\u001b[0m \u001b[0mexc_tb\u001b[0m \u001b[0;34m=\u001b[0m \u001b[0mexc_info\u001b[0m\u001b[0;34m\u001b[0m\u001b[0m\n\u001b[0;32m--> 185\u001b[0;31m         \u001b[0mreraise\u001b[0m\u001b[0;34m(\u001b[0m\u001b[0mtype\u001b[0m\u001b[0;34m(\u001b[0m\u001b[0mexception\u001b[0m\u001b[0;34m)\u001b[0m\u001b[0;34m,\u001b[0m \u001b[0mexception\u001b[0m\u001b[0;34m,\u001b[0m \u001b[0mtb\u001b[0m\u001b[0;34m=\u001b[0m\u001b[0mexc_tb\u001b[0m\u001b[0;34m)\u001b[0m\u001b[0;34m\u001b[0m\u001b[0m\n\u001b[0m\u001b[1;32m    186\u001b[0m \u001b[0;34m\u001b[0m\u001b[0m\n\u001b[1;32m    187\u001b[0m \u001b[0;32mif\u001b[0m \u001b[0mpy3k\u001b[0m\u001b[0;34m:\u001b[0m\u001b[0;34m\u001b[0m\u001b[0m\n",
        "\u001b[0;32m/Users/sabina/anaconda/lib/python2.7/site-packages/sqlalchemy/engine/base.pyc\u001b[0m in \u001b[0;36m_rollback_impl\u001b[0;34m(self)\u001b[0m\n\u001b[1;32m    504\u001b[0m                 \u001b[0mself\u001b[0m\u001b[0;34m.\u001b[0m\u001b[0mengine\u001b[0m\u001b[0;34m.\u001b[0m\u001b[0mlogger\u001b[0m\u001b[0;34m.\u001b[0m\u001b[0minfo\u001b[0m\u001b[0;34m(\u001b[0m\u001b[0;34m\"ROLLBACK\"\u001b[0m\u001b[0;34m)\u001b[0m\u001b[0;34m\u001b[0m\u001b[0m\n\u001b[1;32m    505\u001b[0m             \u001b[0;32mtry\u001b[0m\u001b[0;34m:\u001b[0m\u001b[0;34m\u001b[0m\u001b[0m\n\u001b[0;32m--> 506\u001b[0;31m                 \u001b[0mself\u001b[0m\u001b[0;34m.\u001b[0m\u001b[0mengine\u001b[0m\u001b[0;34m.\u001b[0m\u001b[0mdialect\u001b[0m\u001b[0;34m.\u001b[0m\u001b[0mdo_rollback\u001b[0m\u001b[0;34m(\u001b[0m\u001b[0mself\u001b[0m\u001b[0;34m.\u001b[0m\u001b[0mconnection\u001b[0m\u001b[0;34m)\u001b[0m\u001b[0;34m\u001b[0m\u001b[0m\n\u001b[0m\u001b[1;32m    507\u001b[0m             \u001b[0;32mexcept\u001b[0m \u001b[0mException\u001b[0m \u001b[0;32mas\u001b[0m \u001b[0me\u001b[0m\u001b[0;34m:\u001b[0m\u001b[0;34m\u001b[0m\u001b[0m\n\u001b[1;32m    508\u001b[0m                 \u001b[0mself\u001b[0m\u001b[0;34m.\u001b[0m\u001b[0m_handle_dbapi_exception\u001b[0m\u001b[0;34m(\u001b[0m\u001b[0me\u001b[0m\u001b[0;34m,\u001b[0m \u001b[0mNone\u001b[0m\u001b[0;34m,\u001b[0m \u001b[0mNone\u001b[0m\u001b[0;34m,\u001b[0m \u001b[0mNone\u001b[0m\u001b[0;34m,\u001b[0m \u001b[0mNone\u001b[0m\u001b[0;34m)\u001b[0m\u001b[0;34m\u001b[0m\u001b[0m\n",
        "\u001b[0;32m/Users/sabina/anaconda/lib/python2.7/site-packages/sqlalchemy/engine/default.pyc\u001b[0m in \u001b[0;36mdo_rollback\u001b[0;34m(self, dbapi_connection)\u001b[0m\n\u001b[1;32m    403\u001b[0m \u001b[0;34m\u001b[0m\u001b[0m\n\u001b[1;32m    404\u001b[0m     \u001b[0;32mdef\u001b[0m \u001b[0mdo_rollback\u001b[0m\u001b[0;34m(\u001b[0m\u001b[0mself\u001b[0m\u001b[0;34m,\u001b[0m \u001b[0mdbapi_connection\u001b[0m\u001b[0;34m)\u001b[0m\u001b[0;34m:\u001b[0m\u001b[0;34m\u001b[0m\u001b[0m\n\u001b[0;32m--> 405\u001b[0;31m         \u001b[0mdbapi_connection\u001b[0m\u001b[0;34m.\u001b[0m\u001b[0mrollback\u001b[0m\u001b[0;34m(\u001b[0m\u001b[0;34m)\u001b[0m\u001b[0;34m\u001b[0m\u001b[0m\n\u001b[0m\u001b[1;32m    406\u001b[0m \u001b[0;34m\u001b[0m\u001b[0m\n\u001b[1;32m    407\u001b[0m     \u001b[0;32mdef\u001b[0m \u001b[0mdo_commit\u001b[0m\u001b[0;34m(\u001b[0m\u001b[0mself\u001b[0m\u001b[0;34m,\u001b[0m \u001b[0mdbapi_connection\u001b[0m\u001b[0;34m)\u001b[0m\u001b[0;34m:\u001b[0m\u001b[0;34m\u001b[0m\u001b[0m\n",
        "\u001b[0;31mOperationalError\u001b[0m: (OperationalError) SSL SYSCALL error: EOF detected\n None None"
       ]
      }
     ],
     "prompt_number": 19
    },
    {
     "cell_type": "code",
     "collapsed": false,
     "input": [
      "eng = get_eng()"
     ],
     "language": "python",
     "metadata": {},
     "outputs": [],
     "prompt_number": 14
    },
    {
     "cell_type": "code",
     "collapsed": false,
     "input": [
      "##test for cars\n",
      "query = \"select dataid from {0}.{1} where ({0}.{1}.car1)> 0\".format(schema,table)\n",
      "d = execute_query(eng,query,'df').drop_duplicates('dataid')"
     ],
     "language": "python",
     "metadata": {},
     "outputs": [
      {
       "output_type": "stream",
       "stream": "stdout",
       "text": [
        "2014-06-20 10:18:46,470 INFO sqlalchemy.engine.base.Engine select version()\n"
       ]
      },
      {
       "output_type": "stream",
       "stream": "stderr",
       "text": [
        "INFO:sqlalchemy.engine.base.Engine:select version()\n"
       ]
      },
      {
       "output_type": "stream",
       "stream": "stdout",
       "text": [
        "2014-06-20 10:18:46,471 INFO sqlalchemy.engine.base.Engine {}\n"
       ]
      },
      {
       "output_type": "stream",
       "stream": "stderr",
       "text": [
        "INFO:sqlalchemy.engine.base.Engine:{}\n"
       ]
      },
      {
       "output_type": "stream",
       "stream": "stdout",
       "text": [
        "2014-06-20 10:18:48,208 INFO sqlalchemy.engine.base.Engine select current_schema()\n"
       ]
      },
      {
       "output_type": "stream",
       "stream": "stderr",
       "text": [
        "INFO:sqlalchemy.engine.base.Engine:select current_schema()\n"
       ]
      },
      {
       "output_type": "stream",
       "stream": "stdout",
       "text": [
        "2014-06-20 10:18:48,209 INFO sqlalchemy.engine.base.Engine {}\n"
       ]
      },
      {
       "output_type": "stream",
       "stream": "stderr",
       "text": [
        "INFO:sqlalchemy.engine.base.Engine:{}\n"
       ]
      },
      {
       "output_type": "stream",
       "stream": "stdout",
       "text": [
        "2014-06-20 10:18:48,487 INFO sqlalchemy.engine.base.Engine SELECT CAST('test plain returns' AS VARCHAR(60)) AS anon_1\n"
       ]
      },
      {
       "output_type": "stream",
       "stream": "stderr",
       "text": [
        "INFO:sqlalchemy.engine.base.Engine:SELECT CAST('test plain returns' AS VARCHAR(60)) AS anon_1\n"
       ]
      },
      {
       "output_type": "stream",
       "stream": "stdout",
       "text": [
        "2014-06-20 10:18:48,488 INFO sqlalchemy.engine.base.Engine {}\n"
       ]
      },
      {
       "output_type": "stream",
       "stream": "stderr",
       "text": [
        "INFO:sqlalchemy.engine.base.Engine:{}\n"
       ]
      },
      {
       "output_type": "stream",
       "stream": "stdout",
       "text": [
        "2014-06-20 10:18:48,617 INFO sqlalchemy.engine.base.Engine SELECT CAST('test unicode returns' AS VARCHAR(60)) AS anon_1\n"
       ]
      },
      {
       "output_type": "stream",
       "stream": "stderr",
       "text": [
        "INFO:sqlalchemy.engine.base.Engine:SELECT CAST('test unicode returns' AS VARCHAR(60)) AS anon_1\n"
       ]
      },
      {
       "output_type": "stream",
       "stream": "stdout",
       "text": [
        "2014-06-20 10:18:48,618 INFO sqlalchemy.engine.base.Engine {}\n"
       ]
      },
      {
       "output_type": "stream",
       "stream": "stderr",
       "text": [
        "INFO:sqlalchemy.engine.base.Engine:{}\n"
       ]
      },
      {
       "output_type": "stream",
       "stream": "stdout",
       "text": [
        "2014-06-20 10:18:48,987 INFO sqlalchemy.engine.base.Engine show standard_conforming_strings\n"
       ]
      },
      {
       "output_type": "stream",
       "stream": "stderr",
       "text": [
        "INFO:sqlalchemy.engine.base.Engine:show standard_conforming_strings\n"
       ]
      },
      {
       "output_type": "stream",
       "stream": "stdout",
       "text": [
        "2014-06-20 10:18:48,987 INFO sqlalchemy.engine.base.Engine {}\n"
       ]
      },
      {
       "output_type": "stream",
       "stream": "stderr",
       "text": [
        "INFO:sqlalchemy.engine.base.Engine:{}\n"
       ]
      },
      {
       "output_type": "stream",
       "stream": "stdout",
       "text": [
        "2014-06-20 10:18:49,084 INFO sqlalchemy.engine.base.Engine select dataid from \"PecanStreet_SharedData\".validated_04_2014 where (\"PecanStreet_SharedData\".validated_04_2014.car1)> 0\n"
       ]
      },
      {
       "output_type": "stream",
       "stream": "stderr",
       "text": [
        "INFO:sqlalchemy.engine.base.Engine:select dataid from \"PecanStreet_SharedData\".validated_04_2014 where (\"PecanStreet_SharedData\".validated_04_2014.car1)> 0\n"
       ]
      },
      {
       "output_type": "stream",
       "stream": "stdout",
       "text": [
        "2014-06-20 10:18:49,085 INFO sqlalchemy.engine.base.Engine {}\n"
       ]
      },
      {
       "output_type": "stream",
       "stream": "stderr",
       "text": [
        "INFO:sqlalchemy.engine.base.Engine:{}\n"
       ]
      }
     ],
     "prompt_number": 15
    },
    {
     "cell_type": "code",
     "collapsed": false,
     "input": [
      "testl = [val for val in d.to_dict()['dataid'].values()]\n",
      "dir_path = os.path.join(os.getcwd(), 'cars/' )\n",
      "with open(os.path.join(dir_path, 'april_homes_with_cars.json'), 'w') as outfile:\n",
      "    outfile.write(str(testl)+'\\n')\n",
      "    outfile.write(str(len(testl)))\n",
      "outfile.close "
     ],
     "language": "python",
     "metadata": {},
     "outputs": [
      {
       "metadata": {},
       "output_type": "pyout",
       "prompt_number": 16,
       "text": [
        "<function close>"
       ]
      }
     ],
     "prompt_number": 16
    },
    {
     "cell_type": "code",
     "collapsed": false,
     "input": [
      "##checking car check \n",
      "april_car_check = {}\n",
      "cars = {}\n",
      "for car in testl:\n",
      "    car1 = get_table_by_id(eng,\"validated_04_2014\",str(car))\n",
      "    april_car_check[car]=car1['car1'].sum()\n",
      "    cars[car]=car1"
     ],
     "language": "python",
     "metadata": {},
     "outputs": [
      {
       "output_type": "stream",
       "stream": "stdout",
       "text": [
        "2014-06-19 12:58:10,012 INFO sqlalchemy.engine.base.Engine select * from \"PecanStreet_SharedData\".validated_04_2014 where \"PecanStreet_SharedData\".validated_04_2014.dataid=2470\n"
       ]
      },
      {
       "output_type": "stream",
       "stream": "stderr",
       "text": [
        "INFO:sqlalchemy.engine.base.Engine:select * from \"PecanStreet_SharedData\".validated_04_2014 where \"PecanStreet_SharedData\".validated_04_2014.dataid=2470\n"
       ]
      },
      {
       "output_type": "stream",
       "stream": "stdout",
       "text": [
        "2014-06-19 12:58:10,014 INFO sqlalchemy.engine.base.Engine {}\n"
       ]
      },
      {
       "output_type": "stream",
       "stream": "stderr",
       "text": [
        "INFO:sqlalchemy.engine.base.Engine:{}\n"
       ]
      },
      {
       "output_type": "stream",
       "stream": "stdout",
       "text": [
        "2014-06-19 12:59:50,648 INFO sqlalchemy.engine.base.Engine ROLLBACK\n"
       ]
      },
      {
       "output_type": "stream",
       "stream": "stderr",
       "text": [
        "INFO:sqlalchemy.engine.base.Engine:ROLLBACK\n"
       ]
      },
      {
       "ename": "DatabaseError",
       "evalue": "(DatabaseError) SSL SYSCALL error: Operation timed out\n 'select * from \"PecanStreet_SharedData\".validated_04_2014 where \"PecanStreet_SharedData\".validated_04_2014.dataid=2470' {}",
       "output_type": "pyerr",
       "traceback": [
        "\u001b[0;31m---------------------------------------------------------------------------\u001b[0m\n\u001b[0;31mDatabaseError\u001b[0m                             Traceback (most recent call last)",
        "\u001b[0;32m<ipython-input-77-61e133dda375>\u001b[0m in \u001b[0;36m<module>\u001b[0;34m()\u001b[0m\n\u001b[1;32m      3\u001b[0m \u001b[0mcars\u001b[0m \u001b[0;34m=\u001b[0m \u001b[0;34m{\u001b[0m\u001b[0;34m}\u001b[0m\u001b[0;34m\u001b[0m\u001b[0m\n\u001b[1;32m      4\u001b[0m \u001b[0;32mfor\u001b[0m \u001b[0mcar\u001b[0m \u001b[0;32min\u001b[0m \u001b[0mtestl\u001b[0m\u001b[0;34m:\u001b[0m\u001b[0;34m\u001b[0m\u001b[0m\n\u001b[0;32m----> 5\u001b[0;31m     \u001b[0mcar1\u001b[0m \u001b[0;34m=\u001b[0m \u001b[0mget_table_by_id\u001b[0m\u001b[0;34m(\u001b[0m\u001b[0meng\u001b[0m\u001b[0;34m,\u001b[0m\u001b[0;34m\"validated_04_2014\"\u001b[0m\u001b[0;34m,\u001b[0m\u001b[0mstr\u001b[0m\u001b[0;34m(\u001b[0m\u001b[0mcar\u001b[0m\u001b[0;34m)\u001b[0m\u001b[0;34m)\u001b[0m\u001b[0;34m\u001b[0m\u001b[0m\n\u001b[0m\u001b[1;32m      6\u001b[0m     \u001b[0mapril_car_check\u001b[0m\u001b[0;34m[\u001b[0m\u001b[0mcar\u001b[0m\u001b[0;34m]\u001b[0m\u001b[0;34m=\u001b[0m\u001b[0mcar1\u001b[0m\u001b[0;34m[\u001b[0m\u001b[0;34m'car1'\u001b[0m\u001b[0;34m]\u001b[0m\u001b[0;34m.\u001b[0m\u001b[0msum\u001b[0m\u001b[0;34m(\u001b[0m\u001b[0;34m)\u001b[0m\u001b[0;34m\u001b[0m\u001b[0m\n\u001b[1;32m      7\u001b[0m     \u001b[0mcars\u001b[0m\u001b[0;34m[\u001b[0m\u001b[0mcar\u001b[0m\u001b[0;34m]\u001b[0m\u001b[0;34m=\u001b[0m\u001b[0mcar1\u001b[0m\u001b[0;34m\u001b[0m\u001b[0m\n",
        "\u001b[0;32m<ipython-input-7-d18d8d644fe6>\u001b[0m in \u001b[0;36mget_table_by_id\u001b[0;34m(eng, table, i)\u001b[0m\n\u001b[1;32m      1\u001b[0m \u001b[0;32mdef\u001b[0m \u001b[0mget_table_by_id\u001b[0m\u001b[0;34m(\u001b[0m\u001b[0meng\u001b[0m\u001b[0;34m,\u001b[0m\u001b[0mtable\u001b[0m\u001b[0;34m,\u001b[0m\u001b[0mi\u001b[0m\u001b[0;34m)\u001b[0m\u001b[0;34m:\u001b[0m\u001b[0;34m\u001b[0m\u001b[0m\n\u001b[1;32m      2\u001b[0m     \u001b[0mquery\u001b[0m \u001b[0;34m=\u001b[0m \u001b[0;34m\"select * from \"\u001b[0m\u001b[0;34m+\u001b[0m\u001b[0mschema\u001b[0m\u001b[0;34m+\u001b[0m\u001b[0;34m\".\"\u001b[0m\u001b[0;34m+\u001b[0m\u001b[0mtable\u001b[0m\u001b[0;34m+\u001b[0m \u001b[0;34m\" where \"\u001b[0m \u001b[0;34m+\u001b[0m\u001b[0mschema\u001b[0m\u001b[0;34m+\u001b[0m\u001b[0;34m\".\"\u001b[0m\u001b[0;34m+\u001b[0m\u001b[0mtable\u001b[0m\u001b[0;34m+\u001b[0m\u001b[0;34m\".dataid=\"\u001b[0m\u001b[0;34m+\u001b[0m\u001b[0mi\u001b[0m\u001b[0;34m\u001b[0m\u001b[0m\n\u001b[0;32m----> 3\u001b[0;31m     \u001b[0meng_object\u001b[0m\u001b[0;34m=\u001b[0m\u001b[0meng\u001b[0m\u001b[0;34m.\u001b[0m\u001b[0mexecute\u001b[0m\u001b[0;34m(\u001b[0m\u001b[0mquery\u001b[0m\u001b[0;34m)\u001b[0m\u001b[0;34m\u001b[0m\u001b[0m\n\u001b[0m\u001b[1;32m      4\u001b[0m     \u001b[0mdf\u001b[0m \u001b[0;34m=\u001b[0m \u001b[0mpd\u001b[0m\u001b[0;34m.\u001b[0m\u001b[0mDataFrame\u001b[0m\u001b[0;34m.\u001b[0m\u001b[0mfrom_records\u001b[0m\u001b[0;34m(\u001b[0m\u001b[0meng_object\u001b[0m\u001b[0;34m.\u001b[0m\u001b[0mfetchall\u001b[0m\u001b[0;34m(\u001b[0m\u001b[0;34m)\u001b[0m\u001b[0;34m)\u001b[0m\u001b[0;34m\u001b[0m\u001b[0m\n\u001b[1;32m      5\u001b[0m     \u001b[0mdf\u001b[0m\u001b[0;34m.\u001b[0m\u001b[0mcolumns\u001b[0m \u001b[0;34m=\u001b[0m \u001b[0meng_object\u001b[0m\u001b[0;34m.\u001b[0m\u001b[0mkeys\u001b[0m\u001b[0;34m(\u001b[0m\u001b[0;34m)\u001b[0m\u001b[0;34m\u001b[0m\u001b[0m\n",
        "\u001b[0;32m/Users/sabina/anaconda/lib/python2.7/site-packages/sqlalchemy/engine/base.pyc\u001b[0m in \u001b[0;36mexecute\u001b[0;34m(self, statement, *multiparams, **params)\u001b[0m\n\u001b[1;32m   1680\u001b[0m \u001b[0;34m\u001b[0m\u001b[0m\n\u001b[1;32m   1681\u001b[0m         \u001b[0mconnection\u001b[0m \u001b[0;34m=\u001b[0m \u001b[0mself\u001b[0m\u001b[0;34m.\u001b[0m\u001b[0mcontextual_connect\u001b[0m\u001b[0;34m(\u001b[0m\u001b[0mclose_with_result\u001b[0m\u001b[0;34m=\u001b[0m\u001b[0mTrue\u001b[0m\u001b[0;34m)\u001b[0m\u001b[0;34m\u001b[0m\u001b[0m\n\u001b[0;32m-> 1682\u001b[0;31m         \u001b[0;32mreturn\u001b[0m \u001b[0mconnection\u001b[0m\u001b[0;34m.\u001b[0m\u001b[0mexecute\u001b[0m\u001b[0;34m(\u001b[0m\u001b[0mstatement\u001b[0m\u001b[0;34m,\u001b[0m \u001b[0;34m*\u001b[0m\u001b[0mmultiparams\u001b[0m\u001b[0;34m,\u001b[0m \u001b[0;34m**\u001b[0m\u001b[0mparams\u001b[0m\u001b[0;34m)\u001b[0m\u001b[0;34m\u001b[0m\u001b[0m\n\u001b[0m\u001b[1;32m   1683\u001b[0m \u001b[0;34m\u001b[0m\u001b[0m\n\u001b[1;32m   1684\u001b[0m     \u001b[0;32mdef\u001b[0m \u001b[0mscalar\u001b[0m\u001b[0;34m(\u001b[0m\u001b[0mself\u001b[0m\u001b[0;34m,\u001b[0m \u001b[0mstatement\u001b[0m\u001b[0;34m,\u001b[0m \u001b[0;34m*\u001b[0m\u001b[0mmultiparams\u001b[0m\u001b[0;34m,\u001b[0m \u001b[0;34m**\u001b[0m\u001b[0mparams\u001b[0m\u001b[0;34m)\u001b[0m\u001b[0;34m:\u001b[0m\u001b[0;34m\u001b[0m\u001b[0m\n",
        "\u001b[0;32m/Users/sabina/anaconda/lib/python2.7/site-packages/sqlalchemy/engine/base.pyc\u001b[0m in \u001b[0;36mexecute\u001b[0;34m(self, object, *multiparams, **params)\u001b[0m\n\u001b[1;32m    710\u001b[0m         \"\"\"\n\u001b[1;32m    711\u001b[0m         \u001b[0;32mif\u001b[0m \u001b[0misinstance\u001b[0m\u001b[0;34m(\u001b[0m\u001b[0mobject\u001b[0m\u001b[0;34m,\u001b[0m \u001b[0mutil\u001b[0m\u001b[0;34m.\u001b[0m\u001b[0mstring_types\u001b[0m\u001b[0;34m[\u001b[0m\u001b[0;36m0\u001b[0m\u001b[0;34m]\u001b[0m\u001b[0;34m)\u001b[0m\u001b[0;34m:\u001b[0m\u001b[0;34m\u001b[0m\u001b[0m\n\u001b[0;32m--> 712\u001b[0;31m             \u001b[0;32mreturn\u001b[0m \u001b[0mself\u001b[0m\u001b[0;34m.\u001b[0m\u001b[0m_execute_text\u001b[0m\u001b[0;34m(\u001b[0m\u001b[0mobject\u001b[0m\u001b[0;34m,\u001b[0m \u001b[0mmultiparams\u001b[0m\u001b[0;34m,\u001b[0m \u001b[0mparams\u001b[0m\u001b[0;34m)\u001b[0m\u001b[0;34m\u001b[0m\u001b[0m\n\u001b[0m\u001b[1;32m    713\u001b[0m         \u001b[0;32mtry\u001b[0m\u001b[0;34m:\u001b[0m\u001b[0;34m\u001b[0m\u001b[0m\n\u001b[1;32m    714\u001b[0m             \u001b[0mmeth\u001b[0m \u001b[0;34m=\u001b[0m \u001b[0mobject\u001b[0m\u001b[0;34m.\u001b[0m\u001b[0m_execute_on_connection\u001b[0m\u001b[0;34m\u001b[0m\u001b[0m\n",
        "\u001b[0;32m/Users/sabina/anaconda/lib/python2.7/site-packages/sqlalchemy/engine/base.pyc\u001b[0m in \u001b[0;36m_execute_text\u001b[0;34m(self, statement, multiparams, params)\u001b[0m\n\u001b[1;32m    859\u001b[0m             \u001b[0mstatement\u001b[0m\u001b[0;34m,\u001b[0m\u001b[0;34m\u001b[0m\u001b[0m\n\u001b[1;32m    860\u001b[0m             \u001b[0mparameters\u001b[0m\u001b[0;34m,\u001b[0m\u001b[0;34m\u001b[0m\u001b[0m\n\u001b[0;32m--> 861\u001b[0;31m             \u001b[0mstatement\u001b[0m\u001b[0;34m,\u001b[0m \u001b[0mparameters\u001b[0m\u001b[0;34m\u001b[0m\u001b[0m\n\u001b[0m\u001b[1;32m    862\u001b[0m         )\n\u001b[1;32m    863\u001b[0m         \u001b[0;32mif\u001b[0m \u001b[0mself\u001b[0m\u001b[0;34m.\u001b[0m\u001b[0m_has_events\u001b[0m \u001b[0;32mor\u001b[0m \u001b[0mself\u001b[0m\u001b[0;34m.\u001b[0m\u001b[0mengine\u001b[0m\u001b[0;34m.\u001b[0m\u001b[0m_has_events\u001b[0m\u001b[0;34m:\u001b[0m\u001b[0;34m\u001b[0m\u001b[0m\n",
        "\u001b[0;32m/Users/sabina/anaconda/lib/python2.7/site-packages/sqlalchemy/engine/base.pyc\u001b[0m in \u001b[0;36m_execute_context\u001b[0;34m(self, dialect, constructor, statement, parameters, *args)\u001b[0m\n\u001b[1;32m    945\u001b[0m                                 \u001b[0mparameters\u001b[0m\u001b[0;34m,\u001b[0m\u001b[0;34m\u001b[0m\u001b[0m\n\u001b[1;32m    946\u001b[0m                                 \u001b[0mcursor\u001b[0m\u001b[0;34m,\u001b[0m\u001b[0;34m\u001b[0m\u001b[0m\n\u001b[0;32m--> 947\u001b[0;31m                                 context)\n\u001b[0m\u001b[1;32m    948\u001b[0m \u001b[0;34m\u001b[0m\u001b[0m\n\u001b[1;32m    949\u001b[0m         \u001b[0;32mif\u001b[0m \u001b[0mself\u001b[0m\u001b[0;34m.\u001b[0m\u001b[0m_has_events\u001b[0m \u001b[0;32mor\u001b[0m \u001b[0mself\u001b[0m\u001b[0;34m.\u001b[0m\u001b[0mengine\u001b[0m\u001b[0;34m.\u001b[0m\u001b[0m_has_events\u001b[0m\u001b[0;34m:\u001b[0m\u001b[0;34m\u001b[0m\u001b[0m\n",
        "\u001b[0;32m/Users/sabina/anaconda/lib/python2.7/site-packages/sqlalchemy/engine/base.pyc\u001b[0m in \u001b[0;36m_handle_dbapi_exception\u001b[0;34m(self, e, statement, parameters, cursor, context)\u001b[0m\n\u001b[1;32m   1106\u001b[0m                                         \u001b[0mself\u001b[0m\u001b[0;34m.\u001b[0m\u001b[0mdialect\u001b[0m\u001b[0;34m.\u001b[0m\u001b[0mdbapi\u001b[0m\u001b[0;34m.\u001b[0m\u001b[0mError\u001b[0m\u001b[0;34m,\u001b[0m\u001b[0;34m\u001b[0m\u001b[0m\n\u001b[1;32m   1107\u001b[0m                                         connection_invalidated=self._is_disconnect),\n\u001b[0;32m-> 1108\u001b[0;31m                                     \u001b[0mexc_info\u001b[0m\u001b[0;34m\u001b[0m\u001b[0m\n\u001b[0m\u001b[1;32m   1109\u001b[0m                                 )\n\u001b[1;32m   1110\u001b[0m \u001b[0;34m\u001b[0m\u001b[0m\n",
        "\u001b[0;32m/Users/sabina/anaconda/lib/python2.7/site-packages/sqlalchemy/util/compat.pyc\u001b[0m in \u001b[0;36mraise_from_cause\u001b[0;34m(exception, exc_info)\u001b[0m\n\u001b[1;32m    183\u001b[0m             \u001b[0mexc_info\u001b[0m \u001b[0;34m=\u001b[0m \u001b[0msys\u001b[0m\u001b[0;34m.\u001b[0m\u001b[0mexc_info\u001b[0m\u001b[0;34m(\u001b[0m\u001b[0;34m)\u001b[0m\u001b[0;34m\u001b[0m\u001b[0m\n\u001b[1;32m    184\u001b[0m         \u001b[0mexc_type\u001b[0m\u001b[0;34m,\u001b[0m \u001b[0mexc_value\u001b[0m\u001b[0;34m,\u001b[0m \u001b[0mexc_tb\u001b[0m \u001b[0;34m=\u001b[0m \u001b[0mexc_info\u001b[0m\u001b[0;34m\u001b[0m\u001b[0m\n\u001b[0;32m--> 185\u001b[0;31m         \u001b[0mreraise\u001b[0m\u001b[0;34m(\u001b[0m\u001b[0mtype\u001b[0m\u001b[0;34m(\u001b[0m\u001b[0mexception\u001b[0m\u001b[0;34m)\u001b[0m\u001b[0;34m,\u001b[0m \u001b[0mexception\u001b[0m\u001b[0;34m,\u001b[0m \u001b[0mtb\u001b[0m\u001b[0;34m=\u001b[0m\u001b[0mexc_tb\u001b[0m\u001b[0;34m)\u001b[0m\u001b[0;34m\u001b[0m\u001b[0m\n\u001b[0m\u001b[1;32m    186\u001b[0m \u001b[0;34m\u001b[0m\u001b[0m\n\u001b[1;32m    187\u001b[0m \u001b[0;32mif\u001b[0m \u001b[0mpy3k\u001b[0m\u001b[0;34m:\u001b[0m\u001b[0;34m\u001b[0m\u001b[0m\n",
        "\u001b[0;32m/Users/sabina/anaconda/lib/python2.7/site-packages/sqlalchemy/engine/base.pyc\u001b[0m in \u001b[0;36m_execute_context\u001b[0;34m(self, dialect, constructor, statement, parameters, *args)\u001b[0m\n\u001b[1;32m    938\u001b[0m                                      \u001b[0mstatement\u001b[0m\u001b[0;34m,\u001b[0m\u001b[0;34m\u001b[0m\u001b[0m\n\u001b[1;32m    939\u001b[0m                                      \u001b[0mparameters\u001b[0m\u001b[0;34m,\u001b[0m\u001b[0;34m\u001b[0m\u001b[0m\n\u001b[0;32m--> 940\u001b[0;31m                                      context)\n\u001b[0m\u001b[1;32m    941\u001b[0m         \u001b[0;32mexcept\u001b[0m \u001b[0mException\u001b[0m \u001b[0;32mas\u001b[0m \u001b[0me\u001b[0m\u001b[0;34m:\u001b[0m\u001b[0;34m\u001b[0m\u001b[0m\n\u001b[1;32m    942\u001b[0m             self._handle_dbapi_exception(\n",
        "\u001b[0;32m/Users/sabina/anaconda/lib/python2.7/site-packages/sqlalchemy/engine/default.pyc\u001b[0m in \u001b[0;36mdo_execute\u001b[0;34m(self, cursor, statement, parameters, context)\u001b[0m\n\u001b[1;32m    433\u001b[0m \u001b[0;34m\u001b[0m\u001b[0m\n\u001b[1;32m    434\u001b[0m     \u001b[0;32mdef\u001b[0m \u001b[0mdo_execute\u001b[0m\u001b[0;34m(\u001b[0m\u001b[0mself\u001b[0m\u001b[0;34m,\u001b[0m \u001b[0mcursor\u001b[0m\u001b[0;34m,\u001b[0m \u001b[0mstatement\u001b[0m\u001b[0;34m,\u001b[0m \u001b[0mparameters\u001b[0m\u001b[0;34m,\u001b[0m \u001b[0mcontext\u001b[0m\u001b[0;34m=\u001b[0m\u001b[0mNone\u001b[0m\u001b[0;34m)\u001b[0m\u001b[0;34m:\u001b[0m\u001b[0;34m\u001b[0m\u001b[0m\n\u001b[0;32m--> 435\u001b[0;31m         \u001b[0mcursor\u001b[0m\u001b[0;34m.\u001b[0m\u001b[0mexecute\u001b[0m\u001b[0;34m(\u001b[0m\u001b[0mstatement\u001b[0m\u001b[0;34m,\u001b[0m \u001b[0mparameters\u001b[0m\u001b[0;34m)\u001b[0m\u001b[0;34m\u001b[0m\u001b[0m\n\u001b[0m\u001b[1;32m    436\u001b[0m \u001b[0;34m\u001b[0m\u001b[0m\n\u001b[1;32m    437\u001b[0m     \u001b[0;32mdef\u001b[0m \u001b[0mdo_execute_no_params\u001b[0m\u001b[0;34m(\u001b[0m\u001b[0mself\u001b[0m\u001b[0;34m,\u001b[0m \u001b[0mcursor\u001b[0m\u001b[0;34m,\u001b[0m \u001b[0mstatement\u001b[0m\u001b[0;34m,\u001b[0m \u001b[0mcontext\u001b[0m\u001b[0;34m=\u001b[0m\u001b[0mNone\u001b[0m\u001b[0;34m)\u001b[0m\u001b[0;34m:\u001b[0m\u001b[0;34m\u001b[0m\u001b[0m\n",
        "\u001b[0;31mDatabaseError\u001b[0m: (DatabaseError) SSL SYSCALL error: Operation timed out\n 'select * from \"PecanStreet_SharedData\".validated_04_2014 where \"PecanStreet_SharedData\".validated_04_2014.dataid=2470' {}"
       ]
      }
     ],
     "prompt_number": 77
    },
    {
     "cell_type": "code",
     "collapsed": false,
     "input": [
      "months_cars={}\n",
      "dir_path = os.path.join(os.getcwd(), 'cars/' )\n",
      "for mon in ['january','feburary','march','april']:\n",
      "    f=open(os.path.join(dir_path, mon+'_homes_with_cars.json'), 'r')\n",
      "    months_cars[mon]=f.readline()\n",
      "    f.close()\n",
      "    "
     ],
     "language": "python",
     "metadata": {},
     "outputs": [],
     "prompt_number": 159
    },
    {
     "cell_type": "code",
     "collapsed": false,
     "input": [
      "months_cars['feburary']= ast.literal_eval(months_cars['feburary'])"
     ],
     "language": "python",
     "metadata": {},
     "outputs": [],
     "prompt_number": 165
    },
    {
     "cell_type": "code",
     "collapsed": false,
     "input": [
      "months_cars_dict = {k:[] for k in months_cars['january']}"
     ],
     "language": "python",
     "metadata": {},
     "outputs": [],
     "prompt_number": 182
    },
    {
     "cell_type": "code",
     "collapsed": false,
     "input": [
      "for mon in ['january','feburary','march']:\n",
      "    for i in months_cars[mon]:\n",
      "        if i in months_cars_dict:\n",
      "            months_cars_dict[i].append(mon)\n",
      "        else:\n",
      "            months_cars_dict[i]=[mon]"
     ],
     "language": "python",
     "metadata": {},
     "outputs": [],
     "prompt_number": 183
    },
    {
     "cell_type": "code",
     "collapsed": false,
     "input": [
      "months_cars_dict"
     ],
     "language": "python",
     "metadata": {},
     "outputs": [
      {
       "metadata": {},
       "output_type": "pyout",
       "prompt_number": 184,
       "text": [
        "{370: ['january', 'feburary', 'march'],\n",
        " 545: ['january', 'feburary', 'march'],\n",
        " 624: ['january', 'feburary', 'march'],\n",
        " 661: ['january', 'feburary', 'march'],\n",
        " 1169: ['january', 'feburary', 'march'],\n",
        " 1185: ['january', 'feburary', 'march'],\n",
        " 1629: ['january', 'feburary', 'march'],\n",
        " 1642: ['january', 'feburary'],\n",
        " 1697: ['january', 'feburary', 'march'],\n",
        " 1714: ['january', 'feburary', 'march'],\n",
        " 1782: ['january', 'feburary', 'march'],\n",
        " 1801: ['january'],\n",
        " 1953: ['january', 'feburary', 'march'],\n",
        " 2335: ['january'],\n",
        " 2470: ['january', 'feburary', 'march'],\n",
        " 2638: ['january', 'feburary', 'march'],\n",
        " 2769: ['january', 'feburary', 'march'],\n",
        " 2814: ['january', 'feburary', 'march'],\n",
        " 3044: ['january'],\n",
        " 3192: ['january', 'feburary', 'march'],\n",
        " 3367: ['january', 'feburary', 'march'],\n",
        " 3482: ['january', 'feburary', 'march'],\n",
        " 3723: ['january', 'feburary', 'march'],\n",
        " 3795: ['january', 'feburary', 'march'],\n",
        " 3967: ['january', 'feburary', 'march'],\n",
        " 4135: ['january', 'feburary', 'march'],\n",
        " 4336: ['january', 'feburary', 'march'],\n",
        " 4373: ['january'],\n",
        " 4505: ['january', 'feburary', 'march'],\n",
        " 4526: ['january', 'feburary', 'march'],\n",
        " 4641: ['january', 'feburary', 'march'],\n",
        " 4767: ['january', 'feburary', 'march'],\n",
        " 4957: ['january', 'feburary', 'march'],\n",
        " 4998: ['january', 'feburary', 'march'],\n",
        " 5109: ['january', 'feburary', 'march'],\n",
        " 5357: ['january', 'feburary', 'march'],\n",
        " 6139: ['january', 'feburary', 'march'],\n",
        " 6836: ['january', 'feburary', 'march'],\n",
        " 6910: ['january', 'feburary', 'march'],\n",
        " 6941: ['january', 'feburary', 'march'],\n",
        " 6990: ['january'],\n",
        " 7850: ['january', 'feburary', 'march'],\n",
        " 7863: ['january', 'feburary', 'march'],\n",
        " 7875: ['january', 'feburary', 'march'],\n",
        " 7940: ['january', 'feburary', 'march'],\n",
        " 7982: ['january', 'feburary', 'march'],\n",
        " 8046: ['january', 'feburary', 'march'],\n",
        " 8142: ['january', 'feburary', 'march'],\n",
        " 8197: ['january', 'feburary', 'march'],\n",
        " 8645: ['january', 'feburary', 'march'],\n",
        " 8669: ['january', 'feburary', 'march'],\n",
        " 8736: ['january', 'feburary'],\n",
        " 9484: ['january', 'feburary', 'march'],\n",
        " 9499: ['january'],\n",
        " 9609: ['january', 'feburary', 'march'],\n",
        " 9729: ['january', 'feburary', 'march'],\n",
        " 9830: ['january', 'feburary', 'march'],\n",
        " 9932: ['january', 'feburary', 'march'],\n",
        " 9934: ['january', 'feburary', 'march'],\n",
        " 9937: ['january', 'feburary', 'march']}"
       ]
      }
     ],
     "prompt_number": 184
    },
    {
     "cell_type": "code",
     "collapsed": false,
     "input": [
      "with open(os.path.join(dir_path, 'month_cars.json'), 'w') as outfile:\n",
      "    outfile.write(json.dumps(months_cars_dict))"
     ],
     "language": "python",
     "metadata": {},
     "outputs": [],
     "prompt_number": 188
    },
    {
     "cell_type": "code",
     "collapsed": false,
     "input": [
      "car_in_feburary = get_table_by_id(eng,\"validated_02_2014\",'9499')"
     ],
     "language": "python",
     "metadata": {},
     "outputs": [
      {
       "output_type": "stream",
       "stream": "stdout",
       "text": [
        "2014-06-19 17:53:40,763 INFO sqlalchemy.engine.base.Engine select * from \"PecanStreet_SharedData\".validated_02_2014 where \"PecanStreet_SharedData\".validated_02_2014.dataid=9499\n"
       ]
      },
      {
       "output_type": "stream",
       "stream": "stderr",
       "text": [
        "INFO:sqlalchemy.engine.base.Engine:select * from \"PecanStreet_SharedData\".validated_02_2014 where \"PecanStreet_SharedData\".validated_02_2014.dataid=9499\n"
       ]
      },
      {
       "output_type": "stream",
       "stream": "stdout",
       "text": [
        "2014-06-19 17:53:40,764 INFO sqlalchemy.engine.base.Engine {}\n"
       ]
      },
      {
       "output_type": "stream",
       "stream": "stderr",
       "text": [
        "INFO:sqlalchemy.engine.base.Engine:{}\n"
       ]
      },
      {
       "ename": "ValueError",
       "evalue": "Length mismatch: Expected axis has 0 elements, new values have 73 elements",
       "output_type": "pyerr",
       "traceback": [
        "\u001b[0;31m---------------------------------------------------------------------------\u001b[0m\n\u001b[0;31mValueError\u001b[0m                                Traceback (most recent call last)",
        "\u001b[0;32m<ipython-input-202-3356778637e9>\u001b[0m in \u001b[0;36m<module>\u001b[0;34m()\u001b[0m\n\u001b[0;32m----> 1\u001b[0;31m \u001b[0mcar_in_feburary\u001b[0m \u001b[0;34m=\u001b[0m \u001b[0mget_table_by_id\u001b[0m\u001b[0;34m(\u001b[0m\u001b[0meng\u001b[0m\u001b[0;34m,\u001b[0m\u001b[0;34m\"validated_02_2014\"\u001b[0m\u001b[0;34m,\u001b[0m\u001b[0;34m'9499'\u001b[0m\u001b[0;34m)\u001b[0m\u001b[0;34m\u001b[0m\u001b[0m\n\u001b[0m",
        "\u001b[0;32m<ipython-input-7-d18d8d644fe6>\u001b[0m in \u001b[0;36mget_table_by_id\u001b[0;34m(eng, table, i)\u001b[0m\n\u001b[1;32m      3\u001b[0m     \u001b[0meng_object\u001b[0m\u001b[0;34m=\u001b[0m\u001b[0meng\u001b[0m\u001b[0;34m.\u001b[0m\u001b[0mexecute\u001b[0m\u001b[0;34m(\u001b[0m\u001b[0mquery\u001b[0m\u001b[0;34m)\u001b[0m\u001b[0;34m\u001b[0m\u001b[0m\n\u001b[1;32m      4\u001b[0m     \u001b[0mdf\u001b[0m \u001b[0;34m=\u001b[0m \u001b[0mpd\u001b[0m\u001b[0;34m.\u001b[0m\u001b[0mDataFrame\u001b[0m\u001b[0;34m.\u001b[0m\u001b[0mfrom_records\u001b[0m\u001b[0;34m(\u001b[0m\u001b[0meng_object\u001b[0m\u001b[0;34m.\u001b[0m\u001b[0mfetchall\u001b[0m\u001b[0;34m(\u001b[0m\u001b[0;34m)\u001b[0m\u001b[0;34m)\u001b[0m\u001b[0;34m\u001b[0m\u001b[0m\n\u001b[0;32m----> 5\u001b[0;31m     \u001b[0mdf\u001b[0m\u001b[0;34m.\u001b[0m\u001b[0mcolumns\u001b[0m \u001b[0;34m=\u001b[0m \u001b[0meng_object\u001b[0m\u001b[0;34m.\u001b[0m\u001b[0mkeys\u001b[0m\u001b[0;34m(\u001b[0m\u001b[0;34m)\u001b[0m\u001b[0;34m\u001b[0m\u001b[0m\n\u001b[0m\u001b[1;32m      6\u001b[0m     \u001b[0;32mreturn\u001b[0m \u001b[0mdf\u001b[0m\u001b[0;34m\u001b[0m\u001b[0m\n",
        "\u001b[0;32m/Users/sabina/anaconda/lib/python2.7/site-packages/pandas/core/generic.pyc\u001b[0m in \u001b[0;36m__setattr__\u001b[0;34m(self, name, value)\u001b[0m\n\u001b[1;32m   1847\u001b[0m         This allows simpler access to columns for interactive use.\"\"\"\n\u001b[1;32m   1848\u001b[0m         \u001b[0;32mif\u001b[0m \u001b[0mname\u001b[0m \u001b[0;32min\u001b[0m \u001b[0mself\u001b[0m\u001b[0;34m.\u001b[0m\u001b[0m_internal_names_set\u001b[0m\u001b[0;34m:\u001b[0m\u001b[0;34m\u001b[0m\u001b[0m\n\u001b[0;32m-> 1849\u001b[0;31m             \u001b[0mobject\u001b[0m\u001b[0;34m.\u001b[0m\u001b[0m__setattr__\u001b[0m\u001b[0;34m(\u001b[0m\u001b[0mself\u001b[0m\u001b[0;34m,\u001b[0m \u001b[0mname\u001b[0m\u001b[0;34m,\u001b[0m \u001b[0mvalue\u001b[0m\u001b[0;34m)\u001b[0m\u001b[0;34m\u001b[0m\u001b[0m\n\u001b[0m\u001b[1;32m   1850\u001b[0m         \u001b[0;32melif\u001b[0m \u001b[0mname\u001b[0m \u001b[0;32min\u001b[0m \u001b[0mself\u001b[0m\u001b[0;34m.\u001b[0m\u001b[0m_metadata\u001b[0m\u001b[0;34m:\u001b[0m\u001b[0;34m\u001b[0m\u001b[0m\n\u001b[1;32m   1851\u001b[0m             \u001b[0;32mreturn\u001b[0m \u001b[0mobject\u001b[0m\u001b[0;34m.\u001b[0m\u001b[0m__setattr__\u001b[0m\u001b[0;34m(\u001b[0m\u001b[0mself\u001b[0m\u001b[0;34m,\u001b[0m \u001b[0mname\u001b[0m\u001b[0;34m,\u001b[0m \u001b[0mvalue\u001b[0m\u001b[0;34m)\u001b[0m\u001b[0;34m\u001b[0m\u001b[0m\n",
        "\u001b[0;32m/Users/sabina/anaconda/lib/python2.7/site-packages/pandas/lib.so\u001b[0m in \u001b[0;36mpandas.lib.AxisProperty.__set__ (pandas/lib.c:38173)\u001b[0;34m()\u001b[0m\n",
        "\u001b[0;32m/Users/sabina/anaconda/lib/python2.7/site-packages/pandas/core/generic.pyc\u001b[0m in \u001b[0;36m_set_axis\u001b[0;34m(self, axis, labels)\u001b[0m\n\u001b[1;32m    398\u001b[0m \u001b[0;34m\u001b[0m\u001b[0m\n\u001b[1;32m    399\u001b[0m     \u001b[0;32mdef\u001b[0m \u001b[0m_set_axis\u001b[0m\u001b[0;34m(\u001b[0m\u001b[0mself\u001b[0m\u001b[0;34m,\u001b[0m \u001b[0maxis\u001b[0m\u001b[0;34m,\u001b[0m \u001b[0mlabels\u001b[0m\u001b[0;34m)\u001b[0m\u001b[0;34m:\u001b[0m\u001b[0;34m\u001b[0m\u001b[0m\n\u001b[0;32m--> 400\u001b[0;31m         \u001b[0mself\u001b[0m\u001b[0;34m.\u001b[0m\u001b[0m_data\u001b[0m\u001b[0;34m.\u001b[0m\u001b[0mset_axis\u001b[0m\u001b[0;34m(\u001b[0m\u001b[0maxis\u001b[0m\u001b[0;34m,\u001b[0m \u001b[0mlabels\u001b[0m\u001b[0;34m)\u001b[0m\u001b[0;34m\u001b[0m\u001b[0m\n\u001b[0m\u001b[1;32m    401\u001b[0m         \u001b[0mself\u001b[0m\u001b[0;34m.\u001b[0m\u001b[0m_clear_item_cache\u001b[0m\u001b[0;34m(\u001b[0m\u001b[0;34m)\u001b[0m\u001b[0;34m\u001b[0m\u001b[0m\n\u001b[1;32m    402\u001b[0m \u001b[0;34m\u001b[0m\u001b[0m\n",
        "\u001b[0;32m/Users/sabina/anaconda/lib/python2.7/site-packages/pandas/core/internals.pyc\u001b[0m in \u001b[0;36mset_axis\u001b[0;34m(self, axis, new_labels)\u001b[0m\n\u001b[1;32m   1953\u001b[0m         \u001b[0;32mif\u001b[0m \u001b[0mnew_len\u001b[0m \u001b[0;34m!=\u001b[0m \u001b[0mold_len\u001b[0m\u001b[0;34m:\u001b[0m\u001b[0;34m\u001b[0m\u001b[0m\n\u001b[1;32m   1954\u001b[0m             raise ValueError('Length mismatch: Expected axis has %d elements, '\n\u001b[0;32m-> 1955\u001b[0;31m                              'new values have %d elements' % (old_len, new_len))\n\u001b[0m\u001b[1;32m   1956\u001b[0m \u001b[0;34m\u001b[0m\u001b[0m\n\u001b[1;32m   1957\u001b[0m         \u001b[0mself\u001b[0m\u001b[0;34m.\u001b[0m\u001b[0maxes\u001b[0m\u001b[0;34m[\u001b[0m\u001b[0maxis\u001b[0m\u001b[0;34m]\u001b[0m \u001b[0;34m=\u001b[0m \u001b[0mnew_labels\u001b[0m\u001b[0;34m\u001b[0m\u001b[0m\n",
        "\u001b[0;31mValueError\u001b[0m: Length mismatch: Expected axis has 0 elements, new values have 73 elements"
       ]
      }
     ],
     "prompt_number": 202
    },
    {
     "cell_type": "markdown",
     "metadata": {},
     "source": [
      "\n",
      "months_cars_dict"
     ]
    },
    {
     "cell_type": "code",
     "collapsed": false,
     "input": [
      "car_in_january['garage1']"
     ],
     "language": "python",
     "metadata": {},
     "outputs": [
      {
       "metadata": {},
       "output_type": "pyout",
       "prompt_number": 196,
       "text": [
        "nan"
       ]
      }
     ],
     "prompt_number": 196
    },
    {
     "cell_type": "code",
     "collapsed": false,
     "input": [
      "def get_apps(df):\n",
      "    apps = {}\n",
      "    print(len(df.columns))\n",
      "    for col in df.columns:\n",
      "        if col!='localminute':\n",
      "          if df[col].sum()!='nan':  \n",
      "              apps[col]=df[col].sum()\n",
      "    print(len(apps))\n",
      "    return apps"
     ],
     "language": "python",
     "metadata": {},
     "outputs": [],
     "prompt_number": 30
    },
    {
     "cell_type": "code",
     "collapsed": false,
     "input": [
      "##should make this faster\n",
      "def get_pie(d,drop,title):\n",
      "    if drop in d:\n",
      "        d.pop(drop,None)\n",
      "    fracs = [float(i) for i in d.values() if not (math.isnan(float(i)))]\n",
      "    labels = [k for k in d.keys()] \n",
      "    ax = pyplt.figure(figsize=(6,6))\n",
      "    pyplt.pie(fracs,labels=labels)\n",
      "    pyplt.title(title)\n",
      "    savefig(title+'.png')\n",
      "    pyplt.clf()\n",
      "    pyplt.cla()\n",
      "    pyplt.close()"
     ],
     "language": "python",
     "metadata": {},
     "outputs": [],
     "prompt_number": 182
    },
    {
     "cell_type": "code",
     "collapsed": false,
     "input": [
      "##get graphs for all 4 2014 months \n",
      "def get_pie_month_hvac(eng,month):\n",
      "    h = get_hvac_stats(eng,month)\n",
      "    print h\n",
      "  #  h={k:float(list(h[k][0])[0]) for k in h.keys()}\n",
      "    get_pie(h,'total_rows',month_titles[month]+'_HVAC_and_USE_wo_ev')"
     ],
     "language": "python",
     "metadata": {},
     "outputs": [],
     "prompt_number": 191
    },
    {
     "cell_type": "code",
     "collapsed": false,
     "input": [
      "\n",
      "get_pie_month_hvac(eng,'04')"
     ],
     "language": "python",
     "metadata": {},
     "outputs": [
      {
       "output_type": "stream",
       "stream": "stdout",
       "text": [
        "2014-06-18 12:56:07,126 INFO sqlalchemy.engine.base.Engine select sum(air1) from \"PecanStreet_SharedData\".validated_04_2014\n"
       ]
      },
      {
       "output_type": "stream",
       "stream": "stderr",
       "text": [
        "INFO:sqlalchemy.engine.base.Engine:select sum(air1) from \"PecanStreet_SharedData\".validated_04_2014\n"
       ]
      },
      {
       "output_type": "stream",
       "stream": "stdout",
       "text": [
        "2014-06-18 12:56:07,126 INFO sqlalchemy.engine.base.Engine {}\n"
       ]
      },
      {
       "output_type": "stream",
       "stream": "stderr",
       "text": [
        "INFO:sqlalchemy.engine.base.Engine:{}\n"
       ]
      },
      {
       "output_type": "stream",
       "stream": "stdout",
       "text": [
        "2014-06-18 12:56:11,750 INFO sqlalchemy.engine.base.Engine select sum(air2) from \"PecanStreet_SharedData\".validated_04_2014\n"
       ]
      },
      {
       "output_type": "stream",
       "stream": "stderr",
       "text": [
        "INFO:sqlalchemy.engine.base.Engine:select sum(air2) from \"PecanStreet_SharedData\".validated_04_2014\n"
       ]
      },
      {
       "output_type": "stream",
       "stream": "stdout",
       "text": [
        "2014-06-18 12:56:11,751 INFO sqlalchemy.engine.base.Engine {}\n"
       ]
      },
      {
       "output_type": "stream",
       "stream": "stderr",
       "text": [
        "INFO:sqlalchemy.engine.base.Engine:{}\n"
       ]
      },
      {
       "output_type": "stream",
       "stream": "stdout",
       "text": [
        "2014-06-18 12:56:15,639 INFO sqlalchemy.engine.base.Engine select sum(air3) from \"PecanStreet_SharedData\".validated_04_2014\n"
       ]
      },
      {
       "output_type": "stream",
       "stream": "stderr",
       "text": [
        "INFO:sqlalchemy.engine.base.Engine:select sum(air3) from \"PecanStreet_SharedData\".validated_04_2014\n"
       ]
      },
      {
       "output_type": "stream",
       "stream": "stdout",
       "text": [
        "2014-06-18 12:56:15,641 INFO sqlalchemy.engine.base.Engine {}\n"
       ]
      },
      {
       "output_type": "stream",
       "stream": "stderr",
       "text": [
        "INFO:sqlalchemy.engine.base.Engine:{}\n"
       ]
      },
      {
       "output_type": "stream",
       "stream": "stdout",
       "text": [
        "2014-06-18 12:56:18,143 INFO sqlalchemy.engine.base.Engine select sum(furnace1) from \"PecanStreet_SharedData\".validated_04_2014\n"
       ]
      },
      {
       "output_type": "stream",
       "stream": "stderr",
       "text": [
        "INFO:sqlalchemy.engine.base.Engine:select sum(furnace1) from \"PecanStreet_SharedData\".validated_04_2014\n"
       ]
      },
      {
       "output_type": "stream",
       "stream": "stdout",
       "text": [
        "2014-06-18 12:56:18,145 INFO sqlalchemy.engine.base.Engine {}\n"
       ]
      },
      {
       "output_type": "stream",
       "stream": "stderr",
       "text": [
        "INFO:sqlalchemy.engine.base.Engine:{}\n"
       ]
      },
      {
       "output_type": "stream",
       "stream": "stdout",
       "text": [
        "2014-06-18 12:56:23,785 INFO sqlalchemy.engine.base.Engine select sum(furnace2) from \"PecanStreet_SharedData\".validated_04_2014\n"
       ]
      },
      {
       "output_type": "stream",
       "stream": "stderr",
       "text": [
        "INFO:sqlalchemy.engine.base.Engine:select sum(furnace2) from \"PecanStreet_SharedData\".validated_04_2014\n"
       ]
      },
      {
       "output_type": "stream",
       "stream": "stdout",
       "text": [
        "2014-06-18 12:56:23,786 INFO sqlalchemy.engine.base.Engine {}\n"
       ]
      },
      {
       "output_type": "stream",
       "stream": "stderr",
       "text": [
        "INFO:sqlalchemy.engine.base.Engine:{}\n"
       ]
      },
      {
       "output_type": "stream",
       "stream": "stdout",
       "text": [
        "2014-06-18 12:56:26,911 INFO sqlalchemy.engine.base.Engine select sum(airwindowunit1) from \"PecanStreet_SharedData\".validated_04_2014\n"
       ]
      },
      {
       "output_type": "stream",
       "stream": "stderr",
       "text": [
        "INFO:sqlalchemy.engine.base.Engine:select sum(airwindowunit1) from \"PecanStreet_SharedData\".validated_04_2014\n"
       ]
      },
      {
       "output_type": "stream",
       "stream": "stdout",
       "text": [
        "2014-06-18 12:56:26,912 INFO sqlalchemy.engine.base.Engine {}\n"
       ]
      },
      {
       "output_type": "stream",
       "stream": "stderr",
       "text": [
        "INFO:sqlalchemy.engine.base.Engine:{}\n"
       ]
      },
      {
       "output_type": "stream",
       "stream": "stdout",
       "text": [
        "2014-06-18 12:56:29,515 INFO sqlalchemy.engine.base.Engine select sum(housefan1) from \"PecanStreet_SharedData\".validated_04_2014\n"
       ]
      },
      {
       "output_type": "stream",
       "stream": "stderr",
       "text": [
        "INFO:sqlalchemy.engine.base.Engine:select sum(housefan1) from \"PecanStreet_SharedData\".validated_04_2014\n"
       ]
      },
      {
       "output_type": "stream",
       "stream": "stdout",
       "text": [
        "2014-06-18 12:56:29,516 INFO sqlalchemy.engine.base.Engine {}\n"
       ]
      },
      {
       "output_type": "stream",
       "stream": "stderr",
       "text": [
        "INFO:sqlalchemy.engine.base.Engine:{}\n"
       ]
      },
      {
       "output_type": "stream",
       "stream": "stdout",
       "text": [
        "2014-06-18 12:56:34,201 INFO sqlalchemy.engine.base.Engine select sum(heater1) from \"PecanStreet_SharedData\".validated_04_2014\n"
       ]
      },
      {
       "output_type": "stream",
       "stream": "stderr",
       "text": [
        "INFO:sqlalchemy.engine.base.Engine:select sum(heater1) from \"PecanStreet_SharedData\".validated_04_2014\n"
       ]
      },
      {
       "output_type": "stream",
       "stream": "stdout",
       "text": [
        "2014-06-18 12:56:34,202 INFO sqlalchemy.engine.base.Engine {}\n"
       ]
      },
      {
       "output_type": "stream",
       "stream": "stderr",
       "text": [
        "INFO:sqlalchemy.engine.base.Engine:{}\n"
       ]
      },
      {
       "output_type": "stream",
       "stream": "stdout",
       "text": [
        "2014-06-18 12:56:38,657 INFO sqlalchemy.engine.base.Engine select sum(use) from \"PecanStreet_SharedData\".validated_04_2014\n"
       ]
      },
      {
       "output_type": "stream",
       "stream": "stderr",
       "text": [
        "INFO:sqlalchemy.engine.base.Engine:select sum(use) from \"PecanStreet_SharedData\".validated_04_2014\n"
       ]
      },
      {
       "output_type": "stream",
       "stream": "stdout",
       "text": [
        "2014-06-18 12:56:38,658 INFO sqlalchemy.engine.base.Engine {}\n"
       ]
      },
      {
       "output_type": "stream",
       "stream": "stderr",
       "text": [
        "INFO:sqlalchemy.engine.base.Engine:{}\n"
       ]
      },
      {
       "output_type": "stream",
       "stream": "stdout",
       "text": [
        "2014-06-18 12:56:42,652 INFO sqlalchemy.engine.base.Engine select sum(car1) from \"PecanStreet_SharedData\".validated_04_2014\n"
       ]
      },
      {
       "output_type": "stream",
       "stream": "stderr",
       "text": [
        "INFO:sqlalchemy.engine.base.Engine:select sum(car1) from \"PecanStreet_SharedData\".validated_04_2014\n"
       ]
      },
      {
       "output_type": "stream",
       "stream": "stdout",
       "text": [
        "2014-06-18 12:56:42,652 INFO sqlalchemy.engine.base.Engine {}\n"
       ]
      },
      {
       "output_type": "stream",
       "stream": "stderr",
       "text": [
        "INFO:sqlalchemy.engine.base.Engine:{}\n"
       ]
      },
      {
       "output_type": "stream",
       "stream": "stdout",
       "text": [
        "{'heater': 0, 'use': 8038862.05, 'furnaces': 474096.491, 'air': 1296054.4649999999}\n"
       ]
      }
     ],
     "prompt_number": 195
    },
    {
     "cell_type": "code",
     "collapsed": false,
     "input": [
      "##for all the houses return the highest appliances\n",
      "def get_highest(house):\n",
      "    sums= get_sums(house)\n",
      "    sums.pop('use',None)\n",
      "    sums.pop('car1',None)\n",
      "    sorted_sums = sorted(sums.iteritems(), key=operator.itemgetter(1), reverse = True)\n",
      "    \n",
      "    return sorted_sums"
     ],
     "language": "python",
     "metadata": {},
     "outputs": [],
     "prompt_number": 24
    }
   ],
   "metadata": {}
  }
 ]
}